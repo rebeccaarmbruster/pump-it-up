{
 "cells": [
  {
   "cell_type": "code",
   "execution_count": 1,
   "metadata": {},
   "outputs": [],
   "source": [
    "import pandas as pd\n",
    "import numpy as np\n",
    "from sklearn.preprocessing import MinMaxScaler"
   ]
  },
  {
   "cell_type": "code",
   "execution_count": 3,
   "metadata": {},
   "outputs": [],
   "source": [
    "train = pd.read_csv('PumpItUp_Training.csv')\n",
    "test = pd.read_csv('PumpItUp_Test.csv')\n",
    "\n",
    "train['train'] = 1\n",
    "test['train'] = 0\n",
    "data = pd.concat([train, test])"
   ]
  },
  {
   "cell_type": "code",
   "execution_count": 4,
   "metadata": {
    "scrolled": true
   },
   "outputs": [
    {
     "data": {
      "text/html": [
       "<div>\n",
       "<style scoped>\n",
       "    .dataframe tbody tr th:only-of-type {\n",
       "        vertical-align: middle;\n",
       "    }\n",
       "\n",
       "    .dataframe tbody tr th {\n",
       "        vertical-align: top;\n",
       "    }\n",
       "\n",
       "    .dataframe thead th {\n",
       "        text-align: right;\n",
       "    }\n",
       "</style>\n",
       "<table border=\"1\" class=\"dataframe\">\n",
       "  <thead>\n",
       "    <tr style=\"text-align: right;\">\n",
       "      <th></th>\n",
       "      <th>id</th>\n",
       "      <th>amount_tsh</th>\n",
       "      <th>date_recorded</th>\n",
       "      <th>funder</th>\n",
       "      <th>gps_height</th>\n",
       "      <th>installer</th>\n",
       "      <th>longitude</th>\n",
       "      <th>latitude</th>\n",
       "      <th>wpt_name</th>\n",
       "      <th>num_private</th>\n",
       "      <th>...</th>\n",
       "      <th>water_quality</th>\n",
       "      <th>quality_group</th>\n",
       "      <th>quantity</th>\n",
       "      <th>quantity_group</th>\n",
       "      <th>source</th>\n",
       "      <th>source_type</th>\n",
       "      <th>source_class</th>\n",
       "      <th>waterpoint_type</th>\n",
       "      <th>waterpoint_type_group</th>\n",
       "      <th>train</th>\n",
       "    </tr>\n",
       "  </thead>\n",
       "  <tbody>\n",
       "    <tr>\n",
       "      <th>0</th>\n",
       "      <td>69572</td>\n",
       "      <td>6000.0</td>\n",
       "      <td>2011-03-14</td>\n",
       "      <td>Roman</td>\n",
       "      <td>1390</td>\n",
       "      <td>Roman</td>\n",
       "      <td>34.938093</td>\n",
       "      <td>-9.856322</td>\n",
       "      <td>none</td>\n",
       "      <td>0</td>\n",
       "      <td>...</td>\n",
       "      <td>soft</td>\n",
       "      <td>good</td>\n",
       "      <td>enough</td>\n",
       "      <td>enough</td>\n",
       "      <td>spring</td>\n",
       "      <td>spring</td>\n",
       "      <td>groundwater</td>\n",
       "      <td>communal standpipe</td>\n",
       "      <td>communal standpipe</td>\n",
       "      <td>1</td>\n",
       "    </tr>\n",
       "    <tr>\n",
       "      <th>1</th>\n",
       "      <td>8776</td>\n",
       "      <td>0.0</td>\n",
       "      <td>2013-03-06</td>\n",
       "      <td>Grumeti</td>\n",
       "      <td>1399</td>\n",
       "      <td>GRUMETI</td>\n",
       "      <td>34.698766</td>\n",
       "      <td>-2.147466</td>\n",
       "      <td>Zahanati</td>\n",
       "      <td>0</td>\n",
       "      <td>...</td>\n",
       "      <td>soft</td>\n",
       "      <td>good</td>\n",
       "      <td>insufficient</td>\n",
       "      <td>insufficient</td>\n",
       "      <td>rainwater harvesting</td>\n",
       "      <td>rainwater harvesting</td>\n",
       "      <td>surface</td>\n",
       "      <td>communal standpipe</td>\n",
       "      <td>communal standpipe</td>\n",
       "      <td>1</td>\n",
       "    </tr>\n",
       "    <tr>\n",
       "      <th>2</th>\n",
       "      <td>34310</td>\n",
       "      <td>25.0</td>\n",
       "      <td>2013-02-25</td>\n",
       "      <td>Lottery Club</td>\n",
       "      <td>686</td>\n",
       "      <td>World vision</td>\n",
       "      <td>37.460664</td>\n",
       "      <td>-3.821329</td>\n",
       "      <td>Kwa Mahundi</td>\n",
       "      <td>0</td>\n",
       "      <td>...</td>\n",
       "      <td>soft</td>\n",
       "      <td>good</td>\n",
       "      <td>enough</td>\n",
       "      <td>enough</td>\n",
       "      <td>dam</td>\n",
       "      <td>dam</td>\n",
       "      <td>surface</td>\n",
       "      <td>communal standpipe multiple</td>\n",
       "      <td>communal standpipe</td>\n",
       "      <td>1</td>\n",
       "    </tr>\n",
       "    <tr>\n",
       "      <th>3</th>\n",
       "      <td>67743</td>\n",
       "      <td>0.0</td>\n",
       "      <td>2013-01-28</td>\n",
       "      <td>Unicef</td>\n",
       "      <td>263</td>\n",
       "      <td>UNICEF</td>\n",
       "      <td>38.486161</td>\n",
       "      <td>-11.155298</td>\n",
       "      <td>Zahanati Ya Nanyumbu</td>\n",
       "      <td>0</td>\n",
       "      <td>...</td>\n",
       "      <td>soft</td>\n",
       "      <td>good</td>\n",
       "      <td>dry</td>\n",
       "      <td>dry</td>\n",
       "      <td>machine dbh</td>\n",
       "      <td>borehole</td>\n",
       "      <td>groundwater</td>\n",
       "      <td>communal standpipe multiple</td>\n",
       "      <td>communal standpipe</td>\n",
       "      <td>1</td>\n",
       "    </tr>\n",
       "    <tr>\n",
       "      <th>4</th>\n",
       "      <td>19728</td>\n",
       "      <td>0.0</td>\n",
       "      <td>2011-07-13</td>\n",
       "      <td>Action In A</td>\n",
       "      <td>0</td>\n",
       "      <td>Artisan</td>\n",
       "      <td>31.130847</td>\n",
       "      <td>-1.825359</td>\n",
       "      <td>Shuleni</td>\n",
       "      <td>0</td>\n",
       "      <td>...</td>\n",
       "      <td>soft</td>\n",
       "      <td>good</td>\n",
       "      <td>seasonal</td>\n",
       "      <td>seasonal</td>\n",
       "      <td>rainwater harvesting</td>\n",
       "      <td>rainwater harvesting</td>\n",
       "      <td>surface</td>\n",
       "      <td>communal standpipe</td>\n",
       "      <td>communal standpipe</td>\n",
       "      <td>1</td>\n",
       "    </tr>\n",
       "  </tbody>\n",
       "</table>\n",
       "<p>5 rows × 41 columns</p>\n",
       "</div>"
      ],
      "text/plain": [
       "      id  amount_tsh date_recorded        funder  gps_height     installer  \\\n",
       "0  69572      6000.0    2011-03-14         Roman        1390         Roman   \n",
       "1   8776         0.0    2013-03-06       Grumeti        1399       GRUMETI   \n",
       "2  34310        25.0    2013-02-25  Lottery Club         686  World vision   \n",
       "3  67743         0.0    2013-01-28        Unicef         263        UNICEF   \n",
       "4  19728         0.0    2011-07-13   Action In A           0       Artisan   \n",
       "\n",
       "   longitude   latitude              wpt_name  num_private  ...   \\\n",
       "0  34.938093  -9.856322                  none            0  ...    \n",
       "1  34.698766  -2.147466              Zahanati            0  ...    \n",
       "2  37.460664  -3.821329           Kwa Mahundi            0  ...    \n",
       "3  38.486161 -11.155298  Zahanati Ya Nanyumbu            0  ...    \n",
       "4  31.130847  -1.825359               Shuleni            0  ...    \n",
       "\n",
       "  water_quality quality_group      quantity  quantity_group  \\\n",
       "0          soft          good        enough          enough   \n",
       "1          soft          good  insufficient    insufficient   \n",
       "2          soft          good        enough          enough   \n",
       "3          soft          good           dry             dry   \n",
       "4          soft          good      seasonal        seasonal   \n",
       "\n",
       "                 source           source_type source_class  \\\n",
       "0                spring                spring  groundwater   \n",
       "1  rainwater harvesting  rainwater harvesting      surface   \n",
       "2                   dam                   dam      surface   \n",
       "3           machine dbh              borehole  groundwater   \n",
       "4  rainwater harvesting  rainwater harvesting      surface   \n",
       "\n",
       "               waterpoint_type waterpoint_type_group train  \n",
       "0           communal standpipe    communal standpipe     1  \n",
       "1           communal standpipe    communal standpipe     1  \n",
       "2  communal standpipe multiple    communal standpipe     1  \n",
       "3  communal standpipe multiple    communal standpipe     1  \n",
       "4           communal standpipe    communal standpipe     1  \n",
       "\n",
       "[5 rows x 41 columns]"
      ]
     },
     "execution_count": 4,
     "metadata": {},
     "output_type": "execute_result"
    }
   ],
   "source": [
    "data.head()"
   ]
  },
  {
   "cell_type": "code",
   "execution_count": 5,
   "metadata": {},
   "outputs": [
    {
     "name": "stdout",
     "output_type": "stream",
     "text": [
      "<class 'pandas.core.frame.DataFrame'>\n",
      "Int64Index: 74250 entries, 0 to 14849\n",
      "Data columns (total 41 columns):\n",
      "id                       74250 non-null int64\n",
      "amount_tsh               74250 non-null float64\n",
      "date_recorded            74250 non-null object\n",
      "funder                   69746 non-null object\n",
      "gps_height               74250 non-null int64\n",
      "installer                69718 non-null object\n",
      "longitude                74250 non-null float64\n",
      "latitude                 74250 non-null float64\n",
      "wpt_name                 74250 non-null object\n",
      "num_private              74250 non-null int64\n",
      "basin                    74250 non-null object\n",
      "subvillage               73780 non-null object\n",
      "region                   74250 non-null object\n",
      "region_code              74250 non-null int64\n",
      "district_code            74250 non-null int64\n",
      "lga                      74250 non-null object\n",
      "ward                     74250 non-null object\n",
      "population               74250 non-null int64\n",
      "public_meeting           70095 non-null object\n",
      "recorded_by              74250 non-null object\n",
      "scheme_management        69404 non-null object\n",
      "scheme_name              38992 non-null object\n",
      "permit                   70457 non-null object\n",
      "construction_year        74250 non-null int64\n",
      "extraction_type          74250 non-null object\n",
      "extraction_type_group    74250 non-null object\n",
      "extraction_type_class    74250 non-null object\n",
      "management               74250 non-null object\n",
      "management_group         74250 non-null object\n",
      "payment                  74250 non-null object\n",
      "payment_type             74250 non-null object\n",
      "water_quality            74250 non-null object\n",
      "quality_group            74250 non-null object\n",
      "quantity                 74250 non-null object\n",
      "quantity_group           74250 non-null object\n",
      "source                   74250 non-null object\n",
      "source_type              74250 non-null object\n",
      "source_class             74250 non-null object\n",
      "waterpoint_type          74250 non-null object\n",
      "waterpoint_type_group    74250 non-null object\n",
      "train                    74250 non-null int64\n",
      "dtypes: float64(3), int64(8), object(30)\n",
      "memory usage: 23.8+ MB\n"
     ]
    }
   ],
   "source": [
    "# overview\n",
    "\n",
    "data.info()"
   ]
  },
  {
   "cell_type": "code",
   "execution_count": 6,
   "metadata": {},
   "outputs": [
    {
     "name": "stdout",
     "output_type": "stream",
     "text": [
      "population:\n"
     ]
    },
    {
     "data": {
      "text/plain": [
       "0"
      ]
     },
     "metadata": {},
     "output_type": "display_data"
    },
    {
     "data": {
      "text/plain": [
       "26834"
      ]
     },
     "metadata": {},
     "output_type": "display_data"
    },
    {
     "name": "stdout",
     "output_type": "stream",
     "text": [
      "gps_height:\n"
     ]
    },
    {
     "data": {
      "text/plain": [
       "-90"
      ]
     },
     "metadata": {},
     "output_type": "display_data"
    },
    {
     "data": {
      "text/plain": [
       "25649"
      ]
     },
     "metadata": {},
     "output_type": "display_data"
    },
    {
     "name": "stdout",
     "output_type": "stream",
     "text": [
      "num_private:\n"
     ]
    },
    {
     "data": {
      "text/plain": [
       "0"
      ]
     },
     "metadata": {},
     "output_type": "display_data"
    },
    {
     "data": {
      "text/plain": [
       "73299"
      ]
     },
     "metadata": {},
     "output_type": "display_data"
    },
    {
     "name": "stdout",
     "output_type": "stream",
     "text": [
      "construction_year:\n"
     ]
    },
    {
     "data": {
      "text/plain": [
       "0"
      ]
     },
     "metadata": {},
     "output_type": "display_data"
    },
    {
     "data": {
      "text/plain": [
       "25969"
      ]
     },
     "metadata": {},
     "output_type": "display_data"
    },
    {
     "name": "stdout",
     "output_type": "stream",
     "text": [
      "amount_tsh:\n"
     ]
    },
    {
     "data": {
      "text/plain": [
       "0.0"
      ]
     },
     "metadata": {},
     "output_type": "display_data"
    },
    {
     "data": {
      "text/plain": [
       "52049"
      ]
     },
     "metadata": {},
     "output_type": "display_data"
    },
    {
     "name": "stdout",
     "output_type": "stream",
     "text": [
      "longitude:\n"
     ]
    },
    {
     "data": {
      "text/plain": [
       "0.0"
      ]
     },
     "metadata": {},
     "output_type": "display_data"
    },
    {
     "data": {
      "text/plain": [
       "2269"
      ]
     },
     "metadata": {},
     "output_type": "display_data"
    },
    {
     "name": "stdout",
     "output_type": "stream",
     "text": [
      "latitude:\n"
     ]
    },
    {
     "data": {
      "text/plain": [
       "-11.64944018"
      ]
     },
     "metadata": {},
     "output_type": "display_data"
    },
    {
     "data": {
      "text/plain": [
       "2269"
      ]
     },
     "metadata": {},
     "output_type": "display_data"
    }
   ],
   "source": [
    "# identify missing values in numerical data\n",
    "\n",
    "int_var = ['population','gps_height','num_private','construction_year']\n",
    "float_var = ['amount_tsh','longitude']\n",
    "\n",
    "for var in int_var:\n",
    "    print('{}:'.format(var))\n",
    "    display(data[var].min())\n",
    "    display(len(data[data[var] == 0]))\n",
    "\n",
    "for var in float_var:\n",
    "    print('{}:'.format(var))\n",
    "    display(data[var].min())\n",
    "    display(len(data[data[var] == 0.0]))\n",
    "\n",
    "print('latitude:')\n",
    "display(data['latitude'].min())\n",
    "display(len(data[(data['latitude'] > -0.001) & (data['latitude'] < 0.001)]))\n"
   ]
  },
  {
   "cell_type": "code",
   "execution_count": 7,
   "metadata": {},
   "outputs": [],
   "source": [
    "# replace zeros by NaN\n",
    "\n",
    "for var in int_var:\n",
    "    data[var].replace(0, np.nan, inplace=True)\n",
    "    \n",
    "for var in float_var:\n",
    "    data[var].replace(0.0, np.nan, inplace=True)\n",
    "\n",
    "data['latitude'].where((data['latitude'] < -0.001) | (data['latitude'] > 0.001), other= np.nan, inplace=True,axis=0)"
   ]
  },
  {
   "cell_type": "code",
   "execution_count": 8,
   "metadata": {},
   "outputs": [
    {
     "data": {
      "text/plain": [
       "id                           0\n",
       "amount_tsh               52049\n",
       "date_recorded                0\n",
       "funder                    4504\n",
       "gps_height               25649\n",
       "installer                 4532\n",
       "longitude                 2269\n",
       "latitude                  2269\n",
       "wpt_name                     0\n",
       "num_private              73299\n",
       "basin                        0\n",
       "subvillage                 470\n",
       "region                       0\n",
       "region_code                  0\n",
       "district_code                0\n",
       "lga                          0\n",
       "ward                         0\n",
       "population               26834\n",
       "public_meeting            4155\n",
       "recorded_by                  0\n",
       "scheme_management         4846\n",
       "scheme_name              35258\n",
       "permit                    3793\n",
       "construction_year        25969\n",
       "extraction_type              0\n",
       "extraction_type_group        0\n",
       "extraction_type_class        0\n",
       "management                   0\n",
       "management_group             0\n",
       "payment                      0\n",
       "payment_type                 0\n",
       "water_quality                0\n",
       "quality_group                0\n",
       "quantity                     0\n",
       "quantity_group               0\n",
       "source                       0\n",
       "source_type                  0\n",
       "source_class                 0\n",
       "waterpoint_type              0\n",
       "waterpoint_type_group        0\n",
       "train                        0\n",
       "dtype: int64"
      ]
     },
     "execution_count": 8,
     "metadata": {},
     "output_type": "execute_result"
    }
   ],
   "source": [
    "data.isnull().sum()"
   ]
  },
  {
   "cell_type": "code",
   "execution_count": 9,
   "metadata": {},
   "outputs": [],
   "source": [
    "# fill numerical null-values by mean/median\n",
    "\n",
    "int_var.append('latitude')\n",
    "\n",
    "# 1st step: group by region, ward (-> null-values remain if there does not exist a single non-null value in a tuple)\n",
    "for var in int_var:\n",
    "    data[var].fillna(data.groupby(['region', 'ward'])[var].transform(\"median\"), inplace=True)\n",
    "\n",
    "for var in float_var:\n",
    "    data[var].fillna(data.groupby(['region', 'ward'])[var].transform(\"mean\"), inplace=True)\n",
    "    \n",
    "# 2nd step: rougher filter\n",
    "for var in int_var:\n",
    "    data[var].fillna(data.groupby(['region'])[var].transform(\"median\"), inplace=True)\n",
    "\n",
    "for var in float_var:\n",
    "    data[var].fillna(data.groupby(['region'])[var].transform(\"mean\"), inplace=True)\n",
    "\n",
    "# 3rd step: rougher filter\n",
    "for var in int_var:\n",
    "    data[var].fillna(data[var].median(), inplace=True)\n",
    "\n",
    "for var in float_var:\n",
    "    data[var].fillna(data[var].mean(), inplace=True)"
   ]
  },
  {
   "cell_type": "code",
   "execution_count": 10,
   "metadata": {},
   "outputs": [
    {
     "data": {
      "text/plain": [
       "id                           0\n",
       "amount_tsh                   0\n",
       "date_recorded                0\n",
       "funder                    4504\n",
       "gps_height                   0\n",
       "installer                 4532\n",
       "longitude                    0\n",
       "latitude                     0\n",
       "wpt_name                     0\n",
       "num_private                  0\n",
       "basin                        0\n",
       "subvillage                 470\n",
       "region                       0\n",
       "region_code                  0\n",
       "district_code                0\n",
       "lga                          0\n",
       "ward                         0\n",
       "population                   0\n",
       "public_meeting            4155\n",
       "recorded_by                  0\n",
       "scheme_management         4846\n",
       "scheme_name              35258\n",
       "permit                    3793\n",
       "construction_year            0\n",
       "extraction_type              0\n",
       "extraction_type_group        0\n",
       "extraction_type_class        0\n",
       "management                   0\n",
       "management_group             0\n",
       "payment                      0\n",
       "payment_type                 0\n",
       "water_quality                0\n",
       "quality_group                0\n",
       "quantity                     0\n",
       "quantity_group               0\n",
       "source                       0\n",
       "source_type                  0\n",
       "source_class                 0\n",
       "waterpoint_type              0\n",
       "waterpoint_type_group        0\n",
       "train                        0\n",
       "dtype: int64"
      ]
     },
     "execution_count": 10,
     "metadata": {},
     "output_type": "execute_result"
    }
   ],
   "source": [
    "data.isnull().sum()"
   ]
  },
  {
   "cell_type": "code",
   "execution_count": 11,
   "metadata": {},
   "outputs": [],
   "source": [
    "# create new feature that gives information about operational time\n",
    "    \n",
    "data['date_recorded'] = pd.to_datetime(data['date_recorded'])\n",
    "data['operation_years'] = data.date_recorded.dt.year - data.construction_year\n",
    "data['operation_years'] = data['operation_years'].astype(int)"
   ]
  },
  {
   "cell_type": "code",
   "execution_count": 12,
   "metadata": {},
   "outputs": [],
   "source": [
    "# scale numeric features\n",
    "\n",
    "#num_features=['latitude','longitude','operation_years','amount_tsh', 'gps_height', 'population']\n",
    "#scaler = MinMaxScaler()\n",
    "\n",
    "#for s in split:\n",
    "    #s[num_features] = scaler.fit_transform(s[num_features])"
   ]
  },
  {
   "cell_type": "code",
   "execution_count": 13,
   "metadata": {},
   "outputs": [],
   "source": [
    "# drop redundant features and features that do not seem to have an impact\n",
    "\n",
    "data.drop(['extraction_type_group','extraction_type_class','quality_group','source_class','source_type','waterpoint_type_group','quantity_group','date_recorded','wpt_name','num_private','recorded_by'],axis=1,inplace=True)"
   ]
  },
  {
   "cell_type": "code",
   "execution_count": 14,
   "metadata": {},
   "outputs": [
    {
     "data": {
      "text/plain": [
       "K                                        858\n",
       "None                                     794\n",
       "Borehole                                 704\n",
       "Chalinze wate                            501\n",
       "M                                        490\n",
       "DANIDA                                   483\n",
       "Government                               395\n",
       "Ngana water supplied scheme              335\n",
       "wanging'ombe water supply s              323\n",
       "Bagamoyo wate                            296\n",
       "wanging'ombe supply scheme               284\n",
       "I                                        281\n",
       "Uroki-Bomang'ombe water sup              266\n",
       "N                                        258\n",
       "Kirua kahe gravity water supply trust    237\n",
       "Machumba estate pipe line                225\n",
       "Makwale water supplied sche              209\n",
       "Kijiji                                   205\n",
       "Handeni Trunk Main(H                     204\n",
       "S                                        188\n",
       "Losaa-Kia water supply                   184\n",
       "mtwango water supply scheme              183\n",
       "Mkongoro Two                             179\n",
       "Roman                                    171\n",
       "Mkongoro One                             159\n",
       "Lyamungo umbwe water supply              154\n",
       "Maambreni gravity water supply           149\n",
       "Kirua kahe pumping water trust           136\n",
       "Ki                                       133\n",
       "Nabaiye pipe line                        127\n",
       "                                        ... \n",
       "Njia panda  Piped water Scheme             1\n",
       "Bendera water supply                       1\n",
       "Mradi wa msahika                           1\n",
       "BL Vetenary                                1\n",
       "Ndoleleji piped scheme                     1\n",
       "Magila-Mkumbara wate                       1\n",
       "Kwemishiwi water sup                       1\n",
       "Saka                                       1\n",
       "Mwambashima piped scheme                   1\n",
       "Embarway water scheme                      1\n",
       "Kwanaraga                                  1\n",
       "Mradi wa maji wa Kitete                    1\n",
       "Kigondo                                    1\n",
       "Mws                                        1\n",
       "Mrangamiza spring source                   1\n",
       "Mnazi mmoja                                1\n",
       "QWIQWI                                     1\n",
       "TLMP                                       1\n",
       "UNICRF                                     1\n",
       "Mbawala chini water suplly                 1\n",
       "Mradi wa maji wa Ng`ambo                   1\n",
       "Mwang'humbi village water pipe scheme      1\n",
       "Kibondo gravity point source               1\n",
       "Mwambashe branch line                      1\n",
       "Tiflo masaki branch line                   1\n",
       "Mrere water supply                         1\n",
       "BL Majengo B                               1\n",
       "Nguluwater Supply                          1\n",
       "Iwil                                       1\n",
       "Merali Juu line                            1\n",
       "Name: scheme_name, Length: 2868, dtype: int64"
      ]
     },
     "execution_count": 14,
     "metadata": {},
     "output_type": "execute_result"
    }
   ],
   "source": [
    "data['funder'].value_counts()\n",
    "data['installer'].value_counts()\n",
    "data['scheme_name'].value_counts()"
   ]
  },
  {
   "cell_type": "code",
   "execution_count": 15,
   "metadata": {},
   "outputs": [
    {
     "name": "stderr",
     "output_type": "stream",
     "text": [
      "/anaconda3/lib/python3.7/site-packages/pandas/core/frame.py:3697: SettingWithCopyWarning: \n",
      "A value is trying to be set on a copy of a slice from a DataFrame\n",
      "\n",
      "See the caveats in the documentation: http://pandas.pydata.org/pandas-docs/stable/indexing.html#indexing-view-versus-copy\n",
      "  errors=errors)\n"
     ]
    }
   ],
   "source": [
    "train_df = data[data[\"train\"] == 1]\n",
    "test_df = data[data[\"train\"] == 0]\n",
    "\n",
    "train_df.drop([\"train\"], axis=1, inplace=True)\n",
    "test_df.drop([\"train\"], axis=1, inplace=True)"
   ]
  },
  {
   "cell_type": "code",
   "execution_count": 16,
   "metadata": {},
   "outputs": [],
   "source": [
    "pd.DataFrame(train_df).to_csv(\"train_cleaned.csv\")\n",
    "pd.DataFrame(test_df).to_csv(\"test_cleaned.csv\")"
   ]
  }
 ],
 "metadata": {
  "kernelspec": {
   "display_name": "Python 3",
   "language": "python",
   "name": "python3"
  },
  "language_info": {
   "codemirror_mode": {
    "name": "ipython",
    "version": 3
   },
   "file_extension": ".py",
   "mimetype": "text/x-python",
   "name": "python",
   "nbconvert_exporter": "python",
   "pygments_lexer": "ipython3",
   "version": "3.7.1"
  }
 },
 "nbformat": 4,
 "nbformat_minor": 2
}
