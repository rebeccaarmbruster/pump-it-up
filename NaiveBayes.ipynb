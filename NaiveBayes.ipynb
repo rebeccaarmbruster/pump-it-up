{
 "cells": [
  {
   "cell_type": "code",
   "execution_count": 871,
   "metadata": {},
   "outputs": [],
   "source": [
    "import numpy as np\n",
    "import pandas as pd\n",
    "\n",
    "from sklearn.naive_bayes import MultinomialNB\n",
    "from sklearn.metrics import accuracy_score"
   ]
  },
  {
   "cell_type": "code",
   "execution_count": 872,
   "metadata": {},
   "outputs": [],
   "source": [
    "# Load data\n",
    "file_path = r'C:\\Users\\d91589\\Desktop\\Uni\\3. Semester\\DataMining\\Pump-It-Up\\pump-it-up-master\\Data\\preprocessed_training_data.csv'\n",
    "data = pd.read_csv(file_path, delimiter=\",\", encoding='utf-8', error_bad_lines=False, engine='python', index_col=None, decimal=\".\")\n",
    "target = data[['status_group']]"
   ]
  },
  {
   "cell_type": "code",
   "execution_count": 873,
   "metadata": {},
   "outputs": [],
   "source": [
    "df = data[['longitude', 'latitude', \"population\",\n",
    "          'quantity', 'water_quality', 'subvillage', \n",
    "          \"public_meeting\", \"management\", \"operation_years\"]]"
   ]
  },
  {
   "cell_type": "code",
   "execution_count": 874,
   "metadata": {},
   "outputs": [],
   "source": [
    "df = df.fillna(False)"
   ]
  },
  {
   "cell_type": "code",
   "execution_count": 875,
   "metadata": {},
   "outputs": [],
   "source": [
    "# Encode data\n",
    "label_encoder = preprocessing.LabelEncoder()\n",
    "target = target.apply(label_encoder.fit_transform)"
   ]
  },
  {
   "cell_type": "code",
   "execution_count": 876,
   "metadata": {},
   "outputs": [
    {
     "data": {
      "text/plain": [
       "MultinomialNB(alpha=1.0, class_prior=None, fit_prior=True)"
      ]
     },
     "execution_count": 876,
     "metadata": {},
     "output_type": "execute_result"
    }
   ],
   "source": [
    "# Create model\n",
    "mnb = MultinomialNB()\n",
    "mnb.fit(df, target.values.ravel())"
   ]
  },
  {
   "cell_type": "code",
   "execution_count": 877,
   "metadata": {},
   "outputs": [],
   "source": [
    "# Making predictions\n",
    "expected = target\n",
    "predicted = mnb.predict(df)"
   ]
  },
  {
   "cell_type": "code",
   "execution_count": 878,
   "metadata": {},
   "outputs": [],
   "source": [
    "# Getting Accuracy and Statistics\n",
    "cm = metrics.confusion_matrix(expected, predicted)\n",
    "TP = cm[0][0]\n",
    "P = cm[0][0] + cm[2][0] + cm[1][0]\n",
    "TPR = TP/P"
   ]
  },
  {
   "cell_type": "code",
   "execution_count": 879,
   "metadata": {},
   "outputs": [],
   "source": [
    "FP = cm[0][1] + cm[0][2]\n",
    "N = cm[0][1] + cm[0][2] + cm[1][1] + cm[1][2] + cm[2][1] + cm[2][2]\n",
    "FPR = FP/N"
   ]
  },
  {
   "cell_type": "code",
   "execution_count": 880,
   "metadata": {},
   "outputs": [
    {
     "name": "stdout",
     "output_type": "stream",
     "text": [
      "TPR: 0.6365261100251326\n",
      "FPR: 0.4012293344637558\n",
      "Accuracy :0.5944612794612795\n"
     ]
    }
   ],
   "source": [
    "print(\"TPR: \" + str(TPR))\n",
    "print(\"FPR: \" + str(FPR))\n",
    "print(\"Accuracy :\" + str(accuracy_score(expected, predicted)))"
   ]
  }
 ],
 "metadata": {
  "kernelspec": {
   "display_name": "Python [conda env:py36]",
   "language": "python",
   "name": "conda-env-py36-py"
  },
  "language_info": {
   "codemirror_mode": {
    "name": "ipython",
    "version": 3
   },
   "file_extension": ".py",
   "mimetype": "text/x-python",
   "name": "python",
   "nbconvert_exporter": "python",
   "pygments_lexer": "ipython3",
   "version": "3.6.8"
  }
 },
 "nbformat": 4,
 "nbformat_minor": 2
}
