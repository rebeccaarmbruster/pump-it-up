{
 "cells": [
  {
   "cell_type": "code",
   "execution_count": 75,
   "metadata": {},
   "outputs": [],
   "source": [
    "import pandas as pd\n",
    "import numpy as np\n",
    "\n"
   ]
  },
  {
   "cell_type": "code",
   "execution_count": 76,
   "metadata": {},
   "outputs": [],
   "source": [
    "train = pd.read_csv('./Data/train_cleaned.csv')\n",
    "test = pd.read_csv('./Data/test_cleaned.csv')\n",
    "labels = pd.read_csv('PumpItUp_Labels.csv')\n",
    "train = train.merge(labels, on='id')\n",
    "target=train.pop('status_group')\n",
    "\n",
    "train['train'] = 1\n",
    "test['train'] = 0\n",
    "\n",
    "train.drop('Unnamed: 0',inplace=True,axis=1)\n",
    "test.drop('Unnamed: 0',inplace=True,axis=1)\n",
    "\n",
    "total = pd.concat([train,test])"
   ]
  },
  {
   "cell_type": "code",
   "execution_count": 77,
   "metadata": {},
   "outputs": [
    {
     "data": {
      "text/plain": [
       "Index(['id', 'amount_tsh', 'funder', 'gps_height', 'installer', 'longitude',\n",
       "       'latitude', 'basin', 'subvillage', 'region', 'region_code',\n",
       "       'district_code', 'lga', 'ward', 'population', 'public_meeting',\n",
       "       'scheme_management', 'scheme_name', 'permit', 'construction_year',\n",
       "       'extraction_type', 'management', 'payment_type', 'water_quality',\n",
       "       'quantity', 'source', 'waterpoint_type', 'operation_years', 'train'],\n",
       "      dtype='object')"
      ]
     },
     "execution_count": 77,
     "metadata": {},
     "output_type": "execute_result"
    }
   ],
   "source": [
    "train.columns"
   ]
  },
  {
   "cell_type": "code",
   "execution_count": 78,
   "metadata": {},
   "outputs": [
    {
     "data": {
      "text/plain": [
       "functional                 32259\n",
       "non functional             22824\n",
       "functional needs repair     4317\n",
       "Name: status_group, dtype: int64"
      ]
     },
     "execution_count": 78,
     "metadata": {},
     "output_type": "execute_result"
    }
   ],
   "source": [
    "target.value_counts()"
   ]
  },
  {
   "cell_type": "code",
   "execution_count": 79,
   "metadata": {},
   "outputs": [
    {
     "data": {
      "text/plain": [
       "functional                 0.543081\n",
       "non functional             0.384242\n",
       "functional needs repair    0.072677\n",
       "Name: status_group, dtype: float64"
      ]
     },
     "execution_count": 79,
     "metadata": {},
     "output_type": "execute_result"
    }
   ],
   "source": [
    "proportion = (target.value_counts()/target.value_counts().sum())\n",
    "proportion"
   ]
  },
  {
   "cell_type": "code",
   "execution_count": 80,
   "metadata": {},
   "outputs": [
    {
     "name": "stdout",
     "output_type": "stream",
     "text": [
      "<class 'pandas.core.frame.DataFrame'>\n",
      "Int64Index: 74250 entries, 0 to 14849\n",
      "Data columns (total 29 columns):\n",
      "id                   74250 non-null int64\n",
      "amount_tsh           74250 non-null float64\n",
      "funder               74250 non-null object\n",
      "gps_height           74250 non-null float64\n",
      "installer            74250 non-null object\n",
      "longitude            74250 non-null float64\n",
      "latitude             74250 non-null float64\n",
      "basin                74250 non-null object\n",
      "subvillage           73780 non-null object\n",
      "region               74250 non-null object\n",
      "region_code          74250 non-null int64\n",
      "district_code        74250 non-null int64\n",
      "lga                  74250 non-null object\n",
      "ward                 74250 non-null object\n",
      "population           74250 non-null float64\n",
      "public_meeting       70095 non-null object\n",
      "scheme_management    69404 non-null object\n",
      "scheme_name          74250 non-null object\n",
      "permit               70457 non-null object\n",
      "construction_year    74250 non-null float64\n",
      "extraction_type      74250 non-null object\n",
      "management           74250 non-null object\n",
      "payment_type         74250 non-null object\n",
      "water_quality        74250 non-null object\n",
      "quantity             74250 non-null object\n",
      "source               74250 non-null object\n",
      "waterpoint_type      74250 non-null object\n",
      "operation_years      74250 non-null int64\n",
      "train                74250 non-null int64\n",
      "dtypes: float64(6), int64(5), object(18)\n",
      "memory usage: 17.0+ MB\n"
     ]
    }
   ],
   "source": [
    "total.info()"
   ]
  },
  {
   "cell_type": "code",
   "execution_count": 81,
   "metadata": {},
   "outputs": [
    {
     "data": {
      "text/plain": [
       "Index(['id', 'amount_tsh', 'funder', 'gps_height', 'installer', 'longitude',\n",
       "       'latitude', 'basin', 'subvillage', 'region', 'region_code',\n",
       "       'district_code', 'lga', 'ward', 'population', 'public_meeting',\n",
       "       'scheme_management', 'scheme_name', 'permit', 'construction_year',\n",
       "       'extraction_type', 'management', 'payment_type', 'water_quality',\n",
       "       'quantity', 'source', 'waterpoint_type', 'operation_years', 'train'],\n",
       "      dtype='object')"
      ]
     },
     "execution_count": 81,
     "metadata": {},
     "output_type": "execute_result"
    }
   ],
   "source": [
    "total.columns"
   ]
  },
  {
   "cell_type": "code",
   "execution_count": 82,
   "metadata": {},
   "outputs": [],
   "source": [
    "total = total.drop(['funder','scheme_name','subvillage','region','region_code','district_code','lga','ward',\n",
    "              'public_meeting','water_quality', 'construction_year'], axis = 1)"
   ]
  },
  {
   "cell_type": "code",
   "execution_count": 84,
   "metadata": {},
   "outputs": [],
   "source": [
    "cols = ['installer','scheme_management','permit']\n",
    "for col in cols:\n",
    "    if total[col].value_counts().index[0]==0:\n",
    "        total[col] = total[col].fillna(total[col].value_counts().index[1])\n",
    "    else:\n",
    "        total[col] = total[col].fillna(total[col].value_counts().index[0])"
   ]
  },
  {
   "cell_type": "code",
   "execution_count": 85,
   "metadata": {},
   "outputs": [
    {
     "name": "stdout",
     "output_type": "stream",
     "text": [
      "<class 'pandas.core.frame.DataFrame'>\n",
      "Int64Index: 59400 entries, 0 to 59399\n",
      "Data columns (total 29 columns):\n",
      "id                   59400 non-null int64\n",
      "amount_tsh           59400 non-null float64\n",
      "funder               59400 non-null object\n",
      "gps_height           59400 non-null float64\n",
      "installer            59400 non-null object\n",
      "longitude            59400 non-null float64\n",
      "latitude             59400 non-null float64\n",
      "basin                59400 non-null object\n",
      "subvillage           59029 non-null object\n",
      "region               59400 non-null object\n",
      "region_code          59400 non-null int64\n",
      "district_code        59400 non-null int64\n",
      "lga                  59400 non-null object\n",
      "ward                 59400 non-null object\n",
      "population           59400 non-null float64\n",
      "public_meeting       56066 non-null object\n",
      "scheme_management    55523 non-null object\n",
      "scheme_name          59400 non-null object\n",
      "permit               56344 non-null object\n",
      "construction_year    59400 non-null float64\n",
      "extraction_type      59400 non-null object\n",
      "management           59400 non-null object\n",
      "payment_type         59400 non-null object\n",
      "water_quality        59400 non-null object\n",
      "quantity             59400 non-null object\n",
      "source               59400 non-null object\n",
      "waterpoint_type      59400 non-null object\n",
      "operation_years      59400 non-null int64\n",
      "train                59400 non-null int64\n",
      "dtypes: float64(6), int64(5), object(18)\n",
      "memory usage: 13.6+ MB\n"
     ]
    }
   ],
   "source": [
    "train.info()"
   ]
  },
  {
   "cell_type": "code",
   "execution_count": 86,
   "metadata": {},
   "outputs": [],
   "source": [
    "#divide data again into train and test\n",
    "\n",
    "train = total.iloc[:59400,:]\n",
    "test = total.iloc[59400:,:]"
   ]
  },
  {
   "cell_type": "code",
   "execution_count": 87,
   "metadata": {},
   "outputs": [
    {
     "data": {
      "text/html": [
       "<div>\n",
       "<style scoped>\n",
       "    .dataframe tbody tr th:only-of-type {\n",
       "        vertical-align: middle;\n",
       "    }\n",
       "\n",
       "    .dataframe tbody tr th {\n",
       "        vertical-align: top;\n",
       "    }\n",
       "\n",
       "    .dataframe thead th {\n",
       "        text-align: right;\n",
       "    }\n",
       "</style>\n",
       "<table border=\"1\" class=\"dataframe\">\n",
       "  <thead>\n",
       "    <tr style=\"text-align: right;\">\n",
       "      <th></th>\n",
       "      <th>installer</th>\n",
       "      <th>functional</th>\n",
       "      <th>functional needs repair</th>\n",
       "      <th>non functional</th>\n",
       "    </tr>\n",
       "  </thead>\n",
       "  <tbody>\n",
       "    <tr>\n",
       "      <th>0</th>\n",
       "      <td>DWE</td>\n",
       "      <td>0</td>\n",
       "      <td>0</td>\n",
       "      <td>1</td>\n",
       "    </tr>\n",
       "    <tr>\n",
       "      <th>1</th>\n",
       "      <td>DWE</td>\n",
       "      <td>0</td>\n",
       "      <td>0</td>\n",
       "      <td>1</td>\n",
       "    </tr>\n",
       "  </tbody>\n",
       "</table>\n",
       "</div>"
      ],
      "text/plain": [
       "  installer  functional  functional needs repair  non functional\n",
       "0       DWE           0                        0               1\n",
       "1       DWE           0                        0               1"
      ]
     },
     "execution_count": 87,
     "metadata": {},
     "output_type": "execute_result"
    }
   ],
   "source": [
    "#installer dataframe & dummified target\n",
    "train_installer_target = pd.concat([train['installer'],target], axis=1)\n",
    "target_dummies = pd.get_dummies(train_installer_target['status_group'])\n",
    "train_installer_target = train_installer_target.drop(['status_group'], axis = 1)\n",
    "train_installer_target = pd.concat([train_installer_target,target_dummies], axis=1)\n",
    "train_installer_target.head(2)"
   ]
  },
  {
   "cell_type": "code",
   "execution_count": 88,
   "metadata": {},
   "outputs": [
    {
     "data": {
      "text/html": [
       "<div>\n",
       "<style scoped>\n",
       "    .dataframe tbody tr th:only-of-type {\n",
       "        vertical-align: middle;\n",
       "    }\n",
       "\n",
       "    .dataframe tbody tr th {\n",
       "        vertical-align: top;\n",
       "    }\n",
       "\n",
       "    .dataframe thead th {\n",
       "        text-align: right;\n",
       "    }\n",
       "</style>\n",
       "<table border=\"1\" class=\"dataframe\">\n",
       "  <thead>\n",
       "    <tr style=\"text-align: right;\">\n",
       "      <th></th>\n",
       "      <th>functional</th>\n",
       "      <th>functional needs repair</th>\n",
       "      <th>non functional</th>\n",
       "      <th>count</th>\n",
       "    </tr>\n",
       "    <tr>\n",
       "      <th>installer</th>\n",
       "      <th></th>\n",
       "      <th></th>\n",
       "      <th></th>\n",
       "      <th></th>\n",
       "    </tr>\n",
       "  </thead>\n",
       "  <tbody>\n",
       "    <tr>\n",
       "      <th>Others</th>\n",
       "      <td>0.561979</td>\n",
       "      <td>0.061091</td>\n",
       "      <td>0.376930</td>\n",
       "      <td>33802</td>\n",
       "    </tr>\n",
       "    <tr>\n",
       "      <th>DWE</th>\n",
       "      <td>0.542064</td>\n",
       "      <td>0.093208</td>\n",
       "      <td>0.364728</td>\n",
       "      <td>17402</td>\n",
       "    </tr>\n",
       "    <tr>\n",
       "      <th>Government</th>\n",
       "      <td>0.293151</td>\n",
       "      <td>0.140274</td>\n",
       "      <td>0.566575</td>\n",
       "      <td>1825</td>\n",
       "    </tr>\n",
       "    <tr>\n",
       "      <th>RWE</th>\n",
       "      <td>0.252073</td>\n",
       "      <td>0.113599</td>\n",
       "      <td>0.634328</td>\n",
       "      <td>1206</td>\n",
       "    </tr>\n",
       "    <tr>\n",
       "      <th>Commu</th>\n",
       "      <td>0.683019</td>\n",
       "      <td>0.030189</td>\n",
       "      <td>0.286792</td>\n",
       "      <td>1060</td>\n",
       "    </tr>\n",
       "  </tbody>\n",
       "</table>\n",
       "</div>"
      ],
      "text/plain": [
       "            functional  functional needs repair  non functional  count\n",
       "installer                                                             \n",
       "Others        0.561979                 0.061091        0.376930  33802\n",
       "DWE           0.542064                 0.093208        0.364728  17402\n",
       "Government    0.293151                 0.140274        0.566575   1825\n",
       "RWE           0.252073                 0.113599        0.634328   1206\n",
       "Commu         0.683019                 0.030189        0.286792   1060"
      ]
     },
     "execution_count": 88,
     "metadata": {},
     "output_type": "execute_result"
    }
   ],
   "source": [
    "train_installer_target_prop = pd.concat([train_installer_target.groupby('installer').mean(),train_installer_target.groupby('installer').count()], axis = 1).iloc[:,:-2]\n",
    "train_installer_target_prop.columns = ['functional','functional needs repair','non functional','count']\n",
    "train_installer_target_prop.sort_values(by='count',ascending=False).head()"
   ]
  },
  {
   "cell_type": "code",
   "execution_count": 89,
   "metadata": {},
   "outputs": [
    {
     "name": "stderr",
     "output_type": "stream",
     "text": [
      "/anaconda3/lib/python3.7/site-packages/pandas/core/indexing.py:189: SettingWithCopyWarning: \n",
      "A value is trying to be set on a copy of a slice from a DataFrame\n",
      "\n",
      "See the caveats in the documentation: http://pandas.pydata.org/pandas-docs/stable/indexing.html#indexing-view-versus-copy\n",
      "  self._setitem_with_indexer(indexer, value)\n"
     ]
    }
   ],
   "source": [
    "train_installer_target_prop['category'] = np.zeros((train_installer_target_prop.shape[0],1))\n",
    "train_installer_target_prop['category'].loc[train_installer_target_prop['functional'] > 0.54] = 'functional'\n",
    "train_installer_target_prop['category'].loc[train_installer_target_prop['non functional'] > 0.38] = 'non functional'\n",
    "train_installer_target_prop['category'].loc[train_installer_target_prop['functional needs repair'] > 0.05] = 'functional needs repair'"
   ]
  },
  {
   "cell_type": "code",
   "execution_count": 90,
   "metadata": {},
   "outputs": [
    {
     "name": "stderr",
     "output_type": "stream",
     "text": [
      "/anaconda3/lib/python3.7/site-packages/ipykernel_launcher.py:1: SettingWithCopyWarning: \n",
      "A value is trying to be set on a copy of a slice from a DataFrame.\n",
      "Try using .loc[row_indexer,col_indexer] = value instead\n",
      "\n",
      "See the caveats in the documentation: http://pandas.pydata.org/pandas-docs/stable/indexing.html#indexing-view-versus-copy\n",
      "  \"\"\"Entry point for launching an IPython kernel.\n",
      "/anaconda3/lib/python3.7/site-packages/ipykernel_launcher.py:2: SettingWithCopyWarning: \n",
      "A value is trying to be set on a copy of a slice from a DataFrame.\n",
      "Try using .loc[row_indexer,col_indexer] = value instead\n",
      "\n",
      "See the caveats in the documentation: http://pandas.pydata.org/pandas-docs/stable/indexing.html#indexing-view-versus-copy\n",
      "  \n",
      "/anaconda3/lib/python3.7/site-packages/ipykernel_launcher.py:3: SettingWithCopyWarning: \n",
      "A value is trying to be set on a copy of a slice from a DataFrame.\n",
      "Try using .loc[row_indexer,col_indexer] = value instead\n",
      "\n",
      "See the caveats in the documentation: http://pandas.pydata.org/pandas-docs/stable/indexing.html#indexing-view-versus-copy\n",
      "  This is separate from the ipykernel package so we can avoid doing imports until\n"
     ]
    }
   ],
   "source": [
    "train['installer_category'] = train.installer.map(train_installer_target_prop.category)\n",
    "test['installer_category'] = test.installer.map(train_installer_target_prop.category)\n",
    "test['installer_category'] = test['installer_category'].fillna(test['installer_category'].value_counts().index[0])"
   ]
  },
  {
   "cell_type": "code",
   "execution_count": 91,
   "metadata": {},
   "outputs": [],
   "source": [
    "total = pd.concat([train,test])"
   ]
  },
  {
   "cell_type": "code",
   "execution_count": 92,
   "metadata": {},
   "outputs": [],
   "source": [
    "total = total.drop(['installer'], axis=1)"
   ]
  },
  {
   "cell_type": "code",
   "execution_count": 93,
   "metadata": {},
   "outputs": [
    {
     "data": {
      "text/html": [
       "<div>\n",
       "<style scoped>\n",
       "    .dataframe tbody tr th:only-of-type {\n",
       "        vertical-align: middle;\n",
       "    }\n",
       "\n",
       "    .dataframe tbody tr th {\n",
       "        vertical-align: top;\n",
       "    }\n",
       "\n",
       "    .dataframe thead th {\n",
       "        text-align: right;\n",
       "    }\n",
       "</style>\n",
       "<table border=\"1\" class=\"dataframe\">\n",
       "  <thead>\n",
       "    <tr style=\"text-align: right;\">\n",
       "      <th></th>\n",
       "      <th>basin</th>\n",
       "      <th>scheme_management</th>\n",
       "      <th>extraction_type</th>\n",
       "      <th>management</th>\n",
       "      <th>payment_type</th>\n",
       "      <th>quantity</th>\n",
       "      <th>source</th>\n",
       "      <th>waterpoint_type</th>\n",
       "      <th>installer_category</th>\n",
       "    </tr>\n",
       "  </thead>\n",
       "  <tbody>\n",
       "    <tr>\n",
       "      <th>count</th>\n",
       "      <td>74250</td>\n",
       "      <td>74250</td>\n",
       "      <td>74250</td>\n",
       "      <td>74250</td>\n",
       "      <td>74250</td>\n",
       "      <td>74250</td>\n",
       "      <td>74250</td>\n",
       "      <td>74250</td>\n",
       "      <td>74250</td>\n",
       "    </tr>\n",
       "    <tr>\n",
       "      <th>unique</th>\n",
       "      <td>9</td>\n",
       "      <td>12</td>\n",
       "      <td>18</td>\n",
       "      <td>12</td>\n",
       "      <td>7</td>\n",
       "      <td>5</td>\n",
       "      <td>10</td>\n",
       "      <td>7</td>\n",
       "      <td>3</td>\n",
       "    </tr>\n",
       "    <tr>\n",
       "      <th>top</th>\n",
       "      <td>Lake Victoria</td>\n",
       "      <td>VWC</td>\n",
       "      <td>gravity</td>\n",
       "      <td>vwc</td>\n",
       "      <td>never pay</td>\n",
       "      <td>enough</td>\n",
       "      <td>spring</td>\n",
       "      <td>communal standpipe</td>\n",
       "      <td>functional needs repair</td>\n",
       "    </tr>\n",
       "    <tr>\n",
       "      <th>freq</th>\n",
       "      <td>12871</td>\n",
       "      <td>50763</td>\n",
       "      <td>33263</td>\n",
       "      <td>50624</td>\n",
       "      <td>31712</td>\n",
       "      <td>41522</td>\n",
       "      <td>21216</td>\n",
       "      <td>35628</td>\n",
       "      <td>71068</td>\n",
       "    </tr>\n",
       "  </tbody>\n",
       "</table>\n",
       "</div>"
      ],
      "text/plain": [
       "                basin scheme_management extraction_type management  \\\n",
       "count           74250             74250           74250      74250   \n",
       "unique              9                12              18         12   \n",
       "top     Lake Victoria               VWC         gravity        vwc   \n",
       "freq            12871             50763           33263      50624   \n",
       "\n",
       "       payment_type quantity  source     waterpoint_type  \\\n",
       "count         74250    74250   74250               74250   \n",
       "unique            7        5      10                   7   \n",
       "top       never pay   enough  spring  communal standpipe   \n",
       "freq          31712    41522   21216               35628   \n",
       "\n",
       "             installer_category  \n",
       "count                     74250  \n",
       "unique                        3  \n",
       "top     functional needs repair  \n",
       "freq                      71068  "
      ]
     },
     "execution_count": 93,
     "metadata": {},
     "output_type": "execute_result"
    }
   ],
   "source": [
    "total.describe(include = ['O'])"
   ]
  },
  {
   "cell_type": "code",
   "execution_count": 94,
   "metadata": {},
   "outputs": [
    {
     "name": "stdout",
     "output_type": "stream",
     "text": [
      "<class 'pandas.core.frame.DataFrame'>\n",
      "Int64Index: 74250 entries, 0 to 14849\n",
      "Data columns (total 18 columns):\n",
      "id                    74250 non-null int64\n",
      "amount_tsh            74250 non-null float64\n",
      "gps_height            74250 non-null float64\n",
      "longitude             74250 non-null float64\n",
      "latitude              74250 non-null float64\n",
      "basin                 74250 non-null object\n",
      "population            74250 non-null float64\n",
      "scheme_management     74250 non-null object\n",
      "permit                74250 non-null bool\n",
      "extraction_type       74250 non-null object\n",
      "management            74250 non-null object\n",
      "payment_type          74250 non-null object\n",
      "quantity              74250 non-null object\n",
      "source                74250 non-null object\n",
      "waterpoint_type       74250 non-null object\n",
      "operation_years       74250 non-null int64\n",
      "train                 74250 non-null int64\n",
      "installer_category    74250 non-null object\n",
      "dtypes: bool(1), float64(5), int64(3), object(9)\n",
      "memory usage: 10.3+ MB\n"
     ]
    }
   ],
   "source": [
    "total.info()"
   ]
  },
  {
   "cell_type": "code",
   "execution_count": 95,
   "metadata": {},
   "outputs": [],
   "source": [
    "total_dummies = pd.get_dummies(total)"
   ]
  },
  {
   "cell_type": "code",
   "execution_count": 96,
   "metadata": {},
   "outputs": [
    {
     "data": {
      "text/html": [
       "<div>\n",
       "<style scoped>\n",
       "    .dataframe tbody tr th:only-of-type {\n",
       "        vertical-align: middle;\n",
       "    }\n",
       "\n",
       "    .dataframe tbody tr th {\n",
       "        vertical-align: top;\n",
       "    }\n",
       "\n",
       "    .dataframe thead th {\n",
       "        text-align: right;\n",
       "    }\n",
       "</style>\n",
       "<table border=\"1\" class=\"dataframe\">\n",
       "  <thead>\n",
       "    <tr style=\"text-align: right;\">\n",
       "      <th></th>\n",
       "      <th>id</th>\n",
       "      <th>amount_tsh</th>\n",
       "      <th>gps_height</th>\n",
       "      <th>longitude</th>\n",
       "      <th>latitude</th>\n",
       "      <th>population</th>\n",
       "      <th>permit</th>\n",
       "      <th>operation_years</th>\n",
       "      <th>train</th>\n",
       "      <th>basin_Internal</th>\n",
       "      <th>...</th>\n",
       "      <th>waterpoint_type_cattle trough</th>\n",
       "      <th>waterpoint_type_communal standpipe</th>\n",
       "      <th>waterpoint_type_communal standpipe multiple</th>\n",
       "      <th>waterpoint_type_dam</th>\n",
       "      <th>waterpoint_type_hand pump</th>\n",
       "      <th>waterpoint_type_improved spring</th>\n",
       "      <th>waterpoint_type_other</th>\n",
       "      <th>installer_category_functional</th>\n",
       "      <th>installer_category_functional needs repair</th>\n",
       "      <th>installer_category_non functional</th>\n",
       "    </tr>\n",
       "  </thead>\n",
       "  <tbody>\n",
       "    <tr>\n",
       "      <th>0</th>\n",
       "      <td>21669</td>\n",
       "      <td>777.777778</td>\n",
       "      <td>1715.0</td>\n",
       "      <td>31.366025</td>\n",
       "      <td>-7.972010</td>\n",
       "      <td>1.0</td>\n",
       "      <td>True</td>\n",
       "      <td>37</td>\n",
       "      <td>1</td>\n",
       "      <td>0</td>\n",
       "      <td>...</td>\n",
       "      <td>0</td>\n",
       "      <td>1</td>\n",
       "      <td>0</td>\n",
       "      <td>0</td>\n",
       "      <td>0</td>\n",
       "      <td>0</td>\n",
       "      <td>0</td>\n",
       "      <td>0</td>\n",
       "      <td>1</td>\n",
       "      <td>0</td>\n",
       "    </tr>\n",
       "    <tr>\n",
       "      <th>1</th>\n",
       "      <td>60108</td>\n",
       "      <td>1352.941176</td>\n",
       "      <td>1906.0</td>\n",
       "      <td>31.431333</td>\n",
       "      <td>-7.850336</td>\n",
       "      <td>1.0</td>\n",
       "      <td>True</td>\n",
       "      <td>35</td>\n",
       "      <td>1</td>\n",
       "      <td>0</td>\n",
       "      <td>...</td>\n",
       "      <td>0</td>\n",
       "      <td>1</td>\n",
       "      <td>0</td>\n",
       "      <td>0</td>\n",
       "      <td>0</td>\n",
       "      <td>0</td>\n",
       "      <td>0</td>\n",
       "      <td>0</td>\n",
       "      <td>1</td>\n",
       "      <td>0</td>\n",
       "    </tr>\n",
       "    <tr>\n",
       "      <th>2</th>\n",
       "      <td>44820</td>\n",
       "      <td>777.777778</td>\n",
       "      <td>1741.0</td>\n",
       "      <td>31.368317</td>\n",
       "      <td>-7.971081</td>\n",
       "      <td>1.0</td>\n",
       "      <td>True</td>\n",
       "      <td>37</td>\n",
       "      <td>1</td>\n",
       "      <td>0</td>\n",
       "      <td>...</td>\n",
       "      <td>0</td>\n",
       "      <td>1</td>\n",
       "      <td>0</td>\n",
       "      <td>0</td>\n",
       "      <td>0</td>\n",
       "      <td>0</td>\n",
       "      <td>0</td>\n",
       "      <td>0</td>\n",
       "      <td>1</td>\n",
       "      <td>0</td>\n",
       "    </tr>\n",
       "    <tr>\n",
       "      <th>3</th>\n",
       "      <td>53307</td>\n",
       "      <td>777.777778</td>\n",
       "      <td>1730.0</td>\n",
       "      <td>31.368730</td>\n",
       "      <td>-7.972788</td>\n",
       "      <td>1.0</td>\n",
       "      <td>True</td>\n",
       "      <td>37</td>\n",
       "      <td>1</td>\n",
       "      <td>0</td>\n",
       "      <td>...</td>\n",
       "      <td>0</td>\n",
       "      <td>1</td>\n",
       "      <td>0</td>\n",
       "      <td>0</td>\n",
       "      <td>0</td>\n",
       "      <td>0</td>\n",
       "      <td>0</td>\n",
       "      <td>0</td>\n",
       "      <td>1</td>\n",
       "      <td>0</td>\n",
       "    </tr>\n",
       "    <tr>\n",
       "      <th>4</th>\n",
       "      <td>5701</td>\n",
       "      <td>777.777778</td>\n",
       "      <td>1731.0</td>\n",
       "      <td>31.365461</td>\n",
       "      <td>-7.970985</td>\n",
       "      <td>1.0</td>\n",
       "      <td>True</td>\n",
       "      <td>37</td>\n",
       "      <td>1</td>\n",
       "      <td>0</td>\n",
       "      <td>...</td>\n",
       "      <td>0</td>\n",
       "      <td>1</td>\n",
       "      <td>0</td>\n",
       "      <td>0</td>\n",
       "      <td>0</td>\n",
       "      <td>0</td>\n",
       "      <td>0</td>\n",
       "      <td>0</td>\n",
       "      <td>1</td>\n",
       "      <td>0</td>\n",
       "    </tr>\n",
       "  </tbody>\n",
       "</table>\n",
       "<p>5 rows × 92 columns</p>\n",
       "</div>"
      ],
      "text/plain": [
       "      id   amount_tsh  gps_height  longitude  latitude  population  permit  \\\n",
       "0  21669   777.777778      1715.0  31.366025 -7.972010         1.0    True   \n",
       "1  60108  1352.941176      1906.0  31.431333 -7.850336         1.0    True   \n",
       "2  44820   777.777778      1741.0  31.368317 -7.971081         1.0    True   \n",
       "3  53307   777.777778      1730.0  31.368730 -7.972788         1.0    True   \n",
       "4   5701   777.777778      1731.0  31.365461 -7.970985         1.0    True   \n",
       "\n",
       "   operation_years  train  basin_Internal                ...                  \\\n",
       "0               37      1               0                ...                   \n",
       "1               35      1               0                ...                   \n",
       "2               37      1               0                ...                   \n",
       "3               37      1               0                ...                   \n",
       "4               37      1               0                ...                   \n",
       "\n",
       "   waterpoint_type_cattle trough  waterpoint_type_communal standpipe  \\\n",
       "0                              0                                   1   \n",
       "1                              0                                   1   \n",
       "2                              0                                   1   \n",
       "3                              0                                   1   \n",
       "4                              0                                   1   \n",
       "\n",
       "   waterpoint_type_communal standpipe multiple  waterpoint_type_dam  \\\n",
       "0                                            0                    0   \n",
       "1                                            0                    0   \n",
       "2                                            0                    0   \n",
       "3                                            0                    0   \n",
       "4                                            0                    0   \n",
       "\n",
       "   waterpoint_type_hand pump  waterpoint_type_improved spring  \\\n",
       "0                          0                                0   \n",
       "1                          0                                0   \n",
       "2                          0                                0   \n",
       "3                          0                                0   \n",
       "4                          0                                0   \n",
       "\n",
       "   waterpoint_type_other  installer_category_functional  \\\n",
       "0                      0                              0   \n",
       "1                      0                              0   \n",
       "2                      0                              0   \n",
       "3                      0                              0   \n",
       "4                      0                              0   \n",
       "\n",
       "   installer_category_functional needs repair  \\\n",
       "0                                           1   \n",
       "1                                           1   \n",
       "2                                           1   \n",
       "3                                           1   \n",
       "4                                           1   \n",
       "\n",
       "   installer_category_non functional  \n",
       "0                                  0  \n",
       "1                                  0  \n",
       "2                                  0  \n",
       "3                                  0  \n",
       "4                                  0  \n",
       "\n",
       "[5 rows x 92 columns]"
      ]
     },
     "execution_count": 96,
     "metadata": {},
     "output_type": "execute_result"
    }
   ],
   "source": [
    "total_dummies.head()"
   ]
  },
  {
   "cell_type": "code",
   "execution_count": 97,
   "metadata": {},
   "outputs": [
    {
     "data": {
      "text/plain": [
       "(74250, 92)"
      ]
     },
     "execution_count": 97,
     "metadata": {},
     "output_type": "execute_result"
    }
   ],
   "source": [
    "total_dummies.shape"
   ]
  },
  {
   "cell_type": "code",
   "execution_count": 98,
   "metadata": {},
   "outputs": [],
   "source": [
    "train = total_dummies.iloc[:59400,:]\n",
    "test = total_dummies.iloc[59400:,:]"
   ]
  },
  {
   "cell_type": "code",
   "execution_count": 99,
   "metadata": {},
   "outputs": [],
   "source": [
    "from sklearn.ensemble import RandomForestClassifier\n",
    "from sklearn.model_selection import cross_val_score\n",
    "from sklearn.metrics import accuracy_score"
   ]
  },
  {
   "cell_type": "code",
   "execution_count": 100,
   "metadata": {},
   "outputs": [],
   "source": [
    "classifier = RandomForestClassifier(n_estimators=500, random_state = 8)\n"
   ]
  },
  {
   "cell_type": "code",
   "execution_count": 101,
   "metadata": {},
   "outputs": [
    {
     "name": "stdout",
     "output_type": "stream",
     "text": [
      "Score: 0.6949494061101004\n"
     ]
    }
   ],
   "source": [
    "score = cross_val_score(classifier, train, np.ravel(target), scoring = 'accuracy',cv=5).mean()\n",
    "print(\"Score: {}\".format(score))"
   ]
  }
 ],
 "metadata": {
  "kernelspec": {
   "display_name": "Python 3",
   "language": "python",
   "name": "python3"
  },
  "language_info": {
   "codemirror_mode": {
    "name": "ipython",
    "version": 3
   },
   "file_extension": ".py",
   "mimetype": "text/x-python",
   "name": "python",
   "nbconvert_exporter": "python",
   "pygments_lexer": "ipython3",
   "version": "3.7.1"
  }
 },
 "nbformat": 4,
 "nbformat_minor": 2
}
