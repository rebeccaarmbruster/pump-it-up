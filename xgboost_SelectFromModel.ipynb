{
 "cells": [
  {
   "cell_type": "markdown",
   "metadata": {},
   "source": [
    "### Imports"
   ]
  },
  {
   "cell_type": "code",
   "execution_count": 105,
   "metadata": {},
   "outputs": [],
   "source": [
    "import pandas as pd\n",
    "import numpy as np\n",
    "from numpy import loadtxt\n",
    "from numpy import sort\n",
    "import datetime\n",
    "import collections\n",
    "from collections import OrderedDict\n",
    "from matplotlib import pyplot\n",
    "\n",
    "from xgboost import XGBClassifier\n",
    "from xgboost import plot_importance\n",
    "\n",
    "from sklearn.metrics import confusion_matrix\n",
    "from sklearn.metrics import accuracy_score\n",
    "from sklearn.model_selection import train_test_split\n",
    "from sklearn.preprocessing import LabelEncoder\n",
    "from sklearn.preprocessing import MinMaxScaler\n",
    "from sklearn.feature_selection import SelectFromModel\n",
    "from sklearn.multiclass import OneVsRestClassifier\n",
    "\n",
    "pd.set_option('display.max_columns', None)"
   ]
  },
  {
   "cell_type": "markdown",
   "metadata": {},
   "source": [
    "### Evaluation functions"
   ]
  },
  {
   "cell_type": "code",
   "execution_count": 27,
   "metadata": {},
   "outputs": [],
   "source": [
    "def save_file(predictions, filename):\n",
    "    predictions.to_csv('./Results/' + filename, index=False)\n",
    "    \n",
    "def xstr(s):\n",
    "    if s is None:\n",
    "        return ''\n",
    "    return str(s)\n",
    "\n",
    "def add_results(today, algorithm, author, params, classification_rate, filename, processing_time=None, notes=None):\n",
    "    date = '{:02d}-{:02d}-{:02d}'.format(today.year, today.month, today.day)\n",
    "    timestamp = '{:02d}:{:02d}:{:02d}'.format(today.hour, today.minute, today.second)\n",
    "    row = '|'.join([date, timestamp, algorithm, author, str(params), str(classification_rate), filename, xstr(notes)])\n",
    "    with open('./results.csv','a') as file:\n",
    "        file.write('|'.join([date, timestamp, algorithm, author, str(params), str(classification_rate), filename, xstr(processing_time), xstr(notes) + '\\n']))"
   ]
  },
  {
   "cell_type": "code",
   "execution_count": 28,
   "metadata": {},
   "outputs": [],
   "source": [
    "def evaluate(ids, true_values, predictions, algorithm, author, params, processing_time=None, notes=None):\n",
    "    evaluation_df = pd.DataFrame(list(ids), columns=['id'])\n",
    "    evaluation_df['true_values'] = list(true_values)\n",
    "    evaluation_df['predicted_values'] = list(predictions)\n",
    "    correct_predictions = len(evaluation_df[evaluation_df['true_values'] == evaluation_df['predicted_values']])\n",
    "    classification_rate = correct_predictions / len(predictions)\n",
    "    today = datetime.datetime.now()\n",
    "    date = '{:02d}{:02d}{:02d}-{:02d}{:02d}{:02d}'.format(today.year, today.month, today.day, today.hour, today.minute, today.second)\n",
    "    filename = '{}_{}.csv'.format(date, '-'.join(algorithm.split()))\n",
    "    save_file(evaluation_df.drop(columns='true_values', axis=1).rename(columns={'predicted_values': 'status_group'}), filename=filename)\n",
    "    add_results(today=today, algorithm=algorithm, author=author, params=params, classification_rate=classification_rate, filename=filename, processing_time=processing_time, notes=notes)\n",
    "    return classification_rate"
   ]
  },
  {
   "cell_type": "markdown",
   "metadata": {},
   "source": [
    "### Load the data"
   ]
  },
  {
   "cell_type": "code",
   "execution_count": 29,
   "metadata": {},
   "outputs": [
    {
     "data": {
      "text/html": [
       "<div>\n",
       "<style scoped>\n",
       "    .dataframe tbody tr th:only-of-type {\n",
       "        vertical-align: middle;\n",
       "    }\n",
       "\n",
       "    .dataframe tbody tr th {\n",
       "        vertical-align: top;\n",
       "    }\n",
       "\n",
       "    .dataframe thead th {\n",
       "        text-align: right;\n",
       "    }\n",
       "</style>\n",
       "<table border=\"1\" class=\"dataframe\">\n",
       "  <thead>\n",
       "    <tr style=\"text-align: right;\">\n",
       "      <th></th>\n",
       "      <th>id</th>\n",
       "      <th>amount_tsh</th>\n",
       "      <th>funder</th>\n",
       "      <th>gps_height</th>\n",
       "      <th>installer</th>\n",
       "      <th>longitude</th>\n",
       "      <th>latitude</th>\n",
       "      <th>basin</th>\n",
       "      <th>subvillage</th>\n",
       "      <th>region</th>\n",
       "      <th>region_code</th>\n",
       "      <th>district_code</th>\n",
       "      <th>lga</th>\n",
       "      <th>ward</th>\n",
       "      <th>population</th>\n",
       "      <th>public_meeting</th>\n",
       "      <th>scheme_management</th>\n",
       "      <th>scheme_name</th>\n",
       "      <th>permit</th>\n",
       "      <th>construction_year</th>\n",
       "      <th>extraction_type</th>\n",
       "      <th>management</th>\n",
       "      <th>payment_type</th>\n",
       "      <th>water_quality</th>\n",
       "      <th>quantity</th>\n",
       "      <th>source</th>\n",
       "      <th>waterpoint_type</th>\n",
       "      <th>longitude_imp_normal</th>\n",
       "      <th>longitude_imp_random_choice</th>\n",
       "      <th>latitude_imp_normal</th>\n",
       "      <th>latitude_imp_random_choice</th>\n",
       "      <th>gps_height_imp_normal</th>\n",
       "      <th>gps_height_imp_random_choice</th>\n",
       "      <th>population_imp_normal</th>\n",
       "      <th>population_imp_random_choice</th>\n",
       "      <th>construction_year_imp_normal</th>\n",
       "      <th>construction_year_imp_random_choice</th>\n",
       "      <th>amount_tsh_imp_normal</th>\n",
       "      <th>amount_tsh_imp_random_choice</th>\n",
       "      <th>operation_years</th>\n",
       "      <th>operation_years_imp_normal</th>\n",
       "      <th>operation_years_imp_random_choice</th>\n",
       "      <th>extraction_type_group</th>\n",
       "      <th>extraction_type_class</th>\n",
       "      <th>payment</th>\n",
       "      <th>quality_group</th>\n",
       "      <th>source_class</th>\n",
       "      <th>source_type</th>\n",
       "      <th>waterpoint_type_group</th>\n",
       "      <th>management_group</th>\n",
       "      <th>quantity_group</th>\n",
       "      <th>wpt_name</th>\n",
       "    </tr>\n",
       "  </thead>\n",
       "  <tbody>\n",
       "    <tr>\n",
       "      <th>0</th>\n",
       "      <td>69572</td>\n",
       "      <td>8.699681</td>\n",
       "      <td>Roman</td>\n",
       "      <td>1390.0</td>\n",
       "      <td>Roman</td>\n",
       "      <td>34.938093</td>\n",
       "      <td>-9.856322</td>\n",
       "      <td>Lake Nyasa</td>\n",
       "      <td>Mnyusi B</td>\n",
       "      <td>Iringa</td>\n",
       "      <td>11</td>\n",
       "      <td>5</td>\n",
       "      <td>Ludewa</td>\n",
       "      <td>Mundindi</td>\n",
       "      <td>4.700480</td>\n",
       "      <td>True</td>\n",
       "      <td>VWC</td>\n",
       "      <td>Roman</td>\n",
       "      <td>False</td>\n",
       "      <td>1999.0</td>\n",
       "      <td>gravity</td>\n",
       "      <td>vwc</td>\n",
       "      <td>annually</td>\n",
       "      <td>soft</td>\n",
       "      <td>enough</td>\n",
       "      <td>spring</td>\n",
       "      <td>communal standpipe</td>\n",
       "      <td>34.938093</td>\n",
       "      <td>34.938093</td>\n",
       "      <td>-9.856322</td>\n",
       "      <td>-9.856322</td>\n",
       "      <td>1390.000000</td>\n",
       "      <td>1390.0</td>\n",
       "      <td>4.700480</td>\n",
       "      <td>4.700480</td>\n",
       "      <td>1999.000000</td>\n",
       "      <td>1999.0</td>\n",
       "      <td>8.699681</td>\n",
       "      <td>8.699681</td>\n",
       "      <td>12</td>\n",
       "      <td>12</td>\n",
       "      <td>12</td>\n",
       "      <td>gravity</td>\n",
       "      <td>gravity</td>\n",
       "      <td>pay annually</td>\n",
       "      <td>good</td>\n",
       "      <td>groundwater</td>\n",
       "      <td>spring</td>\n",
       "      <td>communal standpipe</td>\n",
       "      <td>user-group</td>\n",
       "      <td>enough</td>\n",
       "      <td>none</td>\n",
       "    </tr>\n",
       "    <tr>\n",
       "      <th>1</th>\n",
       "      <td>8776</td>\n",
       "      <td>5.826890</td>\n",
       "      <td>Grumeti</td>\n",
       "      <td>1399.0</td>\n",
       "      <td>GRUMETI</td>\n",
       "      <td>34.698766</td>\n",
       "      <td>-2.147466</td>\n",
       "      <td>Lake Victoria</td>\n",
       "      <td>Nyamara</td>\n",
       "      <td>Mara</td>\n",
       "      <td>20</td>\n",
       "      <td>2</td>\n",
       "      <td>Serengeti</td>\n",
       "      <td>Natta</td>\n",
       "      <td>5.638355</td>\n",
       "      <td>Missing</td>\n",
       "      <td>Other</td>\n",
       "      <td>Missing</td>\n",
       "      <td>True</td>\n",
       "      <td>2010.0</td>\n",
       "      <td>gravity</td>\n",
       "      <td>wug</td>\n",
       "      <td>never pay</td>\n",
       "      <td>soft</td>\n",
       "      <td>insufficient</td>\n",
       "      <td>rainwater harvesting</td>\n",
       "      <td>communal standpipe</td>\n",
       "      <td>34.698766</td>\n",
       "      <td>34.698766</td>\n",
       "      <td>-2.147466</td>\n",
       "      <td>-2.147466</td>\n",
       "      <td>1399.000000</td>\n",
       "      <td>1399.0</td>\n",
       "      <td>5.638355</td>\n",
       "      <td>5.638355</td>\n",
       "      <td>2010.000000</td>\n",
       "      <td>2010.0</td>\n",
       "      <td>6.520780</td>\n",
       "      <td>6.908755</td>\n",
       "      <td>3</td>\n",
       "      <td>3</td>\n",
       "      <td>3</td>\n",
       "      <td>gravity</td>\n",
       "      <td>gravity</td>\n",
       "      <td>never pay</td>\n",
       "      <td>good</td>\n",
       "      <td>surface</td>\n",
       "      <td>rainwater harvesting</td>\n",
       "      <td>communal standpipe</td>\n",
       "      <td>user-group</td>\n",
       "      <td>insufficient</td>\n",
       "      <td>Zahanati</td>\n",
       "    </tr>\n",
       "    <tr>\n",
       "      <th>2</th>\n",
       "      <td>34310</td>\n",
       "      <td>3.258097</td>\n",
       "      <td>Lottery Club</td>\n",
       "      <td>686.0</td>\n",
       "      <td>World vision</td>\n",
       "      <td>37.460664</td>\n",
       "      <td>-3.821329</td>\n",
       "      <td>Pangani</td>\n",
       "      <td>Majengo</td>\n",
       "      <td>Manyara</td>\n",
       "      <td>21</td>\n",
       "      <td>4</td>\n",
       "      <td>Simanjiro</td>\n",
       "      <td>Ngorika</td>\n",
       "      <td>5.525453</td>\n",
       "      <td>True</td>\n",
       "      <td>VWC</td>\n",
       "      <td>Nyumba ya mungu pipe scheme</td>\n",
       "      <td>True</td>\n",
       "      <td>2009.0</td>\n",
       "      <td>gravity</td>\n",
       "      <td>vwc</td>\n",
       "      <td>per bucket</td>\n",
       "      <td>soft</td>\n",
       "      <td>enough</td>\n",
       "      <td>dam</td>\n",
       "      <td>communal standpipe multiple</td>\n",
       "      <td>37.460664</td>\n",
       "      <td>37.460664</td>\n",
       "      <td>-3.821329</td>\n",
       "      <td>-3.821329</td>\n",
       "      <td>686.000000</td>\n",
       "      <td>686.0</td>\n",
       "      <td>5.525453</td>\n",
       "      <td>5.525453</td>\n",
       "      <td>2009.000000</td>\n",
       "      <td>2009.0</td>\n",
       "      <td>3.258097</td>\n",
       "      <td>3.258097</td>\n",
       "      <td>4</td>\n",
       "      <td>4</td>\n",
       "      <td>4</td>\n",
       "      <td>gravity</td>\n",
       "      <td>gravity</td>\n",
       "      <td>pay per bucket</td>\n",
       "      <td>good</td>\n",
       "      <td>surface</td>\n",
       "      <td>dam</td>\n",
       "      <td>communal standpipe</td>\n",
       "      <td>user-group</td>\n",
       "      <td>enough</td>\n",
       "      <td>Kwa Mahundi</td>\n",
       "    </tr>\n",
       "    <tr>\n",
       "      <th>3</th>\n",
       "      <td>67743</td>\n",
       "      <td>5.420290</td>\n",
       "      <td>Unicef</td>\n",
       "      <td>263.0</td>\n",
       "      <td>UNICEF</td>\n",
       "      <td>38.486161</td>\n",
       "      <td>-11.155298</td>\n",
       "      <td>Ruvuma / Southern Coast</td>\n",
       "      <td>Mahakamani</td>\n",
       "      <td>Mtwara</td>\n",
       "      <td>90</td>\n",
       "      <td>63</td>\n",
       "      <td>Nanyumbu</td>\n",
       "      <td>Nanyumbu</td>\n",
       "      <td>4.077537</td>\n",
       "      <td>True</td>\n",
       "      <td>VWC</td>\n",
       "      <td>Missing</td>\n",
       "      <td>True</td>\n",
       "      <td>1986.0</td>\n",
       "      <td>submersible</td>\n",
       "      <td>vwc</td>\n",
       "      <td>never pay</td>\n",
       "      <td>soft</td>\n",
       "      <td>dry</td>\n",
       "      <td>machine dbh</td>\n",
       "      <td>communal standpipe multiple</td>\n",
       "      <td>38.486161</td>\n",
       "      <td>38.486161</td>\n",
       "      <td>-11.155298</td>\n",
       "      <td>-11.155298</td>\n",
       "      <td>263.000000</td>\n",
       "      <td>263.0</td>\n",
       "      <td>4.077537</td>\n",
       "      <td>4.077537</td>\n",
       "      <td>1986.000000</td>\n",
       "      <td>1986.0</td>\n",
       "      <td>6.906485</td>\n",
       "      <td>3.931826</td>\n",
       "      <td>27</td>\n",
       "      <td>27</td>\n",
       "      <td>27</td>\n",
       "      <td>submersible</td>\n",
       "      <td>submersible</td>\n",
       "      <td>never pay</td>\n",
       "      <td>good</td>\n",
       "      <td>groundwater</td>\n",
       "      <td>borehole</td>\n",
       "      <td>communal standpipe</td>\n",
       "      <td>user-group</td>\n",
       "      <td>dry</td>\n",
       "      <td>Zahanati Ya Nanyumbu</td>\n",
       "    </tr>\n",
       "    <tr>\n",
       "      <th>4</th>\n",
       "      <td>19728</td>\n",
       "      <td>5.301670</td>\n",
       "      <td>Action In A</td>\n",
       "      <td>1167.0</td>\n",
       "      <td>Artisan</td>\n",
       "      <td>31.130847</td>\n",
       "      <td>-1.825359</td>\n",
       "      <td>Lake Victoria</td>\n",
       "      <td>Kyanyamisa</td>\n",
       "      <td>Kagera</td>\n",
       "      <td>18</td>\n",
       "      <td>1</td>\n",
       "      <td>Karagwe</td>\n",
       "      <td>Nyakasimbi</td>\n",
       "      <td>5.017280</td>\n",
       "      <td>True</td>\n",
       "      <td>Missing</td>\n",
       "      <td>Missing</td>\n",
       "      <td>True</td>\n",
       "      <td>2000.0</td>\n",
       "      <td>gravity</td>\n",
       "      <td>other</td>\n",
       "      <td>never pay</td>\n",
       "      <td>soft</td>\n",
       "      <td>seasonal</td>\n",
       "      <td>rainwater harvesting</td>\n",
       "      <td>communal standpipe</td>\n",
       "      <td>31.130847</td>\n",
       "      <td>31.130847</td>\n",
       "      <td>-1.825359</td>\n",
       "      <td>-1.825359</td>\n",
       "      <td>1240.292552</td>\n",
       "      <td>455.0</td>\n",
       "      <td>2.575311</td>\n",
       "      <td>0.693147</td>\n",
       "      <td>2016.001834</td>\n",
       "      <td>2006.0</td>\n",
       "      <td>2.826742</td>\n",
       "      <td>2.397895</td>\n",
       "      <td>11</td>\n",
       "      <td>-5</td>\n",
       "      <td>5</td>\n",
       "      <td>gravity</td>\n",
       "      <td>gravity</td>\n",
       "      <td>never pay</td>\n",
       "      <td>good</td>\n",
       "      <td>surface</td>\n",
       "      <td>rainwater harvesting</td>\n",
       "      <td>communal standpipe</td>\n",
       "      <td>other</td>\n",
       "      <td>seasonal</td>\n",
       "      <td>Shuleni</td>\n",
       "    </tr>\n",
       "  </tbody>\n",
       "</table>\n",
       "</div>"
      ],
      "text/plain": [
       "      id  amount_tsh        funder  gps_height     installer  longitude  \\\n",
       "0  69572    8.699681         Roman      1390.0         Roman  34.938093   \n",
       "1   8776    5.826890       Grumeti      1399.0       GRUMETI  34.698766   \n",
       "2  34310    3.258097  Lottery Club       686.0  World vision  37.460664   \n",
       "3  67743    5.420290        Unicef       263.0        UNICEF  38.486161   \n",
       "4  19728    5.301670   Action In A      1167.0       Artisan  31.130847   \n",
       "\n",
       "    latitude                    basin  subvillage   region  region_code  \\\n",
       "0  -9.856322               Lake Nyasa    Mnyusi B   Iringa           11   \n",
       "1  -2.147466            Lake Victoria     Nyamara     Mara           20   \n",
       "2  -3.821329                  Pangani     Majengo  Manyara           21   \n",
       "3 -11.155298  Ruvuma / Southern Coast  Mahakamani   Mtwara           90   \n",
       "4  -1.825359            Lake Victoria  Kyanyamisa   Kagera           18   \n",
       "\n",
       "   district_code        lga        ward  population public_meeting  \\\n",
       "0              5     Ludewa    Mundindi    4.700480           True   \n",
       "1              2  Serengeti       Natta    5.638355        Missing   \n",
       "2              4  Simanjiro     Ngorika    5.525453           True   \n",
       "3             63   Nanyumbu    Nanyumbu    4.077537           True   \n",
       "4              1    Karagwe  Nyakasimbi    5.017280           True   \n",
       "\n",
       "  scheme_management                  scheme_name permit  construction_year  \\\n",
       "0               VWC                        Roman  False             1999.0   \n",
       "1             Other                      Missing   True             2010.0   \n",
       "2               VWC  Nyumba ya mungu pipe scheme   True             2009.0   \n",
       "3               VWC                      Missing   True             1986.0   \n",
       "4           Missing                      Missing   True             2000.0   \n",
       "\n",
       "  extraction_type management payment_type water_quality      quantity  \\\n",
       "0         gravity        vwc     annually          soft        enough   \n",
       "1         gravity        wug    never pay          soft  insufficient   \n",
       "2         gravity        vwc   per bucket          soft        enough   \n",
       "3     submersible        vwc    never pay          soft           dry   \n",
       "4         gravity      other    never pay          soft      seasonal   \n",
       "\n",
       "                 source              waterpoint_type  longitude_imp_normal  \\\n",
       "0                spring           communal standpipe             34.938093   \n",
       "1  rainwater harvesting           communal standpipe             34.698766   \n",
       "2                   dam  communal standpipe multiple             37.460664   \n",
       "3           machine dbh  communal standpipe multiple             38.486161   \n",
       "4  rainwater harvesting           communal standpipe             31.130847   \n",
       "\n",
       "   longitude_imp_random_choice  latitude_imp_normal  \\\n",
       "0                    34.938093            -9.856322   \n",
       "1                    34.698766            -2.147466   \n",
       "2                    37.460664            -3.821329   \n",
       "3                    38.486161           -11.155298   \n",
       "4                    31.130847            -1.825359   \n",
       "\n",
       "   latitude_imp_random_choice  gps_height_imp_normal  \\\n",
       "0                   -9.856322            1390.000000   \n",
       "1                   -2.147466            1399.000000   \n",
       "2                   -3.821329             686.000000   \n",
       "3                  -11.155298             263.000000   \n",
       "4                   -1.825359            1240.292552   \n",
       "\n",
       "   gps_height_imp_random_choice  population_imp_normal  \\\n",
       "0                        1390.0               4.700480   \n",
       "1                        1399.0               5.638355   \n",
       "2                         686.0               5.525453   \n",
       "3                         263.0               4.077537   \n",
       "4                         455.0               2.575311   \n",
       "\n",
       "   population_imp_random_choice  construction_year_imp_normal  \\\n",
       "0                      4.700480                   1999.000000   \n",
       "1                      5.638355                   2010.000000   \n",
       "2                      5.525453                   2009.000000   \n",
       "3                      4.077537                   1986.000000   \n",
       "4                      0.693147                   2016.001834   \n",
       "\n",
       "   construction_year_imp_random_choice  amount_tsh_imp_normal  \\\n",
       "0                               1999.0               8.699681   \n",
       "1                               2010.0               6.520780   \n",
       "2                               2009.0               3.258097   \n",
       "3                               1986.0               6.906485   \n",
       "4                               2006.0               2.826742   \n",
       "\n",
       "   amount_tsh_imp_random_choice  operation_years  operation_years_imp_normal  \\\n",
       "0                      8.699681               12                          12   \n",
       "1                      6.908755                3                           3   \n",
       "2                      3.258097                4                           4   \n",
       "3                      3.931826               27                          27   \n",
       "4                      2.397895               11                          -5   \n",
       "\n",
       "   operation_years_imp_random_choice extraction_type_group  \\\n",
       "0                                 12               gravity   \n",
       "1                                  3               gravity   \n",
       "2                                  4               gravity   \n",
       "3                                 27           submersible   \n",
       "4                                  5               gravity   \n",
       "\n",
       "  extraction_type_class         payment quality_group source_class  \\\n",
       "0               gravity    pay annually          good  groundwater   \n",
       "1               gravity       never pay          good      surface   \n",
       "2               gravity  pay per bucket          good      surface   \n",
       "3           submersible       never pay          good  groundwater   \n",
       "4               gravity       never pay          good      surface   \n",
       "\n",
       "            source_type waterpoint_type_group management_group quantity_group  \\\n",
       "0                spring    communal standpipe       user-group         enough   \n",
       "1  rainwater harvesting    communal standpipe       user-group   insufficient   \n",
       "2                   dam    communal standpipe       user-group         enough   \n",
       "3              borehole    communal standpipe       user-group            dry   \n",
       "4  rainwater harvesting    communal standpipe            other       seasonal   \n",
       "\n",
       "               wpt_name  \n",
       "0                  none  \n",
       "1              Zahanati  \n",
       "2           Kwa Mahundi  \n",
       "3  Zahanati Ya Nanyumbu  \n",
       "4               Shuleni  "
      ]
     },
     "execution_count": 29,
     "metadata": {},
     "output_type": "execute_result"
    }
   ],
   "source": [
    "train = pd.read_csv('./Data/train_cleaned_v0.2.csv')\n",
    "train_raw = pd.read_csv('./Data/training_set_values.csv')\n",
    "\n",
    "train = train.merge(train_raw[['id','extraction_type_group','extraction_type_class','payment','quality_group','source_class','source_type','waterpoint_type_group','management_group','quantity_group','wpt_name']],on='id')\n",
    "\n",
    "labels = pd.read_csv('./Data/training_set_labels.csv')\n",
    "train = train.merge(labels, on=\"id\")\n",
    "target = train.pop(\"status_group\")\n",
    "\n",
    "train.head()\n"
   ]
  },
  {
   "cell_type": "markdown",
   "metadata": {},
   "source": [
    "### Global variables and model parameters"
   ]
  },
  {
   "cell_type": "code",
   "execution_count": 91,
   "metadata": {},
   "outputs": [],
   "source": [
    "# Features that will be considered in the model\n",
    "remove_features = 'status_group longitude_imp_random_choice latitude_imp_random_choice amount_tsh_imp_random_choice gps_height_imp_random_choice population_imp_random_choice construction_year_imp_random_choice longitude latitude amount_tsh gps_height population construction_year longitude_imp_mean-median'.split()\n",
    "features = [feature for feature in list(train.columns) if feature not in remove_features]\n",
    "\n",
    "# These features will be scaled\n",
    "num_features=['latitude_imp_normal','longitude_imp_normal', 'gps_height_imp_normal', 'population_imp_normal', 'amount_tsh_imp_normal', 'construction_year_imp_normal', 'operation_years_imp_normal']\n",
    "\n",
    "# These features will be factorized\n",
    "cat_features = ['funder','installer','basin','region','public_meeting','scheme_management','permit','extraction_type','management','payment_type','water_quality','payment_type','quantity','source','waterpoint_type','ward','subvillage','lga','scheme_name','extraction_type_group','extraction_type_class','payment','quality_group','source_class','source_type','waterpoint_type_group','management_group','quantity_group','wpt_name']\n",
    "\n",
    "# Target variable\n",
    "label = 'status_group'\n",
    "\n",
    "# ID variable (used for merging and submitting results)\n",
    "id_variable = 'id'\n",
    "\n",
    "# Parameters for train/test split\n",
    "seed = 7\n",
    "test_size = 0.33\n",
    "\n",
    "# Model parameters\n",
    "params = {'n_estimators': 500, 'max_depth': 10, 'num_class': 3, 'objective': 'multi:softmax'}\n"
   ]
  },
  {
   "cell_type": "markdown",
   "metadata": {},
   "source": [
    "### Data preparation"
   ]
  },
  {
   "cell_type": "code",
   "execution_count": 31,
   "metadata": {},
   "outputs": [
    {
     "data": {
      "text/html": [
       "<div>\n",
       "<style scoped>\n",
       "    .dataframe tbody tr th:only-of-type {\n",
       "        vertical-align: middle;\n",
       "    }\n",
       "\n",
       "    .dataframe tbody tr th {\n",
       "        vertical-align: top;\n",
       "    }\n",
       "\n",
       "    .dataframe thead th {\n",
       "        text-align: right;\n",
       "    }\n",
       "</style>\n",
       "<table border=\"1\" class=\"dataframe\">\n",
       "  <thead>\n",
       "    <tr style=\"text-align: right;\">\n",
       "      <th></th>\n",
       "      <th>id</th>\n",
       "      <th>amount_tsh</th>\n",
       "      <th>funder</th>\n",
       "      <th>gps_height</th>\n",
       "      <th>installer</th>\n",
       "      <th>longitude</th>\n",
       "      <th>latitude</th>\n",
       "      <th>basin</th>\n",
       "      <th>subvillage</th>\n",
       "      <th>region</th>\n",
       "      <th>region_code</th>\n",
       "      <th>district_code</th>\n",
       "      <th>lga</th>\n",
       "      <th>ward</th>\n",
       "      <th>population</th>\n",
       "      <th>public_meeting</th>\n",
       "      <th>scheme_management</th>\n",
       "      <th>scheme_name</th>\n",
       "      <th>permit</th>\n",
       "      <th>construction_year</th>\n",
       "      <th>extraction_type</th>\n",
       "      <th>management</th>\n",
       "      <th>payment_type</th>\n",
       "      <th>water_quality</th>\n",
       "      <th>quantity</th>\n",
       "      <th>source</th>\n",
       "      <th>waterpoint_type</th>\n",
       "      <th>longitude_imp_normal</th>\n",
       "      <th>longitude_imp_random_choice</th>\n",
       "      <th>latitude_imp_normal</th>\n",
       "      <th>latitude_imp_random_choice</th>\n",
       "      <th>gps_height_imp_normal</th>\n",
       "      <th>gps_height_imp_random_choice</th>\n",
       "      <th>population_imp_normal</th>\n",
       "      <th>population_imp_random_choice</th>\n",
       "      <th>construction_year_imp_normal</th>\n",
       "      <th>construction_year_imp_random_choice</th>\n",
       "      <th>amount_tsh_imp_normal</th>\n",
       "      <th>amount_tsh_imp_random_choice</th>\n",
       "      <th>operation_years</th>\n",
       "      <th>operation_years_imp_normal</th>\n",
       "      <th>operation_years_imp_random_choice</th>\n",
       "      <th>extraction_type_group</th>\n",
       "      <th>extraction_type_class</th>\n",
       "      <th>payment</th>\n",
       "      <th>quality_group</th>\n",
       "      <th>source_class</th>\n",
       "      <th>source_type</th>\n",
       "      <th>waterpoint_type_group</th>\n",
       "      <th>management_group</th>\n",
       "      <th>quantity_group</th>\n",
       "      <th>wpt_name</th>\n",
       "    </tr>\n",
       "  </thead>\n",
       "  <tbody>\n",
       "    <tr>\n",
       "      <th>0</th>\n",
       "      <td>69572</td>\n",
       "      <td>8.699681</td>\n",
       "      <td>0</td>\n",
       "      <td>1390.0</td>\n",
       "      <td>0</td>\n",
       "      <td>34.938093</td>\n",
       "      <td>-9.856322</td>\n",
       "      <td>0</td>\n",
       "      <td>0</td>\n",
       "      <td>0</td>\n",
       "      <td>11</td>\n",
       "      <td>5</td>\n",
       "      <td>0</td>\n",
       "      <td>0</td>\n",
       "      <td>4.700480</td>\n",
       "      <td>0</td>\n",
       "      <td>0</td>\n",
       "      <td>0</td>\n",
       "      <td>0</td>\n",
       "      <td>1999.0</td>\n",
       "      <td>0</td>\n",
       "      <td>0</td>\n",
       "      <td>0</td>\n",
       "      <td>0</td>\n",
       "      <td>0</td>\n",
       "      <td>0</td>\n",
       "      <td>0</td>\n",
       "      <td>34.938093</td>\n",
       "      <td>34.938093</td>\n",
       "      <td>-9.856322</td>\n",
       "      <td>-9.856322</td>\n",
       "      <td>1390.000000</td>\n",
       "      <td>1390.0</td>\n",
       "      <td>4.700480</td>\n",
       "      <td>4.700480</td>\n",
       "      <td>1999.000000</td>\n",
       "      <td>1999.0</td>\n",
       "      <td>8.699681</td>\n",
       "      <td>8.699681</td>\n",
       "      <td>12</td>\n",
       "      <td>12</td>\n",
       "      <td>12</td>\n",
       "      <td>0</td>\n",
       "      <td>0</td>\n",
       "      <td>0</td>\n",
       "      <td>0</td>\n",
       "      <td>0</td>\n",
       "      <td>0</td>\n",
       "      <td>0</td>\n",
       "      <td>0</td>\n",
       "      <td>0</td>\n",
       "      <td>0</td>\n",
       "    </tr>\n",
       "    <tr>\n",
       "      <th>1</th>\n",
       "      <td>8776</td>\n",
       "      <td>5.826890</td>\n",
       "      <td>1</td>\n",
       "      <td>1399.0</td>\n",
       "      <td>1</td>\n",
       "      <td>34.698766</td>\n",
       "      <td>-2.147466</td>\n",
       "      <td>1</td>\n",
       "      <td>1</td>\n",
       "      <td>1</td>\n",
       "      <td>20</td>\n",
       "      <td>2</td>\n",
       "      <td>1</td>\n",
       "      <td>1</td>\n",
       "      <td>5.638355</td>\n",
       "      <td>1</td>\n",
       "      <td>1</td>\n",
       "      <td>1</td>\n",
       "      <td>1</td>\n",
       "      <td>2010.0</td>\n",
       "      <td>0</td>\n",
       "      <td>1</td>\n",
       "      <td>1</td>\n",
       "      <td>0</td>\n",
       "      <td>1</td>\n",
       "      <td>1</td>\n",
       "      <td>0</td>\n",
       "      <td>34.698766</td>\n",
       "      <td>34.698766</td>\n",
       "      <td>-2.147466</td>\n",
       "      <td>-2.147466</td>\n",
       "      <td>1399.000000</td>\n",
       "      <td>1399.0</td>\n",
       "      <td>5.638355</td>\n",
       "      <td>5.638355</td>\n",
       "      <td>2010.000000</td>\n",
       "      <td>2010.0</td>\n",
       "      <td>6.520780</td>\n",
       "      <td>6.908755</td>\n",
       "      <td>3</td>\n",
       "      <td>3</td>\n",
       "      <td>3</td>\n",
       "      <td>0</td>\n",
       "      <td>0</td>\n",
       "      <td>1</td>\n",
       "      <td>0</td>\n",
       "      <td>1</td>\n",
       "      <td>1</td>\n",
       "      <td>0</td>\n",
       "      <td>0</td>\n",
       "      <td>1</td>\n",
       "      <td>1</td>\n",
       "    </tr>\n",
       "    <tr>\n",
       "      <th>2</th>\n",
       "      <td>34310</td>\n",
       "      <td>3.258097</td>\n",
       "      <td>2</td>\n",
       "      <td>686.0</td>\n",
       "      <td>2</td>\n",
       "      <td>37.460664</td>\n",
       "      <td>-3.821329</td>\n",
       "      <td>2</td>\n",
       "      <td>2</td>\n",
       "      <td>2</td>\n",
       "      <td>21</td>\n",
       "      <td>4</td>\n",
       "      <td>2</td>\n",
       "      <td>2</td>\n",
       "      <td>5.525453</td>\n",
       "      <td>0</td>\n",
       "      <td>0</td>\n",
       "      <td>2</td>\n",
       "      <td>1</td>\n",
       "      <td>2009.0</td>\n",
       "      <td>0</td>\n",
       "      <td>0</td>\n",
       "      <td>2</td>\n",
       "      <td>0</td>\n",
       "      <td>0</td>\n",
       "      <td>2</td>\n",
       "      <td>1</td>\n",
       "      <td>37.460664</td>\n",
       "      <td>37.460664</td>\n",
       "      <td>-3.821329</td>\n",
       "      <td>-3.821329</td>\n",
       "      <td>686.000000</td>\n",
       "      <td>686.0</td>\n",
       "      <td>5.525453</td>\n",
       "      <td>5.525453</td>\n",
       "      <td>2009.000000</td>\n",
       "      <td>2009.0</td>\n",
       "      <td>3.258097</td>\n",
       "      <td>3.258097</td>\n",
       "      <td>4</td>\n",
       "      <td>4</td>\n",
       "      <td>4</td>\n",
       "      <td>0</td>\n",
       "      <td>0</td>\n",
       "      <td>2</td>\n",
       "      <td>0</td>\n",
       "      <td>1</td>\n",
       "      <td>2</td>\n",
       "      <td>0</td>\n",
       "      <td>0</td>\n",
       "      <td>0</td>\n",
       "      <td>2</td>\n",
       "    </tr>\n",
       "    <tr>\n",
       "      <th>3</th>\n",
       "      <td>67743</td>\n",
       "      <td>5.420290</td>\n",
       "      <td>3</td>\n",
       "      <td>263.0</td>\n",
       "      <td>3</td>\n",
       "      <td>38.486161</td>\n",
       "      <td>-11.155298</td>\n",
       "      <td>3</td>\n",
       "      <td>3</td>\n",
       "      <td>3</td>\n",
       "      <td>90</td>\n",
       "      <td>63</td>\n",
       "      <td>3</td>\n",
       "      <td>3</td>\n",
       "      <td>4.077537</td>\n",
       "      <td>0</td>\n",
       "      <td>0</td>\n",
       "      <td>1</td>\n",
       "      <td>1</td>\n",
       "      <td>1986.0</td>\n",
       "      <td>1</td>\n",
       "      <td>0</td>\n",
       "      <td>1</td>\n",
       "      <td>0</td>\n",
       "      <td>2</td>\n",
       "      <td>3</td>\n",
       "      <td>1</td>\n",
       "      <td>38.486161</td>\n",
       "      <td>38.486161</td>\n",
       "      <td>-11.155298</td>\n",
       "      <td>-11.155298</td>\n",
       "      <td>263.000000</td>\n",
       "      <td>263.0</td>\n",
       "      <td>4.077537</td>\n",
       "      <td>4.077537</td>\n",
       "      <td>1986.000000</td>\n",
       "      <td>1986.0</td>\n",
       "      <td>6.906485</td>\n",
       "      <td>3.931826</td>\n",
       "      <td>27</td>\n",
       "      <td>27</td>\n",
       "      <td>27</td>\n",
       "      <td>1</td>\n",
       "      <td>1</td>\n",
       "      <td>1</td>\n",
       "      <td>0</td>\n",
       "      <td>0</td>\n",
       "      <td>3</td>\n",
       "      <td>0</td>\n",
       "      <td>0</td>\n",
       "      <td>2</td>\n",
       "      <td>3</td>\n",
       "    </tr>\n",
       "    <tr>\n",
       "      <th>4</th>\n",
       "      <td>19728</td>\n",
       "      <td>5.301670</td>\n",
       "      <td>4</td>\n",
       "      <td>1167.0</td>\n",
       "      <td>4</td>\n",
       "      <td>31.130847</td>\n",
       "      <td>-1.825359</td>\n",
       "      <td>1</td>\n",
       "      <td>4</td>\n",
       "      <td>4</td>\n",
       "      <td>18</td>\n",
       "      <td>1</td>\n",
       "      <td>4</td>\n",
       "      <td>4</td>\n",
       "      <td>5.017280</td>\n",
       "      <td>0</td>\n",
       "      <td>2</td>\n",
       "      <td>1</td>\n",
       "      <td>1</td>\n",
       "      <td>2000.0</td>\n",
       "      <td>0</td>\n",
       "      <td>2</td>\n",
       "      <td>1</td>\n",
       "      <td>0</td>\n",
       "      <td>3</td>\n",
       "      <td>1</td>\n",
       "      <td>0</td>\n",
       "      <td>31.130847</td>\n",
       "      <td>31.130847</td>\n",
       "      <td>-1.825359</td>\n",
       "      <td>-1.825359</td>\n",
       "      <td>1240.292552</td>\n",
       "      <td>455.0</td>\n",
       "      <td>2.575311</td>\n",
       "      <td>0.693147</td>\n",
       "      <td>2016.001834</td>\n",
       "      <td>2006.0</td>\n",
       "      <td>2.826742</td>\n",
       "      <td>2.397895</td>\n",
       "      <td>11</td>\n",
       "      <td>-5</td>\n",
       "      <td>5</td>\n",
       "      <td>0</td>\n",
       "      <td>0</td>\n",
       "      <td>1</td>\n",
       "      <td>0</td>\n",
       "      <td>1</td>\n",
       "      <td>1</td>\n",
       "      <td>0</td>\n",
       "      <td>1</td>\n",
       "      <td>3</td>\n",
       "      <td>4</td>\n",
       "    </tr>\n",
       "  </tbody>\n",
       "</table>\n",
       "</div>"
      ],
      "text/plain": [
       "      id  amount_tsh  funder  gps_height  installer  longitude   latitude  \\\n",
       "0  69572    8.699681       0      1390.0          0  34.938093  -9.856322   \n",
       "1   8776    5.826890       1      1399.0          1  34.698766  -2.147466   \n",
       "2  34310    3.258097       2       686.0          2  37.460664  -3.821329   \n",
       "3  67743    5.420290       3       263.0          3  38.486161 -11.155298   \n",
       "4  19728    5.301670       4      1167.0          4  31.130847  -1.825359   \n",
       "\n",
       "   basin  subvillage  region  region_code  district_code  lga  ward  \\\n",
       "0      0           0       0           11              5    0     0   \n",
       "1      1           1       1           20              2    1     1   \n",
       "2      2           2       2           21              4    2     2   \n",
       "3      3           3       3           90             63    3     3   \n",
       "4      1           4       4           18              1    4     4   \n",
       "\n",
       "   population  public_meeting  scheme_management  scheme_name  permit  \\\n",
       "0    4.700480               0                  0            0       0   \n",
       "1    5.638355               1                  1            1       1   \n",
       "2    5.525453               0                  0            2       1   \n",
       "3    4.077537               0                  0            1       1   \n",
       "4    5.017280               0                  2            1       1   \n",
       "\n",
       "   construction_year  extraction_type  management  payment_type  \\\n",
       "0             1999.0                0           0             0   \n",
       "1             2010.0                0           1             1   \n",
       "2             2009.0                0           0             2   \n",
       "3             1986.0                1           0             1   \n",
       "4             2000.0                0           2             1   \n",
       "\n",
       "   water_quality  quantity  source  waterpoint_type  longitude_imp_normal  \\\n",
       "0              0         0       0                0             34.938093   \n",
       "1              0         1       1                0             34.698766   \n",
       "2              0         0       2                1             37.460664   \n",
       "3              0         2       3                1             38.486161   \n",
       "4              0         3       1                0             31.130847   \n",
       "\n",
       "   longitude_imp_random_choice  latitude_imp_normal  \\\n",
       "0                    34.938093            -9.856322   \n",
       "1                    34.698766            -2.147466   \n",
       "2                    37.460664            -3.821329   \n",
       "3                    38.486161           -11.155298   \n",
       "4                    31.130847            -1.825359   \n",
       "\n",
       "   latitude_imp_random_choice  gps_height_imp_normal  \\\n",
       "0                   -9.856322            1390.000000   \n",
       "1                   -2.147466            1399.000000   \n",
       "2                   -3.821329             686.000000   \n",
       "3                  -11.155298             263.000000   \n",
       "4                   -1.825359            1240.292552   \n",
       "\n",
       "   gps_height_imp_random_choice  population_imp_normal  \\\n",
       "0                        1390.0               4.700480   \n",
       "1                        1399.0               5.638355   \n",
       "2                         686.0               5.525453   \n",
       "3                         263.0               4.077537   \n",
       "4                         455.0               2.575311   \n",
       "\n",
       "   population_imp_random_choice  construction_year_imp_normal  \\\n",
       "0                      4.700480                   1999.000000   \n",
       "1                      5.638355                   2010.000000   \n",
       "2                      5.525453                   2009.000000   \n",
       "3                      4.077537                   1986.000000   \n",
       "4                      0.693147                   2016.001834   \n",
       "\n",
       "   construction_year_imp_random_choice  amount_tsh_imp_normal  \\\n",
       "0                               1999.0               8.699681   \n",
       "1                               2010.0               6.520780   \n",
       "2                               2009.0               3.258097   \n",
       "3                               1986.0               6.906485   \n",
       "4                               2006.0               2.826742   \n",
       "\n",
       "   amount_tsh_imp_random_choice  operation_years  operation_years_imp_normal  \\\n",
       "0                      8.699681               12                          12   \n",
       "1                      6.908755                3                           3   \n",
       "2                      3.258097                4                           4   \n",
       "3                      3.931826               27                          27   \n",
       "4                      2.397895               11                          -5   \n",
       "\n",
       "   operation_years_imp_random_choice  extraction_type_group  \\\n",
       "0                                 12                      0   \n",
       "1                                  3                      0   \n",
       "2                                  4                      0   \n",
       "3                                 27                      1   \n",
       "4                                  5                      0   \n",
       "\n",
       "   extraction_type_class  payment  quality_group  source_class  source_type  \\\n",
       "0                      0        0              0             0            0   \n",
       "1                      0        1              0             1            1   \n",
       "2                      0        2              0             1            2   \n",
       "3                      1        1              0             0            3   \n",
       "4                      0        1              0             1            1   \n",
       "\n",
       "   waterpoint_type_group  management_group  quantity_group  wpt_name  \n",
       "0                      0                 0               0         0  \n",
       "1                      0                 0               1         1  \n",
       "2                      0                 0               0         2  \n",
       "3                      0                 0               2         3  \n",
       "4                      0                 1               3         4  "
      ]
     },
     "execution_count": 31,
     "metadata": {},
     "output_type": "execute_result"
    }
   ],
   "source": [
    "# Factorize features for evaluations\n",
    "\n",
    "for var in cat_features:\n",
    "    train[var] = pd.factorize(train[var])[0]\n",
    "\n",
    "train.head()"
   ]
  },
  {
   "cell_type": "code",
   "execution_count": 32,
   "metadata": {
    "scrolled": true
   },
   "outputs": [
    {
     "data": {
      "text/plain": [
       "0    0\n",
       "1    0\n",
       "2    0\n",
       "3    1\n",
       "4    0\n",
       "dtype: int64"
      ]
     },
     "execution_count": 32,
     "metadata": {},
     "output_type": "execute_result"
    }
   ],
   "source": [
    "# Factorize target dataframe\n",
    "\n",
    "labels, uniques = target.factorize()\n",
    "target = pd.Series(labels)\n",
    "target.head()"
   ]
  },
  {
   "cell_type": "markdown",
   "metadata": {},
   "source": [
    "### Train-Test-Split"
   ]
  },
  {
   "cell_type": "code",
   "execution_count": 33,
   "metadata": {},
   "outputs": [],
   "source": [
    "X_train, X_test, Y_train, Y_test = train_test_split(train, target, test_size=test_size, random_state=seed, stratify=target)"
   ]
  },
  {
   "cell_type": "code",
   "execution_count": 34,
   "metadata": {},
   "outputs": [],
   "source": [
    "train_ids = X_train[id_variable]\n",
    "test_ids = X_test[id_variable]"
   ]
  },
  {
   "cell_type": "markdown",
   "metadata": {},
   "source": [
    "### Build and fit the model - Built-in multiclass classification"
   ]
  },
  {
   "cell_type": "code",
   "execution_count": 92,
   "metadata": {},
   "outputs": [
    {
     "data": {
      "text/plain": [
       "XGBClassifier(base_score=0.5, booster='gbtree', colsample_bylevel=1,\n",
       "       colsample_bytree=1, gamma=0, learning_rate=0.1, max_delta_step=0,\n",
       "       max_depth=10, min_child_weight=1, missing=None, n_estimators=500,\n",
       "       n_jobs=1, nthread=None, num_class=3, objective='multi:softprob',\n",
       "       random_state=0, reg_alpha=0, reg_lambda=1, scale_pos_weight=1,\n",
       "       seed=None, silent=True, subsample=1)"
      ]
     },
     "execution_count": 92,
     "metadata": {},
     "output_type": "execute_result"
    }
   ],
   "source": [
    "# Build the model and fit it to the train split\n",
    "\n",
    "start_time = datetime.datetime.now()\n",
    "model = XGBClassifier(**params).fit(X_train, Y_train)\n",
    "stop_time = datetime.datetime.now()\n",
    "processing_time = (stop_time - start_time).seconds\n",
    "model"
   ]
  },
  {
   "cell_type": "markdown",
   "metadata": {},
   "source": [
    "#### Feature importances measurements"
   ]
  },
  {
   "cell_type": "code",
   "execution_count": 93,
   "metadata": {
    "scrolled": true
   },
   "outputs": [
    {
     "name": "stdout",
     "output_type": "stream",
     "text": [
      "Variable: quantity             Importance: 0.1599999964237213\n",
      "Variable: extraction_type_class Importance: 0.10999999940395355\n",
      "Variable: waterpoint_type      Importance: 0.07000000029802322\n",
      "Variable: region               Importance: 0.029999999329447746\n",
      "Variable: construction_year    Importance: 0.029999999329447746\n",
      "Variable: extraction_type      Importance: 0.029999999329447746\n",
      "Variable: amount_tsh           Importance: 0.019999999552965164\n",
      "Variable: basin                Importance: 0.019999999552965164\n",
      "Variable: region_code          Importance: 0.019999999552965164\n",
      "Variable: district_code        Importance: 0.019999999552965164\n",
      "Variable: lga                  Importance: 0.019999999552965164\n",
      "Variable: public_meeting       Importance: 0.019999999552965164\n",
      "Variable: scheme_management    Importance: 0.019999999552965164\n",
      "Variable: permit               Importance: 0.019999999552965164\n",
      "Variable: management           Importance: 0.019999999552965164\n",
      "Variable: payment_type         Importance: 0.019999999552965164\n",
      "Variable: source               Importance: 0.019999999552965164\n",
      "Variable: operation_years      Importance: 0.019999999552965164\n",
      "Variable: extraction_type_group Importance: 0.019999999552965164\n",
      "Variable: quality_group        Importance: 0.019999999552965164\n",
      "Variable: source_class         Importance: 0.019999999552965164\n",
      "Variable: source_type          Importance: 0.019999999552965164\n",
      "Variable: management_group     Importance: 0.019999999552965164\n",
      "Variable: id                   Importance: 0.009999999776482582\n",
      "Variable: funder               Importance: 0.009999999776482582\n",
      "Variable: gps_height           Importance: 0.009999999776482582\n",
      "Variable: installer            Importance: 0.009999999776482582\n",
      "Variable: longitude            Importance: 0.009999999776482582\n",
      "Variable: latitude             Importance: 0.009999999776482582\n",
      "Variable: subvillage           Importance: 0.009999999776482582\n",
      "Variable: ward                 Importance: 0.009999999776482582\n",
      "Variable: population           Importance: 0.009999999776482582\n",
      "Variable: scheme_name          Importance: 0.009999999776482582\n",
      "Variable: water_quality        Importance: 0.009999999776482582\n",
      "Variable: longitude_imp_normal Importance: 0.009999999776482582\n",
      "Variable: longitude_imp_random_choice Importance: 0.009999999776482582\n",
      "Variable: latitude_imp_normal  Importance: 0.009999999776482582\n",
      "Variable: latitude_imp_random_choice Importance: 0.009999999776482582\n",
      "Variable: gps_height_imp_normal Importance: 0.009999999776482582\n",
      "Variable: gps_height_imp_random_choice Importance: 0.009999999776482582\n",
      "Variable: population_imp_normal Importance: 0.009999999776482582\n",
      "Variable: population_imp_random_choice Importance: 0.009999999776482582\n",
      "Variable: construction_year_imp_normal Importance: 0.009999999776482582\n",
      "Variable: construction_year_imp_random_choice Importance: 0.009999999776482582\n",
      "Variable: amount_tsh_imp_normal Importance: 0.009999999776482582\n",
      "Variable: amount_tsh_imp_random_choice Importance: 0.009999999776482582\n",
      "Variable: operation_years_imp_normal Importance: 0.009999999776482582\n",
      "Variable: operation_years_imp_random_choice Importance: 0.009999999776482582\n",
      "Variable: wpt_name             Importance: 0.009999999776482582\n",
      "Variable: payment              Importance: 0.0\n",
      "Variable: waterpoint_type_group Importance: 0.0\n",
      "Variable: quantity_group       Importance: 0.0\n"
     ]
    }
   ],
   "source": [
    "# Get numerical feature importances\n",
    "importances = list(model.feature_importances_)\n",
    "\n",
    "# List of tuples with variable and importance\n",
    "feature_importances = [(feature, round(importance, 2)) for feature, importance in zip(list(train.columns), importances)]\n",
    "\n",
    "# Sort the feature importances by most important first\n",
    "feature_importances = sorted(feature_importances, key = lambda x: x[1], reverse = True)\n",
    "\n",
    "# Print out the feature and importances \n",
    "for pair in feature_importances:\n",
    "    print('Variable: {:20} Importance: {}'.format(*pair))"
   ]
  },
  {
   "cell_type": "code",
   "execution_count": 94,
   "metadata": {
    "scrolled": true
   },
   "outputs": [
    {
     "data": {
      "text/plain": [
       "[('quantity', 13.780866532566206),\n",
       " ('extraction_type_class', 9.38324336688675),\n",
       " ('waterpoint_type', 6.482798307211789),\n",
       " ('region', 2.7881886211778397),\n",
       " ('extraction_type', 2.7098540455420848),\n",
       " ('construction_year', 2.2785949187847003),\n",
       " ('source', 2.172791920104939),\n",
       " ('public_meeting', 2.0181051456803454),\n",
       " ('payment_type', 1.9645223890687473),\n",
       " ('lga', 1.837813698892854),\n",
       " ('basin', 1.8252688837611732),\n",
       " ('quality_group', 1.7556669517943886),\n",
       " ('region_code', 1.7264745697056756),\n",
       " ('management', 1.6929950168414238),\n",
       " ('operation_years', 1.627331512902083),\n",
       " ('district_code', 1.5332345464587727),\n",
       " ('source_type', 1.5110893542837716),\n",
       " ('source_class', 1.4474325195530047),\n",
       " ('scheme_management', 1.4266802933320708),\n",
       " ('permit', 1.3987005964540509),\n",
       " ('extraction_type_group', 1.3915223094128089),\n",
       " ('amount_tsh', 1.3385613095538287),\n",
       " ('management_group', 1.3334451070096562),\n",
       " ('scheme_name', 1.2394134543698205),\n",
       " ('longitude', 1.1595343994598077),\n",
       " ('latitude', 1.1530423317042988),\n",
       " ('longitude_imp_normal', 1.1384305138644266),\n",
       " ('installer', 1.1039561211034943),\n",
       " ('funder', 1.0672322250981656),\n",
       " ('latitude_imp_random_choice', 1.03130696991896),\n",
       " ('gps_height', 0.9691475449007838),\n",
       " ('water_quality', 0.9451482289265286),\n",
       " ('population', 0.922347585946146),\n",
       " ('longitude_imp_random_choice', 0.8892981504425786),\n",
       " ('latitude_imp_normal', 0.8810313405100793),\n",
       " ('ward', 0.8716270253425844),\n",
       " ('construction_year_imp_normal', 0.7394497283215051),\n",
       " ('operation_years_imp_normal', 0.7393522266409517),\n",
       " ('gps_height_imp_normal', 0.7349942210509979),\n",
       " ('population_imp_normal', 0.7088990811454892),\n",
       " ('construction_year_imp_random_choice', 0.7035862937579265),\n",
       " ('operation_years_imp_random_choice', 0.6974378996131165),\n",
       " ('gps_height_imp_random_choice', 0.6924883962359241),\n",
       " ('subvillage', 0.6814215033747795),\n",
       " ('population_imp_random_choice', 0.6710645939526608),\n",
       " ('amount_tsh_imp_normal', 0.6625927269406287),\n",
       " ('amount_tsh_imp_random_choice', 0.638436823575438),\n",
       " ('wpt_name', 0.629935489295035),\n",
       " ('id', 0.6134394952868282)]"
      ]
     },
     "execution_count": 94,
     "metadata": {},
     "output_type": "execute_result"
    }
   ],
   "source": [
    "# Gain: Implies the relative contribution of the corresponding feature to the model calculated by \n",
    "# taking each feature’s contribution for each tree in the model. \n",
    "# A higher value of this metric when compared to another feature implies \n",
    "# it is more important for generating a prediction\n",
    "# -> Improvement in accuracy brought by a feature to the branches it is on\n",
    "\n",
    "gain = model.get_booster().get_score(importance_type= 'gain')\n",
    "gain = sorted(gain.items(), key = lambda kv:(kv[1], kv[0]), reverse=True)\n",
    "gain"
   ]
  },
  {
   "cell_type": "code",
   "execution_count": 95,
   "metadata": {
    "scrolled": true
   },
   "outputs": [
    {
     "data": {
      "text/plain": [
       "[('quantity', 46923.85054338793),\n",
       " ('longitude', 20488.972838454803),\n",
       " ('latitude', 20189.771228142272),\n",
       " ('waterpoint_type', 17302.588681948266),\n",
       " ('id', 14274.123615829205),\n",
       " ('subvillage', 13117.363939964505),\n",
       " ('wpt_name', 12405.319590687122),\n",
       " ('ward', 11314.590415972089),\n",
       " ('lga', 11047.098144044945),\n",
       " ('amount_tsh_imp_normal', 9894.497191404407),\n",
       " ('gps_height', 9703.105219546647),\n",
       " ('funder', 9283.853126128943),\n",
       " ('construction_year', 9082.479346275815),\n",
       " ('extraction_type', 8698.631486190092),\n",
       " ('installer', 8425.393116261868),\n",
       " ('scheme_name', 8406.941460990492),\n",
       " ('gps_height_imp_normal', 7942.3475526770835),\n",
       " ('population_imp_normal', 7918.4027363951145),\n",
       " ('region', 7048.540834337578),\n",
       " ('extraction_type_class', 6915.450361395535),\n",
       " ('amount_tsh', 6890.91362158311),\n",
       " ('population', 6848.430825650134),\n",
       " ('payment_type', 6834.573391570172),\n",
       " ('gps_height_imp_random_choice', 6827.935586886211),\n",
       " ('construction_year_imp_normal', 6156.658438004852),\n",
       " ('source', 5251.638070893638),\n",
       " ('population_imp_random_choice', 5202.763796914979),\n",
       " ('district_code', 4857.287043181392),\n",
       " ('amount_tsh_imp_random_choice', 3955.7545588734138),\n",
       " ('construction_year_imp_random_choice', 3494.713121095621),\n",
       " ('operation_years', 3467.843453994339),\n",
       " ('region_code', 3181.89263196756),\n",
       " ('basin', 3079.2286069050992),\n",
       " ('scheme_management', 3040.255705090643),\n",
       " ('management', 2984.7502146914303),\n",
       " ('public_meeting', 2492.3598549152266),\n",
       " ('operation_years_imp_random_choice', 2135.554848615363),\n",
       " ('operation_years_imp_normal', 1795.1472062842306),\n",
       " ('permit', 1650.46670381578),\n",
       " ('longitude_imp_normal', 1558.5113734804),\n",
       " ('latitude_imp_random_choice', 1331.4172981653774),\n",
       " ('latitude_imp_normal', 1208.7749991798287),\n",
       " ('extraction_type_group', 1142.439816027916),\n",
       " ('longitude_imp_random_choice', 1132.9658436638451),\n",
       " ('water_quality', 1045.3339411927407),\n",
       " ('source_class', 949.5157328267711),\n",
       " ('source_type', 737.4116048904805),\n",
       " ('management_group', 658.7218828627701),\n",
       " ('quality_group', 344.1107225517002)]"
      ]
     },
     "execution_count": 95,
     "metadata": {},
     "output_type": "execute_result"
    }
   ],
   "source": [
    "total_gain = model.get_booster().get_score(importance_type= 'total_gain')\n",
    "total_gain = sorted(total_gain.items(), key = lambda kv:(kv[1], kv[0]), reverse=True)\n",
    "total_gain"
   ]
  },
  {
   "cell_type": "code",
   "execution_count": 96,
   "metadata": {
    "scrolled": true
   },
   "outputs": [
    {
     "data": {
      "text/plain": [
       "[('extraction_type_class', 1131.882724725236),\n",
       " ('extraction_type_group', 953.4581473977611),\n",
       " ('waterpoint_type', 924.9542375836872),\n",
       " ('quantity', 922.5952817502233),\n",
       " ('payment_type', 708.9407677755038),\n",
       " ('water_quality', 662.1419054802427),\n",
       " ('extraction_type', 652.8320069215238),\n",
       " ('latitude_imp_random_choice', 509.20324637386403),\n",
       " ('operation_years', 431.8922545267944),\n",
       " ('quality_group', 395.3217020128059),\n",
       " ('source', 385.20820057037974),\n",
       " ('management_group', 359.01279613670044),\n",
       " ('public_meeting', 353.44499562151424),\n",
       " ('district_code', 346.32478544752917),\n",
       " ('region', 342.6075919327182),\n",
       " ('region_code', 339.0148536252461),\n",
       " ('source_class', 335.7237664100453),\n",
       " ('longitude_imp_normal', 331.8051040188172),\n",
       " ('lga', 327.7949303235957),\n",
       " ('gps_height_imp_normal', 325.61063963999885),\n",
       " ('longitude', 305.5701242740778),\n",
       " ('longitude_imp_random_choice', 299.24991434364205),\n",
       " ('installer', 295.7657700567628),\n",
       " ('latitude', 286.27771529677904),\n",
       " ('management', 281.4539239652924),\n",
       " ('latitude_imp_normal', 275.0463877386877),\n",
       " ('scheme_name', 272.2955606590312),\n",
       " ('amount_tsh_imp_normal', 267.2600966330457),\n",
       " ('population_imp_normal', 258.46759416941654),\n",
       " ('gps_height_imp_random_choice', 253.89156320337403),\n",
       " ('funder', 252.65645585223618),\n",
       " ('amount_tsh', 244.24770327722936),\n",
       " ('source_type', 241.06805618983608),\n",
       " ('basin', 240.5045360021867),\n",
       " ('gps_height', 225.85968780488574),\n",
       " ('scheme_management', 222.31201359998624),\n",
       " ('ward', 211.75725460408555),\n",
       " ('construction_year', 210.59245939382046),\n",
       " ('permit', 197.56494972098292),\n",
       " ('construction_year_imp_normal', 194.31127243363514),\n",
       " ('id', 193.3305802347657),\n",
       " ('operation_years_imp_random_choice', 176.7655489421296),\n",
       " ('population', 163.3398581261264),\n",
       " ('operation_years_imp_normal', 157.84946547808488),\n",
       " ('subvillage', 145.86205692360946),\n",
       " ('wpt_name', 137.0585409607272),\n",
       " ('amount_tsh_imp_random_choice', 128.86182263597337),\n",
       " ('construction_year_imp_random_choice', 123.41947732773062),\n",
       " ('population_imp_random_choice', 123.1969726947802)]"
      ]
     },
     "execution_count": 96,
     "metadata": {},
     "output_type": "execute_result"
    }
   ],
   "source": [
    "# Coverage: Measures the relative quantity of observations concerned by a feature\n",
    "\n",
    "cover = model.get_booster().get_score(importance_type= 'cover')\n",
    "cover = sorted(cover.items(), key = lambda kv:(kv[1], kv[0]), reverse=True)\n",
    "cover"
   ]
  },
  {
   "cell_type": "code",
   "execution_count": 97,
   "metadata": {
    "scrolled": true
   },
   "outputs": [
    {
     "data": {
      "text/plain": [
       "[('longitude', 5399424.095922954),\n",
       " ('latitude', 5012722.794846601),\n",
       " ('id', 4498609.271482763),\n",
       " ('amount_tsh_imp_normal', 3990995.023021271),\n",
       " ('gps_height_imp_normal', 3518548.5719498275),\n",
       " ('quantity', 3141436.9343595104),\n",
       " ('population_imp_normal', 2887083.0268723825),\n",
       " ('subvillage', 2807844.5957794823),\n",
       " ('ward', 2748820.9220156344),\n",
       " ('wpt_name', 2699093.847139601),\n",
       " ('gps_height_imp_random_choice', 2503370.813185268),\n",
       " ('waterpoint_type', 2468702.8601108612),\n",
       " ('payment_type', 2466404.9310909775),\n",
       " ('gps_height', 2261307.194302516),\n",
       " ('installer', 2257284.3570732134),\n",
       " ('funder', 2197858.5094586024),\n",
       " ('extraction_type', 2095590.7422180914),\n",
       " ('lga', 1970375.3261751335),\n",
       " ('scheme_name', 1846980.7879502084),\n",
       " ('construction_year_imp_normal', 1617835.6542824463),\n",
       " ('amount_tsh', 1257387.1764711768),\n",
       " ('population', 1212798.4465864885),\n",
       " ('district_code', 1097156.9202977724),\n",
       " ('population_imp_random_choice', 955146.1293026309),\n",
       " ('source', 931048.2207786079),\n",
       " ('operation_years', 920362.3943965988),\n",
       " ('region', 866111.9924059116),\n",
       " ('construction_year', 839421.5431437683),\n",
       " ('extraction_type_class', 834197.5681224989),\n",
       " ('amount_tsh_imp_random_choice', 798427.853052491),\n",
       " ('extraction_type_group', 782789.1390135619),\n",
       " ('water_quality', 732328.9474611485),\n",
       " ('latitude_imp_random_choice', 657381.3910686584),\n",
       " ('region_code', 624804.3752313285),\n",
       " ('construction_year_imp_random_choice', 613024.543886838),\n",
       " ('operation_years_imp_random_choice', 541256.1108608008),\n",
       " ('management', 496203.26795081055),\n",
       " ('scheme_management', 473746.9009815707),\n",
       " ('longitude_imp_normal', 454241.1874017607),\n",
       " ('public_meeting', 436504.5695925701),\n",
       " ('basin', 405731.152235689),\n",
       " ('operation_years_imp_normal', 383258.50218079006),\n",
       " ('longitude_imp_random_choice', 381244.3908738),\n",
       " ('latitude_imp_normal', 377363.64397747954),\n",
       " ('permit', 233126.64067075987),\n",
       " ('source_class', 220234.7907649897),\n",
       " ('management_group', 177352.32129153),\n",
       " ('source_type', 117641.21142064001),\n",
       " ('quality_group', 77483.05359450995)]"
      ]
     },
     "execution_count": 97,
     "metadata": {},
     "output_type": "execute_result"
    }
   ],
   "source": [
    "total_cover = model.get_booster().get_score(importance_type= 'total_cover')\n",
    "total_cover = sorted(total_cover.items(), key = lambda kv:(kv[1], kv[0]), reverse=True)\n",
    "total_cover"
   ]
  },
  {
   "cell_type": "code",
   "execution_count": 98,
   "metadata": {
    "scrolled": true
   },
   "outputs": [
    {
     "data": {
      "text/plain": [
       "[('id', 23269),\n",
       " ('wpt_name', 19693),\n",
       " ('subvillage', 19250),\n",
       " ('longitude', 17670),\n",
       " ('latitude', 17510),\n",
       " ('amount_tsh_imp_normal', 14933),\n",
       " ('ward', 12981),\n",
       " ('population_imp_normal', 11170),\n",
       " ('gps_height_imp_normal', 10806),\n",
       " ('gps_height', 10012),\n",
       " ('gps_height_imp_random_choice', 9860),\n",
       " ('funder', 8699),\n",
       " ('construction_year_imp_normal', 8326),\n",
       " ('population_imp_random_choice', 7753),\n",
       " ('installer', 7632),\n",
       " ('population', 7425),\n",
       " ('scheme_name', 6783),\n",
       " ('amount_tsh_imp_random_choice', 6196),\n",
       " ('lga', 6011),\n",
       " ('amount_tsh', 5148),\n",
       " ('construction_year_imp_random_choice', 4967),\n",
       " ('construction_year', 3986),\n",
       " ('payment_type', 3479),\n",
       " ('quantity', 3405),\n",
       " ('extraction_type', 3210),\n",
       " ('district_code', 3168),\n",
       " ('operation_years_imp_random_choice', 3062),\n",
       " ('waterpoint_type', 2669),\n",
       " ('region', 2528),\n",
       " ('operation_years_imp_normal', 2428),\n",
       " ('source', 2417),\n",
       " ('scheme_management', 2131),\n",
       " ('operation_years', 2131),\n",
       " ('region_code', 1843),\n",
       " ('management', 1763),\n",
       " ('basin', 1687),\n",
       " ('latitude_imp_normal', 1372),\n",
       " ('longitude_imp_normal', 1369),\n",
       " ('latitude_imp_random_choice', 1291),\n",
       " ('longitude_imp_random_choice', 1274),\n",
       " ('public_meeting', 1235),\n",
       " ('permit', 1180),\n",
       " ('water_quality', 1106),\n",
       " ('extraction_type_group', 821),\n",
       " ('extraction_type_class', 737),\n",
       " ('source_class', 656),\n",
       " ('management_group', 494),\n",
       " ('source_type', 488),\n",
       " ('quality_group', 196)]"
      ]
     },
     "execution_count": 98,
     "metadata": {},
     "output_type": "execute_result"
    }
   ],
   "source": [
    "# Weight (as in F Score (importance plot below)): Percentage representing the relative number of times \n",
    "# a particular feature occurs in the trees of the model\n",
    "\n",
    "weights = model.get_booster().get_score(importance_type= 'weight')\n",
    "weights = sorted(weights.items(), key = lambda kv:(kv[1], kv[0]), reverse=True)\n",
    "weights"
   ]
  },
  {
   "cell_type": "code",
   "execution_count": 99,
   "metadata": {},
   "outputs": [
    {
     "data": {
      "image/png": "[encoded data removed]",
      "text/plain": [
       "<Figure size 432x288 with 1 Axes>"
      ]
     },
     "metadata": {
      "needs_background": "light"
     },
     "output_type": "display_data"
    }
   ],
   "source": [
    "# Plot feature importance\n",
    "plot_importance(model, max_num_features=20)\n",
    "pyplot.show()"
   ]
  },
  {
   "cell_type": "code",
   "execution_count": 100,
   "metadata": {},
   "outputs": [],
   "source": [
    "# Get prediction on test split\n",
    "\n",
    "predictions = model.predict(X_test)"
   ]
  },
  {
   "cell_type": "code",
   "execution_count": 101,
   "metadata": {},
   "outputs": [
    {
     "data": {
      "text/plain": [
       "array([0, 1, 2])"
      ]
     },
     "metadata": {},
     "output_type": "display_data"
    },
    {
     "data": {
      "text/plain": [
       "Counter({1: 6880, 0: 12137, 2: 585})"
      ]
     },
     "metadata": {},
     "output_type": "display_data"
    }
   ],
   "source": [
    "# Display distribution of predictions (where 0: functional, 1: non-functional, 2: functional needs repair)\n",
    "\n",
    "display(np.unique(predictions))\n",
    "display(collections.Counter(predictions))"
   ]
  },
  {
   "cell_type": "markdown",
   "metadata": {},
   "source": [
    "#### Evaluation"
   ]
  },
  {
   "cell_type": "code",
   "execution_count": 102,
   "metadata": {},
   "outputs": [
    {
     "data": {
      "text/plain": [
       "'Classification Rate: 0.8064483215998367'"
      ]
     },
     "execution_count": 102,
     "metadata": {},
     "output_type": "execute_result"
    }
   ],
   "source": [
    "evaluation_params = {'ids': test_ids, 'true_values': Y_test, 'predictions': predictions, \n",
    "                     'algorithm': 'XGBoostClassifier', 'author': 'Rebecca', \n",
    "                     'params': params, 'processing_time': processing_time, 'notes': 'Data: All features, amount_tsh log scaled, cat features factorized'}\n",
    "cr = evaluate(**evaluation_params)\n",
    "'Classification Rate: {}'.format(cr)"
   ]
  },
  {
   "cell_type": "markdown",
   "metadata": {},
   "source": [
    "#### Confusion Matrix"
   ]
  },
  {
   "cell_type": "code",
   "execution_count": 103,
   "metadata": {},
   "outputs": [
    {
     "data": {
      "text/plain": [
       "array([[9647,  856,  142],\n",
       "       [1656, 5797,   79],\n",
       "       [ 834,  227,  364]])"
      ]
     },
     "execution_count": 103,
     "metadata": {},
     "output_type": "execute_result"
    }
   ],
   "source": [
    "# Confusion Matrix: Functional/Non-functional/Needs repair - Rows: True values, columns: Predicted values\n",
    "\n",
    "confusion_matrix(Y_test, predictions, labels=[0, 1, 2])"
   ]
  },
  {
   "cell_type": "markdown",
   "metadata": {},
   "source": [
    "#### Feature Selection - SelectFromModel"
   ]
  },
  {
   "cell_type": "code",
   "execution_count": 113,
   "metadata": {
    "scrolled": true
   },
   "outputs": [
    {
     "data": {
      "text/plain": [
       "'Threshold: 0.0, n = 52, accuracy: 0.8064483215998367'"
      ]
     },
     "metadata": {},
     "output_type": "display_data"
    },
    {
     "data": {
      "text/plain": [
       "\"Selected feature names: Index(['id', 'amount_tsh', 'funder', 'gps_height', 'installer', 'longitude',\\n       'latitude', 'basin', 'subvillage', 'region', 'region_code',\\n       'district_code', 'lga', 'ward', 'population', 'public_meeting',\\n       'scheme_management', 'scheme_name', 'permit', 'construction_year',\\n       'extraction_type', 'management', 'payment_type', 'water_quality',\\n       'quantity', 'source', 'waterpoint_type', 'longitude_imp_normal',\\n       'longitude_imp_random_choice', 'latitude_imp_normal',\\n       'latitude_imp_random_choice', 'gps_height_imp_normal',\\n       'gps_height_imp_random_choice', 'population_imp_normal',\\n       'population_imp_random_choice', 'construction_year_imp_normal',\\n       'construction_year_imp_random_choice', 'amount_tsh_imp_normal',\\n       'amount_tsh_imp_random_choice', 'operation_years',\\n       'operation_years_imp_normal', 'operation_years_imp_random_choice',\\n       'extraction_type_group', 'extraction_type_class', 'payment',\\n       'quality_group', 'source_class', 'source_type', 'waterpoint_type_group',\\n       'management_group', 'quantity_group', 'wpt_name'],\\n      dtype='object')\""
      ]
     },
     "metadata": {},
     "output_type": "display_data"
    },
    {
     "data": {
      "text/plain": [
       "'Threshold: 0.0, n = 52, accuracy: 0.8064483215998367'"
      ]
     },
     "metadata": {},
     "output_type": "display_data"
    },
    {
     "data": {
      "text/plain": [
       "\"Selected feature names: Index(['id', 'amount_tsh', 'funder', 'gps_height', 'installer', 'longitude',\\n       'latitude', 'basin', 'subvillage', 'region', 'region_code',\\n       'district_code', 'lga', 'ward', 'population', 'public_meeting',\\n       'scheme_management', 'scheme_name', 'permit', 'construction_year',\\n       'extraction_type', 'management', 'payment_type', 'water_quality',\\n       'quantity', 'source', 'waterpoint_type', 'longitude_imp_normal',\\n       'longitude_imp_random_choice', 'latitude_imp_normal',\\n       'latitude_imp_random_choice', 'gps_height_imp_normal',\\n       'gps_height_imp_random_choice', 'population_imp_normal',\\n       'population_imp_random_choice', 'construction_year_imp_normal',\\n       'construction_year_imp_random_choice', 'amount_tsh_imp_normal',\\n       'amount_tsh_imp_random_choice', 'operation_years',\\n       'operation_years_imp_normal', 'operation_years_imp_random_choice',\\n       'extraction_type_group', 'extraction_type_class', 'payment',\\n       'quality_group', 'source_class', 'source_type', 'waterpoint_type_group',\\n       'management_group', 'quantity_group', 'wpt_name'],\\n      dtype='object')\""
      ]
     },
     "metadata": {},
     "output_type": "display_data"
    },
    {
     "data": {
      "text/plain": [
       "'Threshold: 0.0, n = 52, accuracy: 0.8064483215998367'"
      ]
     },
     "metadata": {},
     "output_type": "display_data"
    },
    {
     "data": {
      "text/plain": [
       "\"Selected feature names: Index(['id', 'amount_tsh', 'funder', 'gps_height', 'installer', 'longitude',\\n       'latitude', 'basin', 'subvillage', 'region', 'region_code',\\n       'district_code', 'lga', 'ward', 'population', 'public_meeting',\\n       'scheme_management', 'scheme_name', 'permit', 'construction_year',\\n       'extraction_type', 'management', 'payment_type', 'water_quality',\\n       'quantity', 'source', 'waterpoint_type', 'longitude_imp_normal',\\n       'longitude_imp_random_choice', 'latitude_imp_normal',\\n       'latitude_imp_random_choice', 'gps_height_imp_normal',\\n       'gps_height_imp_random_choice', 'population_imp_normal',\\n       'population_imp_random_choice', 'construction_year_imp_normal',\\n       'construction_year_imp_random_choice', 'amount_tsh_imp_normal',\\n       'amount_tsh_imp_random_choice', 'operation_years',\\n       'operation_years_imp_normal', 'operation_years_imp_random_choice',\\n       'extraction_type_group', 'extraction_type_class', 'payment',\\n       'quality_group', 'source_class', 'source_type', 'waterpoint_type_group',\\n       'management_group', 'quantity_group', 'wpt_name'],\\n      dtype='object')\""
      ]
     },
     "metadata": {},
     "output_type": "display_data"
    },
    {
     "data": {
      "text/plain": [
       "'Threshold: 0.006993968039751053, n = 49, accuracy: 0.8064483215998367'"
      ]
     },
     "metadata": {},
     "output_type": "display_data"
    },
    {
     "data": {
      "text/plain": [
       "\"Selected feature names: Index(['id', 'amount_tsh', 'funder', 'gps_height', 'installer', 'longitude',\\n       'latitude', 'basin', 'subvillage', 'region', 'region_code',\\n       'district_code', 'lga', 'ward', 'population', 'public_meeting',\\n       'scheme_management', 'scheme_name', 'permit', 'construction_year',\\n       'extraction_type', 'management', 'payment_type', 'water_quality',\\n       'quantity', 'source', 'waterpoint_type', 'longitude_imp_normal',\\n       'longitude_imp_random_choice', 'latitude_imp_normal',\\n       'latitude_imp_random_choice', 'gps_height_imp_normal',\\n       'gps_height_imp_random_choice', 'population_imp_normal',\\n       'population_imp_random_choice', 'construction_year_imp_normal',\\n       'construction_year_imp_random_choice', 'amount_tsh_imp_normal',\\n       'amount_tsh_imp_random_choice', 'operation_years',\\n       'operation_years_imp_normal', 'operation_years_imp_random_choice',\\n       'extraction_type_group', 'extraction_type_class', 'quality_group',\\n       'source_class', 'source_type', 'management_group', 'wpt_name'],\\n      dtype='object')\""
      ]
     },
     "metadata": {},
     "output_type": "display_data"
    },
    {
     "data": {
      "text/plain": [
       "'Threshold: 0.007182043045759201, n = 48, accuracy: 0.8044077134986226'"
      ]
     },
     "metadata": {},
     "output_type": "display_data"
    },
    {
     "data": {
      "text/plain": [
       "\"Selected feature names: Index(['amount_tsh', 'funder', 'gps_height', 'installer', 'longitude',\\n       'latitude', 'basin', 'subvillage', 'region', 'region_code',\\n       'district_code', 'lga', 'ward', 'population', 'public_meeting',\\n       'scheme_management', 'scheme_name', 'permit', 'construction_year',\\n       'extraction_type', 'management', 'payment_type', 'water_quality',\\n       'quantity', 'source', 'waterpoint_type', 'longitude_imp_normal',\\n       'longitude_imp_random_choice', 'latitude_imp_normal',\\n       'latitude_imp_random_choice', 'gps_height_imp_normal',\\n       'gps_height_imp_random_choice', 'population_imp_normal',\\n       'population_imp_random_choice', 'construction_year_imp_normal',\\n       'construction_year_imp_random_choice', 'amount_tsh_imp_normal',\\n       'amount_tsh_imp_random_choice', 'operation_years',\\n       'operation_years_imp_normal', 'operation_years_imp_random_choice',\\n       'extraction_type_group', 'extraction_type_class', 'quality_group',\\n       'source_class', 'source_type', 'management_group', 'wpt_name'],\\n      dtype='object')\""
      ]
     },
     "metadata": {},
     "output_type": "display_data"
    },
    {
     "data": {
      "text/plain": [
       "'Threshold: 0.0072789681144058704, n = 47, accuracy: 0.8069074584226099'"
      ]
     },
     "metadata": {},
     "output_type": "display_data"
    },
    {
     "data": {
      "text/plain": [
       "\"Selected feature names: Index(['amount_tsh', 'funder', 'gps_height', 'installer', 'longitude',\\n       'latitude', 'basin', 'subvillage', 'region', 'region_code',\\n       'district_code', 'lga', 'ward', 'population', 'public_meeting',\\n       'scheme_management', 'scheme_name', 'permit', 'construction_year',\\n       'extraction_type', 'management', 'payment_type', 'water_quality',\\n       'quantity', 'source', 'waterpoint_type', 'longitude_imp_normal',\\n       'longitude_imp_random_choice', 'latitude_imp_normal',\\n       'latitude_imp_random_choice', 'gps_height_imp_normal',\\n       'gps_height_imp_random_choice', 'population_imp_normal',\\n       'population_imp_random_choice', 'construction_year_imp_normal',\\n       'construction_year_imp_random_choice', 'amount_tsh_imp_normal',\\n       'amount_tsh_imp_random_choice', 'operation_years',\\n       'operation_years_imp_normal', 'operation_years_imp_random_choice',\\n       'extraction_type_group', 'extraction_type_class', 'quality_group',\\n       'source_class', 'source_type', 'management_group'],\\n      dtype='object')\""
      ]
     },
     "metadata": {},
     "output_type": "display_data"
    },
    {
     "data": {
      "text/plain": [
       "'Threshold: 0.007554375566542149, n = 46, accuracy: 0.8076216712580349'"
      ]
     },
     "metadata": {},
     "output_type": "display_data"
    },
    {
     "data": {
      "text/plain": [
       "\"Selected feature names: Index(['amount_tsh', 'funder', 'gps_height', 'installer', 'longitude',\\n       'latitude', 'basin', 'subvillage', 'region', 'region_code',\\n       'district_code', 'lga', 'ward', 'population', 'public_meeting',\\n       'scheme_management', 'scheme_name', 'permit', 'construction_year',\\n       'extraction_type', 'management', 'payment_type', 'water_quality',\\n       'quantity', 'source', 'waterpoint_type', 'longitude_imp_normal',\\n       'longitude_imp_random_choice', 'latitude_imp_normal',\\n       'latitude_imp_random_choice', 'gps_height_imp_normal',\\n       'gps_height_imp_random_choice', 'population_imp_normal',\\n       'population_imp_random_choice', 'construction_year_imp_normal',\\n       'construction_year_imp_random_choice', 'amount_tsh_imp_normal',\\n       'operation_years', 'operation_years_imp_normal',\\n       'operation_years_imp_random_choice', 'extraction_type_group',\\n       'extraction_type_class', 'quality_group', 'source_class', 'source_type',\\n       'management_group'],\\n      dtype='object')\""
      ]
     },
     "metadata": {},
     "output_type": "display_data"
    },
    {
     "data": {
      "text/plain": [
       "'Threshold: 0.007650965824723244, n = 45, accuracy: 0.8056320783593511'"
      ]
     },
     "metadata": {},
     "output_type": "display_data"
    },
    {
     "data": {
      "text/plain": [
       "\"Selected feature names: Index(['amount_tsh', 'funder', 'gps_height', 'installer', 'longitude',\\n       'latitude', 'basin', 'subvillage', 'region', 'region_code',\\n       'district_code', 'lga', 'ward', 'population', 'public_meeting',\\n       'scheme_management', 'scheme_name', 'permit', 'construction_year',\\n       'extraction_type', 'management', 'payment_type', 'water_quality',\\n       'quantity', 'source', 'waterpoint_type', 'longitude_imp_normal',\\n       'longitude_imp_random_choice', 'latitude_imp_normal',\\n       'latitude_imp_random_choice', 'gps_height_imp_normal',\\n       'gps_height_imp_random_choice', 'population_imp_normal',\\n       'population_imp_random_choice', 'construction_year_imp_normal',\\n       'construction_year_imp_random_choice', 'operation_years',\\n       'operation_years_imp_normal', 'operation_years_imp_random_choice',\\n       'extraction_type_group', 'extraction_type_class', 'quality_group',\\n       'source_class', 'source_type', 'management_group'],\\n      dtype='object')\""
      ]
     },
     "metadata": {},
     "output_type": "display_data"
    },
    {
     "data": {
      "text/plain": [
       "'Threshold: 0.007769047282636166, n = 44, accuracy: 0.8080808080808081'"
      ]
     },
     "metadata": {},
     "output_type": "display_data"
    },
    {
     "data": {
      "text/plain": [
       "\"Selected feature names: Index(['amount_tsh', 'funder', 'gps_height', 'installer', 'longitude',\\n       'latitude', 'basin', 'subvillage', 'region', 'region_code',\\n       'district_code', 'lga', 'ward', 'population', 'public_meeting',\\n       'scheme_management', 'scheme_name', 'permit', 'construction_year',\\n       'extraction_type', 'management', 'payment_type', 'water_quality',\\n       'quantity', 'source', 'waterpoint_type', 'longitude_imp_normal',\\n       'longitude_imp_random_choice', 'latitude_imp_normal',\\n       'latitude_imp_random_choice', 'gps_height_imp_normal',\\n       'gps_height_imp_random_choice', 'population_imp_normal',\\n       'construction_year_imp_normal', 'construction_year_imp_random_choice',\\n       'operation_years', 'operation_years_imp_normal',\\n       'operation_years_imp_random_choice', 'extraction_type_group',\\n       'extraction_type_class', 'quality_group', 'source_class', 'source_type',\\n       'management_group'],\\n      dtype='object')\""
      ]
     },
     "metadata": {},
     "output_type": "display_data"
    },
    {
     "data": {
      "text/plain": [
       "'Threshold: 0.00789522286504507, n = 43, accuracy: 0.8076726864605652'"
      ]
     },
     "metadata": {},
     "output_type": "display_data"
    },
    {
     "data": {
      "text/plain": [
       "\"Selected feature names: Index(['amount_tsh', 'funder', 'gps_height', 'installer', 'longitude',\\n       'latitude', 'basin', 'region', 'region_code', 'district_code', 'lga',\\n       'ward', 'population', 'public_meeting', 'scheme_management',\\n       'scheme_name', 'permit', 'construction_year', 'extraction_type',\\n       'management', 'payment_type', 'water_quality', 'quantity', 'source',\\n       'waterpoint_type', 'longitude_imp_normal',\\n       'longitude_imp_random_choice', 'latitude_imp_normal',\\n       'latitude_imp_random_choice', 'gps_height_imp_normal',\\n       'gps_height_imp_random_choice', 'population_imp_normal',\\n       'construction_year_imp_normal', 'construction_year_imp_random_choice',\\n       'operation_years', 'operation_years_imp_normal',\\n       'operation_years_imp_random_choice', 'extraction_type_group',\\n       'extraction_type_class', 'quality_group', 'source_class', 'source_type',\\n       'management_group'],\\n      dtype='object')\""
      ]
     },
     "metadata": {},
     "output_type": "display_data"
    },
    {
     "data": {
      "text/plain": [
       "'Threshold: 0.007951653562486172, n = 42, accuracy: 0.8080808080808081'"
      ]
     },
     "metadata": {},
     "output_type": "display_data"
    },
    {
     "data": {
      "text/plain": [
       "\"Selected feature names: Index(['amount_tsh', 'funder', 'gps_height', 'installer', 'longitude',\\n       'latitude', 'basin', 'region', 'region_code', 'district_code', 'lga',\\n       'ward', 'population', 'public_meeting', 'scheme_management',\\n       'scheme_name', 'permit', 'construction_year', 'extraction_type',\\n       'management', 'payment_type', 'water_quality', 'quantity', 'source',\\n       'waterpoint_type', 'longitude_imp_normal',\\n       'longitude_imp_random_choice', 'latitude_imp_normal',\\n       'latitude_imp_random_choice', 'gps_height_imp_normal',\\n       'population_imp_normal', 'construction_year_imp_normal',\\n       'construction_year_imp_random_choice', 'operation_years',\\n       'operation_years_imp_normal', 'operation_years_imp_random_choice',\\n       'extraction_type_group', 'extraction_type_class', 'quality_group',\\n       'source_class', 'source_type', 'management_group'],\\n      dtype='object')\""
      ]
     },
     "metadata": {},
     "output_type": "display_data"
    },
    {
     "data": {
      "text/plain": [
       "'Threshold: 0.008021753281354904, n = 41, accuracy: 0.8071115192327314'"
      ]
     },
     "metadata": {},
     "output_type": "display_data"
    },
    {
     "data": {
      "text/plain": [
       "\"Selected feature names: Index(['amount_tsh', 'funder', 'gps_height', 'installer', 'longitude',\\n       'latitude', 'basin', 'region', 'region_code', 'district_code', 'lga',\\n       'ward', 'population', 'public_meeting', 'scheme_management',\\n       'scheme_name', 'permit', 'construction_year', 'extraction_type',\\n       'management', 'payment_type', 'water_quality', 'quantity', 'source',\\n       'waterpoint_type', 'longitude_imp_normal',\\n       'longitude_imp_random_choice', 'latitude_imp_normal',\\n       'latitude_imp_random_choice', 'gps_height_imp_normal',\\n       'population_imp_normal', 'construction_year_imp_normal',\\n       'construction_year_imp_random_choice', 'operation_years',\\n       'operation_years_imp_normal', 'extraction_type_group',\\n       'extraction_type_class', 'quality_group', 'source_class', 'source_type',\\n       'management_group'],\\n      dtype='object')\""
      ]
     },
     "metadata": {},
     "output_type": "display_data"
    },
    {
     "data": {
      "text/plain": [
       "'Threshold: 0.00808232557028532, n = 40, accuracy: 0.8101214161820223'"
      ]
     },
     "metadata": {},
     "output_type": "display_data"
    },
    {
     "data": {
      "text/plain": [
       "\"Selected feature names: Index(['amount_tsh', 'funder', 'gps_height', 'installer', 'longitude',\\n       'latitude', 'basin', 'region', 'region_code', 'district_code', 'lga',\\n       'ward', 'population', 'public_meeting', 'scheme_management',\\n       'scheme_name', 'permit', 'construction_year', 'extraction_type',\\n       'management', 'payment_type', 'water_quality', 'quantity', 'source',\\n       'waterpoint_type', 'longitude_imp_normal',\\n       'longitude_imp_random_choice', 'latitude_imp_normal',\\n       'latitude_imp_random_choice', 'gps_height_imp_normal',\\n       'population_imp_normal', 'construction_year_imp_normal',\\n       'operation_years', 'operation_years_imp_normal',\\n       'extraction_type_group', 'extraction_type_class', 'quality_group',\\n       'source_class', 'source_type', 'management_group'],\\n      dtype='object')\""
      ]
     },
     "metadata": {},
     "output_type": "display_data"
    },
    {
     "data": {
      "text/plain": [
       "'Threshold: 0.008379842154681683, n = 39, accuracy: 0.811396796245281'"
      ]
     },
     "metadata": {},
     "output_type": "display_data"
    },
    {
     "data": {
      "text/plain": [
       "\"Selected feature names: Index(['amount_tsh', 'funder', 'gps_height', 'installer', 'longitude',\\n       'latitude', 'basin', 'region', 'region_code', 'district_code', 'lga',\\n       'ward', 'population', 'public_meeting', 'scheme_management',\\n       'scheme_name', 'permit', 'construction_year', 'extraction_type',\\n       'management', 'payment_type', 'water_quality', 'quantity', 'source',\\n       'waterpoint_type', 'longitude_imp_normal',\\n       'longitude_imp_random_choice', 'latitude_imp_normal',\\n       'latitude_imp_random_choice', 'gps_height_imp_normal',\\n       'construction_year_imp_normal', 'operation_years',\\n       'operation_years_imp_normal', 'extraction_type_group',\\n       'extraction_type_class', 'quality_group', 'source_class', 'source_type',\\n       'management_group'],\\n      dtype='object')\""
      ]
     },
     "metadata": {},
     "output_type": "display_data"
    },
    {
     "data": {
      "text/plain": [
       "'Threshold: 0.008429529145359993, n = 38, accuracy: 0.8110396898275686'"
      ]
     },
     "metadata": {},
     "output_type": "display_data"
    },
    {
     "data": {
      "text/plain": [
       "\"Selected feature names: Index(['amount_tsh', 'funder', 'gps_height', 'installer', 'longitude',\\n       'latitude', 'basin', 'region', 'region_code', 'district_code', 'lga',\\n       'ward', 'population', 'public_meeting', 'scheme_management',\\n       'scheme_name', 'permit', 'construction_year', 'extraction_type',\\n       'management', 'payment_type', 'water_quality', 'quantity', 'source',\\n       'waterpoint_type', 'longitude_imp_normal',\\n       'longitude_imp_random_choice', 'latitude_imp_normal',\\n       'latitude_imp_random_choice', 'construction_year_imp_normal',\\n       'operation_years', 'operation_years_imp_normal',\\n       'extraction_type_group', 'extraction_type_class', 'quality_group',\\n       'source_class', 'source_type', 'management_group'],\\n      dtype='object')\""
      ]
     },
     "metadata": {},
     "output_type": "display_data"
    },
    {
     "data": {
      "text/plain": [
       "'Threshold: 0.00843064021319151, n = 37, accuracy: 0.8126721763085399'"
      ]
     },
     "metadata": {},
     "output_type": "display_data"
    },
    {
     "data": {
      "text/plain": [
       "\"Selected feature names: Index(['amount_tsh', 'funder', 'gps_height', 'installer', 'longitude',\\n       'latitude', 'basin', 'region', 'region_code', 'district_code', 'lga',\\n       'ward', 'population', 'public_meeting', 'scheme_management',\\n       'scheme_name', 'permit', 'construction_year', 'extraction_type',\\n       'management', 'payment_type', 'water_quality', 'quantity', 'source',\\n       'waterpoint_type', 'longitude_imp_normal',\\n       'longitude_imp_random_choice', 'latitude_imp_normal',\\n       'latitude_imp_random_choice', 'construction_year_imp_normal',\\n       'operation_years', 'extraction_type_group', 'extraction_type_class',\\n       'quality_group', 'source_class', 'source_type', 'management_group'],\\n      dtype='object')\""
      ]
     },
     "metadata": {},
     "output_type": "display_data"
    },
    {
     "data": {
      "text/plain": [
       "'Threshold: 0.009937625378370285, n = 36, accuracy: 0.8136414651566166'"
      ]
     },
     "metadata": {},
     "output_type": "display_data"
    },
    {
     "data": {
      "text/plain": [
       "\"Selected feature names: Index(['amount_tsh', 'funder', 'gps_height', 'installer', 'longitude',\\n       'latitude', 'basin', 'region', 'region_code', 'district_code', 'lga',\\n       'ward', 'population', 'public_meeting', 'scheme_management',\\n       'scheme_name', 'permit', 'construction_year', 'extraction_type',\\n       'management', 'payment_type', 'water_quality', 'quantity', 'source',\\n       'waterpoint_type', 'longitude_imp_normal',\\n       'longitude_imp_random_choice', 'latitude_imp_normal',\\n       'latitude_imp_random_choice', 'operation_years',\\n       'extraction_type_group', 'extraction_type_class', 'quality_group',\\n       'source_class', 'source_type', 'management_group'],\\n      dtype='object')\""
      ]
     },
     "metadata": {},
     "output_type": "display_data"
    },
    {
     "data": {
      "text/plain": [
       "'Threshold: 0.010044845752418041, n = 35, accuracy: 0.8129272523211917'"
      ]
     },
     "metadata": {},
     "output_type": "display_data"
    },
    {
     "data": {
      "text/plain": [
       "\"Selected feature names: Index(['amount_tsh', 'funder', 'gps_height', 'installer', 'longitude',\\n       'latitude', 'basin', 'region', 'region_code', 'district_code', 'lga',\\n       'population', 'public_meeting', 'scheme_management', 'scheme_name',\\n       'permit', 'construction_year', 'extraction_type', 'management',\\n       'payment_type', 'water_quality', 'quantity', 'source',\\n       'waterpoint_type', 'longitude_imp_normal',\\n       'longitude_imp_random_choice', 'latitude_imp_normal',\\n       'latitude_imp_random_choice', 'operation_years',\\n       'extraction_type_group', 'extraction_type_class', 'quality_group',\\n       'source_class', 'source_type', 'management_group'],\\n      dtype='object')\""
      ]
     },
     "metadata": {},
     "output_type": "display_data"
    },
    {
     "data": {
      "text/plain": [
       "'Threshold: 0.010139097459614277, n = 34, accuracy: 0.8123150698908275'"
      ]
     },
     "metadata": {},
     "output_type": "display_data"
    },
    {
     "data": {
      "text/plain": [
       "\"Selected feature names: Index(['amount_tsh', 'funder', 'gps_height', 'installer', 'longitude',\\n       'latitude', 'basin', 'region', 'region_code', 'district_code', 'lga',\\n       'population', 'public_meeting', 'scheme_management', 'scheme_name',\\n       'permit', 'construction_year', 'extraction_type', 'management',\\n       'payment_type', 'water_quality', 'quantity', 'source',\\n       'waterpoint_type', 'longitude_imp_normal',\\n       'longitude_imp_random_choice', 'latitude_imp_random_choice',\\n       'operation_years', 'extraction_type_group', 'extraction_type_class',\\n       'quality_group', 'source_class', 'source_type', 'management_group'],\\n      dtype='object')\""
      ]
     },
     "metadata": {},
     "output_type": "display_data"
    },
    {
     "data": {
      "text/plain": [
       "'Threshold: 0.010515902191400528, n = 33, accuracy: 0.8141516171819202'"
      ]
     },
     "metadata": {},
     "output_type": "display_data"
    },
    {
     "data": {
      "text/plain": [
       "\"Selected feature names: Index(['amount_tsh', 'funder', 'gps_height', 'installer', 'longitude',\\n       'latitude', 'basin', 'region', 'region_code', 'district_code', 'lga',\\n       'population', 'public_meeting', 'scheme_management', 'scheme_name',\\n       'permit', 'construction_year', 'extraction_type', 'management',\\n       'payment_type', 'water_quality', 'quantity', 'source',\\n       'waterpoint_type', 'longitude_imp_normal', 'latitude_imp_random_choice',\\n       'operation_years', 'extraction_type_group', 'extraction_type_class',\\n       'quality_group', 'source_class', 'source_type', 'management_group'],\\n      dtype='object')\""
      ]
     },
     "metadata": {},
     "output_type": "display_data"
    },
    {
     "data": {
      "text/plain": [
       "'Threshold: 0.010775857605040073, n = 32, accuracy: 0.8100704009794919'"
      ]
     },
     "metadata": {},
     "output_type": "display_data"
    },
    {
     "data": {
      "text/plain": [
       "\"Selected feature names: Index(['amount_tsh', 'funder', 'gps_height', 'installer', 'longitude',\\n       'latitude', 'basin', 'region', 'region_code', 'district_code', 'lga',\\n       'public_meeting', 'scheme_management', 'scheme_name', 'permit',\\n       'construction_year', 'extraction_type', 'management', 'payment_type',\\n       'water_quality', 'quantity', 'source', 'waterpoint_type',\\n       'longitude_imp_normal', 'latitude_imp_random_choice', 'operation_years',\\n       'extraction_type_group', 'extraction_type_class', 'quality_group',\\n       'source_class', 'source_type', 'management_group'],\\n      dtype='object')\""
      ]
     },
     "metadata": {},
     "output_type": "display_data"
    },
    {
     "data": {
      "text/plain": [
       "'Threshold: 0.011049479246139526, n = 31, accuracy: 0.8099173553719008'"
      ]
     },
     "metadata": {},
     "output_type": "display_data"
    },
    {
     "data": {
      "text/plain": [
       "\"Selected feature names: Index(['amount_tsh', 'funder', 'gps_height', 'installer', 'longitude',\\n       'latitude', 'basin', 'region', 'region_code', 'district_code', 'lga',\\n       'public_meeting', 'scheme_management', 'scheme_name', 'permit',\\n       'construction_year', 'extraction_type', 'management', 'payment_type',\\n       'quantity', 'source', 'waterpoint_type', 'longitude_imp_normal',\\n       'latitude_imp_random_choice', 'operation_years',\\n       'extraction_type_group', 'extraction_type_class', 'quality_group',\\n       'source_class', 'source_type', 'management_group'],\\n      dtype='object')\""
      ]
     },
     "metadata": {},
     "output_type": "display_data"
    },
    {
     "data": {
      "text/plain": [
       "'Threshold: 0.011758173815906048, n = 30, accuracy: 0.8118559330680543'"
      ]
     },
     "metadata": {},
     "output_type": "display_data"
    },
    {
     "data": {
      "text/plain": [
       "\"Selected feature names: Index(['amount_tsh', 'funder', 'installer', 'longitude', 'latitude', 'basin',\\n       'region', 'region_code', 'district_code', 'lga', 'public_meeting',\\n       'scheme_management', 'scheme_name', 'permit', 'construction_year',\\n       'extraction_type', 'management', 'payment_type', 'quantity', 'source',\\n       'waterpoint_type', 'longitude_imp_normal', 'latitude_imp_random_choice',\\n       'operation_years', 'extraction_type_group', 'extraction_type_class',\\n       'quality_group', 'source_class', 'source_type', 'management_group'],\\n      dtype='object')\""
      ]
     },
     "metadata": {},
     "output_type": "display_data"
    },
    {
     "data": {
      "text/plain": [
       "'Threshold: 0.012167765758931637, n = 29, accuracy: 0.8121620242832364'"
      ]
     },
     "metadata": {},
     "output_type": "display_data"
    },
    {
     "data": {
      "text/plain": [
       "\"Selected feature names: Index(['amount_tsh', 'funder', 'installer', 'longitude', 'latitude', 'basin',\\n       'region', 'region_code', 'district_code', 'lga', 'public_meeting',\\n       'scheme_management', 'scheme_name', 'permit', 'construction_year',\\n       'extraction_type', 'management', 'payment_type', 'quantity', 'source',\\n       'waterpoint_type', 'longitude_imp_normal', 'operation_years',\\n       'extraction_type_group', 'extraction_type_class', 'quality_group',\\n       'source_class', 'source_type', 'management_group'],\\n      dtype='object')\""
      ]
     },
     "metadata": {},
     "output_type": "display_data"
    },
    {
     "data": {
      "text/plain": [
       "'Threshold: 0.012586463242769241, n = 28, accuracy: 0.8098153249668402'"
      ]
     },
     "metadata": {},
     "output_type": "display_data"
    },
    {
     "data": {
      "text/plain": [
       "\"Selected feature names: Index(['amount_tsh', 'installer', 'longitude', 'latitude', 'basin', 'region',\\n       'region_code', 'district_code', 'lga', 'public_meeting',\\n       'scheme_management', 'scheme_name', 'permit', 'construction_year',\\n       'extraction_type', 'management', 'payment_type', 'quantity', 'source',\\n       'waterpoint_type', 'longitude_imp_normal', 'operation_years',\\n       'extraction_type_group', 'extraction_type_class', 'quality_group',\\n       'source_class', 'source_type', 'management_group'],\\n      dtype='object')\""
      ]
     },
     "metadata": {},
     "output_type": "display_data"
    },
    {
     "data": {
      "text/plain": [
       "'Threshold: 0.012979513965547085, n = 27, accuracy: 0.8107335986123865'"
      ]
     },
     "metadata": {},
     "output_type": "display_data"
    },
    {
     "data": {
      "text/plain": [
       "\"Selected feature names: Index(['amount_tsh', 'longitude', 'latitude', 'basin', 'region', 'region_code',\\n       'district_code', 'lga', 'public_meeting', 'scheme_management',\\n       'scheme_name', 'permit', 'construction_year', 'extraction_type',\\n       'management', 'payment_type', 'quantity', 'source', 'waterpoint_type',\\n       'longitude_imp_normal', 'operation_years', 'extraction_type_group',\\n       'extraction_type_class', 'quality_group', 'source_class', 'source_type',\\n       'management_group'],\\n      dtype='object')\""
      ]
     },
     "metadata": {},
     "output_type": "display_data"
    },
    {
     "data": {
      "text/plain": [
       "'Threshold: 0.013146107085049152, n = 26, accuracy: 0.8097643097643098'"
      ]
     },
     "metadata": {},
     "output_type": "display_data"
    },
    {
     "data": {
      "text/plain": [
       "\"Selected feature names: Index(['amount_tsh', 'longitude', 'latitude', 'basin', 'region', 'region_code',\\n       'district_code', 'lga', 'public_meeting', 'scheme_management',\\n       'scheme_name', 'permit', 'construction_year', 'extraction_type',\\n       'management', 'payment_type', 'quantity', 'source', 'waterpoint_type',\\n       'operation_years', 'extraction_type_group', 'extraction_type_class',\\n       'quality_group', 'source_class', 'source_type', 'management_group'],\\n      dtype='object')\""
      ]
     },
     "metadata": {},
     "output_type": "display_data"
    },
    {
     "data": {
      "text/plain": [
       "'Threshold: 0.013220124877989292, n = 25, accuracy: 0.8066013672074278'"
      ]
     },
     "metadata": {},
     "output_type": "display_data"
    },
    {
     "data": {
      "text/plain": [
       "\"Selected feature names: Index(['amount_tsh', 'longitude', 'basin', 'region', 'region_code',\\n       'district_code', 'lga', 'public_meeting', 'scheme_management',\\n       'scheme_name', 'permit', 'construction_year', 'extraction_type',\\n       'management', 'payment_type', 'quantity', 'source', 'waterpoint_type',\\n       'operation_years', 'extraction_type_group', 'extraction_type_class',\\n       'quality_group', 'source_class', 'source_type', 'management_group'],\\n      dtype='object')\""
      ]
     },
     "metadata": {},
     "output_type": "display_data"
    },
    {
     "data": {
      "text/plain": [
       "'Threshold: 0.014130844734609127, n = 24, accuracy: 0.8016018773594531'"
      ]
     },
     "metadata": {},
     "output_type": "display_data"
    },
    {
     "data": {
      "text/plain": [
       "\"Selected feature names: Index(['amount_tsh', 'basin', 'region', 'region_code', 'district_code', 'lga',\\n       'public_meeting', 'scheme_management', 'scheme_name', 'permit',\\n       'construction_year', 'extraction_type', 'management', 'payment_type',\\n       'quantity', 'source', 'waterpoint_type', 'operation_years',\\n       'extraction_type_group', 'extraction_type_class', 'quality_group',\\n       'source_class', 'source_type', 'management_group'],\\n      dtype='object')\""
      ]
     },
     "metadata": {},
     "output_type": "display_data"
    },
    {
     "data": {
      "text/plain": [
       "'Threshold: 0.015202920883893967, n = 23, accuracy: 0.7977757371696765'"
      ]
     },
     "metadata": {},
     "output_type": "display_data"
    },
    {
     "data": {
      "text/plain": [
       "\"Selected feature names: Index(['amount_tsh', 'basin', 'region', 'region_code', 'district_code', 'lga',\\n       'public_meeting', 'scheme_management', 'permit', 'construction_year',\\n       'extraction_type', 'management', 'payment_type', 'quantity', 'source',\\n       'waterpoint_type', 'operation_years', 'extraction_type_group',\\n       'extraction_type_class', 'quality_group', 'source_class', 'source_type',\\n       'management_group'],\\n      dtype='object')\""
      ]
     },
     "metadata": {},
     "output_type": "display_data"
    },
    {
     "data": {
      "text/plain": [
       "'Threshold: 0.015261252410709858, n = 22, accuracy: 0.7985919804101622'"
      ]
     },
     "metadata": {},
     "output_type": "display_data"
    },
    {
     "data": {
      "text/plain": [
       "\"Selected feature names: Index(['amount_tsh', 'basin', 'region', 'region_code', 'district_code', 'lga',\\n       'public_meeting', 'scheme_management', 'permit', 'construction_year',\\n       'extraction_type', 'management', 'payment_type', 'quantity', 'source',\\n       'waterpoint_type', 'operation_years', 'extraction_type_group',\\n       'extraction_type_class', 'quality_group', 'source_class',\\n       'source_type'],\\n      dtype='object')\""
      ]
     },
     "metadata": {},
     "output_type": "display_data"
    },
    {
     "data": {
      "text/plain": [
       "'Threshold: 0.01586507260799408, n = 21, accuracy: 0.7961432506887053'"
      ]
     },
     "metadata": {},
     "output_type": "display_data"
    },
    {
     "data": {
      "text/plain": [
       "\"Selected feature names: Index(['basin', 'region', 'region_code', 'district_code', 'lga',\\n       'public_meeting', 'scheme_management', 'permit', 'construction_year',\\n       'extraction_type', 'management', 'payment_type', 'quantity', 'source',\\n       'waterpoint_type', 'operation_years', 'extraction_type_group',\\n       'extraction_type_class', 'quality_group', 'source_class',\\n       'source_type'],\\n      dtype='object')\""
      ]
     },
     "metadata": {},
     "output_type": "display_data"
    },
    {
     "data": {
      "text/plain": [
       "'Threshold: 0.01594691537320614, n = 20, accuracy: 0.7954290378532802'"
      ]
     },
     "metadata": {},
     "output_type": "display_data"
    },
    {
     "data": {
      "text/plain": [
       "\"Selected feature names: Index(['basin', 'region', 'region_code', 'district_code', 'lga',\\n       'public_meeting', 'scheme_management', 'permit', 'construction_year',\\n       'extraction_type', 'management', 'payment_type', 'quantity', 'source',\\n       'waterpoint_type', 'operation_years', 'extraction_type_class',\\n       'quality_group', 'source_class', 'source_type'],\\n      dtype='object')\""
      ]
     },
     "metadata": {},
     "output_type": "display_data"
    },
    {
     "data": {
      "text/plain": [
       "'Threshold: 0.01626591756939888, n = 19, accuracy: 0.7953270074482196'"
      ]
     },
     "metadata": {},
     "output_type": "display_data"
    },
    {
     "data": {
      "text/plain": [
       "\"Selected feature names: Index(['basin', 'region', 'region_code', 'district_code', 'lga',\\n       'public_meeting', 'scheme_management', 'construction_year',\\n       'extraction_type', 'management', 'payment_type', 'quantity', 'source',\\n       'waterpoint_type', 'operation_years', 'extraction_type_class',\\n       'quality_group', 'source_class', 'source_type'],\\n      dtype='object')\""
      ]
     },
     "metadata": {},
     "output_type": "display_data"
    },
    {
     "data": {
      "text/plain": [
       "'Threshold: 0.016502518206834793, n = 18, accuracy: 0.7943577186001428'"
      ]
     },
     "metadata": {},
     "output_type": "display_data"
    },
    {
     "data": {
      "text/plain": [
       "\"Selected feature names: Index(['basin', 'region', 'region_code', 'district_code', 'lga',\\n       'public_meeting', 'construction_year', 'extraction_type', 'management',\\n       'payment_type', 'quantity', 'source', 'waterpoint_type',\\n       'operation_years', 'extraction_type_class', 'quality_group',\\n       'source_class', 'source_type'],\\n      dtype='object')\""
      ]
     },
     "metadata": {},
     "output_type": "display_data"
    },
    {
     "data": {
      "text/plain": [
       "'Threshold: 0.01722828485071659, n = 17, accuracy: 0.7943577186001428'"
      ]
     },
     "metadata": {},
     "output_type": "display_data"
    },
    {
     "data": {
      "text/plain": [
       "\"Selected feature names: Index(['basin', 'region', 'region_code', 'district_code', 'lga',\\n       'public_meeting', 'construction_year', 'extraction_type', 'management',\\n       'payment_type', 'quantity', 'source', 'waterpoint_type',\\n       'operation_years', 'extraction_type_class', 'quality_group',\\n       'source_type'],\\n      dtype='object')\""
      ]
     },
     "metadata": {},
     "output_type": "display_data"
    },
    {
     "data": {
      "text/plain": [
       "'Threshold: 0.017480768263339996, n = 16, accuracy: 0.7934904601571269'"
      ]
     },
     "metadata": {},
     "output_type": "display_data"
    },
    {
     "data": {
      "text/plain": [
       "\"Selected feature names: Index(['basin', 'region', 'region_code', 'district_code', 'lga',\\n       'public_meeting', 'construction_year', 'extraction_type', 'management',\\n       'payment_type', 'quantity', 'source', 'waterpoint_type',\\n       'operation_years', 'extraction_type_class', 'quality_group'],\\n      dtype='object')\""
      ]
     },
     "metadata": {},
     "output_type": "display_data"
    },
    {
     "data": {
      "text/plain": [
       "'Threshold: 0.018553590402007103, n = 15, accuracy: 0.7935414753596571'"
      ]
     },
     "metadata": {},
     "output_type": "display_data"
    },
    {
     "data": {
      "text/plain": [
       "\"Selected feature names: Index(['basin', 'region', 'region_code', 'lga', 'public_meeting',\\n       'construction_year', 'extraction_type', 'management', 'payment_type',\\n       'quantity', 'source', 'waterpoint_type', 'operation_years',\\n       'extraction_type_class', 'quality_group'],\\n      dtype='object')\""
      ]
     },
     "metadata": {},
     "output_type": "display_data"
    },
    {
     "data": {
      "text/plain": [
       "'Threshold: 0.019302235916256905, n = 14, accuracy: 0.7924701561065197'"
      ]
     },
     "metadata": {},
     "output_type": "display_data"
    },
    {
     "data": {
      "text/plain": [
       "\"Selected feature names: Index(['basin', 'region', 'region_code', 'lga', 'public_meeting',\\n       'construction_year', 'extraction_type', 'management', 'payment_type',\\n       'quantity', 'source', 'waterpoint_type', 'extraction_type_class',\\n       'quality_group'],\\n      dtype='object')\""
      ]
     },
     "metadata": {},
     "output_type": "display_data"
    },
    {
     "data": {
      "text/plain": [
       "'Threshold: 0.019683942198753357, n = 13, accuracy: 0.7900214263850628'"
      ]
     },
     "metadata": {},
     "output_type": "display_data"
    },
    {
     "data": {
      "text/plain": [
       "\"Selected feature names: Index(['basin', 'region', 'region_code', 'lga', 'public_meeting',\\n       'construction_year', 'extraction_type', 'payment_type', 'quantity',\\n       'source', 'waterpoint_type', 'extraction_type_class', 'quality_group'],\\n      dtype='object')\""
      ]
     },
     "metadata": {},
     "output_type": "display_data"
    },
    {
     "data": {
      "text/plain": [
       "'Threshold: 0.02001677267253399, n = 12, accuracy: 0.7902765023977145'"
      ]
     },
     "metadata": {},
     "output_type": "display_data"
    },
    {
     "data": {
      "text/plain": [
       "\"Selected feature names: Index(['basin', 'region', 'lga', 'public_meeting', 'construction_year',\\n       'extraction_type', 'payment_type', 'quantity', 'source',\\n       'waterpoint_type', 'extraction_type_class', 'quality_group'],\\n      dtype='object')\""
      ]
     },
     "metadata": {},
     "output_type": "display_data"
    },
    {
     "data": {
      "text/plain": [
       "'Threshold: 0.020810319110751152, n = 11, accuracy: 0.7885930007142128'"
      ]
     },
     "metadata": {},
     "output_type": "display_data"
    },
    {
     "data": {
      "text/plain": [
       "\"Selected feature names: Index(['basin', 'region', 'lga', 'public_meeting', 'construction_year',\\n       'extraction_type', 'payment_type', 'quantity', 'source',\\n       'waterpoint_type', 'extraction_type_class'],\\n      dtype='object')\""
      ]
     },
     "metadata": {},
     "output_type": "display_data"
    },
    {
     "data": {
      "text/plain": [
       "'Threshold: 0.0209533479064703, n = 10, accuracy: 0.7879298030813182'"
      ]
     },
     "metadata": {},
     "output_type": "display_data"
    },
    {
     "data": {
      "text/plain": [
       "\"Selected feature names: Index(['region', 'lga', 'public_meeting', 'construction_year',\\n       'extraction_type', 'payment_type', 'quantity', 'source',\\n       'waterpoint_type', 'extraction_type_class'],\\n      dtype='object')\""
      ]
     },
     "metadata": {},
     "output_type": "display_data"
    },
    {
     "data": {
      "text/plain": [
       "'Threshold: 0.022397981956601143, n = 9, accuracy: 0.7789001122334456'"
      ]
     },
     "metadata": {},
     "output_type": "display_data"
    },
    {
     "data": {
      "text/plain": [
       "\"Selected feature names: Index(['region', 'public_meeting', 'construction_year', 'extraction_type',\\n       'payment_type', 'quantity', 'source', 'waterpoint_type',\\n       'extraction_type_class'],\\n      dtype='object')\""
      ]
     },
     "metadata": {},
     "output_type": "display_data"
    },
    {
     "data": {
      "text/plain": [
       "'Threshold: 0.023008890450000763, n = 8, accuracy: 0.7672686460565249'"
      ]
     },
     "metadata": {},
     "output_type": "display_data"
    },
    {
     "data": {
      "text/plain": [
       "\"Selected feature names: Index(['region', 'public_meeting', 'construction_year', 'extraction_type',\\n       'quantity', 'source', 'waterpoint_type', 'extraction_type_class'],\\n      dtype='object')\""
      ]
     },
     "metadata": {},
     "output_type": "display_data"
    },
    {
     "data": {
      "text/plain": [
       "'Threshold: 0.024772511795163155, n = 7, accuracy: 0.7654831139679624'"
      ]
     },
     "metadata": {},
     "output_type": "display_data"
    },
    {
     "data": {
      "text/plain": [
       "\"Selected feature names: Index(['region', 'construction_year', 'extraction_type', 'quantity', 'source',\\n       'waterpoint_type', 'extraction_type_class'],\\n      dtype='object')\""
      ]
     },
     "metadata": {},
     "output_type": "display_data"
    },
    {
     "data": {
      "text/plain": [
       "'Threshold: 0.025978798046708107, n = 6, accuracy: 0.7591062136516682'"
      ]
     },
     "metadata": {},
     "output_type": "display_data"
    },
    {
     "data": {
      "text/plain": [
       "\"Selected feature names: Index(['region', 'construction_year', 'extraction_type', 'quantity',\\n       'waterpoint_type', 'extraction_type_class'],\\n      dtype='object')\""
      ]
     },
     "metadata": {},
     "output_type": "display_data"
    },
    {
     "data": {
      "text/plain": [
       "'Threshold: 0.030895685777068138, n = 5, accuracy: 0.7395163758800123'"
      ]
     },
     "metadata": {},
     "output_type": "display_data"
    },
    {
     "data": {
      "text/plain": [
       "\"Selected feature names: Index(['region', 'extraction_type', 'quantity', 'waterpoint_type',\\n       'extraction_type_class'],\\n      dtype='object')\""
      ]
     },
     "metadata": {},
     "output_type": "display_data"
    },
    {
     "data": {
      "text/plain": [
       "'Threshold: 0.031788796186447144, n = 4, accuracy: 0.7359453117028875'"
      ]
     },
     "metadata": {},
     "output_type": "display_data"
    },
    {
     "data": {
      "text/plain": [
       "\"Selected feature names: Index(['region', 'quantity', 'waterpoint_type', 'extraction_type_class'], dtype='object')\""
      ]
     },
     "metadata": {},
     "output_type": "display_data"
    },
    {
     "data": {
      "text/plain": [
       "'Threshold: 0.07391190528869629, n = 3, accuracy: 0.7097745128048158'"
      ]
     },
     "metadata": {},
     "output_type": "display_data"
    },
    {
     "data": {
      "text/plain": [
       "\"Selected feature names: Index(['quantity', 'waterpoint_type', 'extraction_type_class'], dtype='object')\""
      ]
     },
     "metadata": {},
     "output_type": "display_data"
    },
    {
     "data": {
      "text/plain": [
       "'Threshold: 0.1069805696606636, n = 2, accuracy: 0.696102438526681'"
      ]
     },
     "metadata": {},
     "output_type": "display_data"
    },
    {
     "data": {
      "text/plain": [
       "\"Selected feature names: Index(['quantity', 'extraction_type_class'], dtype='object')\""
      ]
     },
     "metadata": {},
     "output_type": "display_data"
    },
    {
     "data": {
      "text/plain": [
       "'Threshold: 0.15711890161037445, n = 1, accuracy: 0.6525354555657586'"
      ]
     },
     "metadata": {},
     "output_type": "display_data"
    },
    {
     "data": {
      "text/plain": [
       "\"Selected feature names: Index(['quantity'], dtype='object')\""
      ]
     },
     "metadata": {},
     "output_type": "display_data"
    }
   ],
   "source": [
    "thresholds = sort(model.feature_importances_)\n",
    "for thresh in thresholds:\n",
    "    selection = SelectFromModel(model, threshold=thresh, prefit=True)\n",
    "    select_X_train = selection.transform(X_train)\n",
    "    selection_model = XGBClassifier(**params)\n",
    "    selection_model.fit(select_X_train, Y_train)\n",
    "    select_X_test = selection.transform(X_test)\n",
    "    predictions = selection_model.predict(select_X_test)\n",
    "    accuracy = accuracy_score(Y_test, predictions)\n",
    "    display('Threshold: {}, n = {}, accuracy: {}'.format(thresh, select_X_train.shape[1], accuracy))\n",
    "    feature_idx = selection.get_support()\n",
    "    feature_name = X_train.columns[feature_idx]\n",
    "    display('Selected feature names: {}'.format(feature_name))"
   ]
  },
  {
   "cell_type": "markdown",
   "metadata": {},
   "source": [
    "### One Vs All Approach"
   ]
  },
  {
   "cell_type": "code",
   "execution_count": 107,
   "metadata": {},
   "outputs": [
    {
     "data": {
      "text/plain": [
       "OneVsRestClassifier(estimator=XGBClassifier(base_score=0.5, booster='gbtree', colsample_bylevel=1,\n",
       "       colsample_bytree=1, gamma=0, learning_rate=0.1, max_delta_step=0,\n",
       "       max_depth=10, min_child_weight=1, missing=None, n_estimators=500,\n",
       "       n_jobs=1, nthread=None, num_class=3, objective='multi:softmax',\n",
       "       random_state=0, reg_alpha=0, reg_lambda=1, scale_pos_weight=1,\n",
       "       seed=None, silent=True, subsample=1),\n",
       "          n_jobs=None)"
      ]
     },
     "execution_count": 107,
     "metadata": {},
     "output_type": "execute_result"
    }
   ],
   "source": [
    "clf = OneVsRestClassifier(XGBClassifier(**params))\n",
    "clf.fit(X_train, Y_train)"
   ]
  },
  {
   "cell_type": "code",
   "execution_count": 108,
   "metadata": {},
   "outputs": [],
   "source": [
    "predictions = clf.predict(X_test)"
   ]
  },
  {
   "cell_type": "code",
   "execution_count": 109,
   "metadata": {},
   "outputs": [
    {
     "data": {
      "text/plain": [
       "array([0, 1, 2])"
      ]
     },
     "metadata": {},
     "output_type": "display_data"
    },
    {
     "data": {
      "text/plain": [
       "Counter({1: 6505, 0: 11127, 2: 1970})"
      ]
     },
     "metadata": {},
     "output_type": "display_data"
    }
   ],
   "source": [
    "display(np.unique(predictions))\n",
    "display(collections.Counter(predictions))"
   ]
  },
  {
   "cell_type": "code",
   "execution_count": 110,
   "metadata": {},
   "outputs": [
    {
     "data": {
      "text/plain": [
       "'Classification Rate: 0.7839506172839507'"
      ]
     },
     "execution_count": 110,
     "metadata": {},
     "output_type": "execute_result"
    }
   ],
   "source": [
    "evaluation_params = {'ids': test_ids, 'true_values': Y_test, 'predictions': predictions, \n",
    "                     'algorithm': 'XGBoostClassifier', 'author': 'Rebecca', \n",
    "                     'params': params, 'processing_time': processing_time, 'notes': 'Data: All features, amount_tsh log scaled, cat features factorized, OneVsRest Approach'}\n",
    "cr = evaluate(**evaluation_params)\n",
    "'Classification Rate: {}'.format(cr)"
   ]
  },
  {
   "cell_type": "code",
   "execution_count": 111,
   "metadata": {},
   "outputs": [
    {
     "data": {
      "text/plain": [
       "array([[9105,  703,  837],\n",
       "       [1371, 5645,  516],\n",
       "       [ 651,  157,  617]])"
      ]
     },
     "execution_count": 111,
     "metadata": {},
     "output_type": "execute_result"
    }
   ],
   "source": [
    "# Confusion Matrix: Functional/Non-functional/Needs repair - Rows: True values, columns: Predicted values\n",
    "\n",
    "confusion_matrix(Y_test, predictions, labels=[0, 1, 2])"
   ]
  }
 ],
 "metadata": {
  "kernelspec": {
   "display_name": "Python 3",
   "language": "python",
   "name": "python3"
  },
  "language_info": {
   "codemirror_mode": {
    "name": "ipython",
    "version": 3
   },
   "file_extension": ".py",
   "mimetype": "text/x-python",
   "name": "python",
   "nbconvert_exporter": "python",
   "pygments_lexer": "ipython3",
   "version": "3.7.1"
  }
 },
 "nbformat": 4,
 "nbformat_minor": 2
}
