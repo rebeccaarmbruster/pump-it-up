{
 "cells": [
  {
   "cell_type": "code",
   "execution_count": 1,
   "metadata": {},
   "outputs": [
    {
     "name": "stderr",
     "output_type": "stream",
     "text": [
      "Using TensorFlow backend.\n"
     ]
    }
   ],
   "source": [
    "import os\n",
    "import struct\n",
    "import sys\n",
    "import numpy as np\n",
    "import pandas as pd\n",
    "import matplotlib.pyplot as plt\n",
    "\n",
    "from sklearn.model_selection import train_test_split\n",
    "from sklearn import preprocessing\n",
    "from sklearn.preprocessing import LabelEncoder\n",
    "from sklearn.utils import resample\n",
    "from sklearn.utils import shuffle\n",
    "from neuralnet import NeuralNetMLP\n",
    "\n",
    "from keras.utils import np_utils\n",
    "from keras.models import Sequential\n",
    "from keras.layers import Dense\n",
    "from keras.wrappers.scikit_learn import KerasClassifier\n",
    "from sklearn.model_selection import cross_val_score\n",
    "from sklearn.model_selection import KFold\n",
    "\n",
    "from numpy.random import seed\n",
    "seed(1)\n",
    "\n",
    "encoder = preprocessing.OneHotEncoder()\n",
    "la_encoder = preprocessing.LabelEncoder()\n",
    "scaler = preprocessing.StandardScaler()"
   ]
  },
  {
   "cell_type": "code",
   "execution_count": 2,
   "metadata": {},
   "outputs": [],
   "source": [
    "def load_data():    \n",
    "    data = pd.read_csv('./Data/train_cleaned_distr-imp.csv')\n",
    "    data = data.drop(['id', 'subvillage','region_code','lga','ward','district_code','scheme_name','amount_tsh',\n",
    "                      'public_meeting', 'permit'], axis=1)\n",
    "    data['scheme_management'] = data['scheme_management'].fillna(\"Others\")\n",
    "    encoded = pd.DataFrame(encoder.fit_transform(data[['funder', 'installer', 'basin', 'region',\n",
    "                                                       'scheme_management', 'extraction_type', 'management',\n",
    "                                                       'payment_type', 'water_quality', 'quantity', 'source',\n",
    "                                                       'waterpoint_type']]).toarray(),\n",
    "                           columns=encoder.get_feature_names(['funder', 'installer', 'basin', 'region',\n",
    "                                                              'scheme_management', 'extraction_type', 'management',\n",
    "                                                              'payment_type', 'water_quality', 'quantity', 'source',\n",
    "                                                              'waterpoint_type']))\n",
    "\n",
    "    data = data.drop(['funder', 'installer', 'basin', 'region', 'scheme_management', 'extraction_type', 'management',\n",
    "                  'payment_type', 'water_quality', 'quantity', 'source', 'waterpoint_type',\n",
    "                     'longitude', 'latitude', 'longitude_imp_rand_choice', 'latitude_imp_rand_choice'], axis = 1)\n",
    "\n",
    "    cols = data.columns.values\n",
    "\n",
    "    data[cols] = scaler.fit_transform(data[cols])\n",
    "    X = encoded.join(data)\n",
    "\n",
    "    y = pd.read_csv('./Data/training_set_labels.csv')\n",
    "    y = y[['status_group']]\n",
    "    y = y.apply(la_encoder.fit_transform).values.ravel()\n",
    "    return X, y"
   ]
  },
  {
   "cell_type": "code",
   "execution_count": 3,
   "metadata": {},
   "outputs": [
    {
     "name": "stderr",
     "output_type": "stream",
     "text": [
      "C:\\Anaconda\\envs\\py36\\lib\\site-packages\\sklearn\\preprocessing\\data.py:645: DataConversionWarning: Data with input dtype int64, float64 were all converted to float64 by StandardScaler.\n",
      "  return self.partial_fit(X, y)\n",
      "C:\\Anaconda\\envs\\py36\\lib\\site-packages\\sklearn\\base.py:464: DataConversionWarning: Data with input dtype int64, float64 were all converted to float64 by StandardScaler.\n",
      "  return self.fit(X, **fit_params).transform(X)\n"
     ]
    }
   ],
   "source": [
    "X, y = load_data()"
   ]
  },
  {
   "cell_type": "code",
   "execution_count": 4,
   "metadata": {},
   "outputs": [],
   "source": [
    "y = np_utils.to_categorical(y)"
   ]
  },
  {
   "cell_type": "code",
   "execution_count": 8,
   "metadata": {},
   "outputs": [],
   "source": [
    "X_train, X_test, y_train, y_test = train_test_split(X, y, test_size=0.3, stratify=y)"
   ]
  },
  {
   "cell_type": "code",
   "execution_count": 9,
   "metadata": {},
   "outputs": [],
   "source": [
    "classifier = Sequential()\n",
    "#First Hidden Layer\n",
    "classifier.add(Dense(80, activation='relu', kernel_initializer='random_normal', input_dim=157))\n",
    "#Output Layer\n",
    "classifier.add(Dense(3, activation='softmax', kernel_initializer='uniform'))\n",
    "#Compiling the neural network\n",
    "classifier.compile(optimizer ='adam',loss='categorical_crossentropy', metrics =['accuracy'])"
   ]
  },
  {
   "cell_type": "code",
   "execution_count": 10,
   "metadata": {},
   "outputs": [],
   "source": [
    "X_tmp = X_train[0:10000]\n",
    "y_tmp = y_train[0:10000]"
   ]
  },
  {
   "cell_type": "code",
   "execution_count": 11,
   "metadata": {},
   "outputs": [
    {
     "name": "stdout",
     "output_type": "stream",
     "text": [
      "WARNING:tensorflow:From C:\\Anaconda\\envs\\py36\\lib\\site-packages\\tensorflow\\python\\ops\\math_ops.py:3066: to_int32 (from tensorflow.python.ops.math_ops) is deprecated and will be removed in a future version.\n",
      "Instructions for updating:\n",
      "Use tf.cast instead.\n",
      "Epoch 1/100\n",
      "10000/10000 [==============================] - 1s 71us/step - loss: 0.9049 - acc: 0.5413\n",
      "Epoch 2/100\n",
      "10000/10000 [==============================] - 0s 40us/step - loss: 0.8877 - acc: 0.5419\n",
      "Epoch 3/100\n",
      "10000/10000 [==============================] - 0s 40us/step - loss: 0.8851 - acc: 0.5413\n",
      "Epoch 4/100\n",
      "10000/10000 [==============================] - 0s 37us/step - loss: 0.8816 - acc: 0.5439\n",
      "Epoch 5/100\n",
      "10000/10000 [==============================] - 0s 37us/step - loss: 0.8776 - acc: 0.5431\n",
      "Epoch 6/100\n",
      "10000/10000 [==============================] - 0s 37us/step - loss: 0.8725 - acc: 0.5502\n",
      "Epoch 7/100\n",
      "10000/10000 [==============================] - 0s 42us/step - loss: 0.8672 - acc: 0.5591\n",
      "Epoch 8/100\n",
      "10000/10000 [==============================] - 0s 37us/step - loss: 0.8600 - acc: 0.5643\n",
      "Epoch 9/100\n",
      "10000/10000 [==============================] - 0s 37us/step - loss: 0.8531 - acc: 0.5740\n",
      "Epoch 10/100\n",
      "10000/10000 [==============================] - 0s 40us/step - loss: 0.8459 - acc: 0.5763\n",
      "Epoch 11/100\n",
      "10000/10000 [==============================] - 0s 38us/step - loss: 0.8387 - acc: 0.5828\n",
      "Epoch 12/100\n",
      "10000/10000 [==============================] - 0s 40us/step - loss: 0.8321 - acc: 0.5895\n",
      "Epoch 13/100\n",
      "10000/10000 [==============================] - 0s 42us/step - loss: 0.8268 - acc: 0.5940\n",
      "Epoch 14/100\n",
      "10000/10000 [==============================] - 0s 44us/step - loss: 0.8199 - acc: 0.6007\n",
      "Epoch 15/100\n",
      "10000/10000 [==============================] - 0s 47us/step - loss: 0.8147 - acc: 0.6084\n",
      "Epoch 16/100\n",
      "10000/10000 [==============================] - 0s 38us/step - loss: 0.8084 - acc: 0.6072\n",
      "Epoch 17/100\n",
      "10000/10000 [==============================] - 0s 39us/step - loss: 0.8031 - acc: 0.6096\n",
      "Epoch 18/100\n",
      "10000/10000 [==============================] - 0s 40us/step - loss: 0.7985 - acc: 0.6174\n",
      "Epoch 19/100\n",
      "10000/10000 [==============================] - 0s 39us/step - loss: 0.7930 - acc: 0.6221\n",
      "Epoch 20/100\n",
      "10000/10000 [==============================] - 0s 37us/step - loss: 0.7885 - acc: 0.6158\n",
      "Epoch 21/100\n",
      "10000/10000 [==============================] - 1s 52us/step - loss: 0.7825 - acc: 0.6237\n",
      "Epoch 22/100\n",
      "10000/10000 [==============================] - 0s 45us/step - loss: 0.7787 - acc: 0.6273\n",
      "Epoch 23/100\n",
      "10000/10000 [==============================] - 0s 40us/step - loss: 0.7747 - acc: 0.6315\n",
      "Epoch 24/100\n",
      "10000/10000 [==============================] - 0s 42us/step - loss: 0.7711 - acc: 0.6297\n",
      "Epoch 25/100\n",
      "10000/10000 [==============================] - 0s 41us/step - loss: 0.7685 - acc: 0.6301\n",
      "Epoch 26/100\n",
      "10000/10000 [==============================] - 0s 40us/step - loss: 0.7617 - acc: 0.6405\n",
      "Epoch 27/100\n",
      "10000/10000 [==============================] - 0s 40us/step - loss: 0.7586 - acc: 0.6348\n",
      "Epoch 28/100\n",
      "10000/10000 [==============================] - 0s 41us/step - loss: 0.7554 - acc: 0.6404\n",
      "Epoch 29/100\n",
      "10000/10000 [==============================] - 1s 50us/step - loss: 0.7521 - acc: 0.6428\n",
      "Epoch 30/100\n",
      "10000/10000 [==============================] - 0s 43us/step - loss: 0.7478 - acc: 0.6477\n",
      "Epoch 31/100\n",
      "10000/10000 [==============================] - 0s 43us/step - loss: 0.7450 - acc: 0.6476\n",
      "Epoch 32/100\n",
      "10000/10000 [==============================] - 0s 43us/step - loss: 0.7406 - acc: 0.6472\n",
      "Epoch 33/100\n",
      "10000/10000 [==============================] - 0s 43us/step - loss: 0.7368 - acc: 0.6501\n",
      "Epoch 34/100\n",
      "10000/10000 [==============================] - 0s 40us/step - loss: 0.7343 - acc: 0.6479\n",
      "Epoch 35/100\n",
      "10000/10000 [==============================] - 0s 40us/step - loss: 0.7323 - acc: 0.6528\n",
      "Epoch 36/100\n",
      "10000/10000 [==============================] - 0s 44us/step - loss: 0.7280 - acc: 0.6543\n",
      "Epoch 37/100\n",
      "10000/10000 [==============================] - 0s 44us/step - loss: 0.7225 - acc: 0.6573\n",
      "Epoch 38/100\n",
      "10000/10000 [==============================] - 0s 41us/step - loss: 0.7211 - acc: 0.6551\n",
      "Epoch 39/100\n",
      "10000/10000 [==============================] - 0s 42us/step - loss: 0.7163 - acc: 0.6609\n",
      "Epoch 40/100\n",
      "10000/10000 [==============================] - 1s 54us/step - loss: 0.7142 - acc: 0.6609: 0s - loss: 0.6837 - ac\n",
      "Epoch 41/100\n",
      "10000/10000 [==============================] - 1s 51us/step - loss: 0.7090 - acc: 0.6657\n",
      "Epoch 42/100\n",
      "10000/10000 [==============================] - 0s 40us/step - loss: 0.7063 - acc: 0.6667\n",
      "Epoch 43/100\n",
      "10000/10000 [==============================] - 1s 50us/step - loss: 0.7033 - acc: 0.6672\n",
      "Epoch 44/100\n",
      "10000/10000 [==============================] - 1s 53us/step - loss: 0.6991 - acc: 0.6684\n",
      "Epoch 45/100\n",
      "10000/10000 [==============================] - 0s 50us/step - loss: 0.6969 - acc: 0.6676\n",
      "Epoch 46/100\n",
      "10000/10000 [==============================] - 0s 44us/step - loss: 0.6941 - acc: 0.6689\n",
      "Epoch 47/100\n",
      "10000/10000 [==============================] - 0s 40us/step - loss: 0.6880 - acc: 0.6725\n",
      "Epoch 48/100\n",
      "10000/10000 [==============================] - 0s 42us/step - loss: 0.6876 - acc: 0.6721\n",
      "Epoch 49/100\n",
      "10000/10000 [==============================] - 0s 46us/step - loss: 0.6812 - acc: 0.6762: 0s - loss: 0.6623 - acc:\n",
      "Epoch 50/100\n",
      "10000/10000 [==============================] - 0s 40us/step - loss: 0.6808 - acc: 0.6748\n",
      "Epoch 51/100\n",
      "10000/10000 [==============================] - 1s 66us/step - loss: 0.6763 - acc: 0.6783\n",
      "Epoch 52/100\n",
      "10000/10000 [==============================] - 0s 38us/step - loss: 0.6739 - acc: 0.6742\n",
      "Epoch 53/100\n",
      "10000/10000 [==============================] - 0s 39us/step - loss: 0.6709 - acc: 0.6787\n",
      "Epoch 54/100\n",
      "10000/10000 [==============================] - 0s 38us/step - loss: 0.6667 - acc: 0.6823\n",
      "Epoch 55/100\n",
      "10000/10000 [==============================] - 0s 39us/step - loss: 0.6632 - acc: 0.6847\n",
      "Epoch 56/100\n",
      "10000/10000 [==============================] - 0s 42us/step - loss: 0.6618 - acc: 0.6860\n",
      "Epoch 57/100\n",
      "10000/10000 [==============================] - 0s 39us/step - loss: 0.6591 - acc: 0.6817\n",
      "Epoch 58/100\n",
      "10000/10000 [==============================] - 0s 42us/step - loss: 0.6563 - acc: 0.6841\n",
      "Epoch 59/100\n",
      "10000/10000 [==============================] - 0s 43us/step - loss: 0.6546 - acc: 0.6882\n",
      "Epoch 60/100\n",
      "10000/10000 [==============================] - 0s 43us/step - loss: 0.6502 - acc: 0.6876\n",
      "Epoch 61/100\n",
      "10000/10000 [==============================] - 0s 40us/step - loss: 0.6464 - acc: 0.6921\n",
      "Epoch 62/100\n",
      "10000/10000 [==============================] - 0s 39us/step - loss: 0.6438 - acc: 0.6903\n",
      "Epoch 63/100\n",
      "10000/10000 [==============================] - 0s 38us/step - loss: 0.6407 - acc: 0.6924\n",
      "Epoch 64/100\n",
      "10000/10000 [==============================] - 0s 39us/step - loss: 0.6396 - acc: 0.6953\n",
      "Epoch 65/100\n",
      "10000/10000 [==============================] - 0s 39us/step - loss: 0.6358 - acc: 0.6977\n",
      "Epoch 66/100\n",
      "10000/10000 [==============================] - 0s 40us/step - loss: 0.6376 - acc: 0.6954\n",
      "Epoch 67/100\n",
      "10000/10000 [==============================] - 0s 39us/step - loss: 0.6333 - acc: 0.6965\n",
      "Epoch 68/100\n",
      "10000/10000 [==============================] - 0s 39us/step - loss: 0.6298 - acc: 0.7002\n",
      "Epoch 69/100\n",
      "10000/10000 [==============================] - 0s 39us/step - loss: 0.6284 - acc: 0.6982\n",
      "Epoch 70/100\n",
      "10000/10000 [==============================] - 0s 38us/step - loss: 0.6252 - acc: 0.7035\n",
      "Epoch 71/100\n",
      "10000/10000 [==============================] - 0s 39us/step - loss: 0.6232 - acc: 0.7010\n",
      "Epoch 72/100\n",
      "10000/10000 [==============================] - 0s 38us/step - loss: 0.6210 - acc: 0.7064\n",
      "Epoch 73/100\n",
      "10000/10000 [==============================] - 0s 39us/step - loss: 0.6174 - acc: 0.7076\n",
      "Epoch 74/100\n",
      "10000/10000 [==============================] - 0s 49us/step - loss: 0.6197 - acc: 0.7061\n",
      "Epoch 75/100\n",
      "10000/10000 [==============================] - 0s 50us/step - loss: 0.6141 - acc: 0.7030\n",
      "Epoch 76/100\n",
      "10000/10000 [==============================] - 0s 50us/step - loss: 0.6155 - acc: 0.7052\n",
      "Epoch 77/100\n",
      "10000/10000 [==============================] - 0s 50us/step - loss: 0.6134 - acc: 0.7052\n",
      "Epoch 78/100\n"
     ]
    },
    {
     "name": "stdout",
     "output_type": "stream",
     "text": [
      "10000/10000 [==============================] - 0s 43us/step - loss: 0.6092 - acc: 0.7107\n",
      "Epoch 79/100\n",
      "10000/10000 [==============================] - 0s 41us/step - loss: 0.6075 - acc: 0.7121\n",
      "Epoch 80/100\n",
      "10000/10000 [==============================] - 0s 40us/step - loss: 0.6074 - acc: 0.7101\n",
      "Epoch 81/100\n",
      "10000/10000 [==============================] - 0s 38us/step - loss: 0.6020 - acc: 0.7123\n",
      "Epoch 82/100\n",
      "10000/10000 [==============================] - 0s 43us/step - loss: 0.6023 - acc: 0.7070\n",
      "Epoch 83/100\n",
      "10000/10000 [==============================] - 0s 39us/step - loss: 0.6020 - acc: 0.7117\n",
      "Epoch 84/100\n",
      "10000/10000 [==============================] - 0s 37us/step - loss: 0.5990 - acc: 0.7135\n",
      "Epoch 85/100\n",
      "10000/10000 [==============================] - 0s 38us/step - loss: 0.5972 - acc: 0.7103\n",
      "Epoch 86/100\n",
      "10000/10000 [==============================] - 0s 39us/step - loss: 0.5976 - acc: 0.7121\n",
      "Epoch 87/100\n",
      "10000/10000 [==============================] - 0s 38us/step - loss: 0.5950 - acc: 0.7193\n",
      "Epoch 88/100\n",
      "10000/10000 [==============================] - 0s 45us/step - loss: 0.5944 - acc: 0.7156\n",
      "Epoch 89/100\n",
      "10000/10000 [==============================] - 0s 40us/step - loss: 0.5906 - acc: 0.7187\n",
      "Epoch 90/100\n",
      "10000/10000 [==============================] - 0s 42us/step - loss: 0.5882 - acc: 0.7152\n",
      "Epoch 91/100\n",
      "10000/10000 [==============================] - 0s 45us/step - loss: 0.5871 - acc: 0.7176\n",
      "Epoch 92/100\n",
      "10000/10000 [==============================] - 0s 49us/step - loss: 0.5863 - acc: 0.7180\n",
      "Epoch 93/100\n",
      "10000/10000 [==============================] - 0s 46us/step - loss: 0.5868 - acc: 0.7179\n",
      "Epoch 94/100\n",
      "10000/10000 [==============================] - 0s 40us/step - loss: 0.5839 - acc: 0.7192\n",
      "Epoch 95/100\n",
      "10000/10000 [==============================] - 0s 42us/step - loss: 0.5825 - acc: 0.7226\n",
      "Epoch 96/100\n",
      "10000/10000 [==============================] - 0s 38us/step - loss: 0.5804 - acc: 0.7191\n",
      "Epoch 97/100\n",
      "10000/10000 [==============================] - 0s 42us/step - loss: 0.5807 - acc: 0.7209\n",
      "Epoch 98/100\n",
      "10000/10000 [==============================] - 0s 39us/step - loss: 0.5788 - acc: 0.7222\n",
      "Epoch 99/100\n",
      "10000/10000 [==============================] - 0s 42us/step - loss: 0.5762 - acc: 0.7237\n",
      "Epoch 100/100\n",
      "10000/10000 [==============================] - 0s 40us/step - loss: 0.5763 - acc: 0.7220\n"
     ]
    },
    {
     "data": {
      "text/plain": [
       "<keras.callbacks.History at 0x186ce6e4eb8>"
      ]
     },
     "execution_count": 11,
     "metadata": {},
     "output_type": "execute_result"
    }
   ],
   "source": [
    "classifier.fit(X_tmp,y_tmp, batch_size=32, epochs=100)"
   ]
  },
  {
   "cell_type": "code",
   "execution_count": 16,
   "metadata": {},
   "outputs": [
    {
     "name": "stdout",
     "output_type": "stream",
     "text": [
      "17820/17820 [==============================] - 0s 20us/step\n",
      "Accuracy: 0.4659371492437241\n"
     ]
    }
   ],
   "source": [
    "score = classifier.evaluate(X_test, y_test,verbose=1)\n",
    "print('Accuracy: ' + str(score[1]))"
   ]
  },
  {
   "cell_type": "code",
   "execution_count": null,
   "metadata": {},
   "outputs": [],
   "source": []
  }
 ],
 "metadata": {
  "kernelspec": {
   "display_name": "Python [conda env:py36]",
   "language": "python",
   "name": "conda-env-py36-py"
  },
  "language_info": {
   "codemirror_mode": {
    "name": "ipython",
    "version": 3
   },
   "file_extension": ".py",
   "mimetype": "text/x-python",
   "name": "python",
   "nbconvert_exporter": "python",
   "pygments_lexer": "ipython3",
   "version": "3.6.8"
  }
 },
 "nbformat": 4,
 "nbformat_minor": 2
}
