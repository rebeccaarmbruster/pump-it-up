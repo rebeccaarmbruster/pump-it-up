{
 "cells": [
  {
   "cell_type": "markdown",
   "metadata": {},
   "source": [
    "### Imports"
   ]
  },
  {
   "cell_type": "code",
   "execution_count": 5,
   "metadata": {},
   "outputs": [],
   "source": [
    "import pandas as pd\n",
    "import numpy as np\n",
    "import math\n",
    "from sklearn.preprocessing import MinMaxScaler\n",
    "from sklearn.feature_extraction import FeatureHasher\n",
    "import category_encoders as ce\n",
    "pd.set_option('display.max_columns', None)"
   ]
  },
  {
   "cell_type": "markdown",
   "metadata": {},
   "source": [
    "### Loading and viewing the data"
   ]
  },
  {
   "cell_type": "code",
   "execution_count": 6,
   "metadata": {},
   "outputs": [],
   "source": [
    "train_raw = pd.read_csv('./Data/training_set_values.csv')\n",
    "test_raw = pd.read_csv('./Data/test_set_values.csv')\n",
    "\n",
    "train_raw['train'] = 1\n",
    "test_raw['train'] = 0\n",
    "data = pd.concat([train_raw, test_raw])"
   ]
  },
  {
   "cell_type": "code",
   "execution_count": null,
   "metadata": {
    "scrolled": true
   },
   "outputs": [],
   "source": [
    "# Overview\n",
    "\n",
    "#data.info()"
   ]
  },
  {
   "cell_type": "markdown",
   "metadata": {},
   "source": [
    "### Global variables"
   ]
  },
  {
   "cell_type": "code",
   "execution_count": 7,
   "metadata": {},
   "outputs": [],
   "source": [
    "data_version = '0.3'\n",
    "\n",
    "int_var = ['population','gps_height','num_private','construction_year']\n",
    "float_var = ['amount_tsh','longitude']\n",
    "\n",
    "features_to_drop = ['extraction_type_group','extraction_type_class','payment','quality_group','source_class','source_type','waterpoint_type_group','management_group','quantity_group','date_recorded','wpt_name','num_private','recorded_by']\n",
    "\n",
    "null_features = ['longitude','latitude','gps_height','population','construction_year','amount_tsh']\n",
    "#no calculations for num_private since they are dropped later (too many missing values)\n",
    "\n",
    "divisions = ['region', 'ward']\n",
    "divisions_total = ['ward', 'region', 'overall']\n",
    "\n",
    "# These will be scaled\n",
    "num_features = ['latitude','longitude','operation_years','amount_tsh', 'gps_height', 'population']\n",
    "\n",
    "# These will be factorized\n",
    "cat_features = 'funder installer subvillage public_meeting scheme_management scheme_name permit basin region lga ward extraction_type management payment_type water_quality quantity source waterpoint_type'.split()"
   ]
  },
  {
   "cell_type": "markdown",
   "metadata": {},
   "source": [
    "### Data preparation"
   ]
  },
  {
   "cell_type": "code",
   "execution_count": 8,
   "metadata": {
    "scrolled": true
   },
   "outputs": [
    {
     "name": "stdout",
     "output_type": "stream",
     "text": [
      "population:\n"
     ]
    },
    {
     "data": {
      "text/plain": [
       "0"
      ]
     },
     "metadata": {},
     "output_type": "display_data"
    },
    {
     "data": {
      "text/plain": [
       "26834"
      ]
     },
     "metadata": {},
     "output_type": "display_data"
    },
    {
     "name": "stdout",
     "output_type": "stream",
     "text": [
      "gps_height:\n"
     ]
    },
    {
     "data": {
      "text/plain": [
       "-90"
      ]
     },
     "metadata": {},
     "output_type": "display_data"
    },
    {
     "data": {
      "text/plain": [
       "25649"
      ]
     },
     "metadata": {},
     "output_type": "display_data"
    },
    {
     "name": "stdout",
     "output_type": "stream",
     "text": [
      "num_private:\n"
     ]
    },
    {
     "data": {
      "text/plain": [
       "0"
      ]
     },
     "metadata": {},
     "output_type": "display_data"
    },
    {
     "data": {
      "text/plain": [
       "73299"
      ]
     },
     "metadata": {},
     "output_type": "display_data"
    },
    {
     "name": "stdout",
     "output_type": "stream",
     "text": [
      "construction_year:\n"
     ]
    },
    {
     "data": {
      "text/plain": [
       "0"
      ]
     },
     "metadata": {},
     "output_type": "display_data"
    },
    {
     "data": {
      "text/plain": [
       "25969"
      ]
     },
     "metadata": {},
     "output_type": "display_data"
    },
    {
     "name": "stdout",
     "output_type": "stream",
     "text": [
      "amount_tsh:\n"
     ]
    },
    {
     "data": {
      "text/plain": [
       "0.0"
      ]
     },
     "metadata": {},
     "output_type": "display_data"
    },
    {
     "data": {
      "text/plain": [
       "52049"
      ]
     },
     "metadata": {},
     "output_type": "display_data"
    },
    {
     "name": "stdout",
     "output_type": "stream",
     "text": [
      "longitude:\n"
     ]
    },
    {
     "data": {
      "text/plain": [
       "0.0"
      ]
     },
     "metadata": {},
     "output_type": "display_data"
    },
    {
     "data": {
      "text/plain": [
       "2269"
      ]
     },
     "metadata": {},
     "output_type": "display_data"
    },
    {
     "name": "stdout",
     "output_type": "stream",
     "text": [
      "latitude:\n"
     ]
    },
    {
     "data": {
      "text/plain": [
       "-11.64944018"
      ]
     },
     "metadata": {},
     "output_type": "display_data"
    },
    {
     "data": {
      "text/plain": [
       "2269"
      ]
     },
     "metadata": {},
     "output_type": "display_data"
    }
   ],
   "source": [
    "# Identify missing values in numerical data\n",
    "\n",
    "for var in int_var:\n",
    "    print('{}:'.format(var))\n",
    "    display(data[var].min())\n",
    "    display(len(data[data[var] == 0]))\n",
    "\n",
    "for var in float_var:\n",
    "    print('{}:'.format(var))\n",
    "    display(data[var].min())\n",
    "    display(len(data[data[var] == 0.0]))\n",
    "\n",
    "print('latitude:')\n",
    "display(data['latitude'].min())\n",
    "display(len(data[(data['latitude'] > -0.001) & (data['latitude'] < 0.001)]))"
   ]
  },
  {
   "cell_type": "code",
   "execution_count": 9,
   "metadata": {},
   "outputs": [],
   "source": [
    "# Replace zeros by NaN\n",
    "\n",
    "for var in int_var:\n",
    "    data[var].replace(0, np.nan, inplace=True)\n",
    "    \n",
    "for var in float_var:\n",
    "    data[var].replace(0.0, np.nan, inplace=True)\n",
    "\n",
    "data['latitude'].where((data['latitude'] < -0.001) | (data['latitude'] > 0.001), other= np.nan, inplace=True,axis=0)\n",
    "\n",
    "train = data[data['train'] == 1]\n",
    "test = data[data['train'] == 0]"
   ]
  },
  {
   "cell_type": "markdown",
   "metadata": {},
   "source": [
    "### Imputation of missing values in numerical features"
   ]
  },
  {
   "cell_type": "code",
   "execution_count": null,
   "metadata": {},
   "outputs": [],
   "source": [
    "# Duplicate critical columnns for imputation based on normal distribution and random choice\n",
    "\n",
    "'''for null_feature in null_features:\n",
    "    data['_'.join([null_feature, 'imp_mean-median'])] = data[null_feature]\n",
    "    data['_'.join([null_feature, 'imp_normal'])] = data[null_feature]\n",
    "    data['_'.join([null_feature, 'imp_random_choice'])] = data[null_feature]'''"
   ]
  },
  {
   "cell_type": "code",
   "execution_count": null,
   "metadata": {
    "scrolled": true
   },
   "outputs": [],
   "source": [
    "'''data.head()'''"
   ]
  },
  {
   "cell_type": "markdown",
   "metadata": {},
   "source": [
    "#### Imputation of numerical features by normal distribution"
   ]
  },
  {
   "cell_type": "code",
   "execution_count": null,
   "metadata": {},
   "outputs": [],
   "source": [
    "# Add columns for mean and standard deviation of critical features based on 'region', 'ward' and 'overall'\n",
    "\n",
    "'''for null_feature in null_features:\n",
    "    data['_'.join([null_feature, 'mean', 'overall'])] = train[null_feature].mean()\n",
    "    data['_'.join([null_feature, 'std', 'overall'])] = train[null_feature].std()\n",
    "    for division in divisions:\n",
    "        new_feature_name_mean = '_'.join([null_feature, 'mean', division])\n",
    "        new_feature_name_std = '_'.join([null_feature, 'std', division])\n",
    "        \n",
    "        calcs_mean = train.groupby(division)[null_feature].mean()\n",
    "        calcs_std = train.groupby(division)[null_feature].std()\n",
    "        for value in train[division].unique() :\n",
    "            data.loc[data[division]==value, new_feature_name_mean] = calcs_mean[value]\n",
    "            data.loc[data[division]==value, new_feature_name_std] = calcs_std[value]'''"
   ]
  },
  {
   "cell_type": "code",
   "execution_count": null,
   "metadata": {
    "scrolled": true
   },
   "outputs": [],
   "source": [
    "# 1st step: Impute missing values with random numbers generated by normal distribution based on mean, std by 'ward'\n",
    "# 2nd step (only applied on remaining null values): Impute missing values with random numbers generated by normal distribution based on mean, std by 'region'\n",
    "# 3rd step (only applied on remaining null values): Impute missing values with random numbers generated by normal distribution based on mean, std by 'overall'\n",
    "\n",
    "'''for null_feature in null_features:\n",
    "    for division in divisions_total:\n",
    "        data['_'.join([null_feature,'imp_normal'])] = data.apply(lambda row: np.random.normal(loc=row['_'.join([null_feature,'mean',division])], scale=row['_'.join([null_feature,'std',division])]) if math.isnan(row['_'.join([null_feature,'imp_normal'])]) else row['_'.join([null_feature,'imp_normal'])], axis=1)\n",
    "        display('Missing values after imputation in {} by {}: {}'.format(null_feature, division, data['_'.join([null_feature,'imp_normal'])].isnull().sum()))'''"
   ]
  },
  {
   "cell_type": "code",
   "execution_count": null,
   "metadata": {},
   "outputs": [],
   "source": [
    "#data.head()"
   ]
  },
  {
   "cell_type": "markdown",
   "metadata": {},
   "source": [
    "#### Imputation of numerical features by random choice"
   ]
  },
  {
   "cell_type": "code",
   "execution_count": null,
   "metadata": {
    "scrolled": true
   },
   "outputs": [],
   "source": [
    "# Add columns with list of values in corresponding group of 'region' and 'ward', respectively\n",
    "\n",
    "'''for null_feature in null_features:\n",
    "    overall_list = list(train[null_feature])\n",
    "    overall_list = [x for x in overall_list if not math.isnan(x)]\n",
    "    data['_'.join([null_feature, 'list', 'overall'])] = data.apply(lambda row: overall_list, axis=1)\n",
    "    display(null_feature, 'overall list done')\n",
    "    for division in divisions:\n",
    "        feature_name = '_'.join([null_feature, 'list', division])\n",
    "        lists = train.groupby(division)[null_feature].apply(list)\n",
    "        data[feature_name] = data.apply(lambda row: list() if row[division] not in train[division].unique() else lists[row[division]], axis=1)\n",
    "        data[feature_name] = data[feature_name].apply(lambda lst: [x for x in lst if not math.isnan(x)])\n",
    "        data[feature_name] = data[feature_name].apply(lambda x: np.nan if not x else x)\n",
    "        display(null_feature, division)'''"
   ]
  },
  {
   "cell_type": "code",
   "execution_count": null,
   "metadata": {
    "scrolled": true
   },
   "outputs": [],
   "source": [
    "# 1st step: Impute missing values with empirical distribution grouped by 'ward'\n",
    "# 2nd step (only applied on remaining null values): Impute missing values with empirical distribution grouped by 'region'\n",
    "# 3rd step (only applied on remaining null values): Impute missing values with empirical distribution grouped by 'overall'\n",
    "\n",
    "'''for null_feature in null_features:\n",
    "    for division in divisions_total:        \n",
    "        #data['_'.join([null_feature,'imp_random_choice'])] = data.apply(lambda row: np.random.choice(a=row['_'.join([null_feature,'list',division])]) if math.isnan(row['_'.join([null_feature,'imp_random_choice'])]) else row['_'.join([null_feature,'imp_random_choice'])], axis=1)\n",
    "        data['_'.join([null_feature,'imp_random_choice'])] = data.apply(lambda row: row['_'.join([null_feature,'imp_random_choice'])] if not np.isnan(row['_'.join([null_feature,'imp_random_choice'])]).any() else (np.random.choice(a=row['_'.join([null_feature,'list',division])]) if not np.isnan(row['_'.join([null_feature,'list',division])]).any() else np.nan), axis=1)\n",
    "        display('Missing values after imputation in {} by {}: {}'.format(null_feature, division, data['_'.join([null_feature,'imp_random_choice'])].isnull().sum()))\n",
    " '''       "
   ]
  },
  {
   "cell_type": "markdown",
   "metadata": {},
   "source": [
    "#### Imputation of numerical features by mean/median"
   ]
  },
  {
   "cell_type": "code",
   "execution_count": null,
   "metadata": {},
   "outputs": [],
   "source": [
    "# Add columns for median of critical integer features based on 'region', 'ward', 'overall'\n",
    "\n",
    "'''float_var.append('latitude')\n",
    "\n",
    "for var in int_var:\n",
    "    data['_'.join([var, 'median', 'overall'])] = train[var].median()\n",
    "    for division in divisions:\n",
    "        new_feature_name_median = '_'.join([var, 'median', division])\n",
    "        calcs_median = train.groupby(division)[var].median()\n",
    "        for value in train[division].unique() :\n",
    "            data.loc[data[division]==value, new_feature_name_median] = calcs_median[value]'''"
   ]
  },
  {
   "cell_type": "code",
   "execution_count": null,
   "metadata": {
    "scrolled": true
   },
   "outputs": [],
   "source": [
    "# 1st step: Impute missing values with mean and median by 'ward'\n",
    "# 2nd step (only applied on remaining null values): Impute missing values with mean and median by 'region'\n",
    "# 3rd step (only applied on remaining null values): Impute missing values with overall mean and median\n",
    "\n",
    "'''for var in float_var:\n",
    "    for division in divisions_total:\n",
    "        data['_'.join([var,'imp_mean-median'])] = data.apply(lambda row: row['_'.join([var,'mean',division])] if math.isnan(row['_'.join([var,'imp_mean-median'])]) else row['_'.join([var,'imp_mean-median'])], axis=1)\n",
    "        display('Missing values after imputation in {} by {}: {}'.format(var, division, data['_'.join([var,'imp_mean-median'])].isnull().sum()))\n",
    "\n",
    "for var in int_var:\n",
    "    for division in divisions_total:\n",
    "        data['_'.join([var,'imp_mean-median'])] = data.apply(lambda row: row['_'.join([var,'median',division])] if math.isnan(row['_'.join([var,'imp_mean-median'])]) else row['_'.join([var,'imp_mean-median'])], axis=1)\n",
    "        display('Missing values after imputation in {} by {}: {}'.format(var, division, data['_'.join([var,'imp_mean-median'])].isnull().sum()))\n",
    " '''       "
   ]
  },
  {
   "cell_type": "code",
   "execution_count": null,
   "metadata": {
    "scrolled": true
   },
   "outputs": [],
   "source": [
    "#data.isnull().sum()"
   ]
  },
  {
   "cell_type": "markdown",
   "metadata": {},
   "source": [
    "#### Load imputed data from previous data files and add mean/median imputation as additional columns\n",
    "Can be used if only categorical features will be changed"
   ]
  },
  {
   "cell_type": "code",
   "execution_count": 10,
   "metadata": {},
   "outputs": [],
   "source": [
    "imputed_train = pd.read_csv('./Data/train_cleaned_v0.1.csv')\n",
    "imputed_test = pd.read_csv('./Data/test_cleaned_v0.1.csv')\n",
    "\n",
    "imputed_data = pd.concat([imputed_train, imputed_test])\n",
    "#imputed_data.head()"
   ]
  },
  {
   "cell_type": "code",
   "execution_count": 11,
   "metadata": {},
   "outputs": [],
   "source": [
    "keep_columns = 'id longitude latitude gps_height amount_tsh population construction_year'.split()\n",
    "for col in 'longitude latitude gps_height amount_tsh population construction_year'.split():\n",
    "    keep_columns.append('_'.join([col, 'imp_normal']))\n",
    "    keep_columns.append('_'.join([col, 'imp_random_choice']))"
   ]
  },
  {
   "cell_type": "code",
   "execution_count": 12,
   "metadata": {},
   "outputs": [],
   "source": [
    "imputed_data = imputed_data[keep_columns]\n",
    "#imputed_data.head()"
   ]
  },
  {
   "cell_type": "code",
   "execution_count": 13,
   "metadata": {},
   "outputs": [],
   "source": [
    "columns = imputed_data.columns\n",
    "new_columns = list()\n",
    "for col in columns:\n",
    "    if 'imp' in col or col == 'id':\n",
    "        new_columns.append(col)\n",
    "    else:\n",
    "        new_columns.append('_'.join([col, 'imp_mean-median']))"
   ]
  },
  {
   "cell_type": "code",
   "execution_count": 14,
   "metadata": {},
   "outputs": [
    {
     "data": {
      "text/html": [
       "<div>\n",
       "<style scoped>\n",
       "    .dataframe tbody tr th:only-of-type {\n",
       "        vertical-align: middle;\n",
       "    }\n",
       "\n",
       "    .dataframe tbody tr th {\n",
       "        vertical-align: top;\n",
       "    }\n",
       "\n",
       "    .dataframe thead th {\n",
       "        text-align: right;\n",
       "    }\n",
       "</style>\n",
       "<table border=\"1\" class=\"dataframe\">\n",
       "  <thead>\n",
       "    <tr style=\"text-align: right;\">\n",
       "      <th></th>\n",
       "      <th>id</th>\n",
       "      <th>longitude_imp_mean-median</th>\n",
       "      <th>latitude_imp_mean-median</th>\n",
       "      <th>gps_height_imp_mean-median</th>\n",
       "      <th>amount_tsh_imp_mean-median</th>\n",
       "      <th>population_imp_mean-median</th>\n",
       "      <th>construction_year_imp_mean-median</th>\n",
       "      <th>longitude_imp_normal</th>\n",
       "      <th>longitude_imp_random_choice</th>\n",
       "      <th>latitude_imp_normal</th>\n",
       "      <th>latitude_imp_random_choice</th>\n",
       "      <th>gps_height_imp_normal</th>\n",
       "      <th>gps_height_imp_random_choice</th>\n",
       "      <th>amount_tsh_imp_normal</th>\n",
       "      <th>amount_tsh_imp_random_choice</th>\n",
       "      <th>population_imp_normal</th>\n",
       "      <th>population_imp_random_choice</th>\n",
       "      <th>construction_year_imp_normal</th>\n",
       "      <th>construction_year_imp_random_choice</th>\n",
       "    </tr>\n",
       "  </thead>\n",
       "  <tbody>\n",
       "    <tr>\n",
       "      <th>0</th>\n",
       "      <td>69572</td>\n",
       "      <td>34.938093</td>\n",
       "      <td>-9.856322</td>\n",
       "      <td>1390.0</td>\n",
       "      <td>6000.000000</td>\n",
       "      <td>109.0</td>\n",
       "      <td>1999.0</td>\n",
       "      <td>34.938093</td>\n",
       "      <td>34.938093</td>\n",
       "      <td>-9.856322</td>\n",
       "      <td>-9.856322</td>\n",
       "      <td>1390.000000</td>\n",
       "      <td>1390.0</td>\n",
       "      <td>6000.000000</td>\n",
       "      <td>6000.0</td>\n",
       "      <td>109.000000</td>\n",
       "      <td>109.0</td>\n",
       "      <td>1999.000000</td>\n",
       "      <td>1999.0</td>\n",
       "    </tr>\n",
       "    <tr>\n",
       "      <th>1</th>\n",
       "      <td>8776</td>\n",
       "      <td>34.698766</td>\n",
       "      <td>-2.147466</td>\n",
       "      <td>1399.0</td>\n",
       "      <td>542.857143</td>\n",
       "      <td>280.0</td>\n",
       "      <td>2010.0</td>\n",
       "      <td>34.698766</td>\n",
       "      <td>34.698766</td>\n",
       "      <td>-2.147466</td>\n",
       "      <td>-2.147466</td>\n",
       "      <td>1399.000000</td>\n",
       "      <td>1399.0</td>\n",
       "      <td>74.349311</td>\n",
       "      <td>1000.0</td>\n",
       "      <td>280.000000</td>\n",
       "      <td>280.0</td>\n",
       "      <td>2010.000000</td>\n",
       "      <td>2010.0</td>\n",
       "    </tr>\n",
       "    <tr>\n",
       "      <th>2</th>\n",
       "      <td>34310</td>\n",
       "      <td>37.460664</td>\n",
       "      <td>-3.821329</td>\n",
       "      <td>686.0</td>\n",
       "      <td>25.000000</td>\n",
       "      <td>250.0</td>\n",
       "      <td>2009.0</td>\n",
       "      <td>37.460664</td>\n",
       "      <td>37.460664</td>\n",
       "      <td>-3.821329</td>\n",
       "      <td>-3.821329</td>\n",
       "      <td>686.000000</td>\n",
       "      <td>686.0</td>\n",
       "      <td>25.000000</td>\n",
       "      <td>25.0</td>\n",
       "      <td>250.000000</td>\n",
       "      <td>250.0</td>\n",
       "      <td>2009.000000</td>\n",
       "      <td>2009.0</td>\n",
       "    </tr>\n",
       "    <tr>\n",
       "      <th>3</th>\n",
       "      <td>67743</td>\n",
       "      <td>38.486161</td>\n",
       "      <td>-11.155298</td>\n",
       "      <td>263.0</td>\n",
       "      <td>525.000000</td>\n",
       "      <td>58.0</td>\n",
       "      <td>1986.0</td>\n",
       "      <td>38.486161</td>\n",
       "      <td>38.486161</td>\n",
       "      <td>-11.155298</td>\n",
       "      <td>-11.155298</td>\n",
       "      <td>263.000000</td>\n",
       "      <td>263.0</td>\n",
       "      <td>-409.294439</td>\n",
       "      <td>1000.0</td>\n",
       "      <td>58.000000</td>\n",
       "      <td>58.0</td>\n",
       "      <td>1986.000000</td>\n",
       "      <td>1986.0</td>\n",
       "    </tr>\n",
       "    <tr>\n",
       "      <th>4</th>\n",
       "      <td>19728</td>\n",
       "      <td>31.130847</td>\n",
       "      <td>-1.825359</td>\n",
       "      <td>1167.0</td>\n",
       "      <td>1062.351942</td>\n",
       "      <td>150.0</td>\n",
       "      <td>2000.0</td>\n",
       "      <td>31.130847</td>\n",
       "      <td>31.130847</td>\n",
       "      <td>-1.825359</td>\n",
       "      <td>-1.825359</td>\n",
       "      <td>1216.846742</td>\n",
       "      <td>1161.0</td>\n",
       "      <td>1500.665788</td>\n",
       "      <td>300.0</td>\n",
       "      <td>-333.803882</td>\n",
       "      <td>150.0</td>\n",
       "      <td>1996.732218</td>\n",
       "      <td>2008.0</td>\n",
       "    </tr>\n",
       "  </tbody>\n",
       "</table>\n",
       "</div>"
      ],
      "text/plain": [
       "      id  longitude_imp_mean-median  latitude_imp_mean-median  \\\n",
       "0  69572                  34.938093                 -9.856322   \n",
       "1   8776                  34.698766                 -2.147466   \n",
       "2  34310                  37.460664                 -3.821329   \n",
       "3  67743                  38.486161                -11.155298   \n",
       "4  19728                  31.130847                 -1.825359   \n",
       "\n",
       "   gps_height_imp_mean-median  amount_tsh_imp_mean-median  \\\n",
       "0                      1390.0                 6000.000000   \n",
       "1                      1399.0                  542.857143   \n",
       "2                       686.0                   25.000000   \n",
       "3                       263.0                  525.000000   \n",
       "4                      1167.0                 1062.351942   \n",
       "\n",
       "   population_imp_mean-median  construction_year_imp_mean-median  \\\n",
       "0                       109.0                             1999.0   \n",
       "1                       280.0                             2010.0   \n",
       "2                       250.0                             2009.0   \n",
       "3                        58.0                             1986.0   \n",
       "4                       150.0                             2000.0   \n",
       "\n",
       "   longitude_imp_normal  longitude_imp_random_choice  latitude_imp_normal  \\\n",
       "0             34.938093                    34.938093            -9.856322   \n",
       "1             34.698766                    34.698766            -2.147466   \n",
       "2             37.460664                    37.460664            -3.821329   \n",
       "3             38.486161                    38.486161           -11.155298   \n",
       "4             31.130847                    31.130847            -1.825359   \n",
       "\n",
       "   latitude_imp_random_choice  gps_height_imp_normal  \\\n",
       "0                   -9.856322            1390.000000   \n",
       "1                   -2.147466            1399.000000   \n",
       "2                   -3.821329             686.000000   \n",
       "3                  -11.155298             263.000000   \n",
       "4                   -1.825359            1216.846742   \n",
       "\n",
       "   gps_height_imp_random_choice  amount_tsh_imp_normal  \\\n",
       "0                        1390.0            6000.000000   \n",
       "1                        1399.0              74.349311   \n",
       "2                         686.0              25.000000   \n",
       "3                         263.0            -409.294439   \n",
       "4                        1161.0            1500.665788   \n",
       "\n",
       "   amount_tsh_imp_random_choice  population_imp_normal  \\\n",
       "0                        6000.0             109.000000   \n",
       "1                        1000.0             280.000000   \n",
       "2                          25.0             250.000000   \n",
       "3                        1000.0              58.000000   \n",
       "4                         300.0            -333.803882   \n",
       "\n",
       "   population_imp_random_choice  construction_year_imp_normal  \\\n",
       "0                         109.0                   1999.000000   \n",
       "1                         280.0                   2010.000000   \n",
       "2                         250.0                   2009.000000   \n",
       "3                          58.0                   1986.000000   \n",
       "4                         150.0                   1996.732218   \n",
       "\n",
       "   construction_year_imp_random_choice  \n",
       "0                               1999.0  \n",
       "1                               2010.0  \n",
       "2                               2009.0  \n",
       "3                               1986.0  \n",
       "4                               2008.0  "
      ]
     },
     "execution_count": 14,
     "metadata": {},
     "output_type": "execute_result"
    }
   ],
   "source": [
    "imputed_data.columns = new_columns\n",
    "imputed_data.head()"
   ]
  },
  {
   "cell_type": "code",
   "execution_count": 15,
   "metadata": {},
   "outputs": [],
   "source": [
    "data = data.merge(imputed_data, on='id')"
   ]
  },
  {
   "cell_type": "code",
   "execution_count": 16,
   "metadata": {
    "scrolled": true
   },
   "outputs": [
    {
     "data": {
      "text/plain": [
       "id                                         0\n",
       "amount_tsh                             52049\n",
       "date_recorded                              0\n",
       "funder                                  4504\n",
       "gps_height                             25649\n",
       "installer                               4532\n",
       "longitude                               2269\n",
       "latitude                                2269\n",
       "wpt_name                                   0\n",
       "num_private                            73299\n",
       "basin                                      0\n",
       "subvillage                               470\n",
       "region                                     0\n",
       "region_code                                0\n",
       "district_code                              0\n",
       "lga                                        0\n",
       "ward                                       0\n",
       "population                             26834\n",
       "public_meeting                          4155\n",
       "recorded_by                                0\n",
       "scheme_management                       4846\n",
       "scheme_name                            35258\n",
       "permit                                  3793\n",
       "construction_year                      25969\n",
       "extraction_type                            0\n",
       "extraction_type_group                      0\n",
       "extraction_type_class                      0\n",
       "management                                 0\n",
       "management_group                           0\n",
       "payment                                    0\n",
       "payment_type                               0\n",
       "water_quality                              0\n",
       "quality_group                              0\n",
       "quantity                                   0\n",
       "quantity_group                             0\n",
       "source                                     0\n",
       "source_type                                0\n",
       "source_class                               0\n",
       "waterpoint_type                            0\n",
       "waterpoint_type_group                      0\n",
       "train                                      0\n",
       "longitude_imp_mean-median                  0\n",
       "latitude_imp_mean-median                   0\n",
       "gps_height_imp_mean-median                 0\n",
       "amount_tsh_imp_mean-median                 0\n",
       "population_imp_mean-median                 0\n",
       "construction_year_imp_mean-median          0\n",
       "longitude_imp_normal                       0\n",
       "longitude_imp_random_choice                0\n",
       "latitude_imp_normal                        0\n",
       "latitude_imp_random_choice                 0\n",
       "gps_height_imp_normal                      0\n",
       "gps_height_imp_random_choice               0\n",
       "amount_tsh_imp_normal                      0\n",
       "amount_tsh_imp_random_choice               0\n",
       "population_imp_normal                      0\n",
       "population_imp_random_choice               0\n",
       "construction_year_imp_normal               0\n",
       "construction_year_imp_random_choice        0\n",
       "dtype: int64"
      ]
     },
     "execution_count": 16,
     "metadata": {},
     "output_type": "execute_result"
    }
   ],
   "source": [
    "data.isnull().sum()"
   ]
  },
  {
   "cell_type": "markdown",
   "metadata": {},
   "source": [
    "### Feature generation"
   ]
  },
  {
   "cell_type": "code",
   "execution_count": 17,
   "metadata": {},
   "outputs": [],
   "source": [
    "# Create new feature that gives information about operational time\n",
    "\n",
    "imputation_methods = ['mean-median', 'normal', 'random_choice']\n",
    "data['date_recorded'] = pd.to_datetime(data['date_recorded'])\n",
    "\n",
    "for method in imputation_methods:\n",
    "    data['_'.join(['operation_years_imp', method])] = data.date_recorded.dt.year - data['_'.join(['construction_year_imp', method])]\n",
    "    data['_'.join(['operation_years_imp', method])] = data['_'.join(['operation_years_imp', method])].astype(int)"
   ]
  },
  {
   "cell_type": "code",
   "execution_count": 18,
   "metadata": {},
   "outputs": [
    {
     "data": {
      "text/html": [
       "<div>\n",
       "<style scoped>\n",
       "    .dataframe tbody tr th:only-of-type {\n",
       "        vertical-align: middle;\n",
       "    }\n",
       "\n",
       "    .dataframe tbody tr th {\n",
       "        vertical-align: top;\n",
       "    }\n",
       "\n",
       "    .dataframe thead th {\n",
       "        text-align: right;\n",
       "    }\n",
       "</style>\n",
       "<table border=\"1\" class=\"dataframe\">\n",
       "  <thead>\n",
       "    <tr style=\"text-align: right;\">\n",
       "      <th></th>\n",
       "      <th>id</th>\n",
       "      <th>amount_tsh</th>\n",
       "      <th>date_recorded</th>\n",
       "      <th>funder</th>\n",
       "      <th>gps_height</th>\n",
       "      <th>installer</th>\n",
       "      <th>longitude</th>\n",
       "      <th>latitude</th>\n",
       "      <th>wpt_name</th>\n",
       "      <th>num_private</th>\n",
       "      <th>basin</th>\n",
       "      <th>subvillage</th>\n",
       "      <th>region</th>\n",
       "      <th>region_code</th>\n",
       "      <th>district_code</th>\n",
       "      <th>lga</th>\n",
       "      <th>ward</th>\n",
       "      <th>population</th>\n",
       "      <th>public_meeting</th>\n",
       "      <th>recorded_by</th>\n",
       "      <th>scheme_management</th>\n",
       "      <th>scheme_name</th>\n",
       "      <th>permit</th>\n",
       "      <th>construction_year</th>\n",
       "      <th>extraction_type</th>\n",
       "      <th>extraction_type_group</th>\n",
       "      <th>extraction_type_class</th>\n",
       "      <th>management</th>\n",
       "      <th>management_group</th>\n",
       "      <th>payment</th>\n",
       "      <th>payment_type</th>\n",
       "      <th>water_quality</th>\n",
       "      <th>quality_group</th>\n",
       "      <th>quantity</th>\n",
       "      <th>quantity_group</th>\n",
       "      <th>source</th>\n",
       "      <th>source_type</th>\n",
       "      <th>source_class</th>\n",
       "      <th>waterpoint_type</th>\n",
       "      <th>waterpoint_type_group</th>\n",
       "      <th>train</th>\n",
       "      <th>longitude_imp_mean-median</th>\n",
       "      <th>latitude_imp_mean-median</th>\n",
       "      <th>gps_height_imp_mean-median</th>\n",
       "      <th>amount_tsh_imp_mean-median</th>\n",
       "      <th>population_imp_mean-median</th>\n",
       "      <th>construction_year_imp_mean-median</th>\n",
       "      <th>longitude_imp_normal</th>\n",
       "      <th>longitude_imp_random_choice</th>\n",
       "      <th>latitude_imp_normal</th>\n",
       "      <th>latitude_imp_random_choice</th>\n",
       "      <th>gps_height_imp_normal</th>\n",
       "      <th>gps_height_imp_random_choice</th>\n",
       "      <th>amount_tsh_imp_normal</th>\n",
       "      <th>amount_tsh_imp_random_choice</th>\n",
       "      <th>population_imp_normal</th>\n",
       "      <th>population_imp_random_choice</th>\n",
       "      <th>construction_year_imp_normal</th>\n",
       "      <th>construction_year_imp_random_choice</th>\n",
       "      <th>operation_years_imp_mean-median</th>\n",
       "      <th>operation_years_imp_normal</th>\n",
       "      <th>operation_years_imp_random_choice</th>\n",
       "    </tr>\n",
       "  </thead>\n",
       "  <tbody>\n",
       "    <tr>\n",
       "      <th>0</th>\n",
       "      <td>69572</td>\n",
       "      <td>6000.0</td>\n",
       "      <td>2011-03-14</td>\n",
       "      <td>Roman</td>\n",
       "      <td>1390.0</td>\n",
       "      <td>Roman</td>\n",
       "      <td>34.938093</td>\n",
       "      <td>-9.856322</td>\n",
       "      <td>none</td>\n",
       "      <td>NaN</td>\n",
       "      <td>Lake Nyasa</td>\n",
       "      <td>Mnyusi B</td>\n",
       "      <td>Iringa</td>\n",
       "      <td>11</td>\n",
       "      <td>5</td>\n",
       "      <td>Ludewa</td>\n",
       "      <td>Mundindi</td>\n",
       "      <td>109.0</td>\n",
       "      <td>True</td>\n",
       "      <td>GeoData Consultants Ltd</td>\n",
       "      <td>VWC</td>\n",
       "      <td>Roman</td>\n",
       "      <td>False</td>\n",
       "      <td>1999.0</td>\n",
       "      <td>gravity</td>\n",
       "      <td>gravity</td>\n",
       "      <td>gravity</td>\n",
       "      <td>vwc</td>\n",
       "      <td>user-group</td>\n",
       "      <td>pay annually</td>\n",
       "      <td>annually</td>\n",
       "      <td>soft</td>\n",
       "      <td>good</td>\n",
       "      <td>enough</td>\n",
       "      <td>enough</td>\n",
       "      <td>spring</td>\n",
       "      <td>spring</td>\n",
       "      <td>groundwater</td>\n",
       "      <td>communal standpipe</td>\n",
       "      <td>communal standpipe</td>\n",
       "      <td>1</td>\n",
       "      <td>34.938093</td>\n",
       "      <td>-9.856322</td>\n",
       "      <td>1390.0</td>\n",
       "      <td>6000.000000</td>\n",
       "      <td>109.0</td>\n",
       "      <td>1999.0</td>\n",
       "      <td>34.938093</td>\n",
       "      <td>34.938093</td>\n",
       "      <td>-9.856322</td>\n",
       "      <td>-9.856322</td>\n",
       "      <td>1390.000000</td>\n",
       "      <td>1390.0</td>\n",
       "      <td>6000.000000</td>\n",
       "      <td>6000.0</td>\n",
       "      <td>109.000000</td>\n",
       "      <td>109.0</td>\n",
       "      <td>1999.000000</td>\n",
       "      <td>1999.0</td>\n",
       "      <td>12</td>\n",
       "      <td>12</td>\n",
       "      <td>12</td>\n",
       "    </tr>\n",
       "    <tr>\n",
       "      <th>1</th>\n",
       "      <td>8776</td>\n",
       "      <td>NaN</td>\n",
       "      <td>2013-03-06</td>\n",
       "      <td>Grumeti</td>\n",
       "      <td>1399.0</td>\n",
       "      <td>GRUMETI</td>\n",
       "      <td>34.698766</td>\n",
       "      <td>-2.147466</td>\n",
       "      <td>Zahanati</td>\n",
       "      <td>NaN</td>\n",
       "      <td>Lake Victoria</td>\n",
       "      <td>Nyamara</td>\n",
       "      <td>Mara</td>\n",
       "      <td>20</td>\n",
       "      <td>2</td>\n",
       "      <td>Serengeti</td>\n",
       "      <td>Natta</td>\n",
       "      <td>280.0</td>\n",
       "      <td>NaN</td>\n",
       "      <td>GeoData Consultants Ltd</td>\n",
       "      <td>Other</td>\n",
       "      <td>NaN</td>\n",
       "      <td>True</td>\n",
       "      <td>2010.0</td>\n",
       "      <td>gravity</td>\n",
       "      <td>gravity</td>\n",
       "      <td>gravity</td>\n",
       "      <td>wug</td>\n",
       "      <td>user-group</td>\n",
       "      <td>never pay</td>\n",
       "      <td>never pay</td>\n",
       "      <td>soft</td>\n",
       "      <td>good</td>\n",
       "      <td>insufficient</td>\n",
       "      <td>insufficient</td>\n",
       "      <td>rainwater harvesting</td>\n",
       "      <td>rainwater harvesting</td>\n",
       "      <td>surface</td>\n",
       "      <td>communal standpipe</td>\n",
       "      <td>communal standpipe</td>\n",
       "      <td>1</td>\n",
       "      <td>34.698766</td>\n",
       "      <td>-2.147466</td>\n",
       "      <td>1399.0</td>\n",
       "      <td>542.857143</td>\n",
       "      <td>280.0</td>\n",
       "      <td>2010.0</td>\n",
       "      <td>34.698766</td>\n",
       "      <td>34.698766</td>\n",
       "      <td>-2.147466</td>\n",
       "      <td>-2.147466</td>\n",
       "      <td>1399.000000</td>\n",
       "      <td>1399.0</td>\n",
       "      <td>74.349311</td>\n",
       "      <td>1000.0</td>\n",
       "      <td>280.000000</td>\n",
       "      <td>280.0</td>\n",
       "      <td>2010.000000</td>\n",
       "      <td>2010.0</td>\n",
       "      <td>3</td>\n",
       "      <td>3</td>\n",
       "      <td>3</td>\n",
       "    </tr>\n",
       "    <tr>\n",
       "      <th>2</th>\n",
       "      <td>34310</td>\n",
       "      <td>25.0</td>\n",
       "      <td>2013-02-25</td>\n",
       "      <td>Lottery Club</td>\n",
       "      <td>686.0</td>\n",
       "      <td>World vision</td>\n",
       "      <td>37.460664</td>\n",
       "      <td>-3.821329</td>\n",
       "      <td>Kwa Mahundi</td>\n",
       "      <td>NaN</td>\n",
       "      <td>Pangani</td>\n",
       "      <td>Majengo</td>\n",
       "      <td>Manyara</td>\n",
       "      <td>21</td>\n",
       "      <td>4</td>\n",
       "      <td>Simanjiro</td>\n",
       "      <td>Ngorika</td>\n",
       "      <td>250.0</td>\n",
       "      <td>True</td>\n",
       "      <td>GeoData Consultants Ltd</td>\n",
       "      <td>VWC</td>\n",
       "      <td>Nyumba ya mungu pipe scheme</td>\n",
       "      <td>True</td>\n",
       "      <td>2009.0</td>\n",
       "      <td>gravity</td>\n",
       "      <td>gravity</td>\n",
       "      <td>gravity</td>\n",
       "      <td>vwc</td>\n",
       "      <td>user-group</td>\n",
       "      <td>pay per bucket</td>\n",
       "      <td>per bucket</td>\n",
       "      <td>soft</td>\n",
       "      <td>good</td>\n",
       "      <td>enough</td>\n",
       "      <td>enough</td>\n",
       "      <td>dam</td>\n",
       "      <td>dam</td>\n",
       "      <td>surface</td>\n",
       "      <td>communal standpipe multiple</td>\n",
       "      <td>communal standpipe</td>\n",
       "      <td>1</td>\n",
       "      <td>37.460664</td>\n",
       "      <td>-3.821329</td>\n",
       "      <td>686.0</td>\n",
       "      <td>25.000000</td>\n",
       "      <td>250.0</td>\n",
       "      <td>2009.0</td>\n",
       "      <td>37.460664</td>\n",
       "      <td>37.460664</td>\n",
       "      <td>-3.821329</td>\n",
       "      <td>-3.821329</td>\n",
       "      <td>686.000000</td>\n",
       "      <td>686.0</td>\n",
       "      <td>25.000000</td>\n",
       "      <td>25.0</td>\n",
       "      <td>250.000000</td>\n",
       "      <td>250.0</td>\n",
       "      <td>2009.000000</td>\n",
       "      <td>2009.0</td>\n",
       "      <td>4</td>\n",
       "      <td>4</td>\n",
       "      <td>4</td>\n",
       "    </tr>\n",
       "    <tr>\n",
       "      <th>3</th>\n",
       "      <td>67743</td>\n",
       "      <td>NaN</td>\n",
       "      <td>2013-01-28</td>\n",
       "      <td>Unicef</td>\n",
       "      <td>263.0</td>\n",
       "      <td>UNICEF</td>\n",
       "      <td>38.486161</td>\n",
       "      <td>-11.155298</td>\n",
       "      <td>Zahanati Ya Nanyumbu</td>\n",
       "      <td>NaN</td>\n",
       "      <td>Ruvuma / Southern Coast</td>\n",
       "      <td>Mahakamani</td>\n",
       "      <td>Mtwara</td>\n",
       "      <td>90</td>\n",
       "      <td>63</td>\n",
       "      <td>Nanyumbu</td>\n",
       "      <td>Nanyumbu</td>\n",
       "      <td>58.0</td>\n",
       "      <td>True</td>\n",
       "      <td>GeoData Consultants Ltd</td>\n",
       "      <td>VWC</td>\n",
       "      <td>NaN</td>\n",
       "      <td>True</td>\n",
       "      <td>1986.0</td>\n",
       "      <td>submersible</td>\n",
       "      <td>submersible</td>\n",
       "      <td>submersible</td>\n",
       "      <td>vwc</td>\n",
       "      <td>user-group</td>\n",
       "      <td>never pay</td>\n",
       "      <td>never pay</td>\n",
       "      <td>soft</td>\n",
       "      <td>good</td>\n",
       "      <td>dry</td>\n",
       "      <td>dry</td>\n",
       "      <td>machine dbh</td>\n",
       "      <td>borehole</td>\n",
       "      <td>groundwater</td>\n",
       "      <td>communal standpipe multiple</td>\n",
       "      <td>communal standpipe</td>\n",
       "      <td>1</td>\n",
       "      <td>38.486161</td>\n",
       "      <td>-11.155298</td>\n",
       "      <td>263.0</td>\n",
       "      <td>525.000000</td>\n",
       "      <td>58.0</td>\n",
       "      <td>1986.0</td>\n",
       "      <td>38.486161</td>\n",
       "      <td>38.486161</td>\n",
       "      <td>-11.155298</td>\n",
       "      <td>-11.155298</td>\n",
       "      <td>263.000000</td>\n",
       "      <td>263.0</td>\n",
       "      <td>-409.294439</td>\n",
       "      <td>1000.0</td>\n",
       "      <td>58.000000</td>\n",
       "      <td>58.0</td>\n",
       "      <td>1986.000000</td>\n",
       "      <td>1986.0</td>\n",
       "      <td>27</td>\n",
       "      <td>27</td>\n",
       "      <td>27</td>\n",
       "    </tr>\n",
       "    <tr>\n",
       "      <th>4</th>\n",
       "      <td>19728</td>\n",
       "      <td>NaN</td>\n",
       "      <td>2011-07-13</td>\n",
       "      <td>Action In A</td>\n",
       "      <td>NaN</td>\n",
       "      <td>Artisan</td>\n",
       "      <td>31.130847</td>\n",
       "      <td>-1.825359</td>\n",
       "      <td>Shuleni</td>\n",
       "      <td>NaN</td>\n",
       "      <td>Lake Victoria</td>\n",
       "      <td>Kyanyamisa</td>\n",
       "      <td>Kagera</td>\n",
       "      <td>18</td>\n",
       "      <td>1</td>\n",
       "      <td>Karagwe</td>\n",
       "      <td>Nyakasimbi</td>\n",
       "      <td>NaN</td>\n",
       "      <td>True</td>\n",
       "      <td>GeoData Consultants Ltd</td>\n",
       "      <td>NaN</td>\n",
       "      <td>NaN</td>\n",
       "      <td>True</td>\n",
       "      <td>NaN</td>\n",
       "      <td>gravity</td>\n",
       "      <td>gravity</td>\n",
       "      <td>gravity</td>\n",
       "      <td>other</td>\n",
       "      <td>other</td>\n",
       "      <td>never pay</td>\n",
       "      <td>never pay</td>\n",
       "      <td>soft</td>\n",
       "      <td>good</td>\n",
       "      <td>seasonal</td>\n",
       "      <td>seasonal</td>\n",
       "      <td>rainwater harvesting</td>\n",
       "      <td>rainwater harvesting</td>\n",
       "      <td>surface</td>\n",
       "      <td>communal standpipe</td>\n",
       "      <td>communal standpipe</td>\n",
       "      <td>1</td>\n",
       "      <td>31.130847</td>\n",
       "      <td>-1.825359</td>\n",
       "      <td>1167.0</td>\n",
       "      <td>1062.351942</td>\n",
       "      <td>150.0</td>\n",
       "      <td>2000.0</td>\n",
       "      <td>31.130847</td>\n",
       "      <td>31.130847</td>\n",
       "      <td>-1.825359</td>\n",
       "      <td>-1.825359</td>\n",
       "      <td>1216.846742</td>\n",
       "      <td>1161.0</td>\n",
       "      <td>1500.665788</td>\n",
       "      <td>300.0</td>\n",
       "      <td>-333.803882</td>\n",
       "      <td>150.0</td>\n",
       "      <td>1996.732218</td>\n",
       "      <td>2008.0</td>\n",
       "      <td>11</td>\n",
       "      <td>14</td>\n",
       "      <td>3</td>\n",
       "    </tr>\n",
       "  </tbody>\n",
       "</table>\n",
       "</div>"
      ],
      "text/plain": [
       "      id  amount_tsh date_recorded        funder  gps_height     installer  \\\n",
       "0  69572      6000.0    2011-03-14         Roman      1390.0         Roman   \n",
       "1   8776         NaN    2013-03-06       Grumeti      1399.0       GRUMETI   \n",
       "2  34310        25.0    2013-02-25  Lottery Club       686.0  World vision   \n",
       "3  67743         NaN    2013-01-28        Unicef       263.0        UNICEF   \n",
       "4  19728         NaN    2011-07-13   Action In A         NaN       Artisan   \n",
       "\n",
       "   longitude   latitude              wpt_name  num_private  \\\n",
       "0  34.938093  -9.856322                  none          NaN   \n",
       "1  34.698766  -2.147466              Zahanati          NaN   \n",
       "2  37.460664  -3.821329           Kwa Mahundi          NaN   \n",
       "3  38.486161 -11.155298  Zahanati Ya Nanyumbu          NaN   \n",
       "4  31.130847  -1.825359               Shuleni          NaN   \n",
       "\n",
       "                     basin  subvillage   region  region_code  district_code  \\\n",
       "0               Lake Nyasa    Mnyusi B   Iringa           11              5   \n",
       "1            Lake Victoria     Nyamara     Mara           20              2   \n",
       "2                  Pangani     Majengo  Manyara           21              4   \n",
       "3  Ruvuma / Southern Coast  Mahakamani   Mtwara           90             63   \n",
       "4            Lake Victoria  Kyanyamisa   Kagera           18              1   \n",
       "\n",
       "         lga        ward  population public_meeting              recorded_by  \\\n",
       "0     Ludewa    Mundindi       109.0           True  GeoData Consultants Ltd   \n",
       "1  Serengeti       Natta       280.0            NaN  GeoData Consultants Ltd   \n",
       "2  Simanjiro     Ngorika       250.0           True  GeoData Consultants Ltd   \n",
       "3   Nanyumbu    Nanyumbu        58.0           True  GeoData Consultants Ltd   \n",
       "4    Karagwe  Nyakasimbi         NaN           True  GeoData Consultants Ltd   \n",
       "\n",
       "  scheme_management                  scheme_name permit  construction_year  \\\n",
       "0               VWC                        Roman  False             1999.0   \n",
       "1             Other                          NaN   True             2010.0   \n",
       "2               VWC  Nyumba ya mungu pipe scheme   True             2009.0   \n",
       "3               VWC                          NaN   True             1986.0   \n",
       "4               NaN                          NaN   True                NaN   \n",
       "\n",
       "  extraction_type extraction_type_group extraction_type_class management  \\\n",
       "0         gravity               gravity               gravity        vwc   \n",
       "1         gravity               gravity               gravity        wug   \n",
       "2         gravity               gravity               gravity        vwc   \n",
       "3     submersible           submersible           submersible        vwc   \n",
       "4         gravity               gravity               gravity      other   \n",
       "\n",
       "  management_group         payment payment_type water_quality quality_group  \\\n",
       "0       user-group    pay annually     annually          soft          good   \n",
       "1       user-group       never pay    never pay          soft          good   \n",
       "2       user-group  pay per bucket   per bucket          soft          good   \n",
       "3       user-group       never pay    never pay          soft          good   \n",
       "4            other       never pay    never pay          soft          good   \n",
       "\n",
       "       quantity quantity_group                source           source_type  \\\n",
       "0        enough         enough                spring                spring   \n",
       "1  insufficient   insufficient  rainwater harvesting  rainwater harvesting   \n",
       "2        enough         enough                   dam                   dam   \n",
       "3           dry            dry           machine dbh              borehole   \n",
       "4      seasonal       seasonal  rainwater harvesting  rainwater harvesting   \n",
       "\n",
       "  source_class              waterpoint_type waterpoint_type_group  train  \\\n",
       "0  groundwater           communal standpipe    communal standpipe      1   \n",
       "1      surface           communal standpipe    communal standpipe      1   \n",
       "2      surface  communal standpipe multiple    communal standpipe      1   \n",
       "3  groundwater  communal standpipe multiple    communal standpipe      1   \n",
       "4      surface           communal standpipe    communal standpipe      1   \n",
       "\n",
       "   longitude_imp_mean-median  latitude_imp_mean-median  \\\n",
       "0                  34.938093                 -9.856322   \n",
       "1                  34.698766                 -2.147466   \n",
       "2                  37.460664                 -3.821329   \n",
       "3                  38.486161                -11.155298   \n",
       "4                  31.130847                 -1.825359   \n",
       "\n",
       "   gps_height_imp_mean-median  amount_tsh_imp_mean-median  \\\n",
       "0                      1390.0                 6000.000000   \n",
       "1                      1399.0                  542.857143   \n",
       "2                       686.0                   25.000000   \n",
       "3                       263.0                  525.000000   \n",
       "4                      1167.0                 1062.351942   \n",
       "\n",
       "   population_imp_mean-median  construction_year_imp_mean-median  \\\n",
       "0                       109.0                             1999.0   \n",
       "1                       280.0                             2010.0   \n",
       "2                       250.0                             2009.0   \n",
       "3                        58.0                             1986.0   \n",
       "4                       150.0                             2000.0   \n",
       "\n",
       "   longitude_imp_normal  longitude_imp_random_choice  latitude_imp_normal  \\\n",
       "0             34.938093                    34.938093            -9.856322   \n",
       "1             34.698766                    34.698766            -2.147466   \n",
       "2             37.460664                    37.460664            -3.821329   \n",
       "3             38.486161                    38.486161           -11.155298   \n",
       "4             31.130847                    31.130847            -1.825359   \n",
       "\n",
       "   latitude_imp_random_choice  gps_height_imp_normal  \\\n",
       "0                   -9.856322            1390.000000   \n",
       "1                   -2.147466            1399.000000   \n",
       "2                   -3.821329             686.000000   \n",
       "3                  -11.155298             263.000000   \n",
       "4                   -1.825359            1216.846742   \n",
       "\n",
       "   gps_height_imp_random_choice  amount_tsh_imp_normal  \\\n",
       "0                        1390.0            6000.000000   \n",
       "1                        1399.0              74.349311   \n",
       "2                         686.0              25.000000   \n",
       "3                         263.0            -409.294439   \n",
       "4                        1161.0            1500.665788   \n",
       "\n",
       "   amount_tsh_imp_random_choice  population_imp_normal  \\\n",
       "0                        6000.0             109.000000   \n",
       "1                        1000.0             280.000000   \n",
       "2                          25.0             250.000000   \n",
       "3                        1000.0              58.000000   \n",
       "4                         300.0            -333.803882   \n",
       "\n",
       "   population_imp_random_choice  construction_year_imp_normal  \\\n",
       "0                         109.0                   1999.000000   \n",
       "1                         280.0                   2010.000000   \n",
       "2                         250.0                   2009.000000   \n",
       "3                          58.0                   1986.000000   \n",
       "4                         150.0                   1996.732218   \n",
       "\n",
       "   construction_year_imp_random_choice  operation_years_imp_mean-median  \\\n",
       "0                               1999.0                               12   \n",
       "1                               2010.0                                3   \n",
       "2                               2009.0                                4   \n",
       "3                               1986.0                               27   \n",
       "4                               2008.0                               11   \n",
       "\n",
       "   operation_years_imp_normal  operation_years_imp_random_choice  \n",
       "0                          12                                 12  \n",
       "1                           3                                  3  \n",
       "2                           4                                  4  \n",
       "3                          27                                 27  \n",
       "4                          14                                  3  "
      ]
     },
     "execution_count": 18,
     "metadata": {},
     "output_type": "execute_result"
    }
   ],
   "source": [
    "data.head()"
   ]
  },
  {
   "cell_type": "markdown",
   "metadata": {},
   "source": [
    "### Scaling of numerical features"
   ]
  },
  {
   "cell_type": "code",
   "execution_count": null,
   "metadata": {},
   "outputs": [],
   "source": [
    "# Scale numerical features\n",
    "'''\n",
    "scaler = MinMaxScaler()\n",
    "\n",
    "for s in split:\n",
    "    s[num_features] = scaler.fit_transform(s[num_features])\n",
    "'''"
   ]
  },
  {
   "cell_type": "markdown",
   "metadata": {},
   "source": [
    "### Drop irrelevant features"
   ]
  },
  {
   "cell_type": "code",
   "execution_count": null,
   "metadata": {},
   "outputs": [],
   "source": [
    "# Drop columns used for imputation and generation of random numbers\n",
    "'''\n",
    "drop_columns = list()\n",
    "measures = 'mean std list'.split()\n",
    "for null_feature in null_features:\n",
    "    for division in divisions_total:\n",
    "        for measure in measures:\n",
    "            drop_columns.append('_'.join([null_feature, measure, division]))\n",
    "            \n",
    "for var in int_var:\n",
    "    for division in divisions_total:\n",
    "        for measure in measures:\n",
    "            drop_columns.append('_'.join([var, 'median', division]))\n",
    "            \n",
    "data.drop(columns=drop_columns, inplace=True)'''"
   ]
  },
  {
   "cell_type": "code",
   "execution_count": 19,
   "metadata": {},
   "outputs": [
    {
     "data": {
      "text/html": [
       "<div>\n",
       "<style scoped>\n",
       "    .dataframe tbody tr th:only-of-type {\n",
       "        vertical-align: middle;\n",
       "    }\n",
       "\n",
       "    .dataframe tbody tr th {\n",
       "        vertical-align: top;\n",
       "    }\n",
       "\n",
       "    .dataframe thead th {\n",
       "        text-align: right;\n",
       "    }\n",
       "</style>\n",
       "<table border=\"1\" class=\"dataframe\">\n",
       "  <thead>\n",
       "    <tr style=\"text-align: right;\">\n",
       "      <th></th>\n",
       "      <th>id</th>\n",
       "      <th>amount_tsh</th>\n",
       "      <th>funder</th>\n",
       "      <th>gps_height</th>\n",
       "      <th>installer</th>\n",
       "      <th>longitude</th>\n",
       "      <th>latitude</th>\n",
       "      <th>basin</th>\n",
       "      <th>subvillage</th>\n",
       "      <th>region</th>\n",
       "      <th>region_code</th>\n",
       "      <th>district_code</th>\n",
       "      <th>lga</th>\n",
       "      <th>ward</th>\n",
       "      <th>population</th>\n",
       "      <th>public_meeting</th>\n",
       "      <th>scheme_management</th>\n",
       "      <th>scheme_name</th>\n",
       "      <th>permit</th>\n",
       "      <th>construction_year</th>\n",
       "      <th>extraction_type</th>\n",
       "      <th>management</th>\n",
       "      <th>payment_type</th>\n",
       "      <th>water_quality</th>\n",
       "      <th>quantity</th>\n",
       "      <th>source</th>\n",
       "      <th>waterpoint_type</th>\n",
       "      <th>train</th>\n",
       "      <th>longitude_imp_mean-median</th>\n",
       "      <th>latitude_imp_mean-median</th>\n",
       "      <th>gps_height_imp_mean-median</th>\n",
       "      <th>amount_tsh_imp_mean-median</th>\n",
       "      <th>population_imp_mean-median</th>\n",
       "      <th>construction_year_imp_mean-median</th>\n",
       "      <th>longitude_imp_normal</th>\n",
       "      <th>longitude_imp_random_choice</th>\n",
       "      <th>latitude_imp_normal</th>\n",
       "      <th>latitude_imp_random_choice</th>\n",
       "      <th>gps_height_imp_normal</th>\n",
       "      <th>gps_height_imp_random_choice</th>\n",
       "      <th>amount_tsh_imp_normal</th>\n",
       "      <th>amount_tsh_imp_random_choice</th>\n",
       "      <th>population_imp_normal</th>\n",
       "      <th>population_imp_random_choice</th>\n",
       "      <th>construction_year_imp_normal</th>\n",
       "      <th>construction_year_imp_random_choice</th>\n",
       "      <th>operation_years_imp_mean-median</th>\n",
       "      <th>operation_years_imp_normal</th>\n",
       "      <th>operation_years_imp_random_choice</th>\n",
       "    </tr>\n",
       "  </thead>\n",
       "  <tbody>\n",
       "    <tr>\n",
       "      <th>0</th>\n",
       "      <td>69572</td>\n",
       "      <td>6000.0</td>\n",
       "      <td>Roman</td>\n",
       "      <td>1390.0</td>\n",
       "      <td>Roman</td>\n",
       "      <td>34.938093</td>\n",
       "      <td>-9.856322</td>\n",
       "      <td>Lake Nyasa</td>\n",
       "      <td>Mnyusi B</td>\n",
       "      <td>Iringa</td>\n",
       "      <td>11</td>\n",
       "      <td>5</td>\n",
       "      <td>Ludewa</td>\n",
       "      <td>Mundindi</td>\n",
       "      <td>109.0</td>\n",
       "      <td>True</td>\n",
       "      <td>VWC</td>\n",
       "      <td>Roman</td>\n",
       "      <td>False</td>\n",
       "      <td>1999.0</td>\n",
       "      <td>gravity</td>\n",
       "      <td>vwc</td>\n",
       "      <td>annually</td>\n",
       "      <td>soft</td>\n",
       "      <td>enough</td>\n",
       "      <td>spring</td>\n",
       "      <td>communal standpipe</td>\n",
       "      <td>1</td>\n",
       "      <td>34.938093</td>\n",
       "      <td>-9.856322</td>\n",
       "      <td>1390.0</td>\n",
       "      <td>6000.000000</td>\n",
       "      <td>109.0</td>\n",
       "      <td>1999.0</td>\n",
       "      <td>34.938093</td>\n",
       "      <td>34.938093</td>\n",
       "      <td>-9.856322</td>\n",
       "      <td>-9.856322</td>\n",
       "      <td>1390.000000</td>\n",
       "      <td>1390.0</td>\n",
       "      <td>6000.000000</td>\n",
       "      <td>6000.0</td>\n",
       "      <td>109.000000</td>\n",
       "      <td>109.0</td>\n",
       "      <td>1999.000000</td>\n",
       "      <td>1999.0</td>\n",
       "      <td>12</td>\n",
       "      <td>12</td>\n",
       "      <td>12</td>\n",
       "    </tr>\n",
       "    <tr>\n",
       "      <th>1</th>\n",
       "      <td>8776</td>\n",
       "      <td>NaN</td>\n",
       "      <td>Grumeti</td>\n",
       "      <td>1399.0</td>\n",
       "      <td>GRUMETI</td>\n",
       "      <td>34.698766</td>\n",
       "      <td>-2.147466</td>\n",
       "      <td>Lake Victoria</td>\n",
       "      <td>Nyamara</td>\n",
       "      <td>Mara</td>\n",
       "      <td>20</td>\n",
       "      <td>2</td>\n",
       "      <td>Serengeti</td>\n",
       "      <td>Natta</td>\n",
       "      <td>280.0</td>\n",
       "      <td>NaN</td>\n",
       "      <td>Other</td>\n",
       "      <td>NaN</td>\n",
       "      <td>True</td>\n",
       "      <td>2010.0</td>\n",
       "      <td>gravity</td>\n",
       "      <td>wug</td>\n",
       "      <td>never pay</td>\n",
       "      <td>soft</td>\n",
       "      <td>insufficient</td>\n",
       "      <td>rainwater harvesting</td>\n",
       "      <td>communal standpipe</td>\n",
       "      <td>1</td>\n",
       "      <td>34.698766</td>\n",
       "      <td>-2.147466</td>\n",
       "      <td>1399.0</td>\n",
       "      <td>542.857143</td>\n",
       "      <td>280.0</td>\n",
       "      <td>2010.0</td>\n",
       "      <td>34.698766</td>\n",
       "      <td>34.698766</td>\n",
       "      <td>-2.147466</td>\n",
       "      <td>-2.147466</td>\n",
       "      <td>1399.000000</td>\n",
       "      <td>1399.0</td>\n",
       "      <td>74.349311</td>\n",
       "      <td>1000.0</td>\n",
       "      <td>280.000000</td>\n",
       "      <td>280.0</td>\n",
       "      <td>2010.000000</td>\n",
       "      <td>2010.0</td>\n",
       "      <td>3</td>\n",
       "      <td>3</td>\n",
       "      <td>3</td>\n",
       "    </tr>\n",
       "    <tr>\n",
       "      <th>2</th>\n",
       "      <td>34310</td>\n",
       "      <td>25.0</td>\n",
       "      <td>Lottery Club</td>\n",
       "      <td>686.0</td>\n",
       "      <td>World vision</td>\n",
       "      <td>37.460664</td>\n",
       "      <td>-3.821329</td>\n",
       "      <td>Pangani</td>\n",
       "      <td>Majengo</td>\n",
       "      <td>Manyara</td>\n",
       "      <td>21</td>\n",
       "      <td>4</td>\n",
       "      <td>Simanjiro</td>\n",
       "      <td>Ngorika</td>\n",
       "      <td>250.0</td>\n",
       "      <td>True</td>\n",
       "      <td>VWC</td>\n",
       "      <td>Nyumba ya mungu pipe scheme</td>\n",
       "      <td>True</td>\n",
       "      <td>2009.0</td>\n",
       "      <td>gravity</td>\n",
       "      <td>vwc</td>\n",
       "      <td>per bucket</td>\n",
       "      <td>soft</td>\n",
       "      <td>enough</td>\n",
       "      <td>dam</td>\n",
       "      <td>communal standpipe multiple</td>\n",
       "      <td>1</td>\n",
       "      <td>37.460664</td>\n",
       "      <td>-3.821329</td>\n",
       "      <td>686.0</td>\n",
       "      <td>25.000000</td>\n",
       "      <td>250.0</td>\n",
       "      <td>2009.0</td>\n",
       "      <td>37.460664</td>\n",
       "      <td>37.460664</td>\n",
       "      <td>-3.821329</td>\n",
       "      <td>-3.821329</td>\n",
       "      <td>686.000000</td>\n",
       "      <td>686.0</td>\n",
       "      <td>25.000000</td>\n",
       "      <td>25.0</td>\n",
       "      <td>250.000000</td>\n",
       "      <td>250.0</td>\n",
       "      <td>2009.000000</td>\n",
       "      <td>2009.0</td>\n",
       "      <td>4</td>\n",
       "      <td>4</td>\n",
       "      <td>4</td>\n",
       "    </tr>\n",
       "    <tr>\n",
       "      <th>3</th>\n",
       "      <td>67743</td>\n",
       "      <td>NaN</td>\n",
       "      <td>Unicef</td>\n",
       "      <td>263.0</td>\n",
       "      <td>UNICEF</td>\n",
       "      <td>38.486161</td>\n",
       "      <td>-11.155298</td>\n",
       "      <td>Ruvuma / Southern Coast</td>\n",
       "      <td>Mahakamani</td>\n",
       "      <td>Mtwara</td>\n",
       "      <td>90</td>\n",
       "      <td>63</td>\n",
       "      <td>Nanyumbu</td>\n",
       "      <td>Nanyumbu</td>\n",
       "      <td>58.0</td>\n",
       "      <td>True</td>\n",
       "      <td>VWC</td>\n",
       "      <td>NaN</td>\n",
       "      <td>True</td>\n",
       "      <td>1986.0</td>\n",
       "      <td>submersible</td>\n",
       "      <td>vwc</td>\n",
       "      <td>never pay</td>\n",
       "      <td>soft</td>\n",
       "      <td>dry</td>\n",
       "      <td>machine dbh</td>\n",
       "      <td>communal standpipe multiple</td>\n",
       "      <td>1</td>\n",
       "      <td>38.486161</td>\n",
       "      <td>-11.155298</td>\n",
       "      <td>263.0</td>\n",
       "      <td>525.000000</td>\n",
       "      <td>58.0</td>\n",
       "      <td>1986.0</td>\n",
       "      <td>38.486161</td>\n",
       "      <td>38.486161</td>\n",
       "      <td>-11.155298</td>\n",
       "      <td>-11.155298</td>\n",
       "      <td>263.000000</td>\n",
       "      <td>263.0</td>\n",
       "      <td>-409.294439</td>\n",
       "      <td>1000.0</td>\n",
       "      <td>58.000000</td>\n",
       "      <td>58.0</td>\n",
       "      <td>1986.000000</td>\n",
       "      <td>1986.0</td>\n",
       "      <td>27</td>\n",
       "      <td>27</td>\n",
       "      <td>27</td>\n",
       "    </tr>\n",
       "    <tr>\n",
       "      <th>4</th>\n",
       "      <td>19728</td>\n",
       "      <td>NaN</td>\n",
       "      <td>Action In A</td>\n",
       "      <td>NaN</td>\n",
       "      <td>Artisan</td>\n",
       "      <td>31.130847</td>\n",
       "      <td>-1.825359</td>\n",
       "      <td>Lake Victoria</td>\n",
       "      <td>Kyanyamisa</td>\n",
       "      <td>Kagera</td>\n",
       "      <td>18</td>\n",
       "      <td>1</td>\n",
       "      <td>Karagwe</td>\n",
       "      <td>Nyakasimbi</td>\n",
       "      <td>NaN</td>\n",
       "      <td>True</td>\n",
       "      <td>NaN</td>\n",
       "      <td>NaN</td>\n",
       "      <td>True</td>\n",
       "      <td>NaN</td>\n",
       "      <td>gravity</td>\n",
       "      <td>other</td>\n",
       "      <td>never pay</td>\n",
       "      <td>soft</td>\n",
       "      <td>seasonal</td>\n",
       "      <td>rainwater harvesting</td>\n",
       "      <td>communal standpipe</td>\n",
       "      <td>1</td>\n",
       "      <td>31.130847</td>\n",
       "      <td>-1.825359</td>\n",
       "      <td>1167.0</td>\n",
       "      <td>1062.351942</td>\n",
       "      <td>150.0</td>\n",
       "      <td>2000.0</td>\n",
       "      <td>31.130847</td>\n",
       "      <td>31.130847</td>\n",
       "      <td>-1.825359</td>\n",
       "      <td>-1.825359</td>\n",
       "      <td>1216.846742</td>\n",
       "      <td>1161.0</td>\n",
       "      <td>1500.665788</td>\n",
       "      <td>300.0</td>\n",
       "      <td>-333.803882</td>\n",
       "      <td>150.0</td>\n",
       "      <td>1996.732218</td>\n",
       "      <td>2008.0</td>\n",
       "      <td>11</td>\n",
       "      <td>14</td>\n",
       "      <td>3</td>\n",
       "    </tr>\n",
       "  </tbody>\n",
       "</table>\n",
       "</div>"
      ],
      "text/plain": [
       "      id  amount_tsh        funder  gps_height     installer  longitude  \\\n",
       "0  69572      6000.0         Roman      1390.0         Roman  34.938093   \n",
       "1   8776         NaN       Grumeti      1399.0       GRUMETI  34.698766   \n",
       "2  34310        25.0  Lottery Club       686.0  World vision  37.460664   \n",
       "3  67743         NaN        Unicef       263.0        UNICEF  38.486161   \n",
       "4  19728         NaN   Action In A         NaN       Artisan  31.130847   \n",
       "\n",
       "    latitude                    basin  subvillage   region  region_code  \\\n",
       "0  -9.856322               Lake Nyasa    Mnyusi B   Iringa           11   \n",
       "1  -2.147466            Lake Victoria     Nyamara     Mara           20   \n",
       "2  -3.821329                  Pangani     Majengo  Manyara           21   \n",
       "3 -11.155298  Ruvuma / Southern Coast  Mahakamani   Mtwara           90   \n",
       "4  -1.825359            Lake Victoria  Kyanyamisa   Kagera           18   \n",
       "\n",
       "   district_code        lga        ward  population public_meeting  \\\n",
       "0              5     Ludewa    Mundindi       109.0           True   \n",
       "1              2  Serengeti       Natta       280.0            NaN   \n",
       "2              4  Simanjiro     Ngorika       250.0           True   \n",
       "3             63   Nanyumbu    Nanyumbu        58.0           True   \n",
       "4              1    Karagwe  Nyakasimbi         NaN           True   \n",
       "\n",
       "  scheme_management                  scheme_name permit  construction_year  \\\n",
       "0               VWC                        Roman  False             1999.0   \n",
       "1             Other                          NaN   True             2010.0   \n",
       "2               VWC  Nyumba ya mungu pipe scheme   True             2009.0   \n",
       "3               VWC                          NaN   True             1986.0   \n",
       "4               NaN                          NaN   True                NaN   \n",
       "\n",
       "  extraction_type management payment_type water_quality      quantity  \\\n",
       "0         gravity        vwc     annually          soft        enough   \n",
       "1         gravity        wug    never pay          soft  insufficient   \n",
       "2         gravity        vwc   per bucket          soft        enough   \n",
       "3     submersible        vwc    never pay          soft           dry   \n",
       "4         gravity      other    never pay          soft      seasonal   \n",
       "\n",
       "                 source              waterpoint_type  train  \\\n",
       "0                spring           communal standpipe      1   \n",
       "1  rainwater harvesting           communal standpipe      1   \n",
       "2                   dam  communal standpipe multiple      1   \n",
       "3           machine dbh  communal standpipe multiple      1   \n",
       "4  rainwater harvesting           communal standpipe      1   \n",
       "\n",
       "   longitude_imp_mean-median  latitude_imp_mean-median  \\\n",
       "0                  34.938093                 -9.856322   \n",
       "1                  34.698766                 -2.147466   \n",
       "2                  37.460664                 -3.821329   \n",
       "3                  38.486161                -11.155298   \n",
       "4                  31.130847                 -1.825359   \n",
       "\n",
       "   gps_height_imp_mean-median  amount_tsh_imp_mean-median  \\\n",
       "0                      1390.0                 6000.000000   \n",
       "1                      1399.0                  542.857143   \n",
       "2                       686.0                   25.000000   \n",
       "3                       263.0                  525.000000   \n",
       "4                      1167.0                 1062.351942   \n",
       "\n",
       "   population_imp_mean-median  construction_year_imp_mean-median  \\\n",
       "0                       109.0                             1999.0   \n",
       "1                       280.0                             2010.0   \n",
       "2                       250.0                             2009.0   \n",
       "3                        58.0                             1986.0   \n",
       "4                       150.0                             2000.0   \n",
       "\n",
       "   longitude_imp_normal  longitude_imp_random_choice  latitude_imp_normal  \\\n",
       "0             34.938093                    34.938093            -9.856322   \n",
       "1             34.698766                    34.698766            -2.147466   \n",
       "2             37.460664                    37.460664            -3.821329   \n",
       "3             38.486161                    38.486161           -11.155298   \n",
       "4             31.130847                    31.130847            -1.825359   \n",
       "\n",
       "   latitude_imp_random_choice  gps_height_imp_normal  \\\n",
       "0                   -9.856322            1390.000000   \n",
       "1                   -2.147466            1399.000000   \n",
       "2                   -3.821329             686.000000   \n",
       "3                  -11.155298             263.000000   \n",
       "4                   -1.825359            1216.846742   \n",
       "\n",
       "   gps_height_imp_random_choice  amount_tsh_imp_normal  \\\n",
       "0                        1390.0            6000.000000   \n",
       "1                        1399.0              74.349311   \n",
       "2                         686.0              25.000000   \n",
       "3                         263.0            -409.294439   \n",
       "4                        1161.0            1500.665788   \n",
       "\n",
       "   amount_tsh_imp_random_choice  population_imp_normal  \\\n",
       "0                        6000.0             109.000000   \n",
       "1                        1000.0             280.000000   \n",
       "2                          25.0             250.000000   \n",
       "3                        1000.0              58.000000   \n",
       "4                         300.0            -333.803882   \n",
       "\n",
       "   population_imp_random_choice  construction_year_imp_normal  \\\n",
       "0                         109.0                   1999.000000   \n",
       "1                         280.0                   2010.000000   \n",
       "2                         250.0                   2009.000000   \n",
       "3                          58.0                   1986.000000   \n",
       "4                         150.0                   1996.732218   \n",
       "\n",
       "   construction_year_imp_random_choice  operation_years_imp_mean-median  \\\n",
       "0                               1999.0                               12   \n",
       "1                               2010.0                                3   \n",
       "2                               2009.0                                4   \n",
       "3                               1986.0                               27   \n",
       "4                               2008.0                               11   \n",
       "\n",
       "   operation_years_imp_normal  operation_years_imp_random_choice  \n",
       "0                          12                                 12  \n",
       "1                           3                                  3  \n",
       "2                           4                                  4  \n",
       "3                          27                                 27  \n",
       "4                          14                                  3  "
      ]
     },
     "execution_count": 19,
     "metadata": {},
     "output_type": "execute_result"
    }
   ],
   "source": [
    "# Drop redundant features and features that do not seem to have an impact\n",
    "\n",
    "data.drop(columns=features_to_drop,axis=1,inplace=True)\n",
    "data.head()"
   ]
  },
  {
   "cell_type": "markdown",
   "metadata": {},
   "source": [
    "### Preparation of categorical features\n",
    "\n",
    "No grouping and factorizing of categorical features in data version 0.1; missing values replaced by 'Missing' only"
   ]
  },
  {
   "cell_type": "markdown",
   "metadata": {},
   "source": [
    "#### Replace unique values that only appear in the test data set \n",
    "(either by 'Others' or by the most frequent value in the corresponding column of the train data set)\n",
    "\n",
    "Used for data version 0.3"
   ]
  },
  {
   "cell_type": "code",
   "execution_count": 20,
   "metadata": {
    "scrolled": true
   },
   "outputs": [
    {
     "data": {
      "text/plain": [
       "'funder, train: 1897'"
      ]
     },
     "metadata": {},
     "output_type": "display_data"
    },
    {
     "data": {
      "text/plain": [
       "'funder, test: 980'"
      ]
     },
     "metadata": {},
     "output_type": "display_data"
    },
    {
     "data": {
      "text/plain": [
       "'funder, data: 2140'"
      ]
     },
     "metadata": {},
     "output_type": "display_data"
    },
    {
     "data": {
      "text/plain": [
       "'installer, train: 2145'"
      ]
     },
     "metadata": {},
     "output_type": "display_data"
    },
    {
     "data": {
      "text/plain": [
       "'installer, test: 1091'"
      ]
     },
     "metadata": {},
     "output_type": "display_data"
    },
    {
     "data": {
      "text/plain": [
       "'installer, data: 2410'"
      ]
     },
     "metadata": {},
     "output_type": "display_data"
    },
    {
     "data": {
      "text/plain": [
       "'subvillage, train: 19287'"
      ]
     },
     "metadata": {},
     "output_type": "display_data"
    },
    {
     "data": {
      "text/plain": [
       "'subvillage, test: 8443'"
      ]
     },
     "metadata": {},
     "output_type": "display_data"
    },
    {
     "data": {
      "text/plain": [
       "'subvillage, data: 21425'"
      ]
     },
     "metadata": {},
     "output_type": "display_data"
    },
    {
     "data": {
      "text/plain": [
       "'public_meeting, train: 2'"
      ]
     },
     "metadata": {},
     "output_type": "display_data"
    },
    {
     "data": {
      "text/plain": [
       "'public_meeting, test: 2'"
      ]
     },
     "metadata": {},
     "output_type": "display_data"
    },
    {
     "data": {
      "text/plain": [
       "'public_meeting, data: 2'"
      ]
     },
     "metadata": {},
     "output_type": "display_data"
    },
    {
     "data": {
      "text/plain": [
       "'scheme_management, train: 12'"
      ]
     },
     "metadata": {},
     "output_type": "display_data"
    },
    {
     "data": {
      "text/plain": [
       "'scheme_management, test: 11'"
      ]
     },
     "metadata": {},
     "output_type": "display_data"
    },
    {
     "data": {
      "text/plain": [
       "'scheme_management, data: 12'"
      ]
     },
     "metadata": {},
     "output_type": "display_data"
    },
    {
     "data": {
      "text/plain": [
       "'scheme_name, train: 2696'"
      ]
     },
     "metadata": {},
     "output_type": "display_data"
    },
    {
     "data": {
      "text/plain": [
       "'scheme_name, test: 1789'"
      ]
     },
     "metadata": {},
     "output_type": "display_data"
    },
    {
     "data": {
      "text/plain": [
       "'scheme_name, data: 2868'"
      ]
     },
     "metadata": {},
     "output_type": "display_data"
    },
    {
     "data": {
      "text/plain": [
       "'permit, train: 2'"
      ]
     },
     "metadata": {},
     "output_type": "display_data"
    },
    {
     "data": {
      "text/plain": [
       "'permit, test: 2'"
      ]
     },
     "metadata": {},
     "output_type": "display_data"
    },
    {
     "data": {
      "text/plain": [
       "'permit, data: 2'"
      ]
     },
     "metadata": {},
     "output_type": "display_data"
    },
    {
     "data": {
      "text/plain": [
       "'basin, train: 9'"
      ]
     },
     "metadata": {},
     "output_type": "display_data"
    },
    {
     "data": {
      "text/plain": [
       "'basin, test: 9'"
      ]
     },
     "metadata": {},
     "output_type": "display_data"
    },
    {
     "data": {
      "text/plain": [
       "'basin, data: 9'"
      ]
     },
     "metadata": {},
     "output_type": "display_data"
    },
    {
     "data": {
      "text/plain": [
       "'region, train: 21'"
      ]
     },
     "metadata": {},
     "output_type": "display_data"
    },
    {
     "data": {
      "text/plain": [
       "'region, test: 21'"
      ]
     },
     "metadata": {},
     "output_type": "display_data"
    },
    {
     "data": {
      "text/plain": [
       "'region, data: 21'"
      ]
     },
     "metadata": {},
     "output_type": "display_data"
    },
    {
     "data": {
      "text/plain": [
       "'lga, train: 125'"
      ]
     },
     "metadata": {},
     "output_type": "display_data"
    },
    {
     "data": {
      "text/plain": [
       "'lga, test: 125'"
      ]
     },
     "metadata": {},
     "output_type": "display_data"
    },
    {
     "data": {
      "text/plain": [
       "'lga, data: 125'"
      ]
     },
     "metadata": {},
     "output_type": "display_data"
    },
    {
     "data": {
      "text/plain": [
       "'ward, train: 2092'"
      ]
     },
     "metadata": {},
     "output_type": "display_data"
    },
    {
     "data": {
      "text/plain": [
       "'ward, test: 1959'"
      ]
     },
     "metadata": {},
     "output_type": "display_data"
    },
    {
     "data": {
      "text/plain": [
       "'ward, data: 2098'"
      ]
     },
     "metadata": {},
     "output_type": "display_data"
    },
    {
     "data": {
      "text/plain": [
       "'extraction_type, train: 18'"
      ]
     },
     "metadata": {},
     "output_type": "display_data"
    },
    {
     "data": {
      "text/plain": [
       "'extraction_type, test: 17'"
      ]
     },
     "metadata": {},
     "output_type": "display_data"
    },
    {
     "data": {
      "text/plain": [
       "'extraction_type, data: 18'"
      ]
     },
     "metadata": {},
     "output_type": "display_data"
    },
    {
     "data": {
      "text/plain": [
       "'management, train: 12'"
      ]
     },
     "metadata": {},
     "output_type": "display_data"
    },
    {
     "data": {
      "text/plain": [
       "'management, test: 12'"
      ]
     },
     "metadata": {},
     "output_type": "display_data"
    },
    {
     "data": {
      "text/plain": [
       "'management, data: 12'"
      ]
     },
     "metadata": {},
     "output_type": "display_data"
    },
    {
     "data": {
      "text/plain": [
       "'payment_type, train: 7'"
      ]
     },
     "metadata": {},
     "output_type": "display_data"
    },
    {
     "data": {
      "text/plain": [
       "'payment_type, test: 7'"
      ]
     },
     "metadata": {},
     "output_type": "display_data"
    },
    {
     "data": {
      "text/plain": [
       "'payment_type, data: 7'"
      ]
     },
     "metadata": {},
     "output_type": "display_data"
    },
    {
     "data": {
      "text/plain": [
       "'water_quality, train: 8'"
      ]
     },
     "metadata": {},
     "output_type": "display_data"
    },
    {
     "data": {
      "text/plain": [
       "'water_quality, test: 8'"
      ]
     },
     "metadata": {},
     "output_type": "display_data"
    },
    {
     "data": {
      "text/plain": [
       "'water_quality, data: 8'"
      ]
     },
     "metadata": {},
     "output_type": "display_data"
    },
    {
     "data": {
      "text/plain": [
       "'quantity, train: 5'"
      ]
     },
     "metadata": {},
     "output_type": "display_data"
    },
    {
     "data": {
      "text/plain": [
       "'quantity, test: 5'"
      ]
     },
     "metadata": {},
     "output_type": "display_data"
    },
    {
     "data": {
      "text/plain": [
       "'quantity, data: 5'"
      ]
     },
     "metadata": {},
     "output_type": "display_data"
    },
    {
     "data": {
      "text/plain": [
       "'source, train: 10'"
      ]
     },
     "metadata": {},
     "output_type": "display_data"
    },
    {
     "data": {
      "text/plain": [
       "'source, test: 10'"
      ]
     },
     "metadata": {},
     "output_type": "display_data"
    },
    {
     "data": {
      "text/plain": [
       "'source, data: 10'"
      ]
     },
     "metadata": {},
     "output_type": "display_data"
    },
    {
     "data": {
      "text/plain": [
       "'waterpoint_type, train: 7'"
      ]
     },
     "metadata": {},
     "output_type": "display_data"
    },
    {
     "data": {
      "text/plain": [
       "'waterpoint_type, test: 7'"
      ]
     },
     "metadata": {},
     "output_type": "display_data"
    },
    {
     "data": {
      "text/plain": [
       "'waterpoint_type, data: 7'"
      ]
     },
     "metadata": {},
     "output_type": "display_data"
    }
   ],
   "source": [
    "for cat in cat_features:\n",
    "    display('{}, {}: {}'.format(cat, 'train', train[cat].nunique()))\n",
    "    display('{}, {}: {}'.format(cat, 'test', test[cat].nunique()))\n",
    "    display('{}, {}: {}'.format(cat, 'data', data[cat].nunique()))"
   ]
  },
  {
   "cell_type": "code",
   "execution_count": 21,
   "metadata": {},
   "outputs": [
    {
     "data": {
      "text/plain": [
       "['funder', 'installer', 'subvillage', 'scheme_name', 'ward']"
      ]
     },
     "execution_count": 21,
     "metadata": {},
     "output_type": "execute_result"
    }
   ],
   "source": [
    "# Get list of features that contain values in the test which don't appear in the training data\n",
    "unique_test_features = list()\n",
    "for cat in cat_features:\n",
    "    if train[cat].nunique() < data[cat].nunique():\n",
    "        unique_test_features.append(cat)\n",
    "unique_test_features"
   ]
  },
  {
   "cell_type": "code",
   "execution_count": 22,
   "metadata": {},
   "outputs": [],
   "source": [
    "# Set unique values that appear in the test dataset only to 'Others' if 'Others' appears in the training dataset, else set it to most frequent value in the corresponding column\n",
    "for feature in unique_test_features:\n",
    "    train_values = train[feature].unique().tolist()\n",
    "    test_values = test[feature].unique().tolist()\n",
    "    merged_values = pd.DataFrame(train_values).merge(pd.DataFrame(test_values), how='right', indicator=True)\n",
    "    unique_test_values = list(merged_values[0].loc[merged_values['_merge'] == 'right_only'])\n",
    "    replace_value = 'Others' if 'Others' in train_values else train[feature].mode()\n",
    "    for value in unique_test_values:\n",
    "        data.loc[data[feature] == value, feature] = replace_value  "
   ]
  },
  {
   "cell_type": "code",
   "execution_count": 23,
   "metadata": {
    "scrolled": true
   },
   "outputs": [
    {
     "data": {
      "text/plain": [
       "'funder, NaNs: 4504'"
      ]
     },
     "metadata": {},
     "output_type": "display_data"
    },
    {
     "data": {
      "text/plain": [
       "'funder, train: 1897'"
      ]
     },
     "metadata": {},
     "output_type": "display_data"
    },
    {
     "data": {
      "text/plain": [
       "'funder, test: 980'"
      ]
     },
     "metadata": {},
     "output_type": "display_data"
    },
    {
     "data": {
      "text/plain": [
       "'funder, overall: 1897'"
      ]
     },
     "metadata": {},
     "output_type": "display_data"
    },
    {
     "data": {
      "text/plain": [
       "'installer, NaNs: 4532'"
      ]
     },
     "metadata": {},
     "output_type": "display_data"
    },
    {
     "data": {
      "text/plain": [
       "'installer, train: 2145'"
      ]
     },
     "metadata": {},
     "output_type": "display_data"
    },
    {
     "data": {
      "text/plain": [
       "'installer, test: 1091'"
      ]
     },
     "metadata": {},
     "output_type": "display_data"
    },
    {
     "data": {
      "text/plain": [
       "'installer, overall: 2145'"
      ]
     },
     "metadata": {},
     "output_type": "display_data"
    },
    {
     "data": {
      "text/plain": [
       "'subvillage, NaNs: 2859'"
      ]
     },
     "metadata": {},
     "output_type": "display_data"
    },
    {
     "data": {
      "text/plain": [
       "'subvillage, train: 19287'"
      ]
     },
     "metadata": {},
     "output_type": "display_data"
    },
    {
     "data": {
      "text/plain": [
       "'subvillage, test: 8443'"
      ]
     },
     "metadata": {},
     "output_type": "display_data"
    },
    {
     "data": {
      "text/plain": [
       "'subvillage, overall: 19287'"
      ]
     },
     "metadata": {},
     "output_type": "display_data"
    },
    {
     "data": {
      "text/plain": [
       "'public_meeting, NaNs: 4155'"
      ]
     },
     "metadata": {},
     "output_type": "display_data"
    },
    {
     "data": {
      "text/plain": [
       "'public_meeting, train: 2'"
      ]
     },
     "metadata": {},
     "output_type": "display_data"
    },
    {
     "data": {
      "text/plain": [
       "'public_meeting, test: 2'"
      ]
     },
     "metadata": {},
     "output_type": "display_data"
    },
    {
     "data": {
      "text/plain": [
       "'public_meeting, overall: 2'"
      ]
     },
     "metadata": {},
     "output_type": "display_data"
    },
    {
     "data": {
      "text/plain": [
       "'scheme_management, NaNs: 4846'"
      ]
     },
     "metadata": {},
     "output_type": "display_data"
    },
    {
     "data": {
      "text/plain": [
       "'scheme_management, train: 12'"
      ]
     },
     "metadata": {},
     "output_type": "display_data"
    },
    {
     "data": {
      "text/plain": [
       "'scheme_management, test: 11'"
      ]
     },
     "metadata": {},
     "output_type": "display_data"
    },
    {
     "data": {
      "text/plain": [
       "'scheme_management, overall: 12'"
      ]
     },
     "metadata": {},
     "output_type": "display_data"
    },
    {
     "data": {
      "text/plain": [
       "'scheme_name, NaNs: 35445'"
      ]
     },
     "metadata": {},
     "output_type": "display_data"
    },
    {
     "data": {
      "text/plain": [
       "'scheme_name, train: 2696'"
      ]
     },
     "metadata": {},
     "output_type": "display_data"
    },
    {
     "data": {
      "text/plain": [
       "'scheme_name, test: 1789'"
      ]
     },
     "metadata": {},
     "output_type": "display_data"
    },
    {
     "data": {
      "text/plain": [
       "'scheme_name, overall: 2696'"
      ]
     },
     "metadata": {},
     "output_type": "display_data"
    },
    {
     "data": {
      "text/plain": [
       "'permit, NaNs: 3793'"
      ]
     },
     "metadata": {},
     "output_type": "display_data"
    },
    {
     "data": {
      "text/plain": [
       "'permit, train: 2'"
      ]
     },
     "metadata": {},
     "output_type": "display_data"
    },
    {
     "data": {
      "text/plain": [
       "'permit, test: 2'"
      ]
     },
     "metadata": {},
     "output_type": "display_data"
    },
    {
     "data": {
      "text/plain": [
       "'permit, overall: 2'"
      ]
     },
     "metadata": {},
     "output_type": "display_data"
    },
    {
     "data": {
      "text/plain": [
       "'basin, NaNs: 0'"
      ]
     },
     "metadata": {},
     "output_type": "display_data"
    },
    {
     "data": {
      "text/plain": [
       "'basin, train: 9'"
      ]
     },
     "metadata": {},
     "output_type": "display_data"
    },
    {
     "data": {
      "text/plain": [
       "'basin, test: 9'"
      ]
     },
     "metadata": {},
     "output_type": "display_data"
    },
    {
     "data": {
      "text/plain": [
       "'basin, overall: 9'"
      ]
     },
     "metadata": {},
     "output_type": "display_data"
    },
    {
     "data": {
      "text/plain": [
       "'region, NaNs: 0'"
      ]
     },
     "metadata": {},
     "output_type": "display_data"
    },
    {
     "data": {
      "text/plain": [
       "'region, train: 21'"
      ]
     },
     "metadata": {},
     "output_type": "display_data"
    },
    {
     "data": {
      "text/plain": [
       "'region, test: 21'"
      ]
     },
     "metadata": {},
     "output_type": "display_data"
    },
    {
     "data": {
      "text/plain": [
       "'region, overall: 21'"
      ]
     },
     "metadata": {},
     "output_type": "display_data"
    },
    {
     "data": {
      "text/plain": [
       "'lga, NaNs: 0'"
      ]
     },
     "metadata": {},
     "output_type": "display_data"
    },
    {
     "data": {
      "text/plain": [
       "'lga, train: 125'"
      ]
     },
     "metadata": {},
     "output_type": "display_data"
    },
    {
     "data": {
      "text/plain": [
       "'lga, test: 125'"
      ]
     },
     "metadata": {},
     "output_type": "display_data"
    },
    {
     "data": {
      "text/plain": [
       "'lga, overall: 125'"
      ]
     },
     "metadata": {},
     "output_type": "display_data"
    },
    {
     "data": {
      "text/plain": [
       "'ward, NaNs: 10'"
      ]
     },
     "metadata": {},
     "output_type": "display_data"
    },
    {
     "data": {
      "text/plain": [
       "'ward, train: 2092'"
      ]
     },
     "metadata": {},
     "output_type": "display_data"
    },
    {
     "data": {
      "text/plain": [
       "'ward, test: 1959'"
      ]
     },
     "metadata": {},
     "output_type": "display_data"
    },
    {
     "data": {
      "text/plain": [
       "'ward, overall: 2092'"
      ]
     },
     "metadata": {},
     "output_type": "display_data"
    },
    {
     "data": {
      "text/plain": [
       "'extraction_type, NaNs: 0'"
      ]
     },
     "metadata": {},
     "output_type": "display_data"
    },
    {
     "data": {
      "text/plain": [
       "'extraction_type, train: 18'"
      ]
     },
     "metadata": {},
     "output_type": "display_data"
    },
    {
     "data": {
      "text/plain": [
       "'extraction_type, test: 17'"
      ]
     },
     "metadata": {},
     "output_type": "display_data"
    },
    {
     "data": {
      "text/plain": [
       "'extraction_type, overall: 18'"
      ]
     },
     "metadata": {},
     "output_type": "display_data"
    },
    {
     "data": {
      "text/plain": [
       "'management, NaNs: 0'"
      ]
     },
     "metadata": {},
     "output_type": "display_data"
    },
    {
     "data": {
      "text/plain": [
       "'management, train: 12'"
      ]
     },
     "metadata": {},
     "output_type": "display_data"
    },
    {
     "data": {
      "text/plain": [
       "'management, test: 12'"
      ]
     },
     "metadata": {},
     "output_type": "display_data"
    },
    {
     "data": {
      "text/plain": [
       "'management, overall: 12'"
      ]
     },
     "metadata": {},
     "output_type": "display_data"
    },
    {
     "data": {
      "text/plain": [
       "'payment_type, NaNs: 0'"
      ]
     },
     "metadata": {},
     "output_type": "display_data"
    },
    {
     "data": {
      "text/plain": [
       "'payment_type, train: 7'"
      ]
     },
     "metadata": {},
     "output_type": "display_data"
    },
    {
     "data": {
      "text/plain": [
       "'payment_type, test: 7'"
      ]
     },
     "metadata": {},
     "output_type": "display_data"
    },
    {
     "data": {
      "text/plain": [
       "'payment_type, overall: 7'"
      ]
     },
     "metadata": {},
     "output_type": "display_data"
    },
    {
     "data": {
      "text/plain": [
       "'water_quality, NaNs: 0'"
      ]
     },
     "metadata": {},
     "output_type": "display_data"
    },
    {
     "data": {
      "text/plain": [
       "'water_quality, train: 8'"
      ]
     },
     "metadata": {},
     "output_type": "display_data"
    },
    {
     "data": {
      "text/plain": [
       "'water_quality, test: 8'"
      ]
     },
     "metadata": {},
     "output_type": "display_data"
    },
    {
     "data": {
      "text/plain": [
       "'water_quality, overall: 8'"
      ]
     },
     "metadata": {},
     "output_type": "display_data"
    },
    {
     "data": {
      "text/plain": [
       "'quantity, NaNs: 0'"
      ]
     },
     "metadata": {},
     "output_type": "display_data"
    },
    {
     "data": {
      "text/plain": [
       "'quantity, train: 5'"
      ]
     },
     "metadata": {},
     "output_type": "display_data"
    },
    {
     "data": {
      "text/plain": [
       "'quantity, test: 5'"
      ]
     },
     "metadata": {},
     "output_type": "display_data"
    },
    {
     "data": {
      "text/plain": [
       "'quantity, overall: 5'"
      ]
     },
     "metadata": {},
     "output_type": "display_data"
    },
    {
     "data": {
      "text/plain": [
       "'source, NaNs: 0'"
      ]
     },
     "metadata": {},
     "output_type": "display_data"
    },
    {
     "data": {
      "text/plain": [
       "'source, train: 10'"
      ]
     },
     "metadata": {},
     "output_type": "display_data"
    },
    {
     "data": {
      "text/plain": [
       "'source, test: 10'"
      ]
     },
     "metadata": {},
     "output_type": "display_data"
    },
    {
     "data": {
      "text/plain": [
       "'source, overall: 10'"
      ]
     },
     "metadata": {},
     "output_type": "display_data"
    },
    {
     "data": {
      "text/plain": [
       "'waterpoint_type, NaNs: 0'"
      ]
     },
     "metadata": {},
     "output_type": "display_data"
    },
    {
     "data": {
      "text/plain": [
       "'waterpoint_type, train: 7'"
      ]
     },
     "metadata": {},
     "output_type": "display_data"
    },
    {
     "data": {
      "text/plain": [
       "'waterpoint_type, test: 7'"
      ]
     },
     "metadata": {},
     "output_type": "display_data"
    },
    {
     "data": {
      "text/plain": [
       "'waterpoint_type, overall: 7'"
      ]
     },
     "metadata": {},
     "output_type": "display_data"
    }
   ],
   "source": [
    "for cat in cat_features:\n",
    "    display('{}, {}: {}'.format(cat, 'NaNs', data[cat].isnull().sum()))\n",
    "    display('{}, {}: {}'.format(cat, 'train', train[cat].nunique()))\n",
    "    display('{}, {}: {}'.format(cat, 'test', test[cat].nunique()))\n",
    "    display('{}, {}: {}'.format(cat, 'overall', data[cat].nunique()))"
   ]
  },
  {
   "cell_type": "markdown",
   "metadata": {},
   "source": [
    "#### Group feature categories other than top categories into 'Others'"
   ]
  },
  {
   "cell_type": "code",
   "execution_count": null,
   "metadata": {},
   "outputs": [],
   "source": [
    "# Reduce dimension of categorical variables with high dimensionality \n",
    "\n",
    "'''dim_red_features = 'funder installer scheme_name lga ward'.split()\n",
    "for feature in dim_red_features:\n",
    "    train = train.assign(count = train.groupby(feature)[feature].transform('count')).sort_values(by = ['count',feature], ascending = [False,True])\n",
    "    top_values = train.drop_duplicates('count')\n",
    "    top_values = list(top_values.nlargest(10, 'count')[feature])\n",
    "    data[feature] = data[feature].apply(lambda x: x if (x in top_values) | (str(x) == 'nan') else 'Others')'''"
   ]
  },
  {
   "cell_type": "code",
   "execution_count": null,
   "metadata": {},
   "outputs": [],
   "source": [
    "'''for cat in cat_features:\n",
    "    display('{}, {}: {}'.format(cat, 'NaNs', data[cat].isnull().sum()))\n",
    "    display('{}, {}: {}'.format(cat, 'train', train[cat].nunique()))\n",
    "    display('{}, {}: {}'.format(cat, 'test', test[cat].nunique()))\n",
    "    display('{}, {}: {}'.format(cat, 'overall', data[cat].nunique()))'''"
   ]
  },
  {
   "cell_type": "markdown",
   "metadata": {},
   "source": [
    "#### Replace missing values by 'Missing'\n",
    "Used in data version 0.3"
   ]
  },
  {
   "cell_type": "code",
   "execution_count": 25,
   "metadata": {},
   "outputs": [],
   "source": [
    "# Fill missing values in categorical features by 'Missing'\n",
    "\n",
    "for feature in cat_features:\n",
    "    data[feature].replace(np.nan, 'Missing', inplace=True)"
   ]
  },
  {
   "cell_type": "code",
   "execution_count": null,
   "metadata": {
    "scrolled": true
   },
   "outputs": [],
   "source": [
    "'''data['funder'].value_counts()\n",
    "data['installer'].value_counts()\n",
    "data['scheme_name'].value_counts()'''"
   ]
  },
  {
   "cell_type": "code",
   "execution_count": 26,
   "metadata": {},
   "outputs": [
    {
     "data": {
      "text/html": [
       "<div>\n",
       "<style scoped>\n",
       "    .dataframe tbody tr th:only-of-type {\n",
       "        vertical-align: middle;\n",
       "    }\n",
       "\n",
       "    .dataframe tbody tr th {\n",
       "        vertical-align: top;\n",
       "    }\n",
       "\n",
       "    .dataframe thead th {\n",
       "        text-align: right;\n",
       "    }\n",
       "</style>\n",
       "<table border=\"1\" class=\"dataframe\">\n",
       "  <thead>\n",
       "    <tr style=\"text-align: right;\">\n",
       "      <th></th>\n",
       "      <th>id</th>\n",
       "      <th>amount_tsh</th>\n",
       "      <th>funder</th>\n",
       "      <th>gps_height</th>\n",
       "      <th>installer</th>\n",
       "      <th>longitude</th>\n",
       "      <th>latitude</th>\n",
       "      <th>basin</th>\n",
       "      <th>subvillage</th>\n",
       "      <th>region</th>\n",
       "      <th>region_code</th>\n",
       "      <th>district_code</th>\n",
       "      <th>lga</th>\n",
       "      <th>ward</th>\n",
       "      <th>population</th>\n",
       "      <th>public_meeting</th>\n",
       "      <th>scheme_management</th>\n",
       "      <th>scheme_name</th>\n",
       "      <th>permit</th>\n",
       "      <th>construction_year</th>\n",
       "      <th>extraction_type</th>\n",
       "      <th>management</th>\n",
       "      <th>payment_type</th>\n",
       "      <th>water_quality</th>\n",
       "      <th>quantity</th>\n",
       "      <th>source</th>\n",
       "      <th>waterpoint_type</th>\n",
       "      <th>train</th>\n",
       "      <th>longitude_imp_mean-median</th>\n",
       "      <th>latitude_imp_mean-median</th>\n",
       "      <th>gps_height_imp_mean-median</th>\n",
       "      <th>amount_tsh_imp_mean-median</th>\n",
       "      <th>population_imp_mean-median</th>\n",
       "      <th>construction_year_imp_mean-median</th>\n",
       "      <th>longitude_imp_normal</th>\n",
       "      <th>longitude_imp_random_choice</th>\n",
       "      <th>latitude_imp_normal</th>\n",
       "      <th>latitude_imp_random_choice</th>\n",
       "      <th>gps_height_imp_normal</th>\n",
       "      <th>gps_height_imp_random_choice</th>\n",
       "      <th>amount_tsh_imp_normal</th>\n",
       "      <th>amount_tsh_imp_random_choice</th>\n",
       "      <th>population_imp_normal</th>\n",
       "      <th>population_imp_random_choice</th>\n",
       "      <th>construction_year_imp_normal</th>\n",
       "      <th>construction_year_imp_random_choice</th>\n",
       "      <th>operation_years_imp_mean-median</th>\n",
       "      <th>operation_years_imp_normal</th>\n",
       "      <th>operation_years_imp_random_choice</th>\n",
       "    </tr>\n",
       "  </thead>\n",
       "  <tbody>\n",
       "    <tr>\n",
       "      <th>0</th>\n",
       "      <td>69572</td>\n",
       "      <td>6000.0</td>\n",
       "      <td>Roman</td>\n",
       "      <td>1390.0</td>\n",
       "      <td>Roman</td>\n",
       "      <td>34.938093</td>\n",
       "      <td>-9.856322</td>\n",
       "      <td>Lake Nyasa</td>\n",
       "      <td>Mnyusi B</td>\n",
       "      <td>Iringa</td>\n",
       "      <td>11</td>\n",
       "      <td>5</td>\n",
       "      <td>Ludewa</td>\n",
       "      <td>Mundindi</td>\n",
       "      <td>109.0</td>\n",
       "      <td>True</td>\n",
       "      <td>VWC</td>\n",
       "      <td>Roman</td>\n",
       "      <td>False</td>\n",
       "      <td>1999.0</td>\n",
       "      <td>gravity</td>\n",
       "      <td>vwc</td>\n",
       "      <td>annually</td>\n",
       "      <td>soft</td>\n",
       "      <td>enough</td>\n",
       "      <td>spring</td>\n",
       "      <td>communal standpipe</td>\n",
       "      <td>1</td>\n",
       "      <td>34.938093</td>\n",
       "      <td>-9.856322</td>\n",
       "      <td>1390.0</td>\n",
       "      <td>6000.000000</td>\n",
       "      <td>109.0</td>\n",
       "      <td>1999.0</td>\n",
       "      <td>34.938093</td>\n",
       "      <td>34.938093</td>\n",
       "      <td>-9.856322</td>\n",
       "      <td>-9.856322</td>\n",
       "      <td>1390.000000</td>\n",
       "      <td>1390.0</td>\n",
       "      <td>6000.000000</td>\n",
       "      <td>6000.0</td>\n",
       "      <td>109.000000</td>\n",
       "      <td>109.0</td>\n",
       "      <td>1999.000000</td>\n",
       "      <td>1999.0</td>\n",
       "      <td>12</td>\n",
       "      <td>12</td>\n",
       "      <td>12</td>\n",
       "    </tr>\n",
       "    <tr>\n",
       "      <th>1</th>\n",
       "      <td>8776</td>\n",
       "      <td>NaN</td>\n",
       "      <td>Grumeti</td>\n",
       "      <td>1399.0</td>\n",
       "      <td>GRUMETI</td>\n",
       "      <td>34.698766</td>\n",
       "      <td>-2.147466</td>\n",
       "      <td>Lake Victoria</td>\n",
       "      <td>Nyamara</td>\n",
       "      <td>Mara</td>\n",
       "      <td>20</td>\n",
       "      <td>2</td>\n",
       "      <td>Serengeti</td>\n",
       "      <td>Natta</td>\n",
       "      <td>280.0</td>\n",
       "      <td>Missing</td>\n",
       "      <td>Other</td>\n",
       "      <td>Missing</td>\n",
       "      <td>True</td>\n",
       "      <td>2010.0</td>\n",
       "      <td>gravity</td>\n",
       "      <td>wug</td>\n",
       "      <td>never pay</td>\n",
       "      <td>soft</td>\n",
       "      <td>insufficient</td>\n",
       "      <td>rainwater harvesting</td>\n",
       "      <td>communal standpipe</td>\n",
       "      <td>1</td>\n",
       "      <td>34.698766</td>\n",
       "      <td>-2.147466</td>\n",
       "      <td>1399.0</td>\n",
       "      <td>542.857143</td>\n",
       "      <td>280.0</td>\n",
       "      <td>2010.0</td>\n",
       "      <td>34.698766</td>\n",
       "      <td>34.698766</td>\n",
       "      <td>-2.147466</td>\n",
       "      <td>-2.147466</td>\n",
       "      <td>1399.000000</td>\n",
       "      <td>1399.0</td>\n",
       "      <td>74.349311</td>\n",
       "      <td>1000.0</td>\n",
       "      <td>280.000000</td>\n",
       "      <td>280.0</td>\n",
       "      <td>2010.000000</td>\n",
       "      <td>2010.0</td>\n",
       "      <td>3</td>\n",
       "      <td>3</td>\n",
       "      <td>3</td>\n",
       "    </tr>\n",
       "    <tr>\n",
       "      <th>2</th>\n",
       "      <td>34310</td>\n",
       "      <td>25.0</td>\n",
       "      <td>Lottery Club</td>\n",
       "      <td>686.0</td>\n",
       "      <td>World vision</td>\n",
       "      <td>37.460664</td>\n",
       "      <td>-3.821329</td>\n",
       "      <td>Pangani</td>\n",
       "      <td>Majengo</td>\n",
       "      <td>Manyara</td>\n",
       "      <td>21</td>\n",
       "      <td>4</td>\n",
       "      <td>Simanjiro</td>\n",
       "      <td>Ngorika</td>\n",
       "      <td>250.0</td>\n",
       "      <td>True</td>\n",
       "      <td>VWC</td>\n",
       "      <td>Nyumba ya mungu pipe scheme</td>\n",
       "      <td>True</td>\n",
       "      <td>2009.0</td>\n",
       "      <td>gravity</td>\n",
       "      <td>vwc</td>\n",
       "      <td>per bucket</td>\n",
       "      <td>soft</td>\n",
       "      <td>enough</td>\n",
       "      <td>dam</td>\n",
       "      <td>communal standpipe multiple</td>\n",
       "      <td>1</td>\n",
       "      <td>37.460664</td>\n",
       "      <td>-3.821329</td>\n",
       "      <td>686.0</td>\n",
       "      <td>25.000000</td>\n",
       "      <td>250.0</td>\n",
       "      <td>2009.0</td>\n",
       "      <td>37.460664</td>\n",
       "      <td>37.460664</td>\n",
       "      <td>-3.821329</td>\n",
       "      <td>-3.821329</td>\n",
       "      <td>686.000000</td>\n",
       "      <td>686.0</td>\n",
       "      <td>25.000000</td>\n",
       "      <td>25.0</td>\n",
       "      <td>250.000000</td>\n",
       "      <td>250.0</td>\n",
       "      <td>2009.000000</td>\n",
       "      <td>2009.0</td>\n",
       "      <td>4</td>\n",
       "      <td>4</td>\n",
       "      <td>4</td>\n",
       "    </tr>\n",
       "    <tr>\n",
       "      <th>3</th>\n",
       "      <td>67743</td>\n",
       "      <td>NaN</td>\n",
       "      <td>Unicef</td>\n",
       "      <td>263.0</td>\n",
       "      <td>UNICEF</td>\n",
       "      <td>38.486161</td>\n",
       "      <td>-11.155298</td>\n",
       "      <td>Ruvuma / Southern Coast</td>\n",
       "      <td>Mahakamani</td>\n",
       "      <td>Mtwara</td>\n",
       "      <td>90</td>\n",
       "      <td>63</td>\n",
       "      <td>Nanyumbu</td>\n",
       "      <td>Nanyumbu</td>\n",
       "      <td>58.0</td>\n",
       "      <td>True</td>\n",
       "      <td>VWC</td>\n",
       "      <td>Missing</td>\n",
       "      <td>True</td>\n",
       "      <td>1986.0</td>\n",
       "      <td>submersible</td>\n",
       "      <td>vwc</td>\n",
       "      <td>never pay</td>\n",
       "      <td>soft</td>\n",
       "      <td>dry</td>\n",
       "      <td>machine dbh</td>\n",
       "      <td>communal standpipe multiple</td>\n",
       "      <td>1</td>\n",
       "      <td>38.486161</td>\n",
       "      <td>-11.155298</td>\n",
       "      <td>263.0</td>\n",
       "      <td>525.000000</td>\n",
       "      <td>58.0</td>\n",
       "      <td>1986.0</td>\n",
       "      <td>38.486161</td>\n",
       "      <td>38.486161</td>\n",
       "      <td>-11.155298</td>\n",
       "      <td>-11.155298</td>\n",
       "      <td>263.000000</td>\n",
       "      <td>263.0</td>\n",
       "      <td>-409.294439</td>\n",
       "      <td>1000.0</td>\n",
       "      <td>58.000000</td>\n",
       "      <td>58.0</td>\n",
       "      <td>1986.000000</td>\n",
       "      <td>1986.0</td>\n",
       "      <td>27</td>\n",
       "      <td>27</td>\n",
       "      <td>27</td>\n",
       "    </tr>\n",
       "    <tr>\n",
       "      <th>4</th>\n",
       "      <td>19728</td>\n",
       "      <td>NaN</td>\n",
       "      <td>Action In A</td>\n",
       "      <td>NaN</td>\n",
       "      <td>Artisan</td>\n",
       "      <td>31.130847</td>\n",
       "      <td>-1.825359</td>\n",
       "      <td>Lake Victoria</td>\n",
       "      <td>Kyanyamisa</td>\n",
       "      <td>Kagera</td>\n",
       "      <td>18</td>\n",
       "      <td>1</td>\n",
       "      <td>Karagwe</td>\n",
       "      <td>Nyakasimbi</td>\n",
       "      <td>NaN</td>\n",
       "      <td>True</td>\n",
       "      <td>Missing</td>\n",
       "      <td>Missing</td>\n",
       "      <td>True</td>\n",
       "      <td>NaN</td>\n",
       "      <td>gravity</td>\n",
       "      <td>other</td>\n",
       "      <td>never pay</td>\n",
       "      <td>soft</td>\n",
       "      <td>seasonal</td>\n",
       "      <td>rainwater harvesting</td>\n",
       "      <td>communal standpipe</td>\n",
       "      <td>1</td>\n",
       "      <td>31.130847</td>\n",
       "      <td>-1.825359</td>\n",
       "      <td>1167.0</td>\n",
       "      <td>1062.351942</td>\n",
       "      <td>150.0</td>\n",
       "      <td>2000.0</td>\n",
       "      <td>31.130847</td>\n",
       "      <td>31.130847</td>\n",
       "      <td>-1.825359</td>\n",
       "      <td>-1.825359</td>\n",
       "      <td>1216.846742</td>\n",
       "      <td>1161.0</td>\n",
       "      <td>1500.665788</td>\n",
       "      <td>300.0</td>\n",
       "      <td>-333.803882</td>\n",
       "      <td>150.0</td>\n",
       "      <td>1996.732218</td>\n",
       "      <td>2008.0</td>\n",
       "      <td>11</td>\n",
       "      <td>14</td>\n",
       "      <td>3</td>\n",
       "    </tr>\n",
       "  </tbody>\n",
       "</table>\n",
       "</div>"
      ],
      "text/plain": [
       "      id  amount_tsh        funder  gps_height     installer  longitude  \\\n",
       "0  69572      6000.0         Roman      1390.0         Roman  34.938093   \n",
       "1   8776         NaN       Grumeti      1399.0       GRUMETI  34.698766   \n",
       "2  34310        25.0  Lottery Club       686.0  World vision  37.460664   \n",
       "3  67743         NaN        Unicef       263.0        UNICEF  38.486161   \n",
       "4  19728         NaN   Action In A         NaN       Artisan  31.130847   \n",
       "\n",
       "    latitude                    basin  subvillage   region  region_code  \\\n",
       "0  -9.856322               Lake Nyasa    Mnyusi B   Iringa           11   \n",
       "1  -2.147466            Lake Victoria     Nyamara     Mara           20   \n",
       "2  -3.821329                  Pangani     Majengo  Manyara           21   \n",
       "3 -11.155298  Ruvuma / Southern Coast  Mahakamani   Mtwara           90   \n",
       "4  -1.825359            Lake Victoria  Kyanyamisa   Kagera           18   \n",
       "\n",
       "   district_code        lga        ward  population public_meeting  \\\n",
       "0              5     Ludewa    Mundindi       109.0           True   \n",
       "1              2  Serengeti       Natta       280.0        Missing   \n",
       "2              4  Simanjiro     Ngorika       250.0           True   \n",
       "3             63   Nanyumbu    Nanyumbu        58.0           True   \n",
       "4              1    Karagwe  Nyakasimbi         NaN           True   \n",
       "\n",
       "  scheme_management                  scheme_name permit  construction_year  \\\n",
       "0               VWC                        Roman  False             1999.0   \n",
       "1             Other                      Missing   True             2010.0   \n",
       "2               VWC  Nyumba ya mungu pipe scheme   True             2009.0   \n",
       "3               VWC                      Missing   True             1986.0   \n",
       "4           Missing                      Missing   True                NaN   \n",
       "\n",
       "  extraction_type management payment_type water_quality      quantity  \\\n",
       "0         gravity        vwc     annually          soft        enough   \n",
       "1         gravity        wug    never pay          soft  insufficient   \n",
       "2         gravity        vwc   per bucket          soft        enough   \n",
       "3     submersible        vwc    never pay          soft           dry   \n",
       "4         gravity      other    never pay          soft      seasonal   \n",
       "\n",
       "                 source              waterpoint_type  train  \\\n",
       "0                spring           communal standpipe      1   \n",
       "1  rainwater harvesting           communal standpipe      1   \n",
       "2                   dam  communal standpipe multiple      1   \n",
       "3           machine dbh  communal standpipe multiple      1   \n",
       "4  rainwater harvesting           communal standpipe      1   \n",
       "\n",
       "   longitude_imp_mean-median  latitude_imp_mean-median  \\\n",
       "0                  34.938093                 -9.856322   \n",
       "1                  34.698766                 -2.147466   \n",
       "2                  37.460664                 -3.821329   \n",
       "3                  38.486161                -11.155298   \n",
       "4                  31.130847                 -1.825359   \n",
       "\n",
       "   gps_height_imp_mean-median  amount_tsh_imp_mean-median  \\\n",
       "0                      1390.0                 6000.000000   \n",
       "1                      1399.0                  542.857143   \n",
       "2                       686.0                   25.000000   \n",
       "3                       263.0                  525.000000   \n",
       "4                      1167.0                 1062.351942   \n",
       "\n",
       "   population_imp_mean-median  construction_year_imp_mean-median  \\\n",
       "0                       109.0                             1999.0   \n",
       "1                       280.0                             2010.0   \n",
       "2                       250.0                             2009.0   \n",
       "3                        58.0                             1986.0   \n",
       "4                       150.0                             2000.0   \n",
       "\n",
       "   longitude_imp_normal  longitude_imp_random_choice  latitude_imp_normal  \\\n",
       "0             34.938093                    34.938093            -9.856322   \n",
       "1             34.698766                    34.698766            -2.147466   \n",
       "2             37.460664                    37.460664            -3.821329   \n",
       "3             38.486161                    38.486161           -11.155298   \n",
       "4             31.130847                    31.130847            -1.825359   \n",
       "\n",
       "   latitude_imp_random_choice  gps_height_imp_normal  \\\n",
       "0                   -9.856322            1390.000000   \n",
       "1                   -2.147466            1399.000000   \n",
       "2                   -3.821329             686.000000   \n",
       "3                  -11.155298             263.000000   \n",
       "4                   -1.825359            1216.846742   \n",
       "\n",
       "   gps_height_imp_random_choice  amount_tsh_imp_normal  \\\n",
       "0                        1390.0            6000.000000   \n",
       "1                        1399.0              74.349311   \n",
       "2                         686.0              25.000000   \n",
       "3                         263.0            -409.294439   \n",
       "4                        1161.0            1500.665788   \n",
       "\n",
       "   amount_tsh_imp_random_choice  population_imp_normal  \\\n",
       "0                        6000.0             109.000000   \n",
       "1                        1000.0             280.000000   \n",
       "2                          25.0             250.000000   \n",
       "3                        1000.0              58.000000   \n",
       "4                         300.0            -333.803882   \n",
       "\n",
       "   population_imp_random_choice  construction_year_imp_normal  \\\n",
       "0                         109.0                   1999.000000   \n",
       "1                         280.0                   2010.000000   \n",
       "2                         250.0                   2009.000000   \n",
       "3                          58.0                   1986.000000   \n",
       "4                         150.0                   1996.732218   \n",
       "\n",
       "   construction_year_imp_random_choice  operation_years_imp_mean-median  \\\n",
       "0                               1999.0                               12   \n",
       "1                               2010.0                                3   \n",
       "2                               2009.0                                4   \n",
       "3                               1986.0                               27   \n",
       "4                               2008.0                               11   \n",
       "\n",
       "   operation_years_imp_normal  operation_years_imp_random_choice  \n",
       "0                          12                                 12  \n",
       "1                           3                                  3  \n",
       "2                           4                                  4  \n",
       "3                          27                                 27  \n",
       "4                          14                                  3  "
      ]
     },
     "execution_count": 26,
     "metadata": {},
     "output_type": "execute_result"
    }
   ],
   "source": [
    "data.head()"
   ]
  },
  {
   "cell_type": "markdown",
   "metadata": {},
   "source": [
    "#### Convert categorical features into numerical features by adding a column with their probability for each target class"
   ]
  },
  {
   "cell_type": "code",
   "execution_count": null,
   "metadata": {},
   "outputs": [],
   "source": [
    "'''train_labels = pd.read_csv('./Data/training_set_labels.csv')\n",
    "train = train.merge(train_labels, on=\"id\")\n",
    "train.head()'''"
   ]
  },
  {
   "cell_type": "code",
   "execution_count": null,
   "metadata": {
    "scrolled": true
   },
   "outputs": [],
   "source": [
    "'''for feature in cat_features:\n",
    "    train['count'] = train.groupby(feature)[feature].transform('count')\n",
    "train.head()'''"
   ]
  },
  {
   "cell_type": "code",
   "execution_count": null,
   "metadata": {},
   "outputs": [],
   "source": [
    "'''def get_percentage(groups, row, status_group, feature):\n",
    "    try:\n",
    "        sg_count = groups['count'].loc[(groups[feature] == row[feature]) & (groups['status_group'] == status_group)].item()\n",
    "        total_count = train['count'].loc[train['id'] == row['id']].item()\n",
    "        return sg_count / total_count\n",
    "    except ValueError:\n",
    "        return 0'''"
   ]
  },
  {
   "cell_type": "code",
   "execution_count": null,
   "metadata": {
    "scrolled": true
   },
   "outputs": [],
   "source": [
    "'''status_groups = 'functional,non functional,functional needs repair'.split(',')\n",
    "for feature in cat_features:\n",
    "    groups = pd.DataFrame({'count': train.groupby([feature, 'status_group']).size()}).reset_index()\n",
    "    for status_group in status_groups:\n",
    "        data['_'.join(['pct', feature, status_group])] = data.apply(lambda row: get_percentage(groups=groups, row=row, status_group=status_group, feature=feature), axis=1)\n",
    "    display(feature + ' done')'''\n",
    "        "
   ]
  },
  {
   "cell_type": "code",
   "execution_count": null,
   "metadata": {},
   "outputs": [],
   "source": [
    "#data.head()\n"
   ]
  },
  {
   "cell_type": "markdown",
   "metadata": {},
   "source": [
    "#### Factorize categorical features"
   ]
  },
  {
   "cell_type": "code",
   "execution_count": null,
   "metadata": {},
   "outputs": [],
   "source": [
    "# Factorize features for evaluations\n",
    "\n",
    "'''data['funder'] = pd.factorize(data['funder'])[0]\n",
    "data['installer'] = pd.factorize(data['installer'])[0]\n",
    "data['basin'] = pd.factorize(data['basin'])[0]\n",
    "data['subvillage'] = pd.factorize(data['subvillage'])[0]\n",
    "data['region'] = pd.factorize(data['region'])[0]\n",
    "data['lga'] = pd.factorize(data['lga'])[0]\n",
    "data['ward'] = pd.factorize(data['ward'])[0]\n",
    "data['scheme_management'] = pd.factorize(data['scheme_management'])[0]\n",
    "data['scheme_name'] = pd.factorize(data['scheme_name'])[0]\n",
    "data['extraction_type'] = pd.factorize(data['extraction_type'])[0]\n",
    "data['management'] = pd.factorize(data['management'])[0]\n",
    "data['payment_type'] = pd.factorize(data['payment_type'])[0]\n",
    "data['water_quality'] = pd.factorize(data['water_quality'])[0]\n",
    "data['quantity'] = pd.factorize(data['quantity'])[0]\n",
    "data['waterpoint_type'] = pd.factorize(data['waterpoint_type'])[0]\n",
    "data['permit'] = pd.factorize(data['permit'])[0]\n",
    "data['source'] = pd.factorize(data['source'])[0]'''"
   ]
  },
  {
   "cell_type": "markdown",
   "metadata": {},
   "source": [
    "#### OneHotEncoding"
   ]
  },
  {
   "cell_type": "code",
   "execution_count": null,
   "metadata": {},
   "outputs": [],
   "source": [
    "# Remove 'subvillage' from cat_features its number of unique values leads to too many dummies\n",
    "#cat_features.remove('subvillage')\n",
    "# Get dummies for categorical features and add them to dataframe\n",
    "#data = pd.concat([data, pd.get_dummies(data[cat_features], dummy_na=True)], axis=1)"
   ]
  },
  {
   "cell_type": "code",
   "execution_count": null,
   "metadata": {},
   "outputs": [],
   "source": [
    "#data.shape"
   ]
  },
  {
   "cell_type": "code",
   "execution_count": null,
   "metadata": {},
   "outputs": [],
   "source": [
    "#data.head()"
   ]
  },
  {
   "cell_type": "markdown",
   "metadata": {},
   "source": [
    "#### Binary Encoding\n",
    "Used in data version 0.3"
   ]
  },
  {
   "cell_type": "code",
   "execution_count": 28,
   "metadata": {
    "scrolled": true
   },
   "outputs": [],
   "source": [
    "ce_bin = ce.BinaryEncoder(cols=cat_features)\n",
    "data = ce_bin.fit_transform(data)"
   ]
  },
  {
   "cell_type": "code",
   "execution_count": 30,
   "metadata": {},
   "outputs": [
    {
     "data": {
      "text/plain": [
       "(74250, 160)"
      ]
     },
     "execution_count": 30,
     "metadata": {},
     "output_type": "execute_result"
    }
   ],
   "source": [
    "data.shape"
   ]
  },
  {
   "cell_type": "code",
   "execution_count": 31,
   "metadata": {},
   "outputs": [
    {
     "data": {
      "text/html": [
       "<div>\n",
       "<style scoped>\n",
       "    .dataframe tbody tr th:only-of-type {\n",
       "        vertical-align: middle;\n",
       "    }\n",
       "\n",
       "    .dataframe tbody tr th {\n",
       "        vertical-align: top;\n",
       "    }\n",
       "\n",
       "    .dataframe thead th {\n",
       "        text-align: right;\n",
       "    }\n",
       "</style>\n",
       "<table border=\"1\" class=\"dataframe\">\n",
       "  <thead>\n",
       "    <tr style=\"text-align: right;\">\n",
       "      <th></th>\n",
       "      <th>id</th>\n",
       "      <th>amount_tsh</th>\n",
       "      <th>funder_0</th>\n",
       "      <th>funder_1</th>\n",
       "      <th>funder_2</th>\n",
       "      <th>funder_3</th>\n",
       "      <th>funder_4</th>\n",
       "      <th>funder_5</th>\n",
       "      <th>funder_6</th>\n",
       "      <th>funder_7</th>\n",
       "      <th>funder_8</th>\n",
       "      <th>funder_9</th>\n",
       "      <th>funder_10</th>\n",
       "      <th>funder_11</th>\n",
       "      <th>gps_height</th>\n",
       "      <th>installer_0</th>\n",
       "      <th>installer_1</th>\n",
       "      <th>installer_2</th>\n",
       "      <th>installer_3</th>\n",
       "      <th>installer_4</th>\n",
       "      <th>installer_5</th>\n",
       "      <th>installer_6</th>\n",
       "      <th>installer_7</th>\n",
       "      <th>installer_8</th>\n",
       "      <th>installer_9</th>\n",
       "      <th>installer_10</th>\n",
       "      <th>installer_11</th>\n",
       "      <th>installer_12</th>\n",
       "      <th>longitude</th>\n",
       "      <th>latitude</th>\n",
       "      <th>basin_0</th>\n",
       "      <th>basin_1</th>\n",
       "      <th>basin_2</th>\n",
       "      <th>basin_3</th>\n",
       "      <th>basin_4</th>\n",
       "      <th>subvillage_0</th>\n",
       "      <th>subvillage_1</th>\n",
       "      <th>subvillage_2</th>\n",
       "      <th>subvillage_3</th>\n",
       "      <th>subvillage_4</th>\n",
       "      <th>subvillage_5</th>\n",
       "      <th>subvillage_6</th>\n",
       "      <th>subvillage_7</th>\n",
       "      <th>subvillage_8</th>\n",
       "      <th>subvillage_9</th>\n",
       "      <th>subvillage_10</th>\n",
       "      <th>subvillage_11</th>\n",
       "      <th>subvillage_12</th>\n",
       "      <th>subvillage_13</th>\n",
       "      <th>subvillage_14</th>\n",
       "      <th>subvillage_15</th>\n",
       "      <th>region_0</th>\n",
       "      <th>region_1</th>\n",
       "      <th>region_2</th>\n",
       "      <th>region_3</th>\n",
       "      <th>region_4</th>\n",
       "      <th>region_5</th>\n",
       "      <th>region_code</th>\n",
       "      <th>district_code</th>\n",
       "      <th>lga_0</th>\n",
       "      <th>lga_1</th>\n",
       "      <th>lga_2</th>\n",
       "      <th>lga_3</th>\n",
       "      <th>lga_4</th>\n",
       "      <th>lga_5</th>\n",
       "      <th>lga_6</th>\n",
       "      <th>lga_7</th>\n",
       "      <th>ward_0</th>\n",
       "      <th>ward_1</th>\n",
       "      <th>ward_2</th>\n",
       "      <th>ward_3</th>\n",
       "      <th>ward_4</th>\n",
       "      <th>ward_5</th>\n",
       "      <th>ward_6</th>\n",
       "      <th>ward_7</th>\n",
       "      <th>ward_8</th>\n",
       "      <th>ward_9</th>\n",
       "      <th>ward_10</th>\n",
       "      <th>ward_11</th>\n",
       "      <th>ward_12</th>\n",
       "      <th>population</th>\n",
       "      <th>public_meeting_0</th>\n",
       "      <th>public_meeting_1</th>\n",
       "      <th>public_meeting_2</th>\n",
       "      <th>scheme_management_0</th>\n",
       "      <th>scheme_management_1</th>\n",
       "      <th>scheme_management_2</th>\n",
       "      <th>scheme_management_3</th>\n",
       "      <th>scheme_management_4</th>\n",
       "      <th>scheme_name_0</th>\n",
       "      <th>scheme_name_1</th>\n",
       "      <th>scheme_name_2</th>\n",
       "      <th>scheme_name_3</th>\n",
       "      <th>scheme_name_4</th>\n",
       "      <th>scheme_name_5</th>\n",
       "      <th>scheme_name_6</th>\n",
       "      <th>scheme_name_7</th>\n",
       "      <th>scheme_name_8</th>\n",
       "      <th>scheme_name_9</th>\n",
       "      <th>scheme_name_10</th>\n",
       "      <th>scheme_name_11</th>\n",
       "      <th>scheme_name_12</th>\n",
       "      <th>permit_0</th>\n",
       "      <th>permit_1</th>\n",
       "      <th>permit_2</th>\n",
       "      <th>construction_year</th>\n",
       "      <th>extraction_type_0</th>\n",
       "      <th>extraction_type_1</th>\n",
       "      <th>extraction_type_2</th>\n",
       "      <th>extraction_type_3</th>\n",
       "      <th>extraction_type_4</th>\n",
       "      <th>extraction_type_5</th>\n",
       "      <th>management_0</th>\n",
       "      <th>management_1</th>\n",
       "      <th>management_2</th>\n",
       "      <th>management_3</th>\n",
       "      <th>management_4</th>\n",
       "      <th>payment_type_0</th>\n",
       "      <th>payment_type_1</th>\n",
       "      <th>payment_type_2</th>\n",
       "      <th>payment_type_3</th>\n",
       "      <th>water_quality_0</th>\n",
       "      <th>water_quality_1</th>\n",
       "      <th>water_quality_2</th>\n",
       "      <th>water_quality_3</th>\n",
       "      <th>quantity_0</th>\n",
       "      <th>quantity_1</th>\n",
       "      <th>quantity_2</th>\n",
       "      <th>quantity_3</th>\n",
       "      <th>source_0</th>\n",
       "      <th>source_1</th>\n",
       "      <th>source_2</th>\n",
       "      <th>source_3</th>\n",
       "      <th>source_4</th>\n",
       "      <th>waterpoint_type_0</th>\n",
       "      <th>waterpoint_type_1</th>\n",
       "      <th>waterpoint_type_2</th>\n",
       "      <th>waterpoint_type_3</th>\n",
       "      <th>train</th>\n",
       "      <th>longitude_imp_mean-median</th>\n",
       "      <th>latitude_imp_mean-median</th>\n",
       "      <th>gps_height_imp_mean-median</th>\n",
       "      <th>amount_tsh_imp_mean-median</th>\n",
       "      <th>population_imp_mean-median</th>\n",
       "      <th>construction_year_imp_mean-median</th>\n",
       "      <th>longitude_imp_normal</th>\n",
       "      <th>longitude_imp_random_choice</th>\n",
       "      <th>latitude_imp_normal</th>\n",
       "      <th>latitude_imp_random_choice</th>\n",
       "      <th>gps_height_imp_normal</th>\n",
       "      <th>gps_height_imp_random_choice</th>\n",
       "      <th>amount_tsh_imp_normal</th>\n",
       "      <th>amount_tsh_imp_random_choice</th>\n",
       "      <th>population_imp_normal</th>\n",
       "      <th>population_imp_random_choice</th>\n",
       "      <th>construction_year_imp_normal</th>\n",
       "      <th>construction_year_imp_random_choice</th>\n",
       "      <th>operation_years_imp_mean-median</th>\n",
       "      <th>operation_years_imp_normal</th>\n",
       "      <th>operation_years_imp_random_choice</th>\n",
       "    </tr>\n",
       "  </thead>\n",
       "  <tbody>\n",
       "    <tr>\n",
       "      <th>0</th>\n",
       "      <td>69572</td>\n",
       "      <td>6000.0</td>\n",
       "      <td>0</td>\n",
       "      <td>0</td>\n",
       "      <td>0</td>\n",
       "      <td>0</td>\n",
       "      <td>0</td>\n",
       "      <td>0</td>\n",
       "      <td>0</td>\n",
       "      <td>0</td>\n",
       "      <td>0</td>\n",
       "      <td>0</td>\n",
       "      <td>0</td>\n",
       "      <td>1</td>\n",
       "      <td>1390.0</td>\n",
       "      <td>0</td>\n",
       "      <td>0</td>\n",
       "      <td>0</td>\n",
       "      <td>0</td>\n",
       "      <td>0</td>\n",
       "      <td>0</td>\n",
       "      <td>0</td>\n",
       "      <td>0</td>\n",
       "      <td>0</td>\n",
       "      <td>0</td>\n",
       "      <td>0</td>\n",
       "      <td>0</td>\n",
       "      <td>1</td>\n",
       "      <td>34.938093</td>\n",
       "      <td>-9.856322</td>\n",
       "      <td>0</td>\n",
       "      <td>0</td>\n",
       "      <td>0</td>\n",
       "      <td>0</td>\n",
       "      <td>1</td>\n",
       "      <td>0</td>\n",
       "      <td>0</td>\n",
       "      <td>0</td>\n",
       "      <td>0</td>\n",
       "      <td>0</td>\n",
       "      <td>0</td>\n",
       "      <td>0</td>\n",
       "      <td>0</td>\n",
       "      <td>0</td>\n",
       "      <td>0</td>\n",
       "      <td>0</td>\n",
       "      <td>0</td>\n",
       "      <td>0</td>\n",
       "      <td>0</td>\n",
       "      <td>0</td>\n",
       "      <td>1</td>\n",
       "      <td>0</td>\n",
       "      <td>0</td>\n",
       "      <td>0</td>\n",
       "      <td>0</td>\n",
       "      <td>0</td>\n",
       "      <td>1</td>\n",
       "      <td>11</td>\n",
       "      <td>5</td>\n",
       "      <td>0</td>\n",
       "      <td>0</td>\n",
       "      <td>0</td>\n",
       "      <td>0</td>\n",
       "      <td>0</td>\n",
       "      <td>0</td>\n",
       "      <td>0</td>\n",
       "      <td>1</td>\n",
       "      <td>0</td>\n",
       "      <td>0</td>\n",
       "      <td>0</td>\n",
       "      <td>0</td>\n",
       "      <td>0</td>\n",
       "      <td>0</td>\n",
       "      <td>0</td>\n",
       "      <td>0</td>\n",
       "      <td>0</td>\n",
       "      <td>0</td>\n",
       "      <td>0</td>\n",
       "      <td>0</td>\n",
       "      <td>1</td>\n",
       "      <td>109.0</td>\n",
       "      <td>0</td>\n",
       "      <td>0</td>\n",
       "      <td>1</td>\n",
       "      <td>0</td>\n",
       "      <td>0</td>\n",
       "      <td>0</td>\n",
       "      <td>0</td>\n",
       "      <td>1</td>\n",
       "      <td>0</td>\n",
       "      <td>0</td>\n",
       "      <td>0</td>\n",
       "      <td>0</td>\n",
       "      <td>0</td>\n",
       "      <td>0</td>\n",
       "      <td>0</td>\n",
       "      <td>0</td>\n",
       "      <td>0</td>\n",
       "      <td>0</td>\n",
       "      <td>0</td>\n",
       "      <td>0</td>\n",
       "      <td>1</td>\n",
       "      <td>0</td>\n",
       "      <td>0</td>\n",
       "      <td>1</td>\n",
       "      <td>1999.0</td>\n",
       "      <td>0</td>\n",
       "      <td>0</td>\n",
       "      <td>0</td>\n",
       "      <td>0</td>\n",
       "      <td>0</td>\n",
       "      <td>1</td>\n",
       "      <td>0</td>\n",
       "      <td>0</td>\n",
       "      <td>0</td>\n",
       "      <td>0</td>\n",
       "      <td>1</td>\n",
       "      <td>0</td>\n",
       "      <td>0</td>\n",
       "      <td>0</td>\n",
       "      <td>1</td>\n",
       "      <td>0</td>\n",
       "      <td>0</td>\n",
       "      <td>0</td>\n",
       "      <td>1</td>\n",
       "      <td>0</td>\n",
       "      <td>0</td>\n",
       "      <td>0</td>\n",
       "      <td>1</td>\n",
       "      <td>0</td>\n",
       "      <td>0</td>\n",
       "      <td>0</td>\n",
       "      <td>0</td>\n",
       "      <td>1</td>\n",
       "      <td>0</td>\n",
       "      <td>0</td>\n",
       "      <td>0</td>\n",
       "      <td>1</td>\n",
       "      <td>1</td>\n",
       "      <td>34.938093</td>\n",
       "      <td>-9.856322</td>\n",
       "      <td>1390.0</td>\n",
       "      <td>6000.000000</td>\n",
       "      <td>109.0</td>\n",
       "      <td>1999.0</td>\n",
       "      <td>34.938093</td>\n",
       "      <td>34.938093</td>\n",
       "      <td>-9.856322</td>\n",
       "      <td>-9.856322</td>\n",
       "      <td>1390.000000</td>\n",
       "      <td>1390.0</td>\n",
       "      <td>6000.000000</td>\n",
       "      <td>6000.0</td>\n",
       "      <td>109.000000</td>\n",
       "      <td>109.0</td>\n",
       "      <td>1999.000000</td>\n",
       "      <td>1999.0</td>\n",
       "      <td>12</td>\n",
       "      <td>12</td>\n",
       "      <td>12</td>\n",
       "    </tr>\n",
       "    <tr>\n",
       "      <th>1</th>\n",
       "      <td>8776</td>\n",
       "      <td>NaN</td>\n",
       "      <td>0</td>\n",
       "      <td>0</td>\n",
       "      <td>0</td>\n",
       "      <td>0</td>\n",
       "      <td>0</td>\n",
       "      <td>0</td>\n",
       "      <td>0</td>\n",
       "      <td>0</td>\n",
       "      <td>0</td>\n",
       "      <td>0</td>\n",
       "      <td>1</td>\n",
       "      <td>0</td>\n",
       "      <td>1399.0</td>\n",
       "      <td>0</td>\n",
       "      <td>0</td>\n",
       "      <td>0</td>\n",
       "      <td>0</td>\n",
       "      <td>0</td>\n",
       "      <td>0</td>\n",
       "      <td>0</td>\n",
       "      <td>0</td>\n",
       "      <td>0</td>\n",
       "      <td>0</td>\n",
       "      <td>0</td>\n",
       "      <td>1</td>\n",
       "      <td>0</td>\n",
       "      <td>34.698766</td>\n",
       "      <td>-2.147466</td>\n",
       "      <td>0</td>\n",
       "      <td>0</td>\n",
       "      <td>0</td>\n",
       "      <td>1</td>\n",
       "      <td>0</td>\n",
       "      <td>0</td>\n",
       "      <td>0</td>\n",
       "      <td>0</td>\n",
       "      <td>0</td>\n",
       "      <td>0</td>\n",
       "      <td>0</td>\n",
       "      <td>0</td>\n",
       "      <td>0</td>\n",
       "      <td>0</td>\n",
       "      <td>0</td>\n",
       "      <td>0</td>\n",
       "      <td>0</td>\n",
       "      <td>0</td>\n",
       "      <td>0</td>\n",
       "      <td>1</td>\n",
       "      <td>0</td>\n",
       "      <td>0</td>\n",
       "      <td>0</td>\n",
       "      <td>0</td>\n",
       "      <td>0</td>\n",
       "      <td>1</td>\n",
       "      <td>0</td>\n",
       "      <td>20</td>\n",
       "      <td>2</td>\n",
       "      <td>0</td>\n",
       "      <td>0</td>\n",
       "      <td>0</td>\n",
       "      <td>0</td>\n",
       "      <td>0</td>\n",
       "      <td>0</td>\n",
       "      <td>1</td>\n",
       "      <td>0</td>\n",
       "      <td>0</td>\n",
       "      <td>0</td>\n",
       "      <td>0</td>\n",
       "      <td>0</td>\n",
       "      <td>0</td>\n",
       "      <td>0</td>\n",
       "      <td>0</td>\n",
       "      <td>0</td>\n",
       "      <td>0</td>\n",
       "      <td>0</td>\n",
       "      <td>0</td>\n",
       "      <td>1</td>\n",
       "      <td>0</td>\n",
       "      <td>280.0</td>\n",
       "      <td>0</td>\n",
       "      <td>1</td>\n",
       "      <td>0</td>\n",
       "      <td>0</td>\n",
       "      <td>0</td>\n",
       "      <td>0</td>\n",
       "      <td>1</td>\n",
       "      <td>0</td>\n",
       "      <td>0</td>\n",
       "      <td>0</td>\n",
       "      <td>0</td>\n",
       "      <td>0</td>\n",
       "      <td>0</td>\n",
       "      <td>0</td>\n",
       "      <td>0</td>\n",
       "      <td>0</td>\n",
       "      <td>0</td>\n",
       "      <td>0</td>\n",
       "      <td>0</td>\n",
       "      <td>1</td>\n",
       "      <td>0</td>\n",
       "      <td>0</td>\n",
       "      <td>1</td>\n",
       "      <td>0</td>\n",
       "      <td>2010.0</td>\n",
       "      <td>0</td>\n",
       "      <td>0</td>\n",
       "      <td>0</td>\n",
       "      <td>0</td>\n",
       "      <td>0</td>\n",
       "      <td>1</td>\n",
       "      <td>0</td>\n",
       "      <td>0</td>\n",
       "      <td>0</td>\n",
       "      <td>1</td>\n",
       "      <td>0</td>\n",
       "      <td>0</td>\n",
       "      <td>0</td>\n",
       "      <td>1</td>\n",
       "      <td>0</td>\n",
       "      <td>0</td>\n",
       "      <td>0</td>\n",
       "      <td>0</td>\n",
       "      <td>1</td>\n",
       "      <td>0</td>\n",
       "      <td>0</td>\n",
       "      <td>1</td>\n",
       "      <td>0</td>\n",
       "      <td>0</td>\n",
       "      <td>0</td>\n",
       "      <td>0</td>\n",
       "      <td>1</td>\n",
       "      <td>0</td>\n",
       "      <td>0</td>\n",
       "      <td>0</td>\n",
       "      <td>0</td>\n",
       "      <td>1</td>\n",
       "      <td>1</td>\n",
       "      <td>34.698766</td>\n",
       "      <td>-2.147466</td>\n",
       "      <td>1399.0</td>\n",
       "      <td>542.857143</td>\n",
       "      <td>280.0</td>\n",
       "      <td>2010.0</td>\n",
       "      <td>34.698766</td>\n",
       "      <td>34.698766</td>\n",
       "      <td>-2.147466</td>\n",
       "      <td>-2.147466</td>\n",
       "      <td>1399.000000</td>\n",
       "      <td>1399.0</td>\n",
       "      <td>74.349311</td>\n",
       "      <td>1000.0</td>\n",
       "      <td>280.000000</td>\n",
       "      <td>280.0</td>\n",
       "      <td>2010.000000</td>\n",
       "      <td>2010.0</td>\n",
       "      <td>3</td>\n",
       "      <td>3</td>\n",
       "      <td>3</td>\n",
       "    </tr>\n",
       "    <tr>\n",
       "      <th>2</th>\n",
       "      <td>34310</td>\n",
       "      <td>25.0</td>\n",
       "      <td>0</td>\n",
       "      <td>0</td>\n",
       "      <td>0</td>\n",
       "      <td>0</td>\n",
       "      <td>0</td>\n",
       "      <td>0</td>\n",
       "      <td>0</td>\n",
       "      <td>0</td>\n",
       "      <td>0</td>\n",
       "      <td>0</td>\n",
       "      <td>1</td>\n",
       "      <td>1</td>\n",
       "      <td>686.0</td>\n",
       "      <td>0</td>\n",
       "      <td>0</td>\n",
       "      <td>0</td>\n",
       "      <td>0</td>\n",
       "      <td>0</td>\n",
       "      <td>0</td>\n",
       "      <td>0</td>\n",
       "      <td>0</td>\n",
       "      <td>0</td>\n",
       "      <td>0</td>\n",
       "      <td>0</td>\n",
       "      <td>1</td>\n",
       "      <td>1</td>\n",
       "      <td>37.460664</td>\n",
       "      <td>-3.821329</td>\n",
       "      <td>0</td>\n",
       "      <td>0</td>\n",
       "      <td>0</td>\n",
       "      <td>1</td>\n",
       "      <td>1</td>\n",
       "      <td>0</td>\n",
       "      <td>0</td>\n",
       "      <td>0</td>\n",
       "      <td>0</td>\n",
       "      <td>0</td>\n",
       "      <td>0</td>\n",
       "      <td>0</td>\n",
       "      <td>0</td>\n",
       "      <td>0</td>\n",
       "      <td>0</td>\n",
       "      <td>0</td>\n",
       "      <td>0</td>\n",
       "      <td>0</td>\n",
       "      <td>0</td>\n",
       "      <td>1</td>\n",
       "      <td>1</td>\n",
       "      <td>0</td>\n",
       "      <td>0</td>\n",
       "      <td>0</td>\n",
       "      <td>0</td>\n",
       "      <td>1</td>\n",
       "      <td>1</td>\n",
       "      <td>21</td>\n",
       "      <td>4</td>\n",
       "      <td>0</td>\n",
       "      <td>0</td>\n",
       "      <td>0</td>\n",
       "      <td>0</td>\n",
       "      <td>0</td>\n",
       "      <td>0</td>\n",
       "      <td>1</td>\n",
       "      <td>1</td>\n",
       "      <td>0</td>\n",
       "      <td>0</td>\n",
       "      <td>0</td>\n",
       "      <td>0</td>\n",
       "      <td>0</td>\n",
       "      <td>0</td>\n",
       "      <td>0</td>\n",
       "      <td>0</td>\n",
       "      <td>0</td>\n",
       "      <td>0</td>\n",
       "      <td>0</td>\n",
       "      <td>1</td>\n",
       "      <td>1</td>\n",
       "      <td>250.0</td>\n",
       "      <td>0</td>\n",
       "      <td>0</td>\n",
       "      <td>1</td>\n",
       "      <td>0</td>\n",
       "      <td>0</td>\n",
       "      <td>0</td>\n",
       "      <td>0</td>\n",
       "      <td>1</td>\n",
       "      <td>0</td>\n",
       "      <td>0</td>\n",
       "      <td>0</td>\n",
       "      <td>0</td>\n",
       "      <td>0</td>\n",
       "      <td>0</td>\n",
       "      <td>0</td>\n",
       "      <td>0</td>\n",
       "      <td>0</td>\n",
       "      <td>0</td>\n",
       "      <td>0</td>\n",
       "      <td>1</td>\n",
       "      <td>1</td>\n",
       "      <td>0</td>\n",
       "      <td>1</td>\n",
       "      <td>0</td>\n",
       "      <td>2009.0</td>\n",
       "      <td>0</td>\n",
       "      <td>0</td>\n",
       "      <td>0</td>\n",
       "      <td>0</td>\n",
       "      <td>0</td>\n",
       "      <td>1</td>\n",
       "      <td>0</td>\n",
       "      <td>0</td>\n",
       "      <td>0</td>\n",
       "      <td>0</td>\n",
       "      <td>1</td>\n",
       "      <td>0</td>\n",
       "      <td>0</td>\n",
       "      <td>1</td>\n",
       "      <td>1</td>\n",
       "      <td>0</td>\n",
       "      <td>0</td>\n",
       "      <td>0</td>\n",
       "      <td>1</td>\n",
       "      <td>0</td>\n",
       "      <td>0</td>\n",
       "      <td>0</td>\n",
       "      <td>1</td>\n",
       "      <td>0</td>\n",
       "      <td>0</td>\n",
       "      <td>0</td>\n",
       "      <td>1</td>\n",
       "      <td>1</td>\n",
       "      <td>0</td>\n",
       "      <td>0</td>\n",
       "      <td>1</td>\n",
       "      <td>0</td>\n",
       "      <td>1</td>\n",
       "      <td>37.460664</td>\n",
       "      <td>-3.821329</td>\n",
       "      <td>686.0</td>\n",
       "      <td>25.000000</td>\n",
       "      <td>250.0</td>\n",
       "      <td>2009.0</td>\n",
       "      <td>37.460664</td>\n",
       "      <td>37.460664</td>\n",
       "      <td>-3.821329</td>\n",
       "      <td>-3.821329</td>\n",
       "      <td>686.000000</td>\n",
       "      <td>686.0</td>\n",
       "      <td>25.000000</td>\n",
       "      <td>25.0</td>\n",
       "      <td>250.000000</td>\n",
       "      <td>250.0</td>\n",
       "      <td>2009.000000</td>\n",
       "      <td>2009.0</td>\n",
       "      <td>4</td>\n",
       "      <td>4</td>\n",
       "      <td>4</td>\n",
       "    </tr>\n",
       "    <tr>\n",
       "      <th>3</th>\n",
       "      <td>67743</td>\n",
       "      <td>NaN</td>\n",
       "      <td>0</td>\n",
       "      <td>0</td>\n",
       "      <td>0</td>\n",
       "      <td>0</td>\n",
       "      <td>0</td>\n",
       "      <td>0</td>\n",
       "      <td>0</td>\n",
       "      <td>0</td>\n",
       "      <td>0</td>\n",
       "      <td>1</td>\n",
       "      <td>0</td>\n",
       "      <td>0</td>\n",
       "      <td>263.0</td>\n",
       "      <td>0</td>\n",
       "      <td>0</td>\n",
       "      <td>0</td>\n",
       "      <td>0</td>\n",
       "      <td>0</td>\n",
       "      <td>0</td>\n",
       "      <td>0</td>\n",
       "      <td>0</td>\n",
       "      <td>0</td>\n",
       "      <td>0</td>\n",
       "      <td>1</td>\n",
       "      <td>0</td>\n",
       "      <td>0</td>\n",
       "      <td>38.486161</td>\n",
       "      <td>-11.155298</td>\n",
       "      <td>0</td>\n",
       "      <td>0</td>\n",
       "      <td>1</td>\n",
       "      <td>0</td>\n",
       "      <td>0</td>\n",
       "      <td>0</td>\n",
       "      <td>0</td>\n",
       "      <td>0</td>\n",
       "      <td>0</td>\n",
       "      <td>0</td>\n",
       "      <td>0</td>\n",
       "      <td>0</td>\n",
       "      <td>0</td>\n",
       "      <td>0</td>\n",
       "      <td>0</td>\n",
       "      <td>0</td>\n",
       "      <td>0</td>\n",
       "      <td>0</td>\n",
       "      <td>1</td>\n",
       "      <td>0</td>\n",
       "      <td>0</td>\n",
       "      <td>0</td>\n",
       "      <td>0</td>\n",
       "      <td>0</td>\n",
       "      <td>1</td>\n",
       "      <td>0</td>\n",
       "      <td>0</td>\n",
       "      <td>90</td>\n",
       "      <td>63</td>\n",
       "      <td>0</td>\n",
       "      <td>0</td>\n",
       "      <td>0</td>\n",
       "      <td>0</td>\n",
       "      <td>0</td>\n",
       "      <td>1</td>\n",
       "      <td>0</td>\n",
       "      <td>0</td>\n",
       "      <td>0</td>\n",
       "      <td>0</td>\n",
       "      <td>0</td>\n",
       "      <td>0</td>\n",
       "      <td>0</td>\n",
       "      <td>0</td>\n",
       "      <td>0</td>\n",
       "      <td>0</td>\n",
       "      <td>0</td>\n",
       "      <td>0</td>\n",
       "      <td>1</td>\n",
       "      <td>0</td>\n",
       "      <td>0</td>\n",
       "      <td>58.0</td>\n",
       "      <td>0</td>\n",
       "      <td>0</td>\n",
       "      <td>1</td>\n",
       "      <td>0</td>\n",
       "      <td>0</td>\n",
       "      <td>0</td>\n",
       "      <td>0</td>\n",
       "      <td>1</td>\n",
       "      <td>0</td>\n",
       "      <td>0</td>\n",
       "      <td>0</td>\n",
       "      <td>0</td>\n",
       "      <td>0</td>\n",
       "      <td>0</td>\n",
       "      <td>0</td>\n",
       "      <td>0</td>\n",
       "      <td>0</td>\n",
       "      <td>0</td>\n",
       "      <td>0</td>\n",
       "      <td>1</td>\n",
       "      <td>0</td>\n",
       "      <td>0</td>\n",
       "      <td>1</td>\n",
       "      <td>0</td>\n",
       "      <td>1986.0</td>\n",
       "      <td>0</td>\n",
       "      <td>0</td>\n",
       "      <td>0</td>\n",
       "      <td>0</td>\n",
       "      <td>1</td>\n",
       "      <td>0</td>\n",
       "      <td>0</td>\n",
       "      <td>0</td>\n",
       "      <td>0</td>\n",
       "      <td>0</td>\n",
       "      <td>1</td>\n",
       "      <td>0</td>\n",
       "      <td>0</td>\n",
       "      <td>1</td>\n",
       "      <td>0</td>\n",
       "      <td>0</td>\n",
       "      <td>0</td>\n",
       "      <td>0</td>\n",
       "      <td>1</td>\n",
       "      <td>0</td>\n",
       "      <td>0</td>\n",
       "      <td>1</td>\n",
       "      <td>1</td>\n",
       "      <td>0</td>\n",
       "      <td>0</td>\n",
       "      <td>1</td>\n",
       "      <td>0</td>\n",
       "      <td>0</td>\n",
       "      <td>0</td>\n",
       "      <td>0</td>\n",
       "      <td>1</td>\n",
       "      <td>0</td>\n",
       "      <td>1</td>\n",
       "      <td>38.486161</td>\n",
       "      <td>-11.155298</td>\n",
       "      <td>263.0</td>\n",
       "      <td>525.000000</td>\n",
       "      <td>58.0</td>\n",
       "      <td>1986.0</td>\n",
       "      <td>38.486161</td>\n",
       "      <td>38.486161</td>\n",
       "      <td>-11.155298</td>\n",
       "      <td>-11.155298</td>\n",
       "      <td>263.000000</td>\n",
       "      <td>263.0</td>\n",
       "      <td>-409.294439</td>\n",
       "      <td>1000.0</td>\n",
       "      <td>58.000000</td>\n",
       "      <td>58.0</td>\n",
       "      <td>1986.000000</td>\n",
       "      <td>1986.0</td>\n",
       "      <td>27</td>\n",
       "      <td>27</td>\n",
       "      <td>27</td>\n",
       "    </tr>\n",
       "    <tr>\n",
       "      <th>4</th>\n",
       "      <td>19728</td>\n",
       "      <td>NaN</td>\n",
       "      <td>0</td>\n",
       "      <td>0</td>\n",
       "      <td>0</td>\n",
       "      <td>0</td>\n",
       "      <td>0</td>\n",
       "      <td>0</td>\n",
       "      <td>0</td>\n",
       "      <td>0</td>\n",
       "      <td>0</td>\n",
       "      <td>1</td>\n",
       "      <td>0</td>\n",
       "      <td>1</td>\n",
       "      <td>NaN</td>\n",
       "      <td>0</td>\n",
       "      <td>0</td>\n",
       "      <td>0</td>\n",
       "      <td>0</td>\n",
       "      <td>0</td>\n",
       "      <td>0</td>\n",
       "      <td>0</td>\n",
       "      <td>0</td>\n",
       "      <td>0</td>\n",
       "      <td>0</td>\n",
       "      <td>1</td>\n",
       "      <td>0</td>\n",
       "      <td>1</td>\n",
       "      <td>31.130847</td>\n",
       "      <td>-1.825359</td>\n",
       "      <td>0</td>\n",
       "      <td>0</td>\n",
       "      <td>0</td>\n",
       "      <td>1</td>\n",
       "      <td>0</td>\n",
       "      <td>0</td>\n",
       "      <td>0</td>\n",
       "      <td>0</td>\n",
       "      <td>0</td>\n",
       "      <td>0</td>\n",
       "      <td>0</td>\n",
       "      <td>0</td>\n",
       "      <td>0</td>\n",
       "      <td>0</td>\n",
       "      <td>0</td>\n",
       "      <td>0</td>\n",
       "      <td>0</td>\n",
       "      <td>0</td>\n",
       "      <td>1</td>\n",
       "      <td>0</td>\n",
       "      <td>1</td>\n",
       "      <td>0</td>\n",
       "      <td>0</td>\n",
       "      <td>0</td>\n",
       "      <td>1</td>\n",
       "      <td>0</td>\n",
       "      <td>1</td>\n",
       "      <td>18</td>\n",
       "      <td>1</td>\n",
       "      <td>0</td>\n",
       "      <td>0</td>\n",
       "      <td>0</td>\n",
       "      <td>0</td>\n",
       "      <td>0</td>\n",
       "      <td>1</td>\n",
       "      <td>0</td>\n",
       "      <td>1</td>\n",
       "      <td>0</td>\n",
       "      <td>0</td>\n",
       "      <td>0</td>\n",
       "      <td>0</td>\n",
       "      <td>0</td>\n",
       "      <td>0</td>\n",
       "      <td>0</td>\n",
       "      <td>0</td>\n",
       "      <td>0</td>\n",
       "      <td>0</td>\n",
       "      <td>1</td>\n",
       "      <td>0</td>\n",
       "      <td>1</td>\n",
       "      <td>NaN</td>\n",
       "      <td>0</td>\n",
       "      <td>0</td>\n",
       "      <td>1</td>\n",
       "      <td>0</td>\n",
       "      <td>0</td>\n",
       "      <td>0</td>\n",
       "      <td>1</td>\n",
       "      <td>1</td>\n",
       "      <td>0</td>\n",
       "      <td>0</td>\n",
       "      <td>0</td>\n",
       "      <td>0</td>\n",
       "      <td>0</td>\n",
       "      <td>0</td>\n",
       "      <td>0</td>\n",
       "      <td>0</td>\n",
       "      <td>0</td>\n",
       "      <td>0</td>\n",
       "      <td>0</td>\n",
       "      <td>1</td>\n",
       "      <td>0</td>\n",
       "      <td>0</td>\n",
       "      <td>1</td>\n",
       "      <td>0</td>\n",
       "      <td>NaN</td>\n",
       "      <td>0</td>\n",
       "      <td>0</td>\n",
       "      <td>0</td>\n",
       "      <td>0</td>\n",
       "      <td>0</td>\n",
       "      <td>1</td>\n",
       "      <td>0</td>\n",
       "      <td>0</td>\n",
       "      <td>0</td>\n",
       "      <td>1</td>\n",
       "      <td>1</td>\n",
       "      <td>0</td>\n",
       "      <td>0</td>\n",
       "      <td>1</td>\n",
       "      <td>0</td>\n",
       "      <td>0</td>\n",
       "      <td>0</td>\n",
       "      <td>0</td>\n",
       "      <td>1</td>\n",
       "      <td>0</td>\n",
       "      <td>1</td>\n",
       "      <td>0</td>\n",
       "      <td>0</td>\n",
       "      <td>0</td>\n",
       "      <td>0</td>\n",
       "      <td>0</td>\n",
       "      <td>1</td>\n",
       "      <td>0</td>\n",
       "      <td>0</td>\n",
       "      <td>0</td>\n",
       "      <td>0</td>\n",
       "      <td>1</td>\n",
       "      <td>1</td>\n",
       "      <td>31.130847</td>\n",
       "      <td>-1.825359</td>\n",
       "      <td>1167.0</td>\n",
       "      <td>1062.351942</td>\n",
       "      <td>150.0</td>\n",
       "      <td>2000.0</td>\n",
       "      <td>31.130847</td>\n",
       "      <td>31.130847</td>\n",
       "      <td>-1.825359</td>\n",
       "      <td>-1.825359</td>\n",
       "      <td>1216.846742</td>\n",
       "      <td>1161.0</td>\n",
       "      <td>1500.665788</td>\n",
       "      <td>300.0</td>\n",
       "      <td>-333.803882</td>\n",
       "      <td>150.0</td>\n",
       "      <td>1996.732218</td>\n",
       "      <td>2008.0</td>\n",
       "      <td>11</td>\n",
       "      <td>14</td>\n",
       "      <td>3</td>\n",
       "    </tr>\n",
       "  </tbody>\n",
       "</table>\n",
       "</div>"
      ],
      "text/plain": [
       "      id  amount_tsh  funder_0  funder_1  funder_2  funder_3  funder_4  \\\n",
       "0  69572      6000.0         0         0         0         0         0   \n",
       "1   8776         NaN         0         0         0         0         0   \n",
       "2  34310        25.0         0         0         0         0         0   \n",
       "3  67743         NaN         0         0         0         0         0   \n",
       "4  19728         NaN         0         0         0         0         0   \n",
       "\n",
       "   funder_5  funder_6  funder_7  funder_8  funder_9  funder_10  funder_11  \\\n",
       "0         0         0         0         0         0          0          1   \n",
       "1         0         0         0         0         0          1          0   \n",
       "2         0         0         0         0         0          1          1   \n",
       "3         0         0         0         0         1          0          0   \n",
       "4         0         0         0         0         1          0          1   \n",
       "\n",
       "   gps_height  installer_0  installer_1  installer_2  installer_3  \\\n",
       "0      1390.0            0            0            0            0   \n",
       "1      1399.0            0            0            0            0   \n",
       "2       686.0            0            0            0            0   \n",
       "3       263.0            0            0            0            0   \n",
       "4         NaN            0            0            0            0   \n",
       "\n",
       "   installer_4  installer_5  installer_6  installer_7  installer_8  \\\n",
       "0            0            0            0            0            0   \n",
       "1            0            0            0            0            0   \n",
       "2            0            0            0            0            0   \n",
       "3            0            0            0            0            0   \n",
       "4            0            0            0            0            0   \n",
       "\n",
       "   installer_9  installer_10  installer_11  installer_12  longitude  \\\n",
       "0            0             0             0             1  34.938093   \n",
       "1            0             0             1             0  34.698766   \n",
       "2            0             0             1             1  37.460664   \n",
       "3            0             1             0             0  38.486161   \n",
       "4            0             1             0             1  31.130847   \n",
       "\n",
       "    latitude  basin_0  basin_1  basin_2  basin_3  basin_4  subvillage_0  \\\n",
       "0  -9.856322        0        0        0        0        1             0   \n",
       "1  -2.147466        0        0        0        1        0             0   \n",
       "2  -3.821329        0        0        0        1        1             0   \n",
       "3 -11.155298        0        0        1        0        0             0   \n",
       "4  -1.825359        0        0        0        1        0             0   \n",
       "\n",
       "   subvillage_1  subvillage_2  subvillage_3  subvillage_4  subvillage_5  \\\n",
       "0             0             0             0             0             0   \n",
       "1             0             0             0             0             0   \n",
       "2             0             0             0             0             0   \n",
       "3             0             0             0             0             0   \n",
       "4             0             0             0             0             0   \n",
       "\n",
       "   subvillage_6  subvillage_7  subvillage_8  subvillage_9  subvillage_10  \\\n",
       "0             0             0             0             0              0   \n",
       "1             0             0             0             0              0   \n",
       "2             0             0             0             0              0   \n",
       "3             0             0             0             0              0   \n",
       "4             0             0             0             0              0   \n",
       "\n",
       "   subvillage_11  subvillage_12  subvillage_13  subvillage_14  subvillage_15  \\\n",
       "0              0              0              0              0              1   \n",
       "1              0              0              0              1              0   \n",
       "2              0              0              0              1              1   \n",
       "3              0              0              1              0              0   \n",
       "4              0              0              1              0              1   \n",
       "\n",
       "   region_0  region_1  region_2  region_3  region_4  region_5  region_code  \\\n",
       "0         0         0         0         0         0         1           11   \n",
       "1         0         0         0         0         1         0           20   \n",
       "2         0         0         0         0         1         1           21   \n",
       "3         0         0         0         1         0         0           90   \n",
       "4         0         0         0         1         0         1           18   \n",
       "\n",
       "   district_code  lga_0  lga_1  lga_2  lga_3  lga_4  lga_5  lga_6  lga_7  \\\n",
       "0              5      0      0      0      0      0      0      0      1   \n",
       "1              2      0      0      0      0      0      0      1      0   \n",
       "2              4      0      0      0      0      0      0      1      1   \n",
       "3             63      0      0      0      0      0      1      0      0   \n",
       "4              1      0      0      0      0      0      1      0      1   \n",
       "\n",
       "   ward_0  ward_1  ward_2  ward_3  ward_4  ward_5  ward_6  ward_7  ward_8  \\\n",
       "0       0       0       0       0       0       0       0       0       0   \n",
       "1       0       0       0       0       0       0       0       0       0   \n",
       "2       0       0       0       0       0       0       0       0       0   \n",
       "3       0       0       0       0       0       0       0       0       0   \n",
       "4       0       0       0       0       0       0       0       0       0   \n",
       "\n",
       "   ward_9  ward_10  ward_11  ward_12  population  public_meeting_0  \\\n",
       "0       0        0        0        1       109.0                 0   \n",
       "1       0        0        1        0       280.0                 0   \n",
       "2       0        0        1        1       250.0                 0   \n",
       "3       0        1        0        0        58.0                 0   \n",
       "4       0        1        0        1         NaN                 0   \n",
       "\n",
       "   public_meeting_1  public_meeting_2  scheme_management_0  \\\n",
       "0                 0                 1                    0   \n",
       "1                 1                 0                    0   \n",
       "2                 0                 1                    0   \n",
       "3                 0                 1                    0   \n",
       "4                 0                 1                    0   \n",
       "\n",
       "   scheme_management_1  scheme_management_2  scheme_management_3  \\\n",
       "0                    0                    0                    0   \n",
       "1                    0                    0                    1   \n",
       "2                    0                    0                    0   \n",
       "3                    0                    0                    0   \n",
       "4                    0                    0                    1   \n",
       "\n",
       "   scheme_management_4  scheme_name_0  scheme_name_1  scheme_name_2  \\\n",
       "0                    1              0              0              0   \n",
       "1                    0              0              0              0   \n",
       "2                    1              0              0              0   \n",
       "3                    1              0              0              0   \n",
       "4                    1              0              0              0   \n",
       "\n",
       "   scheme_name_3  scheme_name_4  scheme_name_5  scheme_name_6  scheme_name_7  \\\n",
       "0              0              0              0              0              0   \n",
       "1              0              0              0              0              0   \n",
       "2              0              0              0              0              0   \n",
       "3              0              0              0              0              0   \n",
       "4              0              0              0              0              0   \n",
       "\n",
       "   scheme_name_8  scheme_name_9  scheme_name_10  scheme_name_11  \\\n",
       "0              0              0               0               0   \n",
       "1              0              0               0               1   \n",
       "2              0              0               0               1   \n",
       "3              0              0               0               1   \n",
       "4              0              0               0               1   \n",
       "\n",
       "   scheme_name_12  permit_0  permit_1  permit_2  construction_year  \\\n",
       "0               1         0         0         1             1999.0   \n",
       "1               0         0         1         0             2010.0   \n",
       "2               1         0         1         0             2009.0   \n",
       "3               0         0         1         0             1986.0   \n",
       "4               0         0         1         0                NaN   \n",
       "\n",
       "   extraction_type_0  extraction_type_1  extraction_type_2  extraction_type_3  \\\n",
       "0                  0                  0                  0                  0   \n",
       "1                  0                  0                  0                  0   \n",
       "2                  0                  0                  0                  0   \n",
       "3                  0                  0                  0                  0   \n",
       "4                  0                  0                  0                  0   \n",
       "\n",
       "   extraction_type_4  extraction_type_5  management_0  management_1  \\\n",
       "0                  0                  1             0             0   \n",
       "1                  0                  1             0             0   \n",
       "2                  0                  1             0             0   \n",
       "3                  1                  0             0             0   \n",
       "4                  0                  1             0             0   \n",
       "\n",
       "   management_2  management_3  management_4  payment_type_0  payment_type_1  \\\n",
       "0             0             0             1               0               0   \n",
       "1             0             1             0               0               0   \n",
       "2             0             0             1               0               0   \n",
       "3             0             0             1               0               0   \n",
       "4             0             1             1               0               0   \n",
       "\n",
       "   payment_type_2  payment_type_3  water_quality_0  water_quality_1  \\\n",
       "0               0               1                0                0   \n",
       "1               1               0                0                0   \n",
       "2               1               1                0                0   \n",
       "3               1               0                0                0   \n",
       "4               1               0                0                0   \n",
       "\n",
       "   water_quality_2  water_quality_3  quantity_0  quantity_1  quantity_2  \\\n",
       "0                0                1           0           0           0   \n",
       "1                0                1           0           0           1   \n",
       "2                0                1           0           0           0   \n",
       "3                0                1           0           0           1   \n",
       "4                0                1           0           1           0   \n",
       "\n",
       "   quantity_3  source_0  source_1  source_2  source_3  source_4  \\\n",
       "0           1         0         0         0         0         1   \n",
       "1           0         0         0         0         1         0   \n",
       "2           1         0         0         0         1         1   \n",
       "3           1         0         0         1         0         0   \n",
       "4           0         0         0         0         1         0   \n",
       "\n",
       "   waterpoint_type_0  waterpoint_type_1  waterpoint_type_2  waterpoint_type_3  \\\n",
       "0                  0                  0                  0                  1   \n",
       "1                  0                  0                  0                  1   \n",
       "2                  0                  0                  1                  0   \n",
       "3                  0                  0                  1                  0   \n",
       "4                  0                  0                  0                  1   \n",
       "\n",
       "   train  longitude_imp_mean-median  latitude_imp_mean-median  \\\n",
       "0      1                  34.938093                 -9.856322   \n",
       "1      1                  34.698766                 -2.147466   \n",
       "2      1                  37.460664                 -3.821329   \n",
       "3      1                  38.486161                -11.155298   \n",
       "4      1                  31.130847                 -1.825359   \n",
       "\n",
       "   gps_height_imp_mean-median  amount_tsh_imp_mean-median  \\\n",
       "0                      1390.0                 6000.000000   \n",
       "1                      1399.0                  542.857143   \n",
       "2                       686.0                   25.000000   \n",
       "3                       263.0                  525.000000   \n",
       "4                      1167.0                 1062.351942   \n",
       "\n",
       "   population_imp_mean-median  construction_year_imp_mean-median  \\\n",
       "0                       109.0                             1999.0   \n",
       "1                       280.0                             2010.0   \n",
       "2                       250.0                             2009.0   \n",
       "3                        58.0                             1986.0   \n",
       "4                       150.0                             2000.0   \n",
       "\n",
       "   longitude_imp_normal  longitude_imp_random_choice  latitude_imp_normal  \\\n",
       "0             34.938093                    34.938093            -9.856322   \n",
       "1             34.698766                    34.698766            -2.147466   \n",
       "2             37.460664                    37.460664            -3.821329   \n",
       "3             38.486161                    38.486161           -11.155298   \n",
       "4             31.130847                    31.130847            -1.825359   \n",
       "\n",
       "   latitude_imp_random_choice  gps_height_imp_normal  \\\n",
       "0                   -9.856322            1390.000000   \n",
       "1                   -2.147466            1399.000000   \n",
       "2                   -3.821329             686.000000   \n",
       "3                  -11.155298             263.000000   \n",
       "4                   -1.825359            1216.846742   \n",
       "\n",
       "   gps_height_imp_random_choice  amount_tsh_imp_normal  \\\n",
       "0                        1390.0            6000.000000   \n",
       "1                        1399.0              74.349311   \n",
       "2                         686.0              25.000000   \n",
       "3                         263.0            -409.294439   \n",
       "4                        1161.0            1500.665788   \n",
       "\n",
       "   amount_tsh_imp_random_choice  population_imp_normal  \\\n",
       "0                        6000.0             109.000000   \n",
       "1                        1000.0             280.000000   \n",
       "2                          25.0             250.000000   \n",
       "3                        1000.0              58.000000   \n",
       "4                         300.0            -333.803882   \n",
       "\n",
       "   population_imp_random_choice  construction_year_imp_normal  \\\n",
       "0                         109.0                   1999.000000   \n",
       "1                         280.0                   2010.000000   \n",
       "2                         250.0                   2009.000000   \n",
       "3                          58.0                   1986.000000   \n",
       "4                         150.0                   1996.732218   \n",
       "\n",
       "   construction_year_imp_random_choice  operation_years_imp_mean-median  \\\n",
       "0                               1999.0                               12   \n",
       "1                               2010.0                                3   \n",
       "2                               2009.0                                4   \n",
       "3                               1986.0                               27   \n",
       "4                               2008.0                               11   \n",
       "\n",
       "   operation_years_imp_normal  operation_years_imp_random_choice  \n",
       "0                          12                                 12  \n",
       "1                           3                                  3  \n",
       "2                           4                                  4  \n",
       "3                          27                                 27  \n",
       "4                          14                                  3  "
      ]
     },
     "execution_count": 31,
     "metadata": {},
     "output_type": "execute_result"
    }
   ],
   "source": [
    "data.head()"
   ]
  },
  {
   "cell_type": "markdown",
   "metadata": {},
   "source": [
    "#### Feature Hashing"
   ]
  },
  {
   "cell_type": "code",
   "execution_count": null,
   "metadata": {},
   "outputs": [],
   "source": [
    "#ce_hash = ce.HashingEncoder(cols=cat_features)\n",
    "#data = ce_hash.fit_transform(data)"
   ]
  },
  {
   "cell_type": "code",
   "execution_count": null,
   "metadata": {},
   "outputs": [],
   "source": [
    "#data.head()"
   ]
  },
  {
   "cell_type": "markdown",
   "metadata": {},
   "source": [
    "### Split data into train and test data set"
   ]
  },
  {
   "cell_type": "code",
   "execution_count": 32,
   "metadata": {},
   "outputs": [
    {
     "name": "stderr",
     "output_type": "stream",
     "text": [
      "/anaconda3/lib/python3.7/site-packages/pandas/core/frame.py:3697: SettingWithCopyWarning: \n",
      "A value is trying to be set on a copy of a slice from a DataFrame\n",
      "\n",
      "See the caveats in the documentation: http://pandas.pydata.org/pandas-docs/stable/indexing.html#indexing-view-versus-copy\n",
      "  errors=errors)\n"
     ]
    }
   ],
   "source": [
    "train_df = data[data[\"train\"] == 1]\n",
    "test_df = data[data[\"train\"] == 0]\n",
    "\n",
    "train_df.drop([\"train\"], axis=1, inplace=True)\n",
    "test_df.drop([\"train\"], axis=1, inplace=True)"
   ]
  },
  {
   "cell_type": "markdown",
   "metadata": {},
   "source": [
    "### Save data to csv files"
   ]
  },
  {
   "cell_type": "code",
   "execution_count": 33,
   "metadata": {},
   "outputs": [],
   "source": [
    "pd.DataFrame(train_df).to_csv(\"./Data/train_cleaned_v\" + data_version + \".csv\", index=False)\n",
    "pd.DataFrame(test_df).to_csv(\"./Data/test_cleaned_v\" + data_version + \".csv\", index=False)"
   ]
  }
 ],
 "metadata": {
  "kernelspec": {
   "display_name": "Python 3",
   "language": "python",
   "name": "python3"
  },
  "language_info": {
   "codemirror_mode": {
    "name": "ipython",
    "version": 3
   },
   "file_extension": ".py",
   "mimetype": "text/x-python",
   "name": "python",
   "nbconvert_exporter": "python",
   "pygments_lexer": "ipython3",
   "version": "3.7.1"
  }
 },
 "nbformat": 4,
 "nbformat_minor": 2
}
