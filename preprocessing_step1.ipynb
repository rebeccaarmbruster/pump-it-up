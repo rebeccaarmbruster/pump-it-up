{
 "cells": [
  {
   "cell_type": "code",
   "execution_count": 12,
   "metadata": {},
   "outputs": [],
   "source": [
    "import pandas as pd\n",
    "import numpy as np\n",
    "import math\n",
    "from sklearn.preprocessing import MinMaxScaler"
   ]
  },
  {
   "cell_type": "code",
   "execution_count": 13,
   "metadata": {},
   "outputs": [],
   "source": [
    "train = pd.read_csv('./Data/training_set_values.csv')\n",
    "test = pd.read_csv('./Data/training_set_values.csv')\n",
    "\n",
    "train['train'] = 1\n",
    "test['train'] = 0\n",
    "data = pd.concat([train, test])"
   ]
  },
  {
   "cell_type": "code",
   "execution_count": 14,
   "metadata": {
    "scrolled": true
   },
   "outputs": [
    {
     "data": {
      "text/html": [
       "<div>\n",
       "<style scoped>\n",
       "    .dataframe tbody tr th:only-of-type {\n",
       "        vertical-align: middle;\n",
       "    }\n",
       "\n",
       "    .dataframe tbody tr th {\n",
       "        vertical-align: top;\n",
       "    }\n",
       "\n",
       "    .dataframe thead th {\n",
       "        text-align: right;\n",
       "    }\n",
       "</style>\n",
       "<table border=\"1\" class=\"dataframe\">\n",
       "  <thead>\n",
       "    <tr style=\"text-align: right;\">\n",
       "      <th></th>\n",
       "      <th>id</th>\n",
       "      <th>amount_tsh</th>\n",
       "      <th>date_recorded</th>\n",
       "      <th>funder</th>\n",
       "      <th>gps_height</th>\n",
       "      <th>installer</th>\n",
       "      <th>longitude</th>\n",
       "      <th>latitude</th>\n",
       "      <th>wpt_name</th>\n",
       "      <th>num_private</th>\n",
       "      <th>...</th>\n",
       "      <th>water_quality</th>\n",
       "      <th>quality_group</th>\n",
       "      <th>quantity</th>\n",
       "      <th>quantity_group</th>\n",
       "      <th>source</th>\n",
       "      <th>source_type</th>\n",
       "      <th>source_class</th>\n",
       "      <th>waterpoint_type</th>\n",
       "      <th>waterpoint_type_group</th>\n",
       "      <th>train</th>\n",
       "    </tr>\n",
       "  </thead>\n",
       "  <tbody>\n",
       "    <tr>\n",
       "      <th>0</th>\n",
       "      <td>69572</td>\n",
       "      <td>6000.0</td>\n",
       "      <td>2011-03-14</td>\n",
       "      <td>Roman</td>\n",
       "      <td>1390</td>\n",
       "      <td>Roman</td>\n",
       "      <td>34.938093</td>\n",
       "      <td>-9.856322</td>\n",
       "      <td>none</td>\n",
       "      <td>0</td>\n",
       "      <td>...</td>\n",
       "      <td>soft</td>\n",
       "      <td>good</td>\n",
       "      <td>enough</td>\n",
       "      <td>enough</td>\n",
       "      <td>spring</td>\n",
       "      <td>spring</td>\n",
       "      <td>groundwater</td>\n",
       "      <td>communal standpipe</td>\n",
       "      <td>communal standpipe</td>\n",
       "      <td>1</td>\n",
       "    </tr>\n",
       "    <tr>\n",
       "      <th>1</th>\n",
       "      <td>8776</td>\n",
       "      <td>0.0</td>\n",
       "      <td>2013-03-06</td>\n",
       "      <td>Grumeti</td>\n",
       "      <td>1399</td>\n",
       "      <td>GRUMETI</td>\n",
       "      <td>34.698766</td>\n",
       "      <td>-2.147466</td>\n",
       "      <td>Zahanati</td>\n",
       "      <td>0</td>\n",
       "      <td>...</td>\n",
       "      <td>soft</td>\n",
       "      <td>good</td>\n",
       "      <td>insufficient</td>\n",
       "      <td>insufficient</td>\n",
       "      <td>rainwater harvesting</td>\n",
       "      <td>rainwater harvesting</td>\n",
       "      <td>surface</td>\n",
       "      <td>communal standpipe</td>\n",
       "      <td>communal standpipe</td>\n",
       "      <td>1</td>\n",
       "    </tr>\n",
       "    <tr>\n",
       "      <th>2</th>\n",
       "      <td>34310</td>\n",
       "      <td>25.0</td>\n",
       "      <td>2013-02-25</td>\n",
       "      <td>Lottery Club</td>\n",
       "      <td>686</td>\n",
       "      <td>World vision</td>\n",
       "      <td>37.460664</td>\n",
       "      <td>-3.821329</td>\n",
       "      <td>Kwa Mahundi</td>\n",
       "      <td>0</td>\n",
       "      <td>...</td>\n",
       "      <td>soft</td>\n",
       "      <td>good</td>\n",
       "      <td>enough</td>\n",
       "      <td>enough</td>\n",
       "      <td>dam</td>\n",
       "      <td>dam</td>\n",
       "      <td>surface</td>\n",
       "      <td>communal standpipe multiple</td>\n",
       "      <td>communal standpipe</td>\n",
       "      <td>1</td>\n",
       "    </tr>\n",
       "    <tr>\n",
       "      <th>3</th>\n",
       "      <td>67743</td>\n",
       "      <td>0.0</td>\n",
       "      <td>2013-01-28</td>\n",
       "      <td>Unicef</td>\n",
       "      <td>263</td>\n",
       "      <td>UNICEF</td>\n",
       "      <td>38.486161</td>\n",
       "      <td>-11.155298</td>\n",
       "      <td>Zahanati Ya Nanyumbu</td>\n",
       "      <td>0</td>\n",
       "      <td>...</td>\n",
       "      <td>soft</td>\n",
       "      <td>good</td>\n",
       "      <td>dry</td>\n",
       "      <td>dry</td>\n",
       "      <td>machine dbh</td>\n",
       "      <td>borehole</td>\n",
       "      <td>groundwater</td>\n",
       "      <td>communal standpipe multiple</td>\n",
       "      <td>communal standpipe</td>\n",
       "      <td>1</td>\n",
       "    </tr>\n",
       "    <tr>\n",
       "      <th>4</th>\n",
       "      <td>19728</td>\n",
       "      <td>0.0</td>\n",
       "      <td>2011-07-13</td>\n",
       "      <td>Action In A</td>\n",
       "      <td>0</td>\n",
       "      <td>Artisan</td>\n",
       "      <td>31.130847</td>\n",
       "      <td>-1.825359</td>\n",
       "      <td>Shuleni</td>\n",
       "      <td>0</td>\n",
       "      <td>...</td>\n",
       "      <td>soft</td>\n",
       "      <td>good</td>\n",
       "      <td>seasonal</td>\n",
       "      <td>seasonal</td>\n",
       "      <td>rainwater harvesting</td>\n",
       "      <td>rainwater harvesting</td>\n",
       "      <td>surface</td>\n",
       "      <td>communal standpipe</td>\n",
       "      <td>communal standpipe</td>\n",
       "      <td>1</td>\n",
       "    </tr>\n",
       "  </tbody>\n",
       "</table>\n",
       "<p>5 rows × 41 columns</p>\n",
       "</div>"
      ],
      "text/plain": [
       "      id  amount_tsh date_recorded        funder  gps_height     installer  \\\n",
       "0  69572      6000.0    2011-03-14         Roman        1390         Roman   \n",
       "1   8776         0.0    2013-03-06       Grumeti        1399       GRUMETI   \n",
       "2  34310        25.0    2013-02-25  Lottery Club         686  World vision   \n",
       "3  67743         0.0    2013-01-28        Unicef         263        UNICEF   \n",
       "4  19728         0.0    2011-07-13   Action In A           0       Artisan   \n",
       "\n",
       "   longitude   latitude              wpt_name  num_private  ...   \\\n",
       "0  34.938093  -9.856322                  none            0  ...    \n",
       "1  34.698766  -2.147466              Zahanati            0  ...    \n",
       "2  37.460664  -3.821329           Kwa Mahundi            0  ...    \n",
       "3  38.486161 -11.155298  Zahanati Ya Nanyumbu            0  ...    \n",
       "4  31.130847  -1.825359               Shuleni            0  ...    \n",
       "\n",
       "  water_quality quality_group      quantity  quantity_group  \\\n",
       "0          soft          good        enough          enough   \n",
       "1          soft          good  insufficient    insufficient   \n",
       "2          soft          good        enough          enough   \n",
       "3          soft          good           dry             dry   \n",
       "4          soft          good      seasonal        seasonal   \n",
       "\n",
       "                 source           source_type source_class  \\\n",
       "0                spring                spring  groundwater   \n",
       "1  rainwater harvesting  rainwater harvesting      surface   \n",
       "2                   dam                   dam      surface   \n",
       "3           machine dbh              borehole  groundwater   \n",
       "4  rainwater harvesting  rainwater harvesting      surface   \n",
       "\n",
       "               waterpoint_type waterpoint_type_group train  \n",
       "0           communal standpipe    communal standpipe     1  \n",
       "1           communal standpipe    communal standpipe     1  \n",
       "2  communal standpipe multiple    communal standpipe     1  \n",
       "3  communal standpipe multiple    communal standpipe     1  \n",
       "4           communal standpipe    communal standpipe     1  \n",
       "\n",
       "[5 rows x 41 columns]"
      ]
     },
     "execution_count": 14,
     "metadata": {},
     "output_type": "execute_result"
    }
   ],
   "source": [
    "data.head()"
   ]
  },
  {
   "cell_type": "code",
   "execution_count": 15,
   "metadata": {
    "scrolled": true
   },
   "outputs": [
    {
     "name": "stdout",
     "output_type": "stream",
     "text": [
      "<class 'pandas.core.frame.DataFrame'>\n",
      "Int64Index: 118800 entries, 0 to 59399\n",
      "Data columns (total 41 columns):\n",
      "id                       118800 non-null int64\n",
      "amount_tsh               118800 non-null float64\n",
      "date_recorded            118800 non-null object\n",
      "funder                   111530 non-null object\n",
      "gps_height               118800 non-null int64\n",
      "installer                111490 non-null object\n",
      "longitude                118800 non-null float64\n",
      "latitude                 118800 non-null float64\n",
      "wpt_name                 118800 non-null object\n",
      "num_private              118800 non-null int64\n",
      "basin                    118800 non-null object\n",
      "subvillage               118058 non-null object\n",
      "region                   118800 non-null object\n",
      "region_code              118800 non-null int64\n",
      "district_code            118800 non-null int64\n",
      "lga                      118800 non-null object\n",
      "ward                     118800 non-null object\n",
      "population               118800 non-null int64\n",
      "public_meeting           112132 non-null object\n",
      "recorded_by              118800 non-null object\n",
      "scheme_management        111046 non-null object\n",
      "scheme_name              62468 non-null object\n",
      "permit                   112688 non-null object\n",
      "construction_year        118800 non-null int64\n",
      "extraction_type          118800 non-null object\n",
      "extraction_type_group    118800 non-null object\n",
      "extraction_type_class    118800 non-null object\n",
      "management               118800 non-null object\n",
      "management_group         118800 non-null object\n",
      "payment                  118800 non-null object\n",
      "payment_type             118800 non-null object\n",
      "water_quality            118800 non-null object\n",
      "quality_group            118800 non-null object\n",
      "quantity                 118800 non-null object\n",
      "quantity_group           118800 non-null object\n",
      "source                   118800 non-null object\n",
      "source_type              118800 non-null object\n",
      "source_class             118800 non-null object\n",
      "waterpoint_type          118800 non-null object\n",
      "waterpoint_type_group    118800 non-null object\n",
      "train                    118800 non-null int64\n",
      "dtypes: float64(3), int64(8), object(30)\n",
      "memory usage: 38.1+ MB\n"
     ]
    }
   ],
   "source": [
    "# overview\n",
    "\n",
    "data.info()"
   ]
  },
  {
   "cell_type": "code",
   "execution_count": 16,
   "metadata": {
    "scrolled": true
   },
   "outputs": [
    {
     "name": "stdout",
     "output_type": "stream",
     "text": [
      "population:\n"
     ]
    },
    {
     "data": {
      "text/plain": [
       "0"
      ]
     },
     "metadata": {},
     "output_type": "display_data"
    },
    {
     "data": {
      "text/plain": [
       "42762"
      ]
     },
     "metadata": {},
     "output_type": "display_data"
    },
    {
     "name": "stdout",
     "output_type": "stream",
     "text": [
      "gps_height:\n"
     ]
    },
    {
     "data": {
      "text/plain": [
       "-90"
      ]
     },
     "metadata": {},
     "output_type": "display_data"
    },
    {
     "data": {
      "text/plain": [
       "40876"
      ]
     },
     "metadata": {},
     "output_type": "display_data"
    },
    {
     "name": "stdout",
     "output_type": "stream",
     "text": [
      "num_private:\n"
     ]
    },
    {
     "data": {
      "text/plain": [
       "0"
      ]
     },
     "metadata": {},
     "output_type": "display_data"
    },
    {
     "data": {
      "text/plain": [
       "117286"
      ]
     },
     "metadata": {},
     "output_type": "display_data"
    },
    {
     "name": "stdout",
     "output_type": "stream",
     "text": [
      "construction_year:\n"
     ]
    },
    {
     "data": {
      "text/plain": [
       "0"
      ]
     },
     "metadata": {},
     "output_type": "display_data"
    },
    {
     "data": {
      "text/plain": [
       "41418"
      ]
     },
     "metadata": {},
     "output_type": "display_data"
    },
    {
     "name": "stdout",
     "output_type": "stream",
     "text": [
      "amount_tsh:\n"
     ]
    },
    {
     "data": {
      "text/plain": [
       "0.0"
      ]
     },
     "metadata": {},
     "output_type": "display_data"
    },
    {
     "data": {
      "text/plain": [
       "83278"
      ]
     },
     "metadata": {},
     "output_type": "display_data"
    },
    {
     "name": "stdout",
     "output_type": "stream",
     "text": [
      "longitude:\n"
     ]
    },
    {
     "data": {
      "text/plain": [
       "0.0"
      ]
     },
     "metadata": {},
     "output_type": "display_data"
    },
    {
     "data": {
      "text/plain": [
       "3624"
      ]
     },
     "metadata": {},
     "output_type": "display_data"
    },
    {
     "name": "stdout",
     "output_type": "stream",
     "text": [
      "latitude:\n"
     ]
    },
    {
     "data": {
      "text/plain": [
       "-11.64944018"
      ]
     },
     "metadata": {},
     "output_type": "display_data"
    },
    {
     "data": {
      "text/plain": [
       "3624"
      ]
     },
     "metadata": {},
     "output_type": "display_data"
    }
   ],
   "source": [
    "# identify missing values in numerical data\n",
    "\n",
    "int_var = ['population','gps_height','num_private','construction_year']\n",
    "float_var = ['amount_tsh','longitude']\n",
    "\n",
    "for var in int_var:\n",
    "    print('{}:'.format(var))\n",
    "    display(data[var].min())\n",
    "    display(len(data[data[var] == 0]))\n",
    "\n",
    "for var in float_var:\n",
    "    print('{}:'.format(var))\n",
    "    display(data[var].min())\n",
    "    display(len(data[data[var] == 0.0]))\n",
    "\n",
    "print('latitude:')\n",
    "display(data['latitude'].min())\n",
    "display(len(data[(data['latitude'] > -0.001) & (data['latitude'] < 0.001)]))\n"
   ]
  },
  {
   "cell_type": "code",
   "execution_count": 17,
   "metadata": {},
   "outputs": [],
   "source": [
    "# replace zeros by NaN\n",
    "\n",
    "for var in int_var:\n",
    "    data[var].replace(0, np.nan, inplace=True)\n",
    "    \n",
    "for var in float_var:\n",
    "    data[var].replace(0.0, np.nan, inplace=True)\n",
    "\n",
    "data['latitude'].where((data['latitude'] < -0.001) | (data['latitude'] > 0.001), other= np.nan, inplace=True,axis=0)"
   ]
  },
  {
   "cell_type": "code",
   "execution_count": 18,
   "metadata": {
    "scrolled": true
   },
   "outputs": [
    {
     "data": {
      "text/plain": [
       "id                            0\n",
       "amount_tsh                83278\n",
       "date_recorded                 0\n",
       "funder                     7270\n",
       "gps_height                40876\n",
       "installer                  7310\n",
       "longitude                  3624\n",
       "latitude                   3624\n",
       "wpt_name                      0\n",
       "num_private              117286\n",
       "basin                         0\n",
       "subvillage                  742\n",
       "region                        0\n",
       "region_code                   0\n",
       "district_code                 0\n",
       "lga                           0\n",
       "ward                          0\n",
       "population                42762\n",
       "public_meeting             6668\n",
       "recorded_by                   0\n",
       "scheme_management          7754\n",
       "scheme_name               56332\n",
       "permit                     6112\n",
       "construction_year         41418\n",
       "extraction_type               0\n",
       "extraction_type_group         0\n",
       "extraction_type_class         0\n",
       "management                    0\n",
       "management_group              0\n",
       "payment                       0\n",
       "payment_type                  0\n",
       "water_quality                 0\n",
       "quality_group                 0\n",
       "quantity                      0\n",
       "quantity_group                0\n",
       "source                        0\n",
       "source_type                   0\n",
       "source_class                  0\n",
       "waterpoint_type               0\n",
       "waterpoint_type_group         0\n",
       "train                         0\n",
       "dtype: int64"
      ]
     },
     "execution_count": 18,
     "metadata": {},
     "output_type": "execute_result"
    }
   ],
   "source": [
    "data.isnull().sum()"
   ]
  },
  {
   "cell_type": "code",
   "execution_count": 19,
   "metadata": {},
   "outputs": [],
   "source": [
    "# Duplicate longitude and latitude column for imputation based on normal distribution and random choice\n",
    "data['longitude_imp_normal'] = data['longitude']\n",
    "data['latitude_imp_normal'] = data['latitude']\n",
    "data['longitude_imp_rand_choice'] = data['longitude']\n",
    "data['latitude_imp_rand_choice'] = data['latitude']"
   ]
  },
  {
   "cell_type": "code",
   "execution_count": 20,
   "metadata": {},
   "outputs": [],
   "source": [
    "# Add columns for mean and standard deviation of longitude and latitude based on region and ward\n",
    "gps_features = ['longitude', 'latitude']\n",
    "divisions = ['region', 'ward']\n",
    "measures = ['mean', 'std']\n",
    "for gps_feature in gps_features:\n",
    "    for division in divisions:\n",
    "        for measure in measures:\n",
    "            new_feature_name = '_'.join([gps_feature, measure, division])\n",
    "            data[new_feature_name] = data.groupby(division)[gps_feature].transform(measure)"
   ]
  },
  {
   "cell_type": "code",
   "execution_count": 21,
   "metadata": {},
   "outputs": [
    {
     "data": {
      "text/plain": [
       "'Missing values after imputation by ward: 2916'"
      ]
     },
     "metadata": {},
     "output_type": "display_data"
    }
   ],
   "source": [
    "# 1st step: Impute missing values with random numbers generated by normal distribution based on mean, std by ward\n",
    "data['longitude_imp_normal'] = data.apply(lambda row: np.random.normal(loc=row['longitude_mean_ward'], scale=row['longitude_std_ward']) if math.isnan(row['longitude_imp_normal']) else row['longitude_imp_normal'], axis=1)\n",
    "data['latitude_imp_normal'] = data.apply(lambda row: np.random.normal(loc=row['latitude_mean_ward'], scale=row['latitude_std_ward']) if math.isnan(row['latitude_imp_normal']) else row['latitude_imp_normal'], axis=1)\n",
    "\n",
    "display('Missing values after imputation by ward: {}'.format(data['longitude_imp_normal'].isnull().sum()))\n",
    "\n",
    "# 12nd step: Impute missing values with random numbers generated by normal distribution based on mean, std by region\n",
    "data['longitude_imp_normal'] = data.apply(lambda row: np.random.normal(loc=row['longitude_mean_region'], scale=row['longitude_std_region']) if math.isnan(row['longitude_imp_normal']) else row['longitude_imp_normal'], axis=1)\n",
    "data['latitude_imp_normal'] = data.apply(lambda row: np.random.normal(loc=row['latitude_mean_region'], scale=row['latitude_std_region']) if math.isnan(row['latitude_imp_normal']) else row['latitude_imp_normal'], axis=1)\n"
   ]
  },
  {
   "cell_type": "code",
   "execution_count": 22,
   "metadata": {},
   "outputs": [
    {
     "data": {
      "text/plain": [
       "'longitude'"
      ]
     },
     "metadata": {},
     "output_type": "display_data"
    },
    {
     "data": {
      "text/plain": [
       "'region'"
      ]
     },
     "metadata": {},
     "output_type": "display_data"
    },
    {
     "data": {
      "text/plain": [
       "'longitude'"
      ]
     },
     "metadata": {},
     "output_type": "display_data"
    },
    {
     "data": {
      "text/plain": [
       "'ward'"
      ]
     },
     "metadata": {},
     "output_type": "display_data"
    },
    {
     "data": {
      "text/plain": [
       "'latitude'"
      ]
     },
     "metadata": {},
     "output_type": "display_data"
    },
    {
     "data": {
      "text/plain": [
       "'region'"
      ]
     },
     "metadata": {},
     "output_type": "display_data"
    },
    {
     "data": {
      "text/plain": [
       "'latitude'"
      ]
     },
     "metadata": {},
     "output_type": "display_data"
    },
    {
     "data": {
      "text/plain": [
       "'ward'"
      ]
     },
     "metadata": {},
     "output_type": "display_data"
    }
   ],
   "source": [
    "# Add columns with list of values in corresponding group of region and ward, respectively\n",
    "for gps_feature in gps_features:\n",
    "    for division in divisions:\n",
    "        feature_name = '_'.join([gps_feature, 'list', division])\n",
    "        lists = data.groupby(division)[gps_feature].apply(list)\n",
    "        data[feature_name] = data.apply(lambda row: lists[row[division]], axis=1)\n",
    "        data[feature_name] = data[feature_name].apply(lambda lst: [x for x in lst if not math.isnan(x)])\n",
    "        data[feature_name] = data[feature_name].apply(lambda x: 1 if not x else x)\n",
    "        display(gps_feature, division)"
   ]
  },
  {
   "cell_type": "code",
   "execution_count": 24,
   "metadata": {},
   "outputs": [],
   "source": [
    "data['longitude_imp_rand_choice'] = data['longitude']\n",
    "data['latitude_imp_rand_choice'] = data['latitude']"
   ]
  },
  {
   "cell_type": "code",
   "execution_count": 26,
   "metadata": {},
   "outputs": [
    {
     "data": {
      "text/plain": [
       "'Missing values after imputation by ward: 2916'"
      ]
     },
     "metadata": {},
     "output_type": "display_data"
    }
   ],
   "source": [
    "# 1st step: Impute missing values with random numbers generated by random choice on list of not-nan values per ward\n",
    "data['longitude_imp_rand_choice'] = data.apply(lambda row: np.random.choice(a=row['longitude_list_ward']) if math.isnan(row['longitude_imp_rand_choice']) else row['longitude_imp_rand_choice'], axis=1)\n",
    "data['latitude_imp_rand_choice'] = data.apply(lambda row: np.random.choice(a=row['latitude_list_ward']) if math.isnan(row['latitude_imp_rand_choice']) else row['latitude_imp_rand_choice'], axis=1)\n",
    "\n",
    "display('Missing values after imputation by ward: {}'.format(len(data.loc[data['longitude_imp_rand_choice'] == 0])))\n",
    "\n",
    "# 2nd step: Impute missing values with random numbers generated by random choice on list of not-nan values per region\n",
    "data['longitude_imp_rand_choice'] = data.apply(lambda row: np.random.choice(a=row['longitude_list_region']) if row['longitude_imp_rand_choice'] == 0 else row['longitude_imp_rand_choice'], axis=1)\n",
    "data['latitude_imp_rand_choice'] = data.apply(lambda row: np.random.choice(a=row['latitude_list_region']) if row['latitude_imp_rand_choice'] == 0 else row['latitude_imp_rand_choice'], axis=1)\n"
   ]
  },
  {
   "cell_type": "code",
   "execution_count": 27,
   "metadata": {},
   "outputs": [],
   "source": [
    "# Drop columns used for generation of random numbers\n",
    "drop_columns = list()\n",
    "measures.append('list')\n",
    "for gps_feature in gps_features:\n",
    "    for division in divisions:\n",
    "        for measure in measures:\n",
    "            drop_columns.append('_'.join([gps_feature, measure, division]))\n",
    "data.drop(columns=drop_columns, inplace=True)"
   ]
  },
  {
   "cell_type": "code",
   "execution_count": 28,
   "metadata": {},
   "outputs": [],
   "source": [
    "# fill numerical null-values by mean/median\n",
    "\n",
    "int_var.append('latitude')\n",
    "\n",
    "# 1st step: group by region, ward (-> null-values remain if there does not exist a single non-null value in a tuple)\n",
    "for var in int_var:\n",
    "    data[var].fillna(data.groupby(['region', 'ward'])[var].transform(\"median\"), inplace=True)\n",
    "\n",
    "for var in float_var:\n",
    "    data[var].fillna(data.groupby(['region', 'ward'])[var].transform(\"mean\"), inplace=True)\n",
    "    \n",
    "# 2nd step: rougher filter\n",
    "for var in int_var:\n",
    "    data[var].fillna(data.groupby(['region'])[var].transform(\"median\"), inplace=True)\n",
    "\n",
    "for var in float_var:\n",
    "    data[var].fillna(data.groupby(['region'])[var].transform(\"mean\"), inplace=True)\n",
    "\n",
    "# 3rd step: rougher filter\n",
    "for var in int_var:\n",
    "    data[var].fillna(data[var].median(), inplace=True)\n",
    "\n",
    "for var in float_var:\n",
    "    data[var].fillna(data[var].mean(), inplace=True)"
   ]
  },
  {
   "cell_type": "code",
   "execution_count": 29,
   "metadata": {
    "scrolled": true
   },
   "outputs": [
    {
     "data": {
      "text/plain": [
       "id                               0\n",
       "amount_tsh                       0\n",
       "date_recorded                    0\n",
       "funder                        7270\n",
       "gps_height                       0\n",
       "installer                     7310\n",
       "longitude                        0\n",
       "latitude                         0\n",
       "wpt_name                         0\n",
       "num_private                      0\n",
       "basin                            0\n",
       "subvillage                     742\n",
       "region                           0\n",
       "region_code                      0\n",
       "district_code                    0\n",
       "lga                              0\n",
       "ward                             0\n",
       "population                       0\n",
       "public_meeting                6668\n",
       "recorded_by                      0\n",
       "scheme_management             7754\n",
       "scheme_name                  56332\n",
       "permit                        6112\n",
       "construction_year                0\n",
       "extraction_type                  0\n",
       "extraction_type_group            0\n",
       "extraction_type_class            0\n",
       "management                       0\n",
       "management_group                 0\n",
       "payment                          0\n",
       "payment_type                     0\n",
       "water_quality                    0\n",
       "quality_group                    0\n",
       "quantity                         0\n",
       "quantity_group                   0\n",
       "source                           0\n",
       "source_type                      0\n",
       "source_class                     0\n",
       "waterpoint_type                  0\n",
       "waterpoint_type_group            0\n",
       "train                            0\n",
       "longitude_imp_normal             0\n",
       "latitude_imp_normal              0\n",
       "longitude_imp_rand_choice        0\n",
       "latitude_imp_rand_choice         0\n",
       "dtype: int64"
      ]
     },
     "execution_count": 29,
     "metadata": {},
     "output_type": "execute_result"
    }
   ],
   "source": [
    "data.isnull().sum()"
   ]
  },
  {
   "cell_type": "code",
   "execution_count": 30,
   "metadata": {},
   "outputs": [],
   "source": [
    "# create new feature that gives information about operational time\n",
    "    \n",
    "data['date_recorded'] = pd.to_datetime(data['date_recorded'])\n",
    "data['operation_years'] = data.date_recorded.dt.year - data.construction_year\n",
    "data['operation_years'] = data['operation_years'].astype(int)"
   ]
  },
  {
   "cell_type": "code",
   "execution_count": null,
   "metadata": {},
   "outputs": [],
   "source": [
    "# scale numeric features\n",
    "\n",
    "#num_features=['latitude','longitude','operation_years','amount_tsh', 'gps_height', 'population']\n",
    "#scaler = MinMaxScaler()\n",
    "\n",
    "#for s in split:\n",
    "    #s[num_features] = scaler.fit_transform(s[num_features])"
   ]
  },
  {
   "cell_type": "code",
   "execution_count": 31,
   "metadata": {},
   "outputs": [],
   "source": [
    "# drop redundant features and features that do not seem to have an impact\n",
    "\n",
    "data.drop(['extraction_type_group','extraction_type_class','payment','quality_group','source_class','source_type','waterpoint_type_group','management_group','quantity_group','date_recorded','wpt_name','num_private','recorded_by'],axis=1,inplace=True)"
   ]
  },
  {
   "cell_type": "code",
   "execution_count": 32,
   "metadata": {
    "scrolled": true
   },
   "outputs": [
    {
     "data": {
      "text/plain": [
       "K                                        1364\n",
       "None                                     1288\n",
       "Borehole                                 1092\n",
       "Chalinze wate                             810\n",
       "M                                         800\n",
       "DANIDA                                    758\n",
       "Government                                640\n",
       "Ngana water supplied scheme               540\n",
       "wanging'ombe water supply s               522\n",
       "wanging'ombe supply scheme                468\n",
       "Bagamoyo wate                             458\n",
       "I                                         458\n",
       "Uroki-Bomang'ombe water sup               418\n",
       "N                                         408\n",
       "Kirua kahe gravity water supply trust     386\n",
       "Machumba estate pipe line                 370\n",
       "Makwale water supplied sche               332\n",
       "Kijiji                                    322\n",
       "S                                         308\n",
       "mtwango water supply scheme               304\n",
       "Losaa-Kia water supply                    304\n",
       "Handeni Trunk Main(H                      304\n",
       "Mkongoro Two                              294\n",
       "Roman                                     278\n",
       "Mkongoro One                              256\n",
       "Maambreni gravity water supply            250\n",
       "Lyamungo umbwe water supply               240\n",
       "Kirua kahe pumping water trust            226\n",
       "Nabaiye pipe line                         214\n",
       "Ki                                        214\n",
       "                                         ... \n",
       "Underground water sc                        2\n",
       "Jaira borehole                              2\n",
       "lgongolo gravity water sche                 2\n",
       "Kifaru Water Supply                         2\n",
       "EKTM 2 water  supply                        2\n",
       "jongoj                                      2\n",
       "water supply at Kalebejo                    2\n",
       "BL oleve water supply                       2\n",
       "Kwaikuru water supply                       2\n",
       "Kianama spring source                       2\n",
       "Maji ya Kutega                              2\n",
       "Nyamtuza                                    2\n",
       "Ndea Karamba water supply                   2\n",
       "Shirimatunda                                2\n",
       "Mshinde                                     2\n",
       "Loronu water supply                         2\n",
       "Magoma water suoply                         2\n",
       "Pefa water supply                           2\n",
       "BL Bonifas Kingu                            2\n",
       "Huma                                        2\n",
       "BL Nkenku kijijini                          2\n",
       "Bukonyo Water Supply                        2\n",
       "Mradi wa maji Vijijini                      2\n",
       "Nahukahuka Primary School                   2\n",
       "Kwanaraga                                   2\n",
       "KKKT                                        2\n",
       "Masuki water supply                         2\n",
       "Jodowaso                                    2\n",
       "REGWA EGYPT                                 2\n",
       "Busambilo Solar Power                       2\n",
       "Name: scheme_name, Length: 2696, dtype: int64"
      ]
     },
     "execution_count": 32,
     "metadata": {},
     "output_type": "execute_result"
    }
   ],
   "source": [
    "data['funder'].value_counts()\n",
    "data['installer'].value_counts()\n",
    "data['scheme_name'].value_counts()"
   ]
  },
  {
   "cell_type": "code",
   "execution_count": 33,
   "metadata": {},
   "outputs": [],
   "source": [
    "# reduce dimension of categorical variables\n",
    "\n",
    "# funder\n",
    "data = data.assign(count = data.groupby('funder')['funder'].transform('count'))\\\n",
    ".sort_values(by = ['count','funder'], ascending = [False,True])\n",
    "\n",
    "data.loc[data['count'] < 1050, 'funder'] = 'Others'\n",
    "data['funder'].replace(np.nan, 'Others', inplace=True)\n",
    "del data['count']\n",
    "\n",
    "# installer\n",
    "data = data.assign(count = data.groupby('installer')['installer'].transform('count'))\\\n",
    ".sort_values(by = ['count','installer'], ascending = [False,True])\n",
    "\n",
    "data.loc[data['count'] < 765, 'installer'] = 'Others'\n",
    "data.loc[data['installer'] == '0', 'installer'] = 'Others'\n",
    "data['installer'].replace(np.nan, 'Others', inplace=True)\n",
    "del data['count']\n",
    "\n",
    "# scheme_name\n",
    "data = data.assign(count = data.groupby('scheme_name')['scheme_name'].transform('count'))\\\n",
    ".sort_values(by = ['count','scheme_name'], ascending = [False,True])\n",
    "\n",
    "data.loc[data['count'] < 296, 'scheme_name'] = 'Others'\n",
    "data.loc[data['scheme_name'] == '0', 'scheme_name'] = 'Others'\n",
    "data['scheme_name'].replace(np.nan, 'Others', inplace=True)\n",
    "del data['count']"
   ]
  },
  {
   "cell_type": "code",
   "execution_count": 34,
   "metadata": {},
   "outputs": [],
   "source": [
    "# factorize features for evaluations\n",
    "\n",
    "#data['funder'] = pd.factorize(data['funder'])[0]\n",
    "#data['installer'] = pd.factorize(data['installer'])[0]\n",
    "#data['basin'] = pd.factorize(data['basin'])[0]\n",
    "#data['subvillage'] = pd.factorize(data['subvillage'])[0]\n",
    "#data['region'] = pd.factorize(data['region'])[0]\n",
    "#data['lga'] = pd.factorize(data['lga'])[0]\n",
    "#data['ward'] = pd.factorize(data['ward'])[0]\n",
    "#data['scheme_management'] = pd.factorize(data['scheme_management'])[0]\n",
    "#data['scheme_name'] = pd.factorize(data['scheme_name'])[0]\n",
    "#data['extraction_type'] = pd.factorize(data['extraction_type'])[0]\n",
    "#data['management'] = pd.factorize(data['management'])[0]\n",
    "#data['payment_type'] = pd.factorize(data['payment_type'])[0]\n",
    "#data['water_quality'] = pd.factorize(data['water_quality'])[0]\n",
    "#data['quantity'] = pd.factorize(data['quantity'])[0]\n",
    "#data['waterpoint_type'] = pd.factorize(data['waterpoint_type'])[0]\n",
    "#data['permit'] = pd.factorize(data['permit'])[0]\n",
    "#data['source'] = pd.factorize(data['source'])[0]"
   ]
  },
  {
   "cell_type": "code",
   "execution_count": 35,
   "metadata": {},
   "outputs": [
    {
     "data": {
      "text/html": [
       "<div>\n",
       "<style scoped>\n",
       "    .dataframe tbody tr th:only-of-type {\n",
       "        vertical-align: middle;\n",
       "    }\n",
       "\n",
       "    .dataframe tbody tr th {\n",
       "        vertical-align: top;\n",
       "    }\n",
       "\n",
       "    .dataframe thead th {\n",
       "        text-align: right;\n",
       "    }\n",
       "</style>\n",
       "<table border=\"1\" class=\"dataframe\">\n",
       "  <thead>\n",
       "    <tr style=\"text-align: right;\">\n",
       "      <th></th>\n",
       "      <th>id</th>\n",
       "      <th>amount_tsh</th>\n",
       "      <th>funder</th>\n",
       "      <th>gps_height</th>\n",
       "      <th>installer</th>\n",
       "      <th>longitude</th>\n",
       "      <th>latitude</th>\n",
       "      <th>basin</th>\n",
       "      <th>subvillage</th>\n",
       "      <th>region</th>\n",
       "      <th>...</th>\n",
       "      <th>water_quality</th>\n",
       "      <th>quantity</th>\n",
       "      <th>source</th>\n",
       "      <th>waterpoint_type</th>\n",
       "      <th>train</th>\n",
       "      <th>longitude_imp_normal</th>\n",
       "      <th>latitude_imp_normal</th>\n",
       "      <th>longitude_imp_rand_choice</th>\n",
       "      <th>latitude_imp_rand_choice</th>\n",
       "      <th>operation_years</th>\n",
       "    </tr>\n",
       "  </thead>\n",
       "  <tbody>\n",
       "    <tr>\n",
       "      <th>325</th>\n",
       "      <td>21669</td>\n",
       "      <td>812.5</td>\n",
       "      <td>Others</td>\n",
       "      <td>1715.0</td>\n",
       "      <td>DWE</td>\n",
       "      <td>31.366025</td>\n",
       "      <td>-7.972010</td>\n",
       "      <td>Lake Tanganyika</td>\n",
       "      <td>Katapulo</td>\n",
       "      <td>Rukwa</td>\n",
       "      <td>...</td>\n",
       "      <td>soft</td>\n",
       "      <td>enough</td>\n",
       "      <td>spring</td>\n",
       "      <td>communal standpipe</td>\n",
       "      <td>1</td>\n",
       "      <td>31.366025</td>\n",
       "      <td>-7.972010</td>\n",
       "      <td>31.366025</td>\n",
       "      <td>-7.972010</td>\n",
       "      <td>37</td>\n",
       "    </tr>\n",
       "    <tr>\n",
       "      <th>11364</th>\n",
       "      <td>60108</td>\n",
       "      <td>1250.0</td>\n",
       "      <td>Others</td>\n",
       "      <td>1906.0</td>\n",
       "      <td>DWE</td>\n",
       "      <td>31.431333</td>\n",
       "      <td>-7.850336</td>\n",
       "      <td>Lake Tanganyika</td>\n",
       "      <td>No 1</td>\n",
       "      <td>Rukwa</td>\n",
       "      <td>...</td>\n",
       "      <td>soft</td>\n",
       "      <td>enough</td>\n",
       "      <td>river</td>\n",
       "      <td>communal standpipe</td>\n",
       "      <td>1</td>\n",
       "      <td>31.431333</td>\n",
       "      <td>-7.850336</td>\n",
       "      <td>31.431333</td>\n",
       "      <td>-7.850336</td>\n",
       "      <td>35</td>\n",
       "    </tr>\n",
       "    <tr>\n",
       "      <th>14462</th>\n",
       "      <td>44820</td>\n",
       "      <td>812.5</td>\n",
       "      <td>Others</td>\n",
       "      <td>1741.0</td>\n",
       "      <td>DWE</td>\n",
       "      <td>31.368317</td>\n",
       "      <td>-7.971081</td>\n",
       "      <td>Lake Tanganyika</td>\n",
       "      <td>Muungano</td>\n",
       "      <td>Rukwa</td>\n",
       "      <td>...</td>\n",
       "      <td>soft</td>\n",
       "      <td>enough</td>\n",
       "      <td>spring</td>\n",
       "      <td>communal standpipe</td>\n",
       "      <td>1</td>\n",
       "      <td>31.368317</td>\n",
       "      <td>-7.971081</td>\n",
       "      <td>31.368317</td>\n",
       "      <td>-7.971081</td>\n",
       "      <td>37</td>\n",
       "    </tr>\n",
       "    <tr>\n",
       "      <th>18159</th>\n",
       "      <td>53307</td>\n",
       "      <td>812.5</td>\n",
       "      <td>Others</td>\n",
       "      <td>1730.0</td>\n",
       "      <td>DWE</td>\n",
       "      <td>31.368730</td>\n",
       "      <td>-7.972788</td>\n",
       "      <td>Lake Tanganyika</td>\n",
       "      <td>Muungano</td>\n",
       "      <td>Rukwa</td>\n",
       "      <td>...</td>\n",
       "      <td>soft</td>\n",
       "      <td>enough</td>\n",
       "      <td>spring</td>\n",
       "      <td>communal standpipe</td>\n",
       "      <td>1</td>\n",
       "      <td>31.368730</td>\n",
       "      <td>-7.972788</td>\n",
       "      <td>31.368730</td>\n",
       "      <td>-7.972788</td>\n",
       "      <td>37</td>\n",
       "    </tr>\n",
       "    <tr>\n",
       "      <th>18990</th>\n",
       "      <td>5701</td>\n",
       "      <td>812.5</td>\n",
       "      <td>Others</td>\n",
       "      <td>1731.0</td>\n",
       "      <td>DWE</td>\n",
       "      <td>31.365461</td>\n",
       "      <td>-7.970985</td>\n",
       "      <td>Lake Tanganyika</td>\n",
       "      <td>Ilyema</td>\n",
       "      <td>Rukwa</td>\n",
       "      <td>...</td>\n",
       "      <td>soft</td>\n",
       "      <td>enough</td>\n",
       "      <td>spring</td>\n",
       "      <td>communal standpipe</td>\n",
       "      <td>1</td>\n",
       "      <td>31.365461</td>\n",
       "      <td>-7.970985</td>\n",
       "      <td>31.365461</td>\n",
       "      <td>-7.970985</td>\n",
       "      <td>37</td>\n",
       "    </tr>\n",
       "  </tbody>\n",
       "</table>\n",
       "<p>5 rows × 33 columns</p>\n",
       "</div>"
      ],
      "text/plain": [
       "          id  amount_tsh  funder  gps_height installer  longitude  latitude  \\\n",
       "325    21669       812.5  Others      1715.0       DWE  31.366025 -7.972010   \n",
       "11364  60108      1250.0  Others      1906.0       DWE  31.431333 -7.850336   \n",
       "14462  44820       812.5  Others      1741.0       DWE  31.368317 -7.971081   \n",
       "18159  53307       812.5  Others      1730.0       DWE  31.368730 -7.972788   \n",
       "18990   5701       812.5  Others      1731.0       DWE  31.365461 -7.970985   \n",
       "\n",
       "                 basin subvillage region       ...         water_quality  \\\n",
       "325    Lake Tanganyika   Katapulo  Rukwa       ...                  soft   \n",
       "11364  Lake Tanganyika       No 1  Rukwa       ...                  soft   \n",
       "14462  Lake Tanganyika   Muungano  Rukwa       ...                  soft   \n",
       "18159  Lake Tanganyika   Muungano  Rukwa       ...                  soft   \n",
       "18990  Lake Tanganyika     Ilyema  Rukwa       ...                  soft   \n",
       "\n",
       "       quantity  source     waterpoint_type  train longitude_imp_normal  \\\n",
       "325      enough  spring  communal standpipe      1            31.366025   \n",
       "11364    enough   river  communal standpipe      1            31.431333   \n",
       "14462    enough  spring  communal standpipe      1            31.368317   \n",
       "18159    enough  spring  communal standpipe      1            31.368730   \n",
       "18990    enough  spring  communal standpipe      1            31.365461   \n",
       "\n",
       "      latitude_imp_normal longitude_imp_rand_choice latitude_imp_rand_choice  \\\n",
       "325             -7.972010                 31.366025                -7.972010   \n",
       "11364           -7.850336                 31.431333                -7.850336   \n",
       "14462           -7.971081                 31.368317                -7.971081   \n",
       "18159           -7.972788                 31.368730                -7.972788   \n",
       "18990           -7.970985                 31.365461                -7.970985   \n",
       "\n",
       "       operation_years  \n",
       "325                 37  \n",
       "11364               35  \n",
       "14462               37  \n",
       "18159               37  \n",
       "18990               37  \n",
       "\n",
       "[5 rows x 33 columns]"
      ]
     },
     "execution_count": 35,
     "metadata": {},
     "output_type": "execute_result"
    }
   ],
   "source": [
    "data.head()"
   ]
  },
  {
   "cell_type": "code",
   "execution_count": 38,
   "metadata": {},
   "outputs": [
    {
     "name": "stderr",
     "output_type": "stream",
     "text": [
      "/anaconda3/lib/python3.7/site-packages/pandas/core/frame.py:3697: SettingWithCopyWarning: \n",
      "A value is trying to be set on a copy of a slice from a DataFrame\n",
      "\n",
      "See the caveats in the documentation: http://pandas.pydata.org/pandas-docs/stable/indexing.html#indexing-view-versus-copy\n",
      "  errors=errors)\n"
     ]
    }
   ],
   "source": [
    "train_df = data[data[\"train\"] == 1]\n",
    "test_df = data[data[\"train\"] == 0]\n",
    "\n",
    "train_df.drop([\"train\"], axis=1, inplace=True)\n",
    "test_df.drop([\"train\"], axis=1, inplace=True)"
   ]
  },
  {
   "cell_type": "code",
   "execution_count": 39,
   "metadata": {},
   "outputs": [],
   "source": [
    "pd.DataFrame(train_df).to_csv(\"./Data/train_cleaned_distr-imp.csv\", index=False)\n",
    "pd.DataFrame(test_df).to_csv(\"./Data/test_cleaned_distr_imp.csv\", index=False)"
   ]
  }
 ],
 "metadata": {
  "kernelspec": {
   "display_name": "Python 3",
   "language": "python",
   "name": "python3"
  },
  "language_info": {
   "codemirror_mode": {
    "name": "ipython",
    "version": 3
   },
   "file_extension": ".py",
   "mimetype": "text/x-python",
   "name": "python",
   "nbconvert_exporter": "python",
   "pygments_lexer": "ipython3",
   "version": "3.7.1"
  }
 },
 "nbformat": 4,
 "nbformat_minor": 2
}
