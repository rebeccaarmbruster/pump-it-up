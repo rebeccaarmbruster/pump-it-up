{
 "cells": [
  {
   "cell_type": "code",
   "execution_count": 2,
   "metadata": {},
   "outputs": [],
   "source": [
    "import pandas as pd\n",
    "import numpy as np\n",
    "import math\n",
    "from sklearn.preprocessing import MinMaxScaler\n",
    "pd.set_option('display.max_columns', None)"
   ]
  },
  {
   "cell_type": "code",
   "execution_count": 3,
   "metadata": {},
   "outputs": [],
   "source": [
    "train_raw = pd.read_csv('./Data/training_set_values.csv')\n",
    "test_raw = pd.read_csv('./Data/test_set_values.csv')\n",
    "\n",
    "train_raw['train'] = 1\n",
    "test_raw['train'] = 0\n",
    "data = pd.concat([train_raw, test_raw])"
   ]
  },
  {
   "cell_type": "code",
   "execution_count": 4,
   "metadata": {
    "scrolled": true
   },
   "outputs": [],
   "source": [
    "# Overview\n",
    "\n",
    "#data.info()"
   ]
  },
  {
   "cell_type": "code",
   "execution_count": 5,
   "metadata": {
    "scrolled": true
   },
   "outputs": [
    {
     "name": "stdout",
     "output_type": "stream",
     "text": [
      "population:\n"
     ]
    },
    {
     "data": {
      "text/plain": [
       "0"
      ]
     },
     "metadata": {},
     "output_type": "display_data"
    },
    {
     "data": {
      "text/plain": [
       "26834"
      ]
     },
     "metadata": {},
     "output_type": "display_data"
    },
    {
     "name": "stdout",
     "output_type": "stream",
     "text": [
      "gps_height:\n"
     ]
    },
    {
     "data": {
      "text/plain": [
       "-90"
      ]
     },
     "metadata": {},
     "output_type": "display_data"
    },
    {
     "data": {
      "text/plain": [
       "25649"
      ]
     },
     "metadata": {},
     "output_type": "display_data"
    },
    {
     "name": "stdout",
     "output_type": "stream",
     "text": [
      "num_private:\n"
     ]
    },
    {
     "data": {
      "text/plain": [
       "0"
      ]
     },
     "metadata": {},
     "output_type": "display_data"
    },
    {
     "data": {
      "text/plain": [
       "73299"
      ]
     },
     "metadata": {},
     "output_type": "display_data"
    },
    {
     "name": "stdout",
     "output_type": "stream",
     "text": [
      "construction_year:\n"
     ]
    },
    {
     "data": {
      "text/plain": [
       "0"
      ]
     },
     "metadata": {},
     "output_type": "display_data"
    },
    {
     "data": {
      "text/plain": [
       "25969"
      ]
     },
     "metadata": {},
     "output_type": "display_data"
    },
    {
     "name": "stdout",
     "output_type": "stream",
     "text": [
      "amount_tsh:\n"
     ]
    },
    {
     "data": {
      "text/plain": [
       "0.0"
      ]
     },
     "metadata": {},
     "output_type": "display_data"
    },
    {
     "data": {
      "text/plain": [
       "52049"
      ]
     },
     "metadata": {},
     "output_type": "display_data"
    },
    {
     "name": "stdout",
     "output_type": "stream",
     "text": [
      "longitude:\n"
     ]
    },
    {
     "data": {
      "text/plain": [
       "0.0"
      ]
     },
     "metadata": {},
     "output_type": "display_data"
    },
    {
     "data": {
      "text/plain": [
       "2269"
      ]
     },
     "metadata": {},
     "output_type": "display_data"
    },
    {
     "name": "stdout",
     "output_type": "stream",
     "text": [
      "latitude:\n"
     ]
    },
    {
     "data": {
      "text/plain": [
       "-11.64944018"
      ]
     },
     "metadata": {},
     "output_type": "display_data"
    },
    {
     "data": {
      "text/plain": [
       "2269"
      ]
     },
     "metadata": {},
     "output_type": "display_data"
    }
   ],
   "source": [
    "# Identify missing values in numerical data\n",
    "\n",
    "int_var = ['population','gps_height','num_private','construction_year']\n",
    "float_var = ['amount_tsh','longitude']\n",
    "\n",
    "for var in int_var:\n",
    "    print('{}:'.format(var))\n",
    "    display(data[var].min())\n",
    "    display(len(data[data[var] == 0]))\n",
    "\n",
    "for var in float_var:\n",
    "    print('{}:'.format(var))\n",
    "    display(data[var].min())\n",
    "    display(len(data[data[var] == 0.0]))\n",
    "\n",
    "print('latitude:')\n",
    "display(data['latitude'].min())\n",
    "display(len(data[(data['latitude'] > -0.001) & (data['latitude'] < 0.001)]))"
   ]
  },
  {
   "cell_type": "code",
   "execution_count": 6,
   "metadata": {},
   "outputs": [],
   "source": [
    "# Replace zeros by NaN\n",
    "\n",
    "for var in int_var:\n",
    "    data[var].replace(0, np.nan, inplace=True)\n",
    "    \n",
    "for var in float_var:\n",
    "    data[var].replace(0.0, np.nan, inplace=True)\n",
    "\n",
    "data['latitude'].where((data['latitude'] < -0.001) | (data['latitude'] > 0.001), other= np.nan, inplace=True,axis=0)\n",
    "\n",
    "train = data[data['train'] == 1]\n",
    "test = data[data['train'] == 0]"
   ]
  },
  {
   "cell_type": "code",
   "execution_count": null,
   "metadata": {},
   "outputs": [],
   "source": []
  },
  {
   "cell_type": "code",
   "execution_count": 7,
   "metadata": {},
   "outputs": [],
   "source": [
    "# Duplicate critical columnns for imputation based on normal distribution and random choice\n",
    "\n",
    "null_features = ['longitude','latitude','gps_height','population','construction_year','amount_tsh']\n",
    "#no calculations for amount_tsh & num_private since they are dropped later (too many missing values)\n",
    "\n",
    "for null_feature in null_features:\n",
    "    data['_'.join([null_feature, 'imp_normal'])] = data[null_feature]\n",
    "    data['_'.join([null_feature, 'imp_random_choice'])] = data[null_feature]"
   ]
  },
  {
   "cell_type": "code",
   "execution_count": 8,
   "metadata": {},
   "outputs": [],
   "source": [
    "# Add columns for mean and standard deviation of critical features based on region, ward, overall\n",
    "\n",
    "divisions = ['region', 'ward']\n",
    "\n",
    "for null_feature in null_features:\n",
    "    data['_'.join([null_feature, 'mean', 'overall'])] = train[null_feature].mean()\n",
    "    data['_'.join([null_feature, 'std', 'overall'])] = train[null_feature].std()\n",
    "    for division in divisions:\n",
    "        new_feature_name_mean = '_'.join([null_feature, 'mean', division])\n",
    "        new_feature_name_std = '_'.join([null_feature, 'std', division])\n",
    "        \n",
    "        calcs_mean = train.groupby(division)[null_feature].mean()\n",
    "        calcs_std = train.groupby(division)[null_feature].std()\n",
    "        for value in train[division].unique() :\n",
    "            #data[new_feature_name_mean] = data.apply(lambda row: calcs_mean[row[division]], axis=1)\n",
    "            #data[new_feature_name_std] = data.apply(lambda row: calcs_std[row[division]], axis=1)\n",
    "            data.loc[data[division]==value, new_feature_name_mean] = calcs_mean[value]\n",
    "            data.loc[data[division]==value, new_feature_name_std] = calcs_std[value]"
   ]
  },
  {
   "cell_type": "code",
   "execution_count": 9,
   "metadata": {},
   "outputs": [
    {
     "data": {
      "text/plain": [
       "'Missing values after imputation in longitude by ward: 1812'"
      ]
     },
     "metadata": {},
     "output_type": "display_data"
    },
    {
     "data": {
      "text/plain": [
       "'Missing values after imputation in longitude by region: 0'"
      ]
     },
     "metadata": {},
     "output_type": "display_data"
    },
    {
     "data": {
      "text/plain": [
       "'Missing values after imputation in longitude by overall: 0'"
      ]
     },
     "metadata": {},
     "output_type": "display_data"
    },
    {
     "data": {
      "text/plain": [
       "'Missing values after imputation in latitude by ward: 1812'"
      ]
     },
     "metadata": {},
     "output_type": "display_data"
    },
    {
     "data": {
      "text/plain": [
       "'Missing values after imputation in latitude by region: 0'"
      ]
     },
     "metadata": {},
     "output_type": "display_data"
    },
    {
     "data": {
      "text/plain": [
       "'Missing values after imputation in latitude by overall: 0'"
      ]
     },
     "metadata": {},
     "output_type": "display_data"
    },
    {
     "data": {
      "text/plain": [
       "'Missing values after imputation in gps_height by ward: 24251'"
      ]
     },
     "metadata": {},
     "output_type": "display_data"
    },
    {
     "data": {
      "text/plain": [
       "'Missing values after imputation in gps_height by region: 14283'"
      ]
     },
     "metadata": {},
     "output_type": "display_data"
    },
    {
     "data": {
      "text/plain": [
       "'Missing values after imputation in gps_height by overall: 0'"
      ]
     },
     "metadata": {},
     "output_type": "display_data"
    },
    {
     "data": {
      "text/plain": [
       "'Missing values after imputation in population by ward: 24768'"
      ]
     },
     "metadata": {},
     "output_type": "display_data"
    },
    {
     "data": {
      "text/plain": [
       "'Missing values after imputation in population by region: 14283'"
      ]
     },
     "metadata": {},
     "output_type": "display_data"
    },
    {
     "data": {
      "text/plain": [
       "'Missing values after imputation in population by overall: 0'"
      ]
     },
     "metadata": {},
     "output_type": "display_data"
    },
    {
     "data": {
      "text/plain": [
       "'Missing values after imputation in construction_year by ward: 23617'"
      ]
     },
     "metadata": {},
     "output_type": "display_data"
    },
    {
     "data": {
      "text/plain": [
       "'Missing values after imputation in construction_year by region: 14283'"
      ]
     },
     "metadata": {},
     "output_type": "display_data"
    },
    {
     "data": {
      "text/plain": [
       "'Missing values after imputation in construction_year by overall: 0'"
      ]
     },
     "metadata": {},
     "output_type": "display_data"
    },
    {
     "data": {
      "text/plain": [
       "'Missing values after imputation in amount_tsh by ward: 33824'"
      ]
     },
     "metadata": {},
     "output_type": "display_data"
    },
    {
     "data": {
      "text/plain": [
       "'Missing values after imputation in amount_tsh by region: 14385'"
      ]
     },
     "metadata": {},
     "output_type": "display_data"
    },
    {
     "data": {
      "text/plain": [
       "'Missing values after imputation in amount_tsh by overall: 0'"
      ]
     },
     "metadata": {},
     "output_type": "display_data"
    }
   ],
   "source": [
    "# 1st step: Impute missing values with random numbers generated by normal distribution based on mean, std by 'ward'\n",
    "# 2nd step (only applied on remaining null values): Impute missing values with random numbers generated by normal distribution based on mean, std by 'region'\n",
    "# 3rd step (only applied on remaining null values): Impute missing values with random numbers generated by normal distribution based on mean, std by 'overall'\n",
    "\n",
    "divisions_total = ['ward', 'region', 'overall']\n",
    "\n",
    "for null_feature in null_features:\n",
    "    for division in divisions_total:\n",
    "        data['_'.join([null_feature,'imp_normal'])] = data.apply(lambda row: np.random.normal(loc=row['_'.join([null_feature,'mean',division])], scale=row['_'.join([null_feature,'std',division])]) if math.isnan(row['_'.join([null_feature,'imp_normal'])]) else row['_'.join([null_feature,'imp_normal'])], axis=1)\n",
    "        display('Missing values after imputation in {} by {}: {}'.format(null_feature, division, data['_'.join([null_feature,'imp_normal'])].isnull().sum()))"
   ]
  },
  {
   "cell_type": "code",
   "execution_count": 10,
   "metadata": {},
   "outputs": [
    {
     "data": {
      "text/html": [
       "<div>\n",
       "<style scoped>\n",
       "    .dataframe tbody tr th:only-of-type {\n",
       "        vertical-align: middle;\n",
       "    }\n",
       "\n",
       "    .dataframe tbody tr th {\n",
       "        vertical-align: top;\n",
       "    }\n",
       "\n",
       "    .dataframe thead th {\n",
       "        text-align: right;\n",
       "    }\n",
       "</style>\n",
       "<table border=\"1\" class=\"dataframe\">\n",
       "  <thead>\n",
       "    <tr style=\"text-align: right;\">\n",
       "      <th></th>\n",
       "      <th>id</th>\n",
       "      <th>amount_tsh</th>\n",
       "      <th>date_recorded</th>\n",
       "      <th>funder</th>\n",
       "      <th>gps_height</th>\n",
       "      <th>installer</th>\n",
       "      <th>longitude</th>\n",
       "      <th>latitude</th>\n",
       "      <th>wpt_name</th>\n",
       "      <th>num_private</th>\n",
       "      <th>basin</th>\n",
       "      <th>subvillage</th>\n",
       "      <th>region</th>\n",
       "      <th>region_code</th>\n",
       "      <th>district_code</th>\n",
       "      <th>lga</th>\n",
       "      <th>ward</th>\n",
       "      <th>population</th>\n",
       "      <th>public_meeting</th>\n",
       "      <th>recorded_by</th>\n",
       "      <th>scheme_management</th>\n",
       "      <th>scheme_name</th>\n",
       "      <th>permit</th>\n",
       "      <th>construction_year</th>\n",
       "      <th>extraction_type</th>\n",
       "      <th>extraction_type_group</th>\n",
       "      <th>extraction_type_class</th>\n",
       "      <th>management</th>\n",
       "      <th>management_group</th>\n",
       "      <th>payment</th>\n",
       "      <th>payment_type</th>\n",
       "      <th>water_quality</th>\n",
       "      <th>quality_group</th>\n",
       "      <th>quantity</th>\n",
       "      <th>quantity_group</th>\n",
       "      <th>source</th>\n",
       "      <th>source_type</th>\n",
       "      <th>source_class</th>\n",
       "      <th>waterpoint_type</th>\n",
       "      <th>waterpoint_type_group</th>\n",
       "      <th>train</th>\n",
       "      <th>longitude_imp_normal</th>\n",
       "      <th>longitude_imp_random_choice</th>\n",
       "      <th>latitude_imp_normal</th>\n",
       "      <th>latitude_imp_random_choice</th>\n",
       "      <th>gps_height_imp_normal</th>\n",
       "      <th>gps_height_imp_random_choice</th>\n",
       "      <th>population_imp_normal</th>\n",
       "      <th>population_imp_random_choice</th>\n",
       "      <th>construction_year_imp_normal</th>\n",
       "      <th>construction_year_imp_random_choice</th>\n",
       "      <th>amount_tsh_imp_normal</th>\n",
       "      <th>amount_tsh_imp_random_choice</th>\n",
       "      <th>longitude_mean_overall</th>\n",
       "      <th>longitude_std_overall</th>\n",
       "      <th>longitude_mean_region</th>\n",
       "      <th>longitude_std_region</th>\n",
       "      <th>longitude_mean_ward</th>\n",
       "      <th>longitude_std_ward</th>\n",
       "      <th>latitude_mean_overall</th>\n",
       "      <th>latitude_std_overall</th>\n",
       "      <th>latitude_mean_region</th>\n",
       "      <th>latitude_std_region</th>\n",
       "      <th>latitude_mean_ward</th>\n",
       "      <th>latitude_std_ward</th>\n",
       "      <th>gps_height_mean_overall</th>\n",
       "      <th>gps_height_std_overall</th>\n",
       "      <th>gps_height_mean_region</th>\n",
       "      <th>gps_height_std_region</th>\n",
       "      <th>gps_height_mean_ward</th>\n",
       "      <th>gps_height_std_ward</th>\n",
       "      <th>population_mean_overall</th>\n",
       "      <th>population_std_overall</th>\n",
       "      <th>population_mean_region</th>\n",
       "      <th>population_std_region</th>\n",
       "      <th>population_mean_ward</th>\n",
       "      <th>population_std_ward</th>\n",
       "      <th>construction_year_mean_overall</th>\n",
       "      <th>construction_year_std_overall</th>\n",
       "      <th>construction_year_mean_region</th>\n",
       "      <th>construction_year_std_region</th>\n",
       "      <th>construction_year_mean_ward</th>\n",
       "      <th>construction_year_std_ward</th>\n",
       "      <th>amount_tsh_mean_overall</th>\n",
       "      <th>amount_tsh_std_overall</th>\n",
       "      <th>amount_tsh_mean_region</th>\n",
       "      <th>amount_tsh_std_region</th>\n",
       "      <th>amount_tsh_mean_ward</th>\n",
       "      <th>amount_tsh_std_ward</th>\n",
       "    </tr>\n",
       "  </thead>\n",
       "  <tbody>\n",
       "    <tr>\n",
       "      <th>0</th>\n",
       "      <td>69572</td>\n",
       "      <td>6000.0</td>\n",
       "      <td>2011-03-14</td>\n",
       "      <td>Roman</td>\n",
       "      <td>1390.0</td>\n",
       "      <td>Roman</td>\n",
       "      <td>34.938093</td>\n",
       "      <td>-9.856322</td>\n",
       "      <td>none</td>\n",
       "      <td>NaN</td>\n",
       "      <td>Lake Nyasa</td>\n",
       "      <td>Mnyusi B</td>\n",
       "      <td>Iringa</td>\n",
       "      <td>11</td>\n",
       "      <td>5</td>\n",
       "      <td>Ludewa</td>\n",
       "      <td>Mundindi</td>\n",
       "      <td>109.0</td>\n",
       "      <td>True</td>\n",
       "      <td>GeoData Consultants Ltd</td>\n",
       "      <td>VWC</td>\n",
       "      <td>Roman</td>\n",
       "      <td>False</td>\n",
       "      <td>1999.0</td>\n",
       "      <td>gravity</td>\n",
       "      <td>gravity</td>\n",
       "      <td>gravity</td>\n",
       "      <td>vwc</td>\n",
       "      <td>user-group</td>\n",
       "      <td>pay annually</td>\n",
       "      <td>annually</td>\n",
       "      <td>soft</td>\n",
       "      <td>good</td>\n",
       "      <td>enough</td>\n",
       "      <td>enough</td>\n",
       "      <td>spring</td>\n",
       "      <td>spring</td>\n",
       "      <td>groundwater</td>\n",
       "      <td>communal standpipe</td>\n",
       "      <td>communal standpipe</td>\n",
       "      <td>1</td>\n",
       "      <td>34.938093</td>\n",
       "      <td>34.938093</td>\n",
       "      <td>-9.856322</td>\n",
       "      <td>-9.856322</td>\n",
       "      <td>1390.00000</td>\n",
       "      <td>1390.0</td>\n",
       "      <td>109.000000</td>\n",
       "      <td>109.0</td>\n",
       "      <td>1999.000000</td>\n",
       "      <td>1999.0</td>\n",
       "      <td>6000.000000</td>\n",
       "      <td>6000.0</td>\n",
       "      <td>35.149669</td>\n",
       "      <td>2.607428</td>\n",
       "      <td>34.895989</td>\n",
       "      <td>0.507484</td>\n",
       "      <td>34.936860</td>\n",
       "      <td>0.018817</td>\n",
       "      <td>-5.885572</td>\n",
       "      <td>2.809876</td>\n",
       "      <td>-8.907700</td>\n",
       "      <td>0.695036</td>\n",
       "      <td>-9.849742</td>\n",
       "      <td>0.057023</td>\n",
       "      <td>1018.860839</td>\n",
       "      <td>612.566092</td>\n",
       "      <td>1697.442010</td>\n",
       "      <td>357.935649</td>\n",
       "      <td>1429.972222</td>\n",
       "      <td>85.347185</td>\n",
       "      <td>281.087167</td>\n",
       "      <td>564.68766</td>\n",
       "      <td>120.883051</td>\n",
       "      <td>207.994290</td>\n",
       "      <td>131.500000</td>\n",
       "      <td>85.804262</td>\n",
       "      <td>1996.814686</td>\n",
       "      <td>12.472045</td>\n",
       "      <td>1997.441284</td>\n",
       "      <td>11.488838</td>\n",
       "      <td>1997.527778</td>\n",
       "      <td>3.037726</td>\n",
       "      <td>1062.351942</td>\n",
       "      <td>5409.34494</td>\n",
       "      <td>1855.434340</td>\n",
       "      <td>5829.131050</td>\n",
       "      <td>4500.000000</td>\n",
       "      <td>2350.811730</td>\n",
       "    </tr>\n",
       "    <tr>\n",
       "      <th>1</th>\n",
       "      <td>8776</td>\n",
       "      <td>NaN</td>\n",
       "      <td>2013-03-06</td>\n",
       "      <td>Grumeti</td>\n",
       "      <td>1399.0</td>\n",
       "      <td>GRUMETI</td>\n",
       "      <td>34.698766</td>\n",
       "      <td>-2.147466</td>\n",
       "      <td>Zahanati</td>\n",
       "      <td>NaN</td>\n",
       "      <td>Lake Victoria</td>\n",
       "      <td>Nyamara</td>\n",
       "      <td>Mara</td>\n",
       "      <td>20</td>\n",
       "      <td>2</td>\n",
       "      <td>Serengeti</td>\n",
       "      <td>Natta</td>\n",
       "      <td>280.0</td>\n",
       "      <td>NaN</td>\n",
       "      <td>GeoData Consultants Ltd</td>\n",
       "      <td>Other</td>\n",
       "      <td>NaN</td>\n",
       "      <td>True</td>\n",
       "      <td>2010.0</td>\n",
       "      <td>gravity</td>\n",
       "      <td>gravity</td>\n",
       "      <td>gravity</td>\n",
       "      <td>wug</td>\n",
       "      <td>user-group</td>\n",
       "      <td>never pay</td>\n",
       "      <td>never pay</td>\n",
       "      <td>soft</td>\n",
       "      <td>good</td>\n",
       "      <td>insufficient</td>\n",
       "      <td>insufficient</td>\n",
       "      <td>rainwater harvesting</td>\n",
       "      <td>rainwater harvesting</td>\n",
       "      <td>surface</td>\n",
       "      <td>communal standpipe</td>\n",
       "      <td>communal standpipe</td>\n",
       "      <td>1</td>\n",
       "      <td>34.698766</td>\n",
       "      <td>34.698766</td>\n",
       "      <td>-2.147466</td>\n",
       "      <td>-2.147466</td>\n",
       "      <td>1399.00000</td>\n",
       "      <td>1399.0</td>\n",
       "      <td>280.000000</td>\n",
       "      <td>280.0</td>\n",
       "      <td>2010.000000</td>\n",
       "      <td>2010.0</td>\n",
       "      <td>484.604349</td>\n",
       "      <td>NaN</td>\n",
       "      <td>35.149669</td>\n",
       "      <td>2.607428</td>\n",
       "      <td>34.153940</td>\n",
       "      <td>0.392713</td>\n",
       "      <td>34.560169</td>\n",
       "      <td>0.111100</td>\n",
       "      <td>-5.885572</td>\n",
       "      <td>2.809876</td>\n",
       "      <td>-1.739903</td>\n",
       "      <td>0.270569</td>\n",
       "      <td>-2.069085</td>\n",
       "      <td>0.074345</td>\n",
       "      <td>1018.860839</td>\n",
       "      <td>612.566092</td>\n",
       "      <td>1341.625190</td>\n",
       "      <td>157.456723</td>\n",
       "      <td>1367.591549</td>\n",
       "      <td>54.440683</td>\n",
       "      <td>281.087167</td>\n",
       "      <td>564.68766</td>\n",
       "      <td>538.794312</td>\n",
       "      <td>831.300180</td>\n",
       "      <td>305.169014</td>\n",
       "      <td>322.052302</td>\n",
       "      <td>1996.814686</td>\n",
       "      <td>12.472045</td>\n",
       "      <td>1997.454918</td>\n",
       "      <td>11.537118</td>\n",
       "      <td>1998.057143</td>\n",
       "      <td>14.160453</td>\n",
       "      <td>1062.351942</td>\n",
       "      <td>5409.34494</td>\n",
       "      <td>584.158038</td>\n",
       "      <td>3256.133649</td>\n",
       "      <td>542.857143</td>\n",
       "      <td>450.396651</td>\n",
       "    </tr>\n",
       "    <tr>\n",
       "      <th>2</th>\n",
       "      <td>34310</td>\n",
       "      <td>25.0</td>\n",
       "      <td>2013-02-25</td>\n",
       "      <td>Lottery Club</td>\n",
       "      <td>686.0</td>\n",
       "      <td>World vision</td>\n",
       "      <td>37.460664</td>\n",
       "      <td>-3.821329</td>\n",
       "      <td>Kwa Mahundi</td>\n",
       "      <td>NaN</td>\n",
       "      <td>Pangani</td>\n",
       "      <td>Majengo</td>\n",
       "      <td>Manyara</td>\n",
       "      <td>21</td>\n",
       "      <td>4</td>\n",
       "      <td>Simanjiro</td>\n",
       "      <td>Ngorika</td>\n",
       "      <td>250.0</td>\n",
       "      <td>True</td>\n",
       "      <td>GeoData Consultants Ltd</td>\n",
       "      <td>VWC</td>\n",
       "      <td>Nyumba ya mungu pipe scheme</td>\n",
       "      <td>True</td>\n",
       "      <td>2009.0</td>\n",
       "      <td>gravity</td>\n",
       "      <td>gravity</td>\n",
       "      <td>gravity</td>\n",
       "      <td>vwc</td>\n",
       "      <td>user-group</td>\n",
       "      <td>pay per bucket</td>\n",
       "      <td>per bucket</td>\n",
       "      <td>soft</td>\n",
       "      <td>good</td>\n",
       "      <td>enough</td>\n",
       "      <td>enough</td>\n",
       "      <td>dam</td>\n",
       "      <td>dam</td>\n",
       "      <td>surface</td>\n",
       "      <td>communal standpipe multiple</td>\n",
       "      <td>communal standpipe</td>\n",
       "      <td>1</td>\n",
       "      <td>37.460664</td>\n",
       "      <td>37.460664</td>\n",
       "      <td>-3.821329</td>\n",
       "      <td>-3.821329</td>\n",
       "      <td>686.00000</td>\n",
       "      <td>686.0</td>\n",
       "      <td>250.000000</td>\n",
       "      <td>250.0</td>\n",
       "      <td>2009.000000</td>\n",
       "      <td>2009.0</td>\n",
       "      <td>25.000000</td>\n",
       "      <td>25.0</td>\n",
       "      <td>35.149669</td>\n",
       "      <td>2.607428</td>\n",
       "      <td>35.932915</td>\n",
       "      <td>0.696129</td>\n",
       "      <td>37.453988</td>\n",
       "      <td>0.013616</td>\n",
       "      <td>-5.885572</td>\n",
       "      <td>2.809876</td>\n",
       "      <td>-4.286211</td>\n",
       "      <td>0.520436</td>\n",
       "      <td>-3.812915</td>\n",
       "      <td>0.015699</td>\n",
       "      <td>1018.860839</td>\n",
       "      <td>612.566092</td>\n",
       "      <td>1426.077701</td>\n",
       "      <td>352.826622</td>\n",
       "      <td>683.500000</td>\n",
       "      <td>2.718251</td>\n",
       "      <td>281.087167</td>\n",
       "      <td>564.68766</td>\n",
       "      <td>317.778269</td>\n",
       "      <td>582.243701</td>\n",
       "      <td>285.000000</td>\n",
       "      <td>62.583278</td>\n",
       "      <td>1996.814686</td>\n",
       "      <td>12.472045</td>\n",
       "      <td>2002.114013</td>\n",
       "      <td>9.803441</td>\n",
       "      <td>2009.000000</td>\n",
       "      <td>0.000000</td>\n",
       "      <td>1062.351942</td>\n",
       "      <td>5409.34494</td>\n",
       "      <td>725.095986</td>\n",
       "      <td>2725.650147</td>\n",
       "      <td>25.000000</td>\n",
       "      <td>0.000000</td>\n",
       "    </tr>\n",
       "    <tr>\n",
       "      <th>3</th>\n",
       "      <td>67743</td>\n",
       "      <td>NaN</td>\n",
       "      <td>2013-01-28</td>\n",
       "      <td>Unicef</td>\n",
       "      <td>263.0</td>\n",
       "      <td>UNICEF</td>\n",
       "      <td>38.486161</td>\n",
       "      <td>-11.155298</td>\n",
       "      <td>Zahanati Ya Nanyumbu</td>\n",
       "      <td>NaN</td>\n",
       "      <td>Ruvuma / Southern Coast</td>\n",
       "      <td>Mahakamani</td>\n",
       "      <td>Mtwara</td>\n",
       "      <td>90</td>\n",
       "      <td>63</td>\n",
       "      <td>Nanyumbu</td>\n",
       "      <td>Nanyumbu</td>\n",
       "      <td>58.0</td>\n",
       "      <td>True</td>\n",
       "      <td>GeoData Consultants Ltd</td>\n",
       "      <td>VWC</td>\n",
       "      <td>NaN</td>\n",
       "      <td>True</td>\n",
       "      <td>1986.0</td>\n",
       "      <td>submersible</td>\n",
       "      <td>submersible</td>\n",
       "      <td>submersible</td>\n",
       "      <td>vwc</td>\n",
       "      <td>user-group</td>\n",
       "      <td>never pay</td>\n",
       "      <td>never pay</td>\n",
       "      <td>soft</td>\n",
       "      <td>good</td>\n",
       "      <td>dry</td>\n",
       "      <td>dry</td>\n",
       "      <td>machine dbh</td>\n",
       "      <td>borehole</td>\n",
       "      <td>groundwater</td>\n",
       "      <td>communal standpipe multiple</td>\n",
       "      <td>communal standpipe</td>\n",
       "      <td>1</td>\n",
       "      <td>38.486161</td>\n",
       "      <td>38.486161</td>\n",
       "      <td>-11.155298</td>\n",
       "      <td>-11.155298</td>\n",
       "      <td>263.00000</td>\n",
       "      <td>263.0</td>\n",
       "      <td>58.000000</td>\n",
       "      <td>58.0</td>\n",
       "      <td>1986.000000</td>\n",
       "      <td>1986.0</td>\n",
       "      <td>1278.812337</td>\n",
       "      <td>NaN</td>\n",
       "      <td>35.149669</td>\n",
       "      <td>2.607428</td>\n",
       "      <td>39.397674</td>\n",
       "      <td>0.551495</td>\n",
       "      <td>38.494923</td>\n",
       "      <td>0.036091</td>\n",
       "      <td>-5.885572</td>\n",
       "      <td>2.809876</td>\n",
       "      <td>-10.680456</td>\n",
       "      <td>0.243809</td>\n",
       "      <td>-11.161160</td>\n",
       "      <td>0.045133</td>\n",
       "      <td>1018.860839</td>\n",
       "      <td>612.566092</td>\n",
       "      <td>258.410301</td>\n",
       "      <td>182.988424</td>\n",
       "      <td>275.031250</td>\n",
       "      <td>42.647455</td>\n",
       "      <td>281.087167</td>\n",
       "      <td>564.68766</td>\n",
       "      <td>267.441618</td>\n",
       "      <td>443.022905</td>\n",
       "      <td>83.406250</td>\n",
       "      <td>36.331679</td>\n",
       "      <td>1996.814686</td>\n",
       "      <td>12.472045</td>\n",
       "      <td>1992.373707</td>\n",
       "      <td>13.297554</td>\n",
       "      <td>1993.687500</td>\n",
       "      <td>13.959475</td>\n",
       "      <td>1062.351942</td>\n",
       "      <td>5409.34494</td>\n",
       "      <td>148.481268</td>\n",
       "      <td>619.663404</td>\n",
       "      <td>525.000000</td>\n",
       "      <td>548.482756</td>\n",
       "    </tr>\n",
       "    <tr>\n",
       "      <th>4</th>\n",
       "      <td>19728</td>\n",
       "      <td>NaN</td>\n",
       "      <td>2011-07-13</td>\n",
       "      <td>Action In A</td>\n",
       "      <td>NaN</td>\n",
       "      <td>Artisan</td>\n",
       "      <td>31.130847</td>\n",
       "      <td>-1.825359</td>\n",
       "      <td>Shuleni</td>\n",
       "      <td>NaN</td>\n",
       "      <td>Lake Victoria</td>\n",
       "      <td>Kyanyamisa</td>\n",
       "      <td>Kagera</td>\n",
       "      <td>18</td>\n",
       "      <td>1</td>\n",
       "      <td>Karagwe</td>\n",
       "      <td>Nyakasimbi</td>\n",
       "      <td>NaN</td>\n",
       "      <td>True</td>\n",
       "      <td>GeoData Consultants Ltd</td>\n",
       "      <td>NaN</td>\n",
       "      <td>NaN</td>\n",
       "      <td>True</td>\n",
       "      <td>NaN</td>\n",
       "      <td>gravity</td>\n",
       "      <td>gravity</td>\n",
       "      <td>gravity</td>\n",
       "      <td>other</td>\n",
       "      <td>other</td>\n",
       "      <td>never pay</td>\n",
       "      <td>never pay</td>\n",
       "      <td>soft</td>\n",
       "      <td>good</td>\n",
       "      <td>seasonal</td>\n",
       "      <td>seasonal</td>\n",
       "      <td>rainwater harvesting</td>\n",
       "      <td>rainwater harvesting</td>\n",
       "      <td>surface</td>\n",
       "      <td>communal standpipe</td>\n",
       "      <td>communal standpipe</td>\n",
       "      <td>1</td>\n",
       "      <td>31.130847</td>\n",
       "      <td>31.130847</td>\n",
       "      <td>-1.825359</td>\n",
       "      <td>-1.825359</td>\n",
       "      <td>1729.82688</td>\n",
       "      <td>NaN</td>\n",
       "      <td>-13.356147</td>\n",
       "      <td>NaN</td>\n",
       "      <td>1992.498578</td>\n",
       "      <td>NaN</td>\n",
       "      <td>-1304.203362</td>\n",
       "      <td>NaN</td>\n",
       "      <td>35.149669</td>\n",
       "      <td>2.607428</td>\n",
       "      <td>31.233262</td>\n",
       "      <td>0.425853</td>\n",
       "      <td>31.126863</td>\n",
       "      <td>0.015989</td>\n",
       "      <td>-5.885572</td>\n",
       "      <td>2.809876</td>\n",
       "      <td>-1.961466</td>\n",
       "      <td>0.636347</td>\n",
       "      <td>-1.852282</td>\n",
       "      <td>0.036530</td>\n",
       "      <td>1018.860839</td>\n",
       "      <td>612.566092</td>\n",
       "      <td>NaN</td>\n",
       "      <td>NaN</td>\n",
       "      <td>NaN</td>\n",
       "      <td>NaN</td>\n",
       "      <td>281.087167</td>\n",
       "      <td>564.68766</td>\n",
       "      <td>NaN</td>\n",
       "      <td>NaN</td>\n",
       "      <td>NaN</td>\n",
       "      <td>NaN</td>\n",
       "      <td>1996.814686</td>\n",
       "      <td>12.472045</td>\n",
       "      <td>NaN</td>\n",
       "      <td>NaN</td>\n",
       "      <td>NaN</td>\n",
       "      <td>NaN</td>\n",
       "      <td>1062.351942</td>\n",
       "      <td>5409.34494</td>\n",
       "      <td>NaN</td>\n",
       "      <td>NaN</td>\n",
       "      <td>NaN</td>\n",
       "      <td>NaN</td>\n",
       "    </tr>\n",
       "  </tbody>\n",
       "</table>\n",
       "</div>"
      ],
      "text/plain": [
       "      id  amount_tsh date_recorded        funder  gps_height     installer  \\\n",
       "0  69572      6000.0    2011-03-14         Roman      1390.0         Roman   \n",
       "1   8776         NaN    2013-03-06       Grumeti      1399.0       GRUMETI   \n",
       "2  34310        25.0    2013-02-25  Lottery Club       686.0  World vision   \n",
       "3  67743         NaN    2013-01-28        Unicef       263.0        UNICEF   \n",
       "4  19728         NaN    2011-07-13   Action In A         NaN       Artisan   \n",
       "\n",
       "   longitude   latitude              wpt_name  num_private  \\\n",
       "0  34.938093  -9.856322                  none          NaN   \n",
       "1  34.698766  -2.147466              Zahanati          NaN   \n",
       "2  37.460664  -3.821329           Kwa Mahundi          NaN   \n",
       "3  38.486161 -11.155298  Zahanati Ya Nanyumbu          NaN   \n",
       "4  31.130847  -1.825359               Shuleni          NaN   \n",
       "\n",
       "                     basin  subvillage   region  region_code  district_code  \\\n",
       "0               Lake Nyasa    Mnyusi B   Iringa           11              5   \n",
       "1            Lake Victoria     Nyamara     Mara           20              2   \n",
       "2                  Pangani     Majengo  Manyara           21              4   \n",
       "3  Ruvuma / Southern Coast  Mahakamani   Mtwara           90             63   \n",
       "4            Lake Victoria  Kyanyamisa   Kagera           18              1   \n",
       "\n",
       "         lga        ward  population public_meeting              recorded_by  \\\n",
       "0     Ludewa    Mundindi       109.0           True  GeoData Consultants Ltd   \n",
       "1  Serengeti       Natta       280.0            NaN  GeoData Consultants Ltd   \n",
       "2  Simanjiro     Ngorika       250.0           True  GeoData Consultants Ltd   \n",
       "3   Nanyumbu    Nanyumbu        58.0           True  GeoData Consultants Ltd   \n",
       "4    Karagwe  Nyakasimbi         NaN           True  GeoData Consultants Ltd   \n",
       "\n",
       "  scheme_management                  scheme_name permit  construction_year  \\\n",
       "0               VWC                        Roman  False             1999.0   \n",
       "1             Other                          NaN   True             2010.0   \n",
       "2               VWC  Nyumba ya mungu pipe scheme   True             2009.0   \n",
       "3               VWC                          NaN   True             1986.0   \n",
       "4               NaN                          NaN   True                NaN   \n",
       "\n",
       "  extraction_type extraction_type_group extraction_type_class management  \\\n",
       "0         gravity               gravity               gravity        vwc   \n",
       "1         gravity               gravity               gravity        wug   \n",
       "2         gravity               gravity               gravity        vwc   \n",
       "3     submersible           submersible           submersible        vwc   \n",
       "4         gravity               gravity               gravity      other   \n",
       "\n",
       "  management_group         payment payment_type water_quality quality_group  \\\n",
       "0       user-group    pay annually     annually          soft          good   \n",
       "1       user-group       never pay    never pay          soft          good   \n",
       "2       user-group  pay per bucket   per bucket          soft          good   \n",
       "3       user-group       never pay    never pay          soft          good   \n",
       "4            other       never pay    never pay          soft          good   \n",
       "\n",
       "       quantity quantity_group                source           source_type  \\\n",
       "0        enough         enough                spring                spring   \n",
       "1  insufficient   insufficient  rainwater harvesting  rainwater harvesting   \n",
       "2        enough         enough                   dam                   dam   \n",
       "3           dry            dry           machine dbh              borehole   \n",
       "4      seasonal       seasonal  rainwater harvesting  rainwater harvesting   \n",
       "\n",
       "  source_class              waterpoint_type waterpoint_type_group  train  \\\n",
       "0  groundwater           communal standpipe    communal standpipe      1   \n",
       "1      surface           communal standpipe    communal standpipe      1   \n",
       "2      surface  communal standpipe multiple    communal standpipe      1   \n",
       "3  groundwater  communal standpipe multiple    communal standpipe      1   \n",
       "4      surface           communal standpipe    communal standpipe      1   \n",
       "\n",
       "   longitude_imp_normal  longitude_imp_random_choice  latitude_imp_normal  \\\n",
       "0             34.938093                    34.938093            -9.856322   \n",
       "1             34.698766                    34.698766            -2.147466   \n",
       "2             37.460664                    37.460664            -3.821329   \n",
       "3             38.486161                    38.486161           -11.155298   \n",
       "4             31.130847                    31.130847            -1.825359   \n",
       "\n",
       "   latitude_imp_random_choice  gps_height_imp_normal  \\\n",
       "0                   -9.856322             1390.00000   \n",
       "1                   -2.147466             1399.00000   \n",
       "2                   -3.821329              686.00000   \n",
       "3                  -11.155298              263.00000   \n",
       "4                   -1.825359             1729.82688   \n",
       "\n",
       "   gps_height_imp_random_choice  population_imp_normal  \\\n",
       "0                        1390.0             109.000000   \n",
       "1                        1399.0             280.000000   \n",
       "2                         686.0             250.000000   \n",
       "3                         263.0              58.000000   \n",
       "4                           NaN             -13.356147   \n",
       "\n",
       "   population_imp_random_choice  construction_year_imp_normal  \\\n",
       "0                         109.0                   1999.000000   \n",
       "1                         280.0                   2010.000000   \n",
       "2                         250.0                   2009.000000   \n",
       "3                          58.0                   1986.000000   \n",
       "4                           NaN                   1992.498578   \n",
       "\n",
       "   construction_year_imp_random_choice  amount_tsh_imp_normal  \\\n",
       "0                               1999.0            6000.000000   \n",
       "1                               2010.0             484.604349   \n",
       "2                               2009.0              25.000000   \n",
       "3                               1986.0            1278.812337   \n",
       "4                                  NaN           -1304.203362   \n",
       "\n",
       "   amount_tsh_imp_random_choice  longitude_mean_overall  \\\n",
       "0                        6000.0               35.149669   \n",
       "1                           NaN               35.149669   \n",
       "2                          25.0               35.149669   \n",
       "3                           NaN               35.149669   \n",
       "4                           NaN               35.149669   \n",
       "\n",
       "   longitude_std_overall  longitude_mean_region  longitude_std_region  \\\n",
       "0               2.607428              34.895989              0.507484   \n",
       "1               2.607428              34.153940              0.392713   \n",
       "2               2.607428              35.932915              0.696129   \n",
       "3               2.607428              39.397674              0.551495   \n",
       "4               2.607428              31.233262              0.425853   \n",
       "\n",
       "   longitude_mean_ward  longitude_std_ward  latitude_mean_overall  \\\n",
       "0            34.936860            0.018817              -5.885572   \n",
       "1            34.560169            0.111100              -5.885572   \n",
       "2            37.453988            0.013616              -5.885572   \n",
       "3            38.494923            0.036091              -5.885572   \n",
       "4            31.126863            0.015989              -5.885572   \n",
       "\n",
       "   latitude_std_overall  latitude_mean_region  latitude_std_region  \\\n",
       "0              2.809876             -8.907700             0.695036   \n",
       "1              2.809876             -1.739903             0.270569   \n",
       "2              2.809876             -4.286211             0.520436   \n",
       "3              2.809876            -10.680456             0.243809   \n",
       "4              2.809876             -1.961466             0.636347   \n",
       "\n",
       "   latitude_mean_ward  latitude_std_ward  gps_height_mean_overall  \\\n",
       "0           -9.849742           0.057023              1018.860839   \n",
       "1           -2.069085           0.074345              1018.860839   \n",
       "2           -3.812915           0.015699              1018.860839   \n",
       "3          -11.161160           0.045133              1018.860839   \n",
       "4           -1.852282           0.036530              1018.860839   \n",
       "\n",
       "   gps_height_std_overall  gps_height_mean_region  gps_height_std_region  \\\n",
       "0              612.566092             1697.442010             357.935649   \n",
       "1              612.566092             1341.625190             157.456723   \n",
       "2              612.566092             1426.077701             352.826622   \n",
       "3              612.566092              258.410301             182.988424   \n",
       "4              612.566092                     NaN                    NaN   \n",
       "\n",
       "   gps_height_mean_ward  gps_height_std_ward  population_mean_overall  \\\n",
       "0           1429.972222            85.347185               281.087167   \n",
       "1           1367.591549            54.440683               281.087167   \n",
       "2            683.500000             2.718251               281.087167   \n",
       "3            275.031250            42.647455               281.087167   \n",
       "4                   NaN                  NaN               281.087167   \n",
       "\n",
       "   population_std_overall  population_mean_region  population_std_region  \\\n",
       "0               564.68766              120.883051             207.994290   \n",
       "1               564.68766              538.794312             831.300180   \n",
       "2               564.68766              317.778269             582.243701   \n",
       "3               564.68766              267.441618             443.022905   \n",
       "4               564.68766                     NaN                    NaN   \n",
       "\n",
       "   population_mean_ward  population_std_ward  construction_year_mean_overall  \\\n",
       "0            131.500000            85.804262                     1996.814686   \n",
       "1            305.169014           322.052302                     1996.814686   \n",
       "2            285.000000            62.583278                     1996.814686   \n",
       "3             83.406250            36.331679                     1996.814686   \n",
       "4                   NaN                  NaN                     1996.814686   \n",
       "\n",
       "   construction_year_std_overall  construction_year_mean_region  \\\n",
       "0                      12.472045                    1997.441284   \n",
       "1                      12.472045                    1997.454918   \n",
       "2                      12.472045                    2002.114013   \n",
       "3                      12.472045                    1992.373707   \n",
       "4                      12.472045                            NaN   \n",
       "\n",
       "   construction_year_std_region  construction_year_mean_ward  \\\n",
       "0                     11.488838                  1997.527778   \n",
       "1                     11.537118                  1998.057143   \n",
       "2                      9.803441                  2009.000000   \n",
       "3                     13.297554                  1993.687500   \n",
       "4                           NaN                          NaN   \n",
       "\n",
       "   construction_year_std_ward  amount_tsh_mean_overall  \\\n",
       "0                    3.037726              1062.351942   \n",
       "1                   14.160453              1062.351942   \n",
       "2                    0.000000              1062.351942   \n",
       "3                   13.959475              1062.351942   \n",
       "4                         NaN              1062.351942   \n",
       "\n",
       "   amount_tsh_std_overall  amount_tsh_mean_region  amount_tsh_std_region  \\\n",
       "0              5409.34494             1855.434340            5829.131050   \n",
       "1              5409.34494              584.158038            3256.133649   \n",
       "2              5409.34494              725.095986            2725.650147   \n",
       "3              5409.34494              148.481268             619.663404   \n",
       "4              5409.34494                     NaN                    NaN   \n",
       "\n",
       "   amount_tsh_mean_ward  amount_tsh_std_ward  \n",
       "0           4500.000000          2350.811730  \n",
       "1            542.857143           450.396651  \n",
       "2             25.000000             0.000000  \n",
       "3            525.000000           548.482756  \n",
       "4                   NaN                  NaN  "
      ]
     },
     "execution_count": 10,
     "metadata": {},
     "output_type": "execute_result"
    }
   ],
   "source": [
    "data.head()"
   ]
  },
  {
   "cell_type": "code",
   "execution_count": 11,
   "metadata": {},
   "outputs": [
    {
     "data": {
      "text/plain": [
       "'Overall_list done'"
      ]
     },
     "metadata": {},
     "output_type": "display_data"
    },
    {
     "data": {
      "text/plain": [
       "'longitude'"
      ]
     },
     "metadata": {},
     "output_type": "display_data"
    },
    {
     "data": {
      "text/plain": [
       "'region'"
      ]
     },
     "metadata": {},
     "output_type": "display_data"
    },
    {
     "data": {
      "text/plain": [
       "'longitude'"
      ]
     },
     "metadata": {},
     "output_type": "display_data"
    },
    {
     "data": {
      "text/plain": [
       "'ward'"
      ]
     },
     "metadata": {},
     "output_type": "display_data"
    },
    {
     "data": {
      "text/plain": [
       "'Overall_list done'"
      ]
     },
     "metadata": {},
     "output_type": "display_data"
    },
    {
     "data": {
      "text/plain": [
       "'latitude'"
      ]
     },
     "metadata": {},
     "output_type": "display_data"
    },
    {
     "data": {
      "text/plain": [
       "'region'"
      ]
     },
     "metadata": {},
     "output_type": "display_data"
    },
    {
     "data": {
      "text/plain": [
       "'latitude'"
      ]
     },
     "metadata": {},
     "output_type": "display_data"
    },
    {
     "data": {
      "text/plain": [
       "'ward'"
      ]
     },
     "metadata": {},
     "output_type": "display_data"
    },
    {
     "data": {
      "text/plain": [
       "'Overall_list done'"
      ]
     },
     "metadata": {},
     "output_type": "display_data"
    },
    {
     "data": {
      "text/plain": [
       "'gps_height'"
      ]
     },
     "metadata": {},
     "output_type": "display_data"
    },
    {
     "data": {
      "text/plain": [
       "'region'"
      ]
     },
     "metadata": {},
     "output_type": "display_data"
    },
    {
     "data": {
      "text/plain": [
       "'gps_height'"
      ]
     },
     "metadata": {},
     "output_type": "display_data"
    },
    {
     "data": {
      "text/plain": [
       "'ward'"
      ]
     },
     "metadata": {},
     "output_type": "display_data"
    },
    {
     "data": {
      "text/plain": [
       "'Overall_list done'"
      ]
     },
     "metadata": {},
     "output_type": "display_data"
    },
    {
     "data": {
      "text/plain": [
       "'population'"
      ]
     },
     "metadata": {},
     "output_type": "display_data"
    },
    {
     "data": {
      "text/plain": [
       "'region'"
      ]
     },
     "metadata": {},
     "output_type": "display_data"
    },
    {
     "data": {
      "text/plain": [
       "'population'"
      ]
     },
     "metadata": {},
     "output_type": "display_data"
    },
    {
     "data": {
      "text/plain": [
       "'ward'"
      ]
     },
     "metadata": {},
     "output_type": "display_data"
    },
    {
     "data": {
      "text/plain": [
       "'Overall_list done'"
      ]
     },
     "metadata": {},
     "output_type": "display_data"
    },
    {
     "data": {
      "text/plain": [
       "'construction_year'"
      ]
     },
     "metadata": {},
     "output_type": "display_data"
    },
    {
     "data": {
      "text/plain": [
       "'region'"
      ]
     },
     "metadata": {},
     "output_type": "display_data"
    },
    {
     "data": {
      "text/plain": [
       "'construction_year'"
      ]
     },
     "metadata": {},
     "output_type": "display_data"
    },
    {
     "data": {
      "text/plain": [
       "'ward'"
      ]
     },
     "metadata": {},
     "output_type": "display_data"
    },
    {
     "data": {
      "text/plain": [
       "'Overall_list done'"
      ]
     },
     "metadata": {},
     "output_type": "display_data"
    },
    {
     "data": {
      "text/plain": [
       "'amount_tsh'"
      ]
     },
     "metadata": {},
     "output_type": "display_data"
    },
    {
     "data": {
      "text/plain": [
       "'region'"
      ]
     },
     "metadata": {},
     "output_type": "display_data"
    },
    {
     "data": {
      "text/plain": [
       "'amount_tsh'"
      ]
     },
     "metadata": {},
     "output_type": "display_data"
    },
    {
     "data": {
      "text/plain": [
       "'ward'"
      ]
     },
     "metadata": {},
     "output_type": "display_data"
    }
   ],
   "source": [
    "# Add columns with list of values in corresponding group of region and ward, respectively\n",
    "for null_feature in null_features:\n",
    "    overall_list = list(train[null_feature])\n",
    "    overall_list = [x for x in overall_list if not math.isnan(x)]\n",
    "    data['_'.join([null_feature, 'list', 'overall'])] = data.apply(lambda row: overall_list, axis=1)\n",
    "    display('Overall_list done')\n",
    "    for division in divisions:\n",
    "        feature_name = '_'.join([null_feature, 'list', division])\n",
    "        lists = train.groupby(division)[null_feature].apply(list)\n",
    "        #data[feature_name] = data.apply(lambda row: lists[row[division]], axis=1)\n",
    "        #data[feature_name] = data[feature_name].apply(lambda lst: [x for x in lst if not math.isnan(x)])\n",
    "        #data[feature_name] = data[feature_name].apply(lambda x: 1 if not x else x)\n",
    "        #display(null_feature, division)\n",
    "        #data.loc[data[division]==value, feature_name] = lists[value]\n",
    "        data[feature_name] = data.apply(lambda row: list() if row[division] not in train[division].unique() else lists[row[division]], axis=1)\n",
    "        data[feature_name] = data[feature_name].apply(lambda lst: [x for x in lst if not math.isnan(x)])\n",
    "        data[feature_name] = data[feature_name].apply(lambda x: np.nan if not x else x)\n",
    "        display(null_feature, division)"
   ]
  },
  {
   "cell_type": "code",
   "execution_count": 15,
   "metadata": {},
   "outputs": [],
   "source": [
    "#for null_feature in null_features:\n",
    "#    for division in divisions:\n",
    "#        feature_name = '_'.join([null_feature, 'list', division])\n",
    "#        data[feature_name] = data[feature_name].apply(lambda x: np.nan if not x else x)"
   ]
  },
  {
   "cell_type": "code",
   "execution_count": 42,
   "metadata": {},
   "outputs": [
    {
     "data": {
      "text/html": [
       "<div>\n",
       "<style scoped>\n",
       "    .dataframe tbody tr th:only-of-type {\n",
       "        vertical-align: middle;\n",
       "    }\n",
       "\n",
       "    .dataframe tbody tr th {\n",
       "        vertical-align: top;\n",
       "    }\n",
       "\n",
       "    .dataframe thead th {\n",
       "        text-align: right;\n",
       "    }\n",
       "</style>\n",
       "<table border=\"1\" class=\"dataframe\">\n",
       "  <thead>\n",
       "    <tr style=\"text-align: right;\">\n",
       "      <th></th>\n",
       "      <th>id</th>\n",
       "      <th>amount_tsh</th>\n",
       "      <th>date_recorded</th>\n",
       "      <th>funder</th>\n",
       "      <th>gps_height</th>\n",
       "      <th>installer</th>\n",
       "      <th>longitude</th>\n",
       "      <th>latitude</th>\n",
       "      <th>wpt_name</th>\n",
       "      <th>num_private</th>\n",
       "      <th>basin</th>\n",
       "      <th>subvillage</th>\n",
       "      <th>region</th>\n",
       "      <th>region_code</th>\n",
       "      <th>district_code</th>\n",
       "      <th>lga</th>\n",
       "      <th>ward</th>\n",
       "      <th>population</th>\n",
       "      <th>public_meeting</th>\n",
       "      <th>recorded_by</th>\n",
       "      <th>scheme_management</th>\n",
       "      <th>scheme_name</th>\n",
       "      <th>permit</th>\n",
       "      <th>construction_year</th>\n",
       "      <th>extraction_type</th>\n",
       "      <th>extraction_type_group</th>\n",
       "      <th>extraction_type_class</th>\n",
       "      <th>management</th>\n",
       "      <th>management_group</th>\n",
       "      <th>payment</th>\n",
       "      <th>payment_type</th>\n",
       "      <th>water_quality</th>\n",
       "      <th>quality_group</th>\n",
       "      <th>quantity</th>\n",
       "      <th>quantity_group</th>\n",
       "      <th>source</th>\n",
       "      <th>source_type</th>\n",
       "      <th>source_class</th>\n",
       "      <th>waterpoint_type</th>\n",
       "      <th>waterpoint_type_group</th>\n",
       "      <th>train</th>\n",
       "      <th>longitude_imp_normal</th>\n",
       "      <th>longitude_imp_random_choice</th>\n",
       "      <th>latitude_imp_normal</th>\n",
       "      <th>latitude_imp_random_choice</th>\n",
       "      <th>gps_height_imp_normal</th>\n",
       "      <th>gps_height_imp_random_choice</th>\n",
       "      <th>population_imp_normal</th>\n",
       "      <th>population_imp_random_choice</th>\n",
       "      <th>construction_year_imp_normal</th>\n",
       "      <th>construction_year_imp_random_choice</th>\n",
       "      <th>amount_tsh_imp_normal</th>\n",
       "      <th>amount_tsh_imp_random_choice</th>\n",
       "      <th>longitude_mean_overall</th>\n",
       "      <th>longitude_std_overall</th>\n",
       "      <th>longitude_mean_region</th>\n",
       "      <th>longitude_std_region</th>\n",
       "      <th>longitude_mean_ward</th>\n",
       "      <th>longitude_std_ward</th>\n",
       "      <th>latitude_mean_overall</th>\n",
       "      <th>latitude_std_overall</th>\n",
       "      <th>latitude_mean_region</th>\n",
       "      <th>latitude_std_region</th>\n",
       "      <th>latitude_mean_ward</th>\n",
       "      <th>latitude_std_ward</th>\n",
       "      <th>gps_height_mean_overall</th>\n",
       "      <th>gps_height_std_overall</th>\n",
       "      <th>gps_height_mean_region</th>\n",
       "      <th>gps_height_std_region</th>\n",
       "      <th>gps_height_mean_ward</th>\n",
       "      <th>gps_height_std_ward</th>\n",
       "      <th>population_mean_overall</th>\n",
       "      <th>population_std_overall</th>\n",
       "      <th>population_mean_region</th>\n",
       "      <th>population_std_region</th>\n",
       "      <th>population_mean_ward</th>\n",
       "      <th>population_std_ward</th>\n",
       "      <th>construction_year_mean_overall</th>\n",
       "      <th>construction_year_std_overall</th>\n",
       "      <th>construction_year_mean_region</th>\n",
       "      <th>construction_year_std_region</th>\n",
       "      <th>construction_year_mean_ward</th>\n",
       "      <th>construction_year_std_ward</th>\n",
       "      <th>amount_tsh_mean_overall</th>\n",
       "      <th>amount_tsh_std_overall</th>\n",
       "      <th>amount_tsh_mean_region</th>\n",
       "      <th>amount_tsh_std_region</th>\n",
       "      <th>amount_tsh_mean_ward</th>\n",
       "      <th>amount_tsh_std_ward</th>\n",
       "      <th>longitude_list_overall</th>\n",
       "      <th>longitude_list_region</th>\n",
       "      <th>longitude_list_ward</th>\n",
       "      <th>latitude_list_overall</th>\n",
       "      <th>latitude_list_region</th>\n",
       "      <th>latitude_list_ward</th>\n",
       "      <th>gps_height_list_overall</th>\n",
       "      <th>gps_height_list_region</th>\n",
       "      <th>gps_height_list_ward</th>\n",
       "      <th>population_list_overall</th>\n",
       "      <th>population_list_region</th>\n",
       "      <th>population_list_ward</th>\n",
       "      <th>construction_year_list_overall</th>\n",
       "      <th>construction_year_list_region</th>\n",
       "      <th>construction_year_list_ward</th>\n",
       "      <th>amount_tsh_list_overall</th>\n",
       "      <th>amount_tsh_list_region</th>\n",
       "      <th>amount_tsh_list_ward</th>\n",
       "    </tr>\n",
       "  </thead>\n",
       "  <tbody>\n",
       "    <tr>\n",
       "      <th>168</th>\n",
       "      <td>72678</td>\n",
       "      <td>NaN</td>\n",
       "      <td>2013-01-30</td>\n",
       "      <td>Wvt</td>\n",
       "      <td>NaN</td>\n",
       "      <td>WVT</td>\n",
       "      <td>NaN</td>\n",
       "      <td>NaN</td>\n",
       "      <td>Wvt Tanzania</td>\n",
       "      <td>NaN</td>\n",
       "      <td>Lake Victoria</td>\n",
       "      <td>Ilula</td>\n",
       "      <td>Shinyanga</td>\n",
       "      <td>17</td>\n",
       "      <td>1</td>\n",
       "      <td>Bariadi</td>\n",
       "      <td>Chinamili</td>\n",
       "      <td>NaN</td>\n",
       "      <td>False</td>\n",
       "      <td>GeoData Consultants Ltd</td>\n",
       "      <td>Parastatal</td>\n",
       "      <td>NaN</td>\n",
       "      <td>False</td>\n",
       "      <td>NaN</td>\n",
       "      <td>gravity</td>\n",
       "      <td>gravity</td>\n",
       "      <td>gravity</td>\n",
       "      <td>parastatal</td>\n",
       "      <td>parastatal</td>\n",
       "      <td>other</td>\n",
       "      <td>other</td>\n",
       "      <td>soft</td>\n",
       "      <td>good</td>\n",
       "      <td>seasonal</td>\n",
       "      <td>seasonal</td>\n",
       "      <td>rainwater harvesting</td>\n",
       "      <td>rainwater harvesting</td>\n",
       "      <td>surface</td>\n",
       "      <td>communal standpipe</td>\n",
       "      <td>communal standpipe</td>\n",
       "      <td>1</td>\n",
       "      <td>31.616211</td>\n",
       "      <td>NaN</td>\n",
       "      <td>-3.455957</td>\n",
       "      <td>NaN</td>\n",
       "      <td>1334.566041</td>\n",
       "      <td>NaN</td>\n",
       "      <td>618.348360</td>\n",
       "      <td>NaN</td>\n",
       "      <td>2001.797364</td>\n",
       "      <td>NaN</td>\n",
       "      <td>5072.950983</td>\n",
       "      <td>NaN</td>\n",
       "      <td>35.149669</td>\n",
       "      <td>2.607428</td>\n",
       "      <td>33.240121</td>\n",
       "      <td>0.765545</td>\n",
       "      <td>NaN</td>\n",
       "      <td>NaN</td>\n",
       "      <td>-5.885572</td>\n",
       "      <td>2.809876</td>\n",
       "      <td>-3.495696</td>\n",
       "      <td>0.328573</td>\n",
       "      <td>NaN</td>\n",
       "      <td>NaN</td>\n",
       "      <td>1018.860839</td>\n",
       "      <td>612.566092</td>\n",
       "      <td>1350.981707</td>\n",
       "      <td>27.83573</td>\n",
       "      <td>NaN</td>\n",
       "      <td>NaN</td>\n",
       "      <td>281.087167</td>\n",
       "      <td>564.68766</td>\n",
       "      <td>428.359756</td>\n",
       "      <td>224.024946</td>\n",
       "      <td>NaN</td>\n",
       "      <td>NaN</td>\n",
       "      <td>1996.814686</td>\n",
       "      <td>12.472045</td>\n",
       "      <td>2002.621951</td>\n",
       "      <td>5.762456</td>\n",
       "      <td>NaN</td>\n",
       "      <td>NaN</td>\n",
       "      <td>1062.351942</td>\n",
       "      <td>5409.34494</td>\n",
       "      <td>3746.666667</td>\n",
       "      <td>12799.769343</td>\n",
       "      <td>NaN</td>\n",
       "      <td>NaN</td>\n",
       "      <td>[34.93809275, 34.6987661, 37.46066446, 38.4861...</td>\n",
       "      <td>[33.36240982, 32.62061707, 33.79810612, 34.364...</td>\n",
       "      <td>NaN</td>\n",
       "      <td>[-9.85632177, -2.14746569, -3.82132853, -11.15...</td>\n",
       "      <td>[-3.76636472, -4.22619802, -3.2901937999999995...</td>\n",
       "      <td>NaN</td>\n",
       "      <td>[1390.0, 1399.0, 686.0, 263.0, 62.0, 1062.0, 1...</td>\n",
       "      <td>[1362.0, 1356.0, 1328.0, 1340.0, 1354.0, 1357....</td>\n",
       "      <td>NaN</td>\n",
       "      <td>[109.0, 280.0, 250.0, 58.0, 1.0, 345.0, 250.0,...</td>\n",
       "      <td>[450.0, 500.0, 300.0, 250.0, 500.0, 500.0, 500...</td>\n",
       "      <td>NaN</td>\n",
       "      <td>[1999.0, 2010.0, 2009.0, 1986.0, 2009.0, 2011....</td>\n",
       "      <td>[2008.0, 1996.0, 2005.0, 1998.0, 1997.0, 2008....</td>\n",
       "      <td>NaN</td>\n",
       "      <td>[6000.0, 25.0, 20.0, 200.0, 500.0, 500.0, 200....</td>\n",
       "      <td>[1000.0, 100.0, 200.0, 100.0, 300.0, 1000.0, 2...</td>\n",
       "      <td>NaN</td>\n",
       "    </tr>\n",
       "    <tr>\n",
       "      <th>177</th>\n",
       "      <td>56725</td>\n",
       "      <td>NaN</td>\n",
       "      <td>2013-01-17</td>\n",
       "      <td>Netherlands</td>\n",
       "      <td>NaN</td>\n",
       "      <td>DWE</td>\n",
       "      <td>NaN</td>\n",
       "      <td>NaN</td>\n",
       "      <td>Kikundi Cha Wakina Mama</td>\n",
       "      <td>NaN</td>\n",
       "      <td>Lake Victoria</td>\n",
       "      <td>Mahaha</td>\n",
       "      <td>Shinyanga</td>\n",
       "      <td>17</td>\n",
       "      <td>1</td>\n",
       "      <td>Bariadi</td>\n",
       "      <td>Bunamhala</td>\n",
       "      <td>NaN</td>\n",
       "      <td>NaN</td>\n",
       "      <td>GeoData Consultants Ltd</td>\n",
       "      <td>WUG</td>\n",
       "      <td>NaN</td>\n",
       "      <td>False</td>\n",
       "      <td>NaN</td>\n",
       "      <td>other</td>\n",
       "      <td>other</td>\n",
       "      <td>other</td>\n",
       "      <td>wug</td>\n",
       "      <td>user-group</td>\n",
       "      <td>unknown</td>\n",
       "      <td>unknown</td>\n",
       "      <td>soft</td>\n",
       "      <td>good</td>\n",
       "      <td>enough</td>\n",
       "      <td>enough</td>\n",
       "      <td>shallow well</td>\n",
       "      <td>shallow well</td>\n",
       "      <td>groundwater</td>\n",
       "      <td>other</td>\n",
       "      <td>other</td>\n",
       "      <td>1</td>\n",
       "      <td>34.076974</td>\n",
       "      <td>NaN</td>\n",
       "      <td>-2.891981</td>\n",
       "      <td>NaN</td>\n",
       "      <td>1335.825505</td>\n",
       "      <td>NaN</td>\n",
       "      <td>690.246416</td>\n",
       "      <td>NaN</td>\n",
       "      <td>2003.580018</td>\n",
       "      <td>NaN</td>\n",
       "      <td>4862.008814</td>\n",
       "      <td>NaN</td>\n",
       "      <td>35.149669</td>\n",
       "      <td>2.607428</td>\n",
       "      <td>33.240121</td>\n",
       "      <td>0.765545</td>\n",
       "      <td>34.094471</td>\n",
       "      <td>0.008208</td>\n",
       "      <td>-5.885572</td>\n",
       "      <td>2.809876</td>\n",
       "      <td>-3.495696</td>\n",
       "      <td>0.328573</td>\n",
       "      <td>-2.889424</td>\n",
       "      <td>0.015835</td>\n",
       "      <td>1018.860839</td>\n",
       "      <td>612.566092</td>\n",
       "      <td>1350.981707</td>\n",
       "      <td>27.83573</td>\n",
       "      <td>1335.833333</td>\n",
       "      <td>7.183736</td>\n",
       "      <td>281.087167</td>\n",
       "      <td>564.68766</td>\n",
       "      <td>428.359756</td>\n",
       "      <td>224.024946</td>\n",
       "      <td>404.333333</td>\n",
       "      <td>223.744308</td>\n",
       "      <td>1996.814686</td>\n",
       "      <td>12.472045</td>\n",
       "      <td>2002.621951</td>\n",
       "      <td>5.762456</td>\n",
       "      <td>2000.416667</td>\n",
       "      <td>4.209477</td>\n",
       "      <td>1062.351942</td>\n",
       "      <td>5409.34494</td>\n",
       "      <td>3746.666667</td>\n",
       "      <td>12799.769343</td>\n",
       "      <td>NaN</td>\n",
       "      <td>NaN</td>\n",
       "      <td>[34.93809275, 34.6987661, 37.46066446, 38.4861...</td>\n",
       "      <td>[33.36240982, 32.62061707, 33.79810612, 34.364...</td>\n",
       "      <td>[34.09904301, 34.09120063, 34.09635422, 34.098...</td>\n",
       "      <td>[-9.85632177, -2.14746569, -3.82132853, -11.15...</td>\n",
       "      <td>[-3.76636472, -4.22619802, -3.2901937999999995...</td>\n",
       "      <td>[-2.87837578, -2.89379028, -2.87099139, -2.885...</td>\n",
       "      <td>[1390.0, 1399.0, 686.0, 263.0, 62.0, 1062.0, 1...</td>\n",
       "      <td>[1362.0, 1356.0, 1328.0, 1340.0, 1354.0, 1357....</td>\n",
       "      <td>[1329.0, 1334.0, 1334.0, 1339.0, 1342.0, 1333....</td>\n",
       "      <td>[109.0, 280.0, 250.0, 58.0, 1.0, 345.0, 250.0,...</td>\n",
       "      <td>[450.0, 500.0, 300.0, 250.0, 500.0, 500.0, 500...</td>\n",
       "      <td>[500.0, 500.0, 500.0, 150.0, 1.0, 500.0, 1.0, ...</td>\n",
       "      <td>[1999.0, 2010.0, 2009.0, 1986.0, 2009.0, 2011....</td>\n",
       "      <td>[2008.0, 1996.0, 2005.0, 1998.0, 1997.0, 2008....</td>\n",
       "      <td>[2009.0, 1997.0, 2000.0, 1997.0, 2001.0, 1996....</td>\n",
       "      <td>[6000.0, 25.0, 20.0, 200.0, 500.0, 500.0, 200....</td>\n",
       "      <td>[1000.0, 100.0, 200.0, 100.0, 300.0, 1000.0, 2...</td>\n",
       "      <td>NaN</td>\n",
       "    </tr>\n",
       "  </tbody>\n",
       "</table>\n",
       "</div>"
      ],
      "text/plain": [
       "        id  amount_tsh date_recorded       funder  gps_height installer  \\\n",
       "168  72678         NaN    2013-01-30          Wvt         NaN       WVT   \n",
       "177  56725         NaN    2013-01-17  Netherlands         NaN       DWE   \n",
       "\n",
       "     longitude  latitude                 wpt_name  num_private          basin  \\\n",
       "168        NaN       NaN             Wvt Tanzania          NaN  Lake Victoria   \n",
       "177        NaN       NaN  Kikundi Cha Wakina Mama          NaN  Lake Victoria   \n",
       "\n",
       "    subvillage     region  region_code  district_code      lga       ward  \\\n",
       "168      Ilula  Shinyanga           17              1  Bariadi  Chinamili   \n",
       "177     Mahaha  Shinyanga           17              1  Bariadi  Bunamhala   \n",
       "\n",
       "     population public_meeting              recorded_by scheme_management  \\\n",
       "168         NaN          False  GeoData Consultants Ltd        Parastatal   \n",
       "177         NaN            NaN  GeoData Consultants Ltd               WUG   \n",
       "\n",
       "    scheme_name permit  construction_year extraction_type  \\\n",
       "168         NaN  False                NaN         gravity   \n",
       "177         NaN  False                NaN           other   \n",
       "\n",
       "    extraction_type_group extraction_type_class  management management_group  \\\n",
       "168               gravity               gravity  parastatal       parastatal   \n",
       "177                 other                 other         wug       user-group   \n",
       "\n",
       "     payment payment_type water_quality quality_group  quantity  \\\n",
       "168    other        other          soft          good  seasonal   \n",
       "177  unknown      unknown          soft          good    enough   \n",
       "\n",
       "    quantity_group                source           source_type source_class  \\\n",
       "168       seasonal  rainwater harvesting  rainwater harvesting      surface   \n",
       "177         enough          shallow well          shallow well  groundwater   \n",
       "\n",
       "        waterpoint_type waterpoint_type_group  train  longitude_imp_normal  \\\n",
       "168  communal standpipe    communal standpipe      1             31.616211   \n",
       "177               other                 other      1             34.076974   \n",
       "\n",
       "     longitude_imp_random_choice  latitude_imp_normal  \\\n",
       "168                          NaN            -3.455957   \n",
       "177                          NaN            -2.891981   \n",
       "\n",
       "     latitude_imp_random_choice  gps_height_imp_normal  \\\n",
       "168                         NaN            1334.566041   \n",
       "177                         NaN            1335.825505   \n",
       "\n",
       "     gps_height_imp_random_choice  population_imp_normal  \\\n",
       "168                           NaN             618.348360   \n",
       "177                           NaN             690.246416   \n",
       "\n",
       "     population_imp_random_choice  construction_year_imp_normal  \\\n",
       "168                           NaN                   2001.797364   \n",
       "177                           NaN                   2003.580018   \n",
       "\n",
       "     construction_year_imp_random_choice  amount_tsh_imp_normal  \\\n",
       "168                                  NaN            5072.950983   \n",
       "177                                  NaN            4862.008814   \n",
       "\n",
       "     amount_tsh_imp_random_choice  longitude_mean_overall  \\\n",
       "168                           NaN               35.149669   \n",
       "177                           NaN               35.149669   \n",
       "\n",
       "     longitude_std_overall  longitude_mean_region  longitude_std_region  \\\n",
       "168               2.607428              33.240121              0.765545   \n",
       "177               2.607428              33.240121              0.765545   \n",
       "\n",
       "     longitude_mean_ward  longitude_std_ward  latitude_mean_overall  \\\n",
       "168                  NaN                 NaN              -5.885572   \n",
       "177            34.094471            0.008208              -5.885572   \n",
       "\n",
       "     latitude_std_overall  latitude_mean_region  latitude_std_region  \\\n",
       "168              2.809876             -3.495696             0.328573   \n",
       "177              2.809876             -3.495696             0.328573   \n",
       "\n",
       "     latitude_mean_ward  latitude_std_ward  gps_height_mean_overall  \\\n",
       "168                 NaN                NaN              1018.860839   \n",
       "177           -2.889424           0.015835              1018.860839   \n",
       "\n",
       "     gps_height_std_overall  gps_height_mean_region  gps_height_std_region  \\\n",
       "168              612.566092             1350.981707               27.83573   \n",
       "177              612.566092             1350.981707               27.83573   \n",
       "\n",
       "     gps_height_mean_ward  gps_height_std_ward  population_mean_overall  \\\n",
       "168                   NaN                  NaN               281.087167   \n",
       "177           1335.833333             7.183736               281.087167   \n",
       "\n",
       "     population_std_overall  population_mean_region  population_std_region  \\\n",
       "168               564.68766              428.359756             224.024946   \n",
       "177               564.68766              428.359756             224.024946   \n",
       "\n",
       "     population_mean_ward  population_std_ward  \\\n",
       "168                   NaN                  NaN   \n",
       "177            404.333333           223.744308   \n",
       "\n",
       "     construction_year_mean_overall  construction_year_std_overall  \\\n",
       "168                     1996.814686                      12.472045   \n",
       "177                     1996.814686                      12.472045   \n",
       "\n",
       "     construction_year_mean_region  construction_year_std_region  \\\n",
       "168                    2002.621951                      5.762456   \n",
       "177                    2002.621951                      5.762456   \n",
       "\n",
       "     construction_year_mean_ward  construction_year_std_ward  \\\n",
       "168                          NaN                         NaN   \n",
       "177                  2000.416667                    4.209477   \n",
       "\n",
       "     amount_tsh_mean_overall  amount_tsh_std_overall  amount_tsh_mean_region  \\\n",
       "168              1062.351942              5409.34494             3746.666667   \n",
       "177              1062.351942              5409.34494             3746.666667   \n",
       "\n",
       "     amount_tsh_std_region  amount_tsh_mean_ward  amount_tsh_std_ward  \\\n",
       "168           12799.769343                   NaN                  NaN   \n",
       "177           12799.769343                   NaN                  NaN   \n",
       "\n",
       "                                longitude_list_overall  \\\n",
       "168  [34.93809275, 34.6987661, 37.46066446, 38.4861...   \n",
       "177  [34.93809275, 34.6987661, 37.46066446, 38.4861...   \n",
       "\n",
       "                                 longitude_list_region  \\\n",
       "168  [33.36240982, 32.62061707, 33.79810612, 34.364...   \n",
       "177  [33.36240982, 32.62061707, 33.79810612, 34.364...   \n",
       "\n",
       "                                   longitude_list_ward  \\\n",
       "168                                                NaN   \n",
       "177  [34.09904301, 34.09120063, 34.09635422, 34.098...   \n",
       "\n",
       "                                 latitude_list_overall  \\\n",
       "168  [-9.85632177, -2.14746569, -3.82132853, -11.15...   \n",
       "177  [-9.85632177, -2.14746569, -3.82132853, -11.15...   \n",
       "\n",
       "                                  latitude_list_region  \\\n",
       "168  [-3.76636472, -4.22619802, -3.2901937999999995...   \n",
       "177  [-3.76636472, -4.22619802, -3.2901937999999995...   \n",
       "\n",
       "                                    latitude_list_ward  \\\n",
       "168                                                NaN   \n",
       "177  [-2.87837578, -2.89379028, -2.87099139, -2.885...   \n",
       "\n",
       "                               gps_height_list_overall  \\\n",
       "168  [1390.0, 1399.0, 686.0, 263.0, 62.0, 1062.0, 1...   \n",
       "177  [1390.0, 1399.0, 686.0, 263.0, 62.0, 1062.0, 1...   \n",
       "\n",
       "                                gps_height_list_region  \\\n",
       "168  [1362.0, 1356.0, 1328.0, 1340.0, 1354.0, 1357....   \n",
       "177  [1362.0, 1356.0, 1328.0, 1340.0, 1354.0, 1357....   \n",
       "\n",
       "                                  gps_height_list_ward  \\\n",
       "168                                                NaN   \n",
       "177  [1329.0, 1334.0, 1334.0, 1339.0, 1342.0, 1333....   \n",
       "\n",
       "                               population_list_overall  \\\n",
       "168  [109.0, 280.0, 250.0, 58.0, 1.0, 345.0, 250.0,...   \n",
       "177  [109.0, 280.0, 250.0, 58.0, 1.0, 345.0, 250.0,...   \n",
       "\n",
       "                                population_list_region  \\\n",
       "168  [450.0, 500.0, 300.0, 250.0, 500.0, 500.0, 500...   \n",
       "177  [450.0, 500.0, 300.0, 250.0, 500.0, 500.0, 500...   \n",
       "\n",
       "                                  population_list_ward  \\\n",
       "168                                                NaN   \n",
       "177  [500.0, 500.0, 500.0, 150.0, 1.0, 500.0, 1.0, ...   \n",
       "\n",
       "                        construction_year_list_overall  \\\n",
       "168  [1999.0, 2010.0, 2009.0, 1986.0, 2009.0, 2011....   \n",
       "177  [1999.0, 2010.0, 2009.0, 1986.0, 2009.0, 2011....   \n",
       "\n",
       "                         construction_year_list_region  \\\n",
       "168  [2008.0, 1996.0, 2005.0, 1998.0, 1997.0, 2008....   \n",
       "177  [2008.0, 1996.0, 2005.0, 1998.0, 1997.0, 2008....   \n",
       "\n",
       "                           construction_year_list_ward  \\\n",
       "168                                                NaN   \n",
       "177  [2009.0, 1997.0, 2000.0, 1997.0, 2001.0, 1996....   \n",
       "\n",
       "                               amount_tsh_list_overall  \\\n",
       "168  [6000.0, 25.0, 20.0, 200.0, 500.0, 500.0, 200....   \n",
       "177  [6000.0, 25.0, 20.0, 200.0, 500.0, 500.0, 200....   \n",
       "\n",
       "                                amount_tsh_list_region amount_tsh_list_ward  \n",
       "168  [1000.0, 100.0, 200.0, 100.0, 300.0, 1000.0, 2...                  NaN  \n",
       "177  [1000.0, 100.0, 200.0, 100.0, 300.0, 1000.0, 2...                  NaN  "
      ]
     },
     "execution_count": 42,
     "metadata": {},
     "output_type": "execute_result"
    }
   ],
   "source": [
    "data[(data['id']==72678) | (data['id']==56725)]\n",
    "#pd.DataFrame(data).to_csv(\"./Data/data_zwischenstand.csv\", index=False)"
   ]
  },
  {
   "cell_type": "code",
   "execution_count": 40,
   "metadata": {},
   "outputs": [
    {
     "ename": "TypeError",
     "evalue": "('must be real number, not list', 'occurred at index 177')",
     "output_type": "error",
     "traceback": [
      "\u001b[0;31m---------------------------------------------------------------------------\u001b[0m",
      "\u001b[0;31mTypeError\u001b[0m                                 Traceback (most recent call last)",
      "\u001b[0;32m<ipython-input-40-84203113f052>\u001b[0m in \u001b[0;36m<module>\u001b[0;34m\u001b[0m\n\u001b[1;32m      6\u001b[0m     \u001b[0;32mfor\u001b[0m \u001b[0mdivision\u001b[0m \u001b[0;32min\u001b[0m \u001b[0mdivisions_total\u001b[0m\u001b[0;34m:\u001b[0m\u001b[0;34m\u001b[0m\u001b[0;34m\u001b[0m\u001b[0m\n\u001b[1;32m      7\u001b[0m         \u001b[0;31m#data['_'.join([null_feature,'imp_random_choice'])] = data.apply(lambda row: np.random.choice(a=row['_'.join([null_feature,'list',division])]) if math.isnan(row['_'.join([null_feature,'imp_random_choice'])]) else row['_'.join([null_feature,'imp_random_choice'])], axis=1)\u001b[0m\u001b[0;34m\u001b[0m\u001b[0;34m\u001b[0m\u001b[0;34m\u001b[0m\u001b[0m\n\u001b[0;32m----> 8\u001b[0;31m         \u001b[0mdata\u001b[0m\u001b[0;34m[\u001b[0m\u001b[0;34m'_'\u001b[0m\u001b[0;34m.\u001b[0m\u001b[0mjoin\u001b[0m\u001b[0;34m(\u001b[0m\u001b[0;34m[\u001b[0m\u001b[0mnull_feature\u001b[0m\u001b[0;34m,\u001b[0m\u001b[0;34m'imp_random_choice'\u001b[0m\u001b[0;34m]\u001b[0m\u001b[0;34m)\u001b[0m\u001b[0;34m]\u001b[0m \u001b[0;34m=\u001b[0m \u001b[0mdata\u001b[0m\u001b[0;34m.\u001b[0m\u001b[0mapply\u001b[0m\u001b[0;34m(\u001b[0m\u001b[0;32mlambda\u001b[0m \u001b[0mrow\u001b[0m\u001b[0;34m:\u001b[0m \u001b[0mrow\u001b[0m\u001b[0;34m[\u001b[0m\u001b[0;34m'_'\u001b[0m\u001b[0;34m.\u001b[0m\u001b[0mjoin\u001b[0m\u001b[0;34m(\u001b[0m\u001b[0;34m[\u001b[0m\u001b[0mnull_feature\u001b[0m\u001b[0;34m,\u001b[0m\u001b[0;34m'imp_random_choice'\u001b[0m\u001b[0;34m]\u001b[0m\u001b[0;34m)\u001b[0m\u001b[0;34m]\u001b[0m \u001b[0;32mif\u001b[0m \u001b[0;32mnot\u001b[0m \u001b[0mmath\u001b[0m\u001b[0;34m.\u001b[0m\u001b[0misnan\u001b[0m\u001b[0;34m(\u001b[0m\u001b[0mrow\u001b[0m\u001b[0;34m[\u001b[0m\u001b[0;34m'_'\u001b[0m\u001b[0;34m.\u001b[0m\u001b[0mjoin\u001b[0m\u001b[0;34m(\u001b[0m\u001b[0;34m[\u001b[0m\u001b[0mnull_feature\u001b[0m\u001b[0;34m,\u001b[0m\u001b[0;34m'imp_random_choice'\u001b[0m\u001b[0;34m]\u001b[0m\u001b[0;34m)\u001b[0m\u001b[0;34m]\u001b[0m\u001b[0;34m)\u001b[0m \u001b[0;32melse\u001b[0m \u001b[0;34m(\u001b[0m\u001b[0mnp\u001b[0m\u001b[0;34m.\u001b[0m\u001b[0mrandom\u001b[0m\u001b[0;34m.\u001b[0m\u001b[0mchoice\u001b[0m\u001b[0;34m(\u001b[0m\u001b[0ma\u001b[0m\u001b[0;34m=\u001b[0m\u001b[0mrow\u001b[0m\u001b[0;34m[\u001b[0m\u001b[0;34m'_'\u001b[0m\u001b[0;34m.\u001b[0m\u001b[0mjoin\u001b[0m\u001b[0;34m(\u001b[0m\u001b[0;34m[\u001b[0m\u001b[0mnull_feature\u001b[0m\u001b[0;34m,\u001b[0m\u001b[0;34m'list'\u001b[0m\u001b[0;34m,\u001b[0m\u001b[0mdivision\u001b[0m\u001b[0;34m]\u001b[0m\u001b[0;34m)\u001b[0m\u001b[0;34m]\u001b[0m\u001b[0;34m)\u001b[0m \u001b[0;32mif\u001b[0m \u001b[0;32mnot\u001b[0m \u001b[0mmath\u001b[0m\u001b[0;34m.\u001b[0m\u001b[0misnan\u001b[0m\u001b[0;34m(\u001b[0m\u001b[0mrow\u001b[0m\u001b[0;34m[\u001b[0m\u001b[0;34m'_'\u001b[0m\u001b[0;34m.\u001b[0m\u001b[0mjoin\u001b[0m\u001b[0;34m(\u001b[0m\u001b[0;34m[\u001b[0m\u001b[0mnull_feature\u001b[0m\u001b[0;34m,\u001b[0m\u001b[0;34m'list'\u001b[0m\u001b[0;34m,\u001b[0m\u001b[0mdivision\u001b[0m\u001b[0;34m]\u001b[0m\u001b[0;34m)\u001b[0m\u001b[0;34m]\u001b[0m\u001b[0;34m)\u001b[0m \u001b[0;32melse\u001b[0m \u001b[0mnp\u001b[0m\u001b[0;34m.\u001b[0m\u001b[0mnan\u001b[0m\u001b[0;34m)\u001b[0m\u001b[0;34m,\u001b[0m \u001b[0maxis\u001b[0m\u001b[0;34m=\u001b[0m\u001b[0;36m1\u001b[0m\u001b[0;34m)\u001b[0m\u001b[0;34m\u001b[0m\u001b[0;34m\u001b[0m\u001b[0m\n\u001b[0m\u001b[1;32m      9\u001b[0m         \u001b[0;31m#display('Missing values after imputation in {} by {}: {}'.format(null_feature, division, data['_'.join([null_feature,'imp_normal'])].isnull().sum()))\u001b[0m\u001b[0;34m\u001b[0m\u001b[0;34m\u001b[0m\u001b[0;34m\u001b[0m\u001b[0m\n\u001b[1;32m     10\u001b[0m \u001b[0;34m\u001b[0m\u001b[0m\n",
      "\u001b[0;32m/anaconda3/lib/python3.7/site-packages/pandas/core/frame.py\u001b[0m in \u001b[0;36mapply\u001b[0;34m(self, func, axis, broadcast, raw, reduce, result_type, args, **kwds)\u001b[0m\n\u001b[1;32m   6485\u001b[0m                          \u001b[0margs\u001b[0m\u001b[0;34m=\u001b[0m\u001b[0margs\u001b[0m\u001b[0;34m,\u001b[0m\u001b[0;34m\u001b[0m\u001b[0;34m\u001b[0m\u001b[0m\n\u001b[1;32m   6486\u001b[0m                          kwds=kwds)\n\u001b[0;32m-> 6487\u001b[0;31m         \u001b[0;32mreturn\u001b[0m \u001b[0mop\u001b[0m\u001b[0;34m.\u001b[0m\u001b[0mget_result\u001b[0m\u001b[0;34m(\u001b[0m\u001b[0;34m)\u001b[0m\u001b[0;34m\u001b[0m\u001b[0;34m\u001b[0m\u001b[0m\n\u001b[0m\u001b[1;32m   6488\u001b[0m \u001b[0;34m\u001b[0m\u001b[0m\n\u001b[1;32m   6489\u001b[0m     \u001b[0;32mdef\u001b[0m \u001b[0mapplymap\u001b[0m\u001b[0;34m(\u001b[0m\u001b[0mself\u001b[0m\u001b[0;34m,\u001b[0m \u001b[0mfunc\u001b[0m\u001b[0;34m)\u001b[0m\u001b[0;34m:\u001b[0m\u001b[0;34m\u001b[0m\u001b[0;34m\u001b[0m\u001b[0m\n",
      "\u001b[0;32m/anaconda3/lib/python3.7/site-packages/pandas/core/apply.py\u001b[0m in \u001b[0;36mget_result\u001b[0;34m(self)\u001b[0m\n\u001b[1;32m    149\u001b[0m             \u001b[0;32mreturn\u001b[0m \u001b[0mself\u001b[0m\u001b[0;34m.\u001b[0m\u001b[0mapply_raw\u001b[0m\u001b[0;34m(\u001b[0m\u001b[0;34m)\u001b[0m\u001b[0;34m\u001b[0m\u001b[0;34m\u001b[0m\u001b[0m\n\u001b[1;32m    150\u001b[0m \u001b[0;34m\u001b[0m\u001b[0m\n\u001b[0;32m--> 151\u001b[0;31m         \u001b[0;32mreturn\u001b[0m \u001b[0mself\u001b[0m\u001b[0;34m.\u001b[0m\u001b[0mapply_standard\u001b[0m\u001b[0;34m(\u001b[0m\u001b[0;34m)\u001b[0m\u001b[0;34m\u001b[0m\u001b[0;34m\u001b[0m\u001b[0m\n\u001b[0m\u001b[1;32m    152\u001b[0m \u001b[0;34m\u001b[0m\u001b[0m\n\u001b[1;32m    153\u001b[0m     \u001b[0;32mdef\u001b[0m \u001b[0mapply_empty_result\u001b[0m\u001b[0;34m(\u001b[0m\u001b[0mself\u001b[0m\u001b[0;34m)\u001b[0m\u001b[0;34m:\u001b[0m\u001b[0;34m\u001b[0m\u001b[0;34m\u001b[0m\u001b[0m\n",
      "\u001b[0;32m/anaconda3/lib/python3.7/site-packages/pandas/core/apply.py\u001b[0m in \u001b[0;36mapply_standard\u001b[0;34m(self)\u001b[0m\n\u001b[1;32m    255\u001b[0m \u001b[0;34m\u001b[0m\u001b[0m\n\u001b[1;32m    256\u001b[0m         \u001b[0;31m# compute the result using the series generator\u001b[0m\u001b[0;34m\u001b[0m\u001b[0;34m\u001b[0m\u001b[0;34m\u001b[0m\u001b[0m\n\u001b[0;32m--> 257\u001b[0;31m         \u001b[0mself\u001b[0m\u001b[0;34m.\u001b[0m\u001b[0mapply_series_generator\u001b[0m\u001b[0;34m(\u001b[0m\u001b[0;34m)\u001b[0m\u001b[0;34m\u001b[0m\u001b[0;34m\u001b[0m\u001b[0m\n\u001b[0m\u001b[1;32m    258\u001b[0m \u001b[0;34m\u001b[0m\u001b[0m\n\u001b[1;32m    259\u001b[0m         \u001b[0;31m# wrap results\u001b[0m\u001b[0;34m\u001b[0m\u001b[0;34m\u001b[0m\u001b[0;34m\u001b[0m\u001b[0m\n",
      "\u001b[0;32m/anaconda3/lib/python3.7/site-packages/pandas/core/apply.py\u001b[0m in \u001b[0;36mapply_series_generator\u001b[0;34m(self)\u001b[0m\n\u001b[1;32m    284\u001b[0m             \u001b[0;32mtry\u001b[0m\u001b[0;34m:\u001b[0m\u001b[0;34m\u001b[0m\u001b[0;34m\u001b[0m\u001b[0m\n\u001b[1;32m    285\u001b[0m                 \u001b[0;32mfor\u001b[0m \u001b[0mi\u001b[0m\u001b[0;34m,\u001b[0m \u001b[0mv\u001b[0m \u001b[0;32min\u001b[0m \u001b[0menumerate\u001b[0m\u001b[0;34m(\u001b[0m\u001b[0mseries_gen\u001b[0m\u001b[0;34m)\u001b[0m\u001b[0;34m:\u001b[0m\u001b[0;34m\u001b[0m\u001b[0;34m\u001b[0m\u001b[0m\n\u001b[0;32m--> 286\u001b[0;31m                     \u001b[0mresults\u001b[0m\u001b[0;34m[\u001b[0m\u001b[0mi\u001b[0m\u001b[0;34m]\u001b[0m \u001b[0;34m=\u001b[0m \u001b[0mself\u001b[0m\u001b[0;34m.\u001b[0m\u001b[0mf\u001b[0m\u001b[0;34m(\u001b[0m\u001b[0mv\u001b[0m\u001b[0;34m)\u001b[0m\u001b[0;34m\u001b[0m\u001b[0;34m\u001b[0m\u001b[0m\n\u001b[0m\u001b[1;32m    287\u001b[0m                     \u001b[0mkeys\u001b[0m\u001b[0;34m.\u001b[0m\u001b[0mappend\u001b[0m\u001b[0;34m(\u001b[0m\u001b[0mv\u001b[0m\u001b[0;34m.\u001b[0m\u001b[0mname\u001b[0m\u001b[0;34m)\u001b[0m\u001b[0;34m\u001b[0m\u001b[0;34m\u001b[0m\u001b[0m\n\u001b[1;32m    288\u001b[0m             \u001b[0;32mexcept\u001b[0m \u001b[0mException\u001b[0m \u001b[0;32mas\u001b[0m \u001b[0me\u001b[0m\u001b[0;34m:\u001b[0m\u001b[0;34m\u001b[0m\u001b[0;34m\u001b[0m\u001b[0m\n",
      "\u001b[0;32m<ipython-input-40-84203113f052>\u001b[0m in \u001b[0;36m<lambda>\u001b[0;34m(row)\u001b[0m\n\u001b[1;32m      6\u001b[0m     \u001b[0;32mfor\u001b[0m \u001b[0mdivision\u001b[0m \u001b[0;32min\u001b[0m \u001b[0mdivisions_total\u001b[0m\u001b[0;34m:\u001b[0m\u001b[0;34m\u001b[0m\u001b[0;34m\u001b[0m\u001b[0m\n\u001b[1;32m      7\u001b[0m         \u001b[0;31m#data['_'.join([null_feature,'imp_random_choice'])] = data.apply(lambda row: np.random.choice(a=row['_'.join([null_feature,'list',division])]) if math.isnan(row['_'.join([null_feature,'imp_random_choice'])]) else row['_'.join([null_feature,'imp_random_choice'])], axis=1)\u001b[0m\u001b[0;34m\u001b[0m\u001b[0;34m\u001b[0m\u001b[0;34m\u001b[0m\u001b[0m\n\u001b[0;32m----> 8\u001b[0;31m         \u001b[0mdata\u001b[0m\u001b[0;34m[\u001b[0m\u001b[0;34m'_'\u001b[0m\u001b[0;34m.\u001b[0m\u001b[0mjoin\u001b[0m\u001b[0;34m(\u001b[0m\u001b[0;34m[\u001b[0m\u001b[0mnull_feature\u001b[0m\u001b[0;34m,\u001b[0m\u001b[0;34m'imp_random_choice'\u001b[0m\u001b[0;34m]\u001b[0m\u001b[0;34m)\u001b[0m\u001b[0;34m]\u001b[0m \u001b[0;34m=\u001b[0m \u001b[0mdata\u001b[0m\u001b[0;34m.\u001b[0m\u001b[0mapply\u001b[0m\u001b[0;34m(\u001b[0m\u001b[0;32mlambda\u001b[0m \u001b[0mrow\u001b[0m\u001b[0;34m:\u001b[0m \u001b[0mrow\u001b[0m\u001b[0;34m[\u001b[0m\u001b[0;34m'_'\u001b[0m\u001b[0;34m.\u001b[0m\u001b[0mjoin\u001b[0m\u001b[0;34m(\u001b[0m\u001b[0;34m[\u001b[0m\u001b[0mnull_feature\u001b[0m\u001b[0;34m,\u001b[0m\u001b[0;34m'imp_random_choice'\u001b[0m\u001b[0;34m]\u001b[0m\u001b[0;34m)\u001b[0m\u001b[0;34m]\u001b[0m \u001b[0;32mif\u001b[0m \u001b[0;32mnot\u001b[0m \u001b[0mmath\u001b[0m\u001b[0;34m.\u001b[0m\u001b[0misnan\u001b[0m\u001b[0;34m(\u001b[0m\u001b[0mrow\u001b[0m\u001b[0;34m[\u001b[0m\u001b[0;34m'_'\u001b[0m\u001b[0;34m.\u001b[0m\u001b[0mjoin\u001b[0m\u001b[0;34m(\u001b[0m\u001b[0;34m[\u001b[0m\u001b[0mnull_feature\u001b[0m\u001b[0;34m,\u001b[0m\u001b[0;34m'imp_random_choice'\u001b[0m\u001b[0;34m]\u001b[0m\u001b[0;34m)\u001b[0m\u001b[0;34m]\u001b[0m\u001b[0;34m)\u001b[0m \u001b[0;32melse\u001b[0m \u001b[0;34m(\u001b[0m\u001b[0mnp\u001b[0m\u001b[0;34m.\u001b[0m\u001b[0mrandom\u001b[0m\u001b[0;34m.\u001b[0m\u001b[0mchoice\u001b[0m\u001b[0;34m(\u001b[0m\u001b[0ma\u001b[0m\u001b[0;34m=\u001b[0m\u001b[0mrow\u001b[0m\u001b[0;34m[\u001b[0m\u001b[0;34m'_'\u001b[0m\u001b[0;34m.\u001b[0m\u001b[0mjoin\u001b[0m\u001b[0;34m(\u001b[0m\u001b[0;34m[\u001b[0m\u001b[0mnull_feature\u001b[0m\u001b[0;34m,\u001b[0m\u001b[0;34m'list'\u001b[0m\u001b[0;34m,\u001b[0m\u001b[0mdivision\u001b[0m\u001b[0;34m]\u001b[0m\u001b[0;34m)\u001b[0m\u001b[0;34m]\u001b[0m\u001b[0;34m)\u001b[0m \u001b[0;32mif\u001b[0m \u001b[0;32mnot\u001b[0m \u001b[0mmath\u001b[0m\u001b[0;34m.\u001b[0m\u001b[0misnan\u001b[0m\u001b[0;34m(\u001b[0m\u001b[0mrow\u001b[0m\u001b[0;34m[\u001b[0m\u001b[0;34m'_'\u001b[0m\u001b[0;34m.\u001b[0m\u001b[0mjoin\u001b[0m\u001b[0;34m(\u001b[0m\u001b[0;34m[\u001b[0m\u001b[0mnull_feature\u001b[0m\u001b[0;34m,\u001b[0m\u001b[0;34m'list'\u001b[0m\u001b[0;34m,\u001b[0m\u001b[0mdivision\u001b[0m\u001b[0;34m]\u001b[0m\u001b[0;34m)\u001b[0m\u001b[0;34m]\u001b[0m\u001b[0;34m)\u001b[0m \u001b[0;32melse\u001b[0m \u001b[0mnp\u001b[0m\u001b[0;34m.\u001b[0m\u001b[0mnan\u001b[0m\u001b[0;34m)\u001b[0m\u001b[0;34m,\u001b[0m \u001b[0maxis\u001b[0m\u001b[0;34m=\u001b[0m\u001b[0;36m1\u001b[0m\u001b[0;34m)\u001b[0m\u001b[0;34m\u001b[0m\u001b[0;34m\u001b[0m\u001b[0m\n\u001b[0m\u001b[1;32m      9\u001b[0m         \u001b[0;31m#display('Missing values after imputation in {} by {}: {}'.format(null_feature, division, data['_'.join([null_feature,'imp_normal'])].isnull().sum()))\u001b[0m\u001b[0;34m\u001b[0m\u001b[0;34m\u001b[0m\u001b[0;34m\u001b[0m\u001b[0m\n\u001b[1;32m     10\u001b[0m \u001b[0;34m\u001b[0m\u001b[0m\n",
      "\u001b[0;31mTypeError\u001b[0m: ('must be real number, not list', 'occurred at index 177')"
     ]
    }
   ],
   "source": [
    "# 1st step: Impute missing values with empirical distribution grouped by 'ward'\n",
    "# 2nd step (only applied on remaining null values): Impute missing values with empirical distribution grouped by 'region'\n",
    "# 3rd step (only applied on remaining null values): Impute missing values with empirical distribution grouped by 'overall'\n",
    "\n",
    "for null_feature in null_features:\n",
    "    for division in divisions_total:        \n",
    "        #data['_'.join([null_feature,'imp_random_choice'])] = data.apply(lambda row: np.random.choice(a=row['_'.join([null_feature,'list',division])]) if math.isnan(row['_'.join([null_feature,'imp_random_choice'])]) else row['_'.join([null_feature,'imp_random_choice'])], axis=1)\n",
    "        data['_'.join([null_feature,'imp_random_choice'])] = data.apply(lambda row: row['_'.join([null_feature,'imp_random_choice'])] if not math.isnan(row['_'.join([null_feature,'imp_random_choice'])]) else (np.random.choice(a=row['_'.join([null_feature,'list',division])]) if not math.isnan(row['_'.join([null_feature,'list',division])]) else np.nan), axis=1)\n",
    "        display('Missing values after imputation in {} by {}: {}'.format(null_feature, division, data['_'.join([null_feature,'imp_normal'])].isnull().sum()))\n",
    "\n",
    "# 1st step: Impute missing values with random numbers generated by random choice on list of not-nan values per ward\n",
    "#data['longitude_imp_rand_choice'] = data.apply(lambda row: np.random.choice(a=row['longitude_list_ward']) if math.isnan(row['longitude_imp_rand_choice']) else row['longitude_imp_rand_choice'], axis=1)\n",
    "#data['latitude_imp_rand_choice'] = data.apply(lambda row: np.random.choice(a=row['latitude_list_ward']) if math.isnan(row['latitude_imp_rand_choice']) else row['latitude_imp_rand_choice'], axis=1)\n",
    "\n",
    "#display('Missing values after imputation by ward: {}'.format(len(data.loc[data['longitude_imp_rand_choice'] == 0])))\n",
    "\n",
    "# 2nd step: Impute missing values with random numbers generated by random choice on list of not-nan values per region\n",
    "#data['longitude_imp_rand_choice'] = data.apply(lambda row: np.random.choice(a=row['longitude_list_region']) if row['longitude_imp_rand_choice'] == 0 else row['longitude_imp_rand_choice'], axis=1)\n",
    "#data['latitude_imp_rand_choice'] = data.apply(lambda row: np.random.choice(a=row['latitude_list_region']) if row['latitude_imp_rand_choice'] == 0 else row['latitude_imp_rand_choice'], axis=1)\n"
   ]
  },
  {
   "cell_type": "code",
   "execution_count": null,
   "metadata": {},
   "outputs": [],
   "source": [
    "# Drop columns used for generation of random numbers\n",
    "drop_columns = list()\n",
    "measures.append('list')\n",
    "for gps_feature in gps_features:\n",
    "    for division in divisions:\n",
    "        for measure in measures:\n",
    "            drop_columns.append('_'.join([gps_feature, measure, division]))\n",
    "data.drop(columns=drop_columns, inplace=True)"
   ]
  },
  {
   "cell_type": "code",
   "execution_count": null,
   "metadata": {},
   "outputs": [],
   "source": [
    "# fill numerical null-values by mean/median\n",
    "# use information from training data to fill null values in new data (represented by test data)\n",
    "\n",
    "int_var.append('latitude')\n",
    "\n",
    "# 1st step: group by region, ward (-> null-values remain if there does not exist a single non-null value in a tuple)\n",
    "for var in int_var:\n",
    "    train[var].fillna(train.groupby(['region', 'ward'])[var].transform(\"median\"), inplace=True)\n",
    "\n",
    "for var in int_var:\n",
    "    test[var].fillna(train.groupby(['region', 'ward'])[var].transform(\"median\"), inplace=True)\n",
    "\n",
    "for var in float_var:\n",
    "    train[var].fillna(train.groupby(['region', 'ward'])[var].transform(\"mean\"), inplace=True)\n",
    "    \n",
    "for var in float_var:\n",
    "    test[var].fillna(train.groupby(['region', 'ward'])[var].transform(\"mean\"), inplace=True)\n",
    "    \n",
    "# 2nd step: rougher filter\n",
    "for var in int_var:\n",
    "    train[var].fillna(train.groupby(['region'])[var].transform(\"median\"), inplace=True)\n",
    "    \n",
    "for var in int_var:\n",
    "    test[var].fillna(train.groupby(['region'])[var].transform(\"median\"), inplace=True)\n",
    "\n",
    "for var in float_var:\n",
    "    train[var].fillna(train.groupby(['region'])[var].transform(\"mean\"), inplace=True)\n",
    "    \n",
    "for var in float_var:\n",
    "    test[var].fillna(train.groupby(['region'])[var].transform(\"mean\"), inplace=True)\n",
    "\n",
    "# 3rd step: rougher filter\n",
    "for var in int_var:\n",
    "    train[var].fillna(train[var].median(), inplace=True)\n",
    "    \n",
    "for var in int_var:\n",
    "    test[var].fillna(train[var].median(), inplace=True)\n",
    "\n",
    "for var in float_var:\n",
    "    train[var].fillna(train[var].mean(), inplace=True)\n",
    "    \n",
    "for var in float_var:\n",
    "    test[var].fillna(train[var].mean(), inplace=True)"
   ]
  },
  {
   "cell_type": "code",
   "execution_count": null,
   "metadata": {
    "scrolled": true
   },
   "outputs": [],
   "source": [
    "data.isnull().sum()"
   ]
  },
  {
   "cell_type": "code",
   "execution_count": null,
   "metadata": {},
   "outputs": [],
   "source": [
    "# create new feature that gives information about operational time\n",
    "    \n",
    "data['date_recorded'] = pd.to_datetime(data['date_recorded'])\n",
    "data['operation_years'] = data.date_recorded.dt.year - data.construction_year\n",
    "data['operation_years'] = data['operation_years'].astype(int)"
   ]
  },
  {
   "cell_type": "code",
   "execution_count": null,
   "metadata": {},
   "outputs": [],
   "source": [
    "# scale numeric features\n",
    "\n",
    "#num_features=['latitude','longitude','operation_years','amount_tsh', 'gps_height', 'population']\n",
    "#scaler = MinMaxScaler()\n",
    "\n",
    "#for s in split:\n",
    "    #s[num_features] = scaler.fit_transform(s[num_features])"
   ]
  },
  {
   "cell_type": "code",
   "execution_count": null,
   "metadata": {},
   "outputs": [],
   "source": [
    "# drop redundant features and features that do not seem to have an impact\n",
    "\n",
    "data.drop(['extraction_type_group','extraction_type_class','payment','quality_group','source_class','source_type','waterpoint_type_group','management_group','quantity_group','date_recorded','wpt_name','num_private','recorded_by'],axis=1,inplace=True)"
   ]
  },
  {
   "cell_type": "code",
   "execution_count": null,
   "metadata": {
    "scrolled": true
   },
   "outputs": [],
   "source": [
    "data['funder'].value_counts()\n",
    "data['installer'].value_counts()\n",
    "data['scheme_name'].value_counts()"
   ]
  },
  {
   "cell_type": "code",
   "execution_count": null,
   "metadata": {},
   "outputs": [],
   "source": [
    "# reduce dimension of categorical variables\n",
    "\n",
    "# funder\n",
    "data = data.assign(count = data.groupby('funder')['funder'].transform('count'))\\\n",
    ".sort_values(by = ['count','funder'], ascending = [False,True])\n",
    "\n",
    "data.loc[data['count'] < 1050, 'funder'] = 'Others'\n",
    "data['funder'].replace(np.nan, 'Others', inplace=True)\n",
    "del data['count']\n",
    "\n",
    "# installer\n",
    "data = data.assign(count = data.groupby('installer')['installer'].transform('count'))\\\n",
    ".sort_values(by = ['count','installer'], ascending = [False,True])\n",
    "\n",
    "data.loc[data['count'] < 765, 'installer'] = 'Others'\n",
    "data.loc[data['installer'] == '0', 'installer'] = 'Others'\n",
    "data['installer'].replace(np.nan, 'Others', inplace=True)\n",
    "del data['count']\n",
    "\n",
    "# scheme_name\n",
    "data = data.assign(count = data.groupby('scheme_name')['scheme_name'].transform('count'))\\\n",
    ".sort_values(by = ['count','scheme_name'], ascending = [False,True])\n",
    "\n",
    "data.loc[data['count'] < 296, 'scheme_name'] = 'Others'\n",
    "data.loc[data['scheme_name'] == '0', 'scheme_name'] = 'Others'\n",
    "data['scheme_name'].replace(np.nan, 'Others', inplace=True)\n",
    "del data['count']"
   ]
  },
  {
   "cell_type": "code",
   "execution_count": null,
   "metadata": {},
   "outputs": [],
   "source": [
    "# factorize features for evaluations\n",
    "\n",
    "#data['funder'] = pd.factorize(data['funder'])[0]\n",
    "#data['installer'] = pd.factorize(data['installer'])[0]\n",
    "#data['basin'] = pd.factorize(data['basin'])[0]\n",
    "#data['subvillage'] = pd.factorize(data['subvillage'])[0]\n",
    "#data['region'] = pd.factorize(data['region'])[0]\n",
    "#data['lga'] = pd.factorize(data['lga'])[0]\n",
    "#data['ward'] = pd.factorize(data['ward'])[0]\n",
    "#data['scheme_management'] = pd.factorize(data['scheme_management'])[0]\n",
    "#data['scheme_name'] = pd.factorize(data['scheme_name'])[0]\n",
    "#data['extraction_type'] = pd.factorize(data['extraction_type'])[0]\n",
    "#data['management'] = pd.factorize(data['management'])[0]\n",
    "#data['payment_type'] = pd.factorize(data['payment_type'])[0]\n",
    "#data['water_quality'] = pd.factorize(data['water_quality'])[0]\n",
    "#data['quantity'] = pd.factorize(data['quantity'])[0]\n",
    "#data['waterpoint_type'] = pd.factorize(data['waterpoint_type'])[0]\n",
    "#data['permit'] = pd.factorize(data['permit'])[0]\n",
    "#data['source'] = pd.factorize(data['source'])[0]"
   ]
  },
  {
   "cell_type": "code",
   "execution_count": null,
   "metadata": {},
   "outputs": [],
   "source": [
    "data.head()"
   ]
  },
  {
   "cell_type": "code",
   "execution_count": null,
   "metadata": {},
   "outputs": [],
   "source": [
    "train_df = data[data[\"train\"] == 1]\n",
    "test_df = data[data[\"train\"] == 0]\n",
    "\n",
    "train_df.drop([\"train\"], axis=1, inplace=True)\n",
    "test_df.drop([\"train\"], axis=1, inplace=True)"
   ]
  },
  {
   "cell_type": "code",
   "execution_count": null,
   "metadata": {},
   "outputs": [],
   "source": [
    "pd.DataFrame(train_df).to_csv(\"./Data/train_cleaned_distr-imp.csv\", index=False)\n",
    "pd.DataFrame(test_df).to_csv(\"./Data/test_cleaned_distr_imp.csv\", index=False)"
   ]
  }
 ],
 "metadata": {
  "kernelspec": {
   "display_name": "Python 3",
   "language": "python",
   "name": "python3"
  },
  "language_info": {
   "codemirror_mode": {
    "name": "ipython",
    "version": 3
   },
   "file_extension": ".py",
   "mimetype": "text/x-python",
   "name": "python",
   "nbconvert_exporter": "python",
   "pygments_lexer": "ipython3",
   "version": "3.7.2"
  }
 },
 "nbformat": 4,
 "nbformat_minor": 2
}
