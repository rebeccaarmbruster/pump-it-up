{
 "cells": [
  {
   "cell_type": "markdown",
   "metadata": {},
   "source": [
    "## Imports"
   ]
  },
  {
   "cell_type": "code",
   "execution_count": 2,
   "metadata": {},
   "outputs": [],
   "source": [
    "import pandas as pd\n",
    "import datetime\n",
    "import csv"
   ]
  },
  {
   "cell_type": "markdown",
   "metadata": {},
   "source": [
    "## Modal Functions"
   ]
  },
  {
   "cell_type": "code",
   "execution_count": 5,
   "metadata": {},
   "outputs": [],
   "source": [
    "def save_file(predictions, filename):\n",
    "    predictions.to_csv('./Results/' + filename, index=False)\n",
    "    \n",
    "def xstr(s):\n",
    "    if s is None:\n",
    "        return ''\n",
    "    return str(s)\n",
    "\n",
    "def add_results(today, algorithm, author, params, classification_rate, filename, processing_time=None, notes=None):\n",
    "    date = '{:02d}-{:02d}-{:02d}'.format(today.year, today.month, today.day)\n",
    "    timestamp = '{:02d}:{:02d}:{:02d}'.format(today.hour, today.minute, today.second)\n",
    "    row = '|'.join([date, timestamp, algorithm, author, str(params), str(classification_rate), filename, xstr(notes)])\n",
    "    with open('./results.csv','a') as file:\n",
    "        file.write('|'.join([date, timestamp, algorithm, author, str(params), str(classification_rate), filename, xstr(processing_time), xstr(notes) + '\\n']))"
   ]
  },
  {
   "cell_type": "markdown",
   "metadata": {},
   "source": [
    "## Test Function"
   ]
  },
  {
   "cell_type": "code",
   "execution_count": 1,
   "metadata": {},
   "outputs": [],
   "source": [
    "def run_on_test_values():\n",
    "    return 0"
   ]
  },
  {
   "cell_type": "markdown",
   "metadata": {},
   "source": [
    "## Evaluation Function"
   ]
  },
  {
   "cell_type": "code",
   "execution_count": 1,
   "metadata": {},
   "outputs": [],
   "source": [
    "def evaluate(ids, true_values, predictions, algorithm, author, params, processing_time=None, notes=None):\n",
    "    evaluation_df = pd.DataFrame(list(ids), columns=['id'])\n",
    "    evaluation_df['true_values'] = list(true_values)\n",
    "    evaluation_df['predicted_values'] = list(predictions)\n",
    "    correct_predictions = len(evaluation_df[evaluation_df['true_values'] == evaluation_df['predicted_values']])\n",
    "    classification_rate = correct_predictions / len(predictions)\n",
    "    today = datetime.datetime.now()\n",
    "    date = '{:02d}{:02d}{:02d}-{:02d}{:02d}{:02d}'.format(today.year, today.month, today.day, today.hour, today.minute, today.second)\n",
    "    filename = '{}_{}.csv'.format(date, '-'.join(algorithm.split()))\n",
    "    save_file(evaluation_df.drop(columns='true_values', axis=1).rename(columns={'predicted_values': 'status_group'}), filename=filename)\n",
    "    add_results(today=today, algorithm=algorithm, author=author, params=params, classification_rate=classification_rate, filename=filename, processing_time=processing_time, notes=notes)\n",
    "    return classification_rate"
   ]
  }
 ],
 "metadata": {
  "kernelspec": {
   "display_name": "Python 3",
   "language": "python",
   "name": "python3"
  },
  "language_info": {
   "codemirror_mode": {
    "name": "ipython",
    "version": 3
   },
   "file_extension": ".py",
   "mimetype": "text/x-python",
   "name": "python",
   "nbconvert_exporter": "python",
   "pygments_lexer": "ipython3",
   "version": "3.7.1"
  }
 },
 "nbformat": 4,
 "nbformat_minor": 2
}
